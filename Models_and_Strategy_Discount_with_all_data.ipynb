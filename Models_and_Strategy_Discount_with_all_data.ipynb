{
 "cells": [
  {
   "cell_type": "markdown",
   "id": "06a364f1",
   "metadata": {},
   "source": [
    "<hr style=\"border-width:2px;border-color:#75ADR1\">\n",
    "\n",
    "# Models"
   ]
  },
  {
   "cell_type": "markdown",
   "id": "26f941ca",
   "metadata": {},
   "source": [
    "### Import packages"
   ]
  },
  {
   "cell_type": "code",
   "execution_count": 1,
   "id": "7375f9ef",
   "metadata": {},
   "outputs": [],
   "source": [
    "import pandas as pd\n",
    "import numpy as np\n",
    "import matplotlib.pyplot as plt\n",
    "import plotly.express as pximport \n",
    "import matplotlib.pyplot as plt\n",
    "%matplotlib inline\n",
    "import plotly.express as px\n",
    "import seaborn as sns\n",
    "\n",
    "import sklearn\n",
    "from sklearn.preprocessing import MinMaxScaler\n",
    "from sklearn.decomposition import PCA\n",
    "\n",
    "import statsmodels.api as sm\n",
    "import statsmodels.formula.api as smf\n",
    "\n",
    "\n",
    "from sklearn.feature_selection import VarianceThreshold, SelectKBest, SelectFromModel, f_regression, mutual_info_regression, RFE, RFECV\n",
    "from sklearn.model_selection import train_test_split, KFold, GridSearchCV\n",
    "from sklearn.linear_model import LinearRegression, Lasso\n",
    "from sklearn.preprocessing import StandardScaler\n",
    "\n",
    "from sklearn.metrics import roc_auc_score, accuracy_score\n",
    "\n",
    "\n",
    "from sklearn.preprocessing import MinMaxScaler\n",
    "from sklearn.decomposition import PCA\n",
    "from sklearn.model_selection import train_test_split\n",
    "\n",
    "\n",
    "from sklearn import svm\n",
    "from sklearn import model_selection\n",
    "from sklearn.model_selection import train_test_split\n",
    "from sklearn import preprocessing\n",
    "\n",
    "from sklearn.ensemble import RandomForestClassifier\n",
    "from sklearn import metrics \n",
    "\n",
    "import warnings\n",
    "warnings.filterwarnings('ignore')\n",
    "\n",
    "from sklearn.experimental import enable_iterative_imputer\n",
    "from sklearn.impute import IterativeImputer\n",
    "import xgboost as xgb"
   ]
  },
  {
   "cell_type": "code",
   "execution_count": 2,
   "id": "e82a2f9c",
   "metadata": {},
   "outputs": [],
   "source": [
    "df_training_norm  = pd.read_csv('df_training_norm.csv', sep = ',', index_col=0)"
   ]
  },
  {
   "cell_type": "code",
   "execution_count": 3,
   "id": "a49060f7",
   "metadata": {
    "scrolled": true
   },
   "outputs": [
    {
     "data": {
      "text/html": [
       "<div>\n",
       "<style scoped>\n",
       "    .dataframe tbody tr th:only-of-type {\n",
       "        vertical-align: middle;\n",
       "    }\n",
       "\n",
       "    .dataframe tbody tr th {\n",
       "        vertical-align: top;\n",
       "    }\n",
       "\n",
       "    .dataframe thead th {\n",
       "        text-align: right;\n",
       "    }\n",
       "</style>\n",
       "<table border=\"1\" class=\"dataframe\">\n",
       "  <thead>\n",
       "    <tr style=\"text-align: right;\">\n",
       "      <th></th>\n",
       "      <th>DATA</th>\n",
       "      <th>INCOME</th>\n",
       "      <th>OVERCHARGE</th>\n",
       "      <th>LEFTOVER</th>\n",
       "      <th>HOUSE</th>\n",
       "      <th>OVER_15MINS_CALLS_PER_MONTH</th>\n",
       "      <th>REPORTED_SATISFACTION</th>\n",
       "      <th>CONSIDERING_CHANGE_OF_PLAN</th>\n",
       "      <th>CHURNED</th>\n",
       "    </tr>\n",
       "  </thead>\n",
       "  <tbody>\n",
       "    <tr>\n",
       "      <th>0</th>\n",
       "      <td>0.222222</td>\n",
       "      <td>0.104513</td>\n",
       "      <td>0.006667</td>\n",
       "      <td>0.000000</td>\n",
       "      <td>0.879223</td>\n",
       "      <td>0.034483</td>\n",
       "      <td>1.00</td>\n",
       "      <td>0.75</td>\n",
       "      <td>1.0</td>\n",
       "    </tr>\n",
       "    <tr>\n",
       "      <th>1</th>\n",
       "      <td>0.106953</td>\n",
       "      <td>0.224967</td>\n",
       "      <td>0.523333</td>\n",
       "      <td>0.168539</td>\n",
       "      <td>0.286337</td>\n",
       "      <td>0.931034</td>\n",
       "      <td>0.75</td>\n",
       "      <td>0.75</td>\n",
       "      <td>0.0</td>\n",
       "    </tr>\n",
       "    <tr>\n",
       "      <th>2</th>\n",
       "      <td>0.070269</td>\n",
       "      <td>0.594919</td>\n",
       "      <td>0.006667</td>\n",
       "      <td>0.146067</td>\n",
       "      <td>0.926117</td>\n",
       "      <td>0.689655</td>\n",
       "      <td>0.50</td>\n",
       "      <td>0.75</td>\n",
       "      <td>1.0</td>\n",
       "    </tr>\n",
       "    <tr>\n",
       "      <th>3</th>\n",
       "      <td>0.089232</td>\n",
       "      <td>0.323442</td>\n",
       "      <td>0.616667</td>\n",
       "      <td>0.000000</td>\n",
       "      <td>0.984040</td>\n",
       "      <td>0.448276</td>\n",
       "      <td>0.75</td>\n",
       "      <td>0.75</td>\n",
       "      <td>0.0</td>\n",
       "    </tr>\n",
       "    <tr>\n",
       "      <th>4</th>\n",
       "      <td>0.148148</td>\n",
       "      <td>0.349223</td>\n",
       "      <td>0.673333</td>\n",
       "      <td>0.000000</td>\n",
       "      <td>0.287779</td>\n",
       "      <td>0.620690</td>\n",
       "      <td>1.00</td>\n",
       "      <td>1.00</td>\n",
       "      <td>0.0</td>\n",
       "    </tr>\n",
       "  </tbody>\n",
       "</table>\n",
       "</div>"
      ],
      "text/plain": [
       "       DATA    INCOME  OVERCHARGE  LEFTOVER     HOUSE  \\\n",
       "0  0.222222  0.104513    0.006667  0.000000  0.879223   \n",
       "1  0.106953  0.224967    0.523333  0.168539  0.286337   \n",
       "2  0.070269  0.594919    0.006667  0.146067  0.926117   \n",
       "3  0.089232  0.323442    0.616667  0.000000  0.984040   \n",
       "4  0.148148  0.349223    0.673333  0.000000  0.287779   \n",
       "\n",
       "   OVER_15MINS_CALLS_PER_MONTH  REPORTED_SATISFACTION  \\\n",
       "0                     0.034483                   1.00   \n",
       "1                     0.931034                   0.75   \n",
       "2                     0.689655                   0.50   \n",
       "3                     0.448276                   0.75   \n",
       "4                     0.620690                   1.00   \n",
       "\n",
       "   CONSIDERING_CHANGE_OF_PLAN  CHURNED  \n",
       "0                        0.75      1.0  \n",
       "1                        0.75      0.0  \n",
       "2                        0.75      1.0  \n",
       "3                        0.75      0.0  \n",
       "4                        1.00      0.0  "
      ]
     },
     "execution_count": 3,
     "metadata": {},
     "output_type": "execute_result"
    }
   ],
   "source": [
    "df_training_norm.head()"
   ]
  },
  {
   "cell_type": "code",
   "execution_count": 4,
   "id": "4f06d829",
   "metadata": {
    "scrolled": true
   },
   "outputs": [
    {
     "data": {
      "text/plain": [
       "Index(['DATA', 'INCOME', 'OVERCHARGE', 'LEFTOVER', 'HOUSE',\n",
       "       'OVER_15MINS_CALLS_PER_MONTH', 'REPORTED_SATISFACTION',\n",
       "       'CONSIDERING_CHANGE_OF_PLAN', 'CHURNED'],\n",
       "      dtype='object')"
      ]
     },
     "execution_count": 4,
     "metadata": {},
     "output_type": "execute_result"
    }
   ],
   "source": [
    "df_training_norm.columns"
   ]
  },
  {
   "cell_type": "code",
   "execution_count": 5,
   "id": "8049825c",
   "metadata": {},
   "outputs": [],
   "source": [
    "selectedCols = ['DATA','INCOME', 'HOUSE', 'OVERCHARGE', 'OVER_15MINS_CALLS_PER_MONTH', 'REPORTED_SATISFACTION',\n",
    "       'CONSIDERING_CHANGE_OF_PLAN', 'LEFTOVER']"
   ]
  },
  {
   "cell_type": "markdown",
   "id": "6a70bd81",
   "metadata": {},
   "source": [
    "## Logistic Regression"
   ]
  },
  {
   "cell_type": "code",
   "execution_count": 6,
   "id": "d0618d53",
   "metadata": {},
   "outputs": [],
   "source": [
    "X = df_training_norm.drop(['CHURNED'], axis = 1)\n",
    "Y = df_training_norm['CHURNED']\n",
    "\n",
    "x_train, x_test, y_train, y_test = train_test_split( X, Y, test_size=0.2, random_state=100)"
   ]
  },
  {
   "cell_type": "code",
   "execution_count": 7,
   "id": "cdaf595a",
   "metadata": {},
   "outputs": [],
   "source": [
    "from sklearn.linear_model import LogisticRegression\n",
    "from sklearn.metrics import accuracy_score, roc_auc_score\n",
    "clf_LR = LogisticRegression(random_state=1).fit(x_train, y_train)"
   ]
  },
  {
   "cell_type": "code",
   "execution_count": 8,
   "id": "5d3c0796",
   "metadata": {},
   "outputs": [
    {
     "data": {
      "text/plain": [
       "0.7096437153902414"
      ]
     },
     "execution_count": 8,
     "metadata": {},
     "output_type": "execute_result"
    }
   ],
   "source": [
    "clf_LR.score(x_train, y_train)"
   ]
  },
  {
   "cell_type": "code",
   "execution_count": 9,
   "id": "47a1646a",
   "metadata": {},
   "outputs": [
    {
     "data": {
      "text/plain": [
       "0.7112411199331383"
      ]
     },
     "execution_count": 9,
     "metadata": {},
     "output_type": "execute_result"
    }
   ],
   "source": [
    "clf_LR.score(x_test, y_test)"
   ]
  },
  {
   "cell_type": "code",
   "execution_count": 10,
   "id": "3270589a",
   "metadata": {},
   "outputs": [],
   "source": [
    "y_pred_LR = clf_LR.predict(x_test)\n",
    "y_proba_LR = clf_LR.predict_proba(x_test)"
   ]
  },
  {
   "cell_type": "code",
   "execution_count": 11,
   "id": "3ada4c1a",
   "metadata": {},
   "outputs": [
    {
     "data": {
      "text/plain": [
       "0.6885211797345823"
      ]
     },
     "execution_count": 11,
     "metadata": {},
     "output_type": "execute_result"
    }
   ],
   "source": [
    "y_pred_LR = clf_LR.predict(x_test)\n",
    "roc_auc_score(y_pred_LR, y_test)"
   ]
  },
  {
   "cell_type": "code",
   "execution_count": 12,
   "id": "0e7d65bf",
   "metadata": {},
   "outputs": [
    {
     "data": {
      "image/png": "[encoded data removed]",
      "text/plain": [
       "<Figure size 432x288 with 1 Axes>"
      ]
     },
     "metadata": {
      "needs_background": "light"
     },
     "output_type": "display_data"
    }
   ],
   "source": [
    "metrics.plot_roc_curve(clf_LR, x_test, y_test) ;"
   ]
  },
  {
   "cell_type": "markdown",
   "id": "a71c510a",
   "metadata": {},
   "source": [
    "## SVM "
   ]
  },
  {
   "cell_type": "code",
   "execution_count": 13,
   "id": "f18ad658",
   "metadata": {},
   "outputs": [],
   "source": [
    "X = df_training_norm.drop(['CHURNED'], axis = 1)\n",
    "Y = df_training_norm['CHURNED']\n",
    "\n",
    "\n",
    "x_train, x_test, y_train, y_test = train_test_split( X, Y, test_size=0.2, random_state=10)"
   ]
  },
  {
   "cell_type": "code",
   "execution_count": 14,
   "id": "3d9ab33d",
   "metadata": {},
   "outputs": [
    {
     "data": {
      "text/plain": [
       "SVC(gamma=0.01, kernel='poly')"
      ]
     },
     "execution_count": 14,
     "metadata": {},
     "output_type": "execute_result"
    }
   ],
   "source": [
    "clf_SVM = svm.SVC(gamma= 0.01, kernel = 'poly')\n",
    "clf_SVM.fit(x_train, y_train)"
   ]
  },
  {
   "cell_type": "code",
   "execution_count": 15,
   "id": "325042b3",
   "metadata": {},
   "outputs": [
    {
     "data": {
      "text/plain": [
       "0.6354612893114617"
      ]
     },
     "execution_count": 15,
     "metadata": {},
     "output_type": "execute_result"
    }
   ],
   "source": [
    "clf_SVM.score(x_train, y_train)"
   ]
  },
  {
   "cell_type": "code",
   "execution_count": 16,
   "id": "24d3e3b1",
   "metadata": {
    "scrolled": true
   },
   "outputs": [
    {
     "data": {
      "text/plain": [
       "0.6335144170497283"
      ]
     },
     "execution_count": 16,
     "metadata": {},
     "output_type": "execute_result"
    }
   ],
   "source": [
    "clf_SVM.score(x_test, y_test)"
   ]
  },
  {
   "cell_type": "code",
   "execution_count": 17,
   "id": "f4357c2c",
   "metadata": {},
   "outputs": [],
   "source": [
    "parametres = {'C':[0.1, 1, 10], 'kernel':['rbf', 'linear', 'poly'], 'gamma':[0.001, 0.1, 0.5]}"
   ]
  },
  {
   "cell_type": "code",
   "execution_count": null,
   "id": "58514813",
   "metadata": {},
   "outputs": [],
   "source": [
    "grid_clf_SVM = model_selection.GridSearchCV(estimator = clf_SVM, param_grid = parametres, scoring = 'roc_auc')\n",
    "grille = grid_clf_SVM.fit(x_train,y_train)\n",
    "print(grid_clf_SVM.best_params_)"
   ]
  },
  {
   "cell_type": "code",
   "execution_count": 18,
   "id": "7655bcba",
   "metadata": {},
   "outputs": [
    {
     "data": {
      "text/plain": [
       "SVC(C=10, gamma=0.5)"
      ]
     },
     "execution_count": 18,
     "metadata": {},
     "output_type": "execute_result"
    }
   ],
   "source": [
    "clf_SVM = svm.SVC(gamma= 0.5, kernel = 'rbf', C=10)\n",
    "clf_SVM.fit(x_train, y_train)"
   ]
  },
  {
   "cell_type": "code",
   "execution_count": 19,
   "id": "e0b6d7a3",
   "metadata": {},
   "outputs": [
    {
     "data": {
      "text/plain": [
       "0.7395256504022568"
      ]
     },
     "execution_count": 19,
     "metadata": {},
     "output_type": "execute_result"
    }
   ],
   "source": [
    "clf_SVM.score(x_train, y_train)"
   ]
  },
  {
   "cell_type": "code",
   "execution_count": 20,
   "id": "8a16cb1e",
   "metadata": {
    "scrolled": true
   },
   "outputs": [
    {
     "data": {
      "text/plain": [
       "0.7384036773923944"
      ]
     },
     "execution_count": 20,
     "metadata": {},
     "output_type": "execute_result"
    }
   ],
   "source": [
    "clf_SVM.score(x_test, y_test)"
   ]
  },
  {
   "cell_type": "code",
   "execution_count": 21,
   "id": "2f2885c2",
   "metadata": {},
   "outputs": [
    {
     "data": {
      "text/plain": [
       "0.7289952919758407"
      ]
     },
     "execution_count": 21,
     "metadata": {},
     "output_type": "execute_result"
    }
   ],
   "source": [
    "y_pred_SVM = clf_SVM.predict(x_test)\n",
    "roc_auc_score(y_pred_SVM, y_test)"
   ]
  },
  {
   "cell_type": "code",
   "execution_count": 22,
   "id": "b77b4347",
   "metadata": {
    "scrolled": true
   },
   "outputs": [
    {
     "data": {
      "text/plain": [
       "<sklearn.metrics._plot.roc_curve.RocCurveDisplay at 0x1f134d45088>"
      ]
     },
     "execution_count": 22,
     "metadata": {},
     "output_type": "execute_result"
    },
    {
     "data": {
      "image/png": "[encoded data removed]",
      "text/plain": [
       "<Figure size 432x288 with 1 Axes>"
      ]
     },
     "metadata": {
      "needs_background": "light"
     },
     "output_type": "display_data"
    }
   ],
   "source": [
    "metrics.plot_roc_curve(clf_SVM, x_test, y_test) "
   ]
  },
  {
   "cell_type": "markdown",
   "id": "27d11046",
   "metadata": {},
   "source": [
    "## Random Forest Regressor"
   ]
  },
  {
   "cell_type": "code",
   "execution_count": 23,
   "id": "40c9d25c",
   "metadata": {},
   "outputs": [],
   "source": [
    "X = df_training_norm.drop(['CHURNED'], axis = 1)\n",
    "Y = df_training_norm['CHURNED']\n",
    "\n",
    "x_train, x_test, y_train, y_test = train_test_split( X, Y, test_size=0.2, random_state=10)"
   ]
  },
  {
   "cell_type": "markdown",
   "id": "dcfe0cc5",
   "metadata": {},
   "source": [
    "Hay que optimizar los hyperparametros!!"
   ]
  },
  {
   "cell_type": "code",
   "execution_count": 24,
   "id": "0f1b4974",
   "metadata": {},
   "outputs": [],
   "source": [
    "parametres = { \n",
    "    'n_estimators': [100,200,300],\n",
    "    'max_features': ['auto', 'sqrt', 'log2'],\n",
    "    'max_depth' : [8,12,15,18],\n",
    "    'criterion' :['gini', 'entropy']\n",
    "}"
   ]
  },
  {
   "cell_type": "code",
   "execution_count": null,
   "id": "3a461c7a",
   "metadata": {},
   "outputs": [],
   "source": [
    "grid_clf_RF = model_selection.GridSearchCV(estimator=clf_RF, param_grid= parametres, scoring = 'roc_auc')\n",
    "grille = grid_clf_RF.fit(x_train, y_train)\n",
    "print(grid_clf_RF.best_params_)"
   ]
  },
  {
   "cell_type": "code",
   "execution_count": 25,
   "id": "1e583f01",
   "metadata": {},
   "outputs": [
    {
     "data": {
      "text/plain": [
       "RandomForestClassifier(criterion='entropy', max_depth=15, n_estimators=300,\n",
       "                       random_state=100)"
      ]
     },
     "execution_count": 25,
     "metadata": {},
     "output_type": "execute_result"
    }
   ],
   "source": [
    "#clf_RF = RandomForestClassifier(n_estimators=100, max_depth=15, random_state=100)\n",
    "clf_RF = RandomForestClassifier(n_estimators=300, max_depth=15, random_state=100, max_features='auto', criterion='entropy')\n",
    "clf_RF.fit(x_train, y_train)"
   ]
  },
  {
   "cell_type": "code",
   "execution_count": 26,
   "id": "21c12d6b",
   "metadata": {},
   "outputs": [
    {
     "data": {
      "text/plain": [
       "0.9578936370285237"
      ]
     },
     "execution_count": 26,
     "metadata": {},
     "output_type": "execute_result"
    }
   ],
   "source": [
    "clf_RF.score(x_train, y_train)"
   ]
  },
  {
   "cell_type": "code",
   "execution_count": 27,
   "id": "96bdd9d9",
   "metadata": {},
   "outputs": [
    {
     "data": {
      "text/plain": [
       "0.7797743418303384"
      ]
     },
     "execution_count": 27,
     "metadata": {},
     "output_type": "execute_result"
    }
   ],
   "source": [
    "clf_RF.score(x_test, y_test)"
   ]
  },
  {
   "cell_type": "code",
   "execution_count": 28,
   "id": "79505afb",
   "metadata": {},
   "outputs": [
    {
     "data": {
      "text/plain": [
       "0.7651812759381269"
      ]
     },
     "execution_count": 28,
     "metadata": {},
     "output_type": "execute_result"
    }
   ],
   "source": [
    "y_pred_RF = clf_RF.predict(x_test)\n",
    "roc_auc_score(y_pred_RF, y_test)"
   ]
  },
  {
   "cell_type": "code",
   "execution_count": 29,
   "id": "4f5428e9",
   "metadata": {},
   "outputs": [
    {
     "data": {
      "text/plain": [
       "<sklearn.metrics._plot.roc_curve.RocCurveDisplay at 0x1f1423861c8>"
      ]
     },
     "execution_count": 29,
     "metadata": {},
     "output_type": "execute_result"
    },
    {
     "data": {
      "image/png": "[encoded data removed]",
      "text/plain": [
       "<Figure size 432x288 with 1 Axes>"
      ]
     },
     "metadata": {
      "needs_background": "light"
     },
     "output_type": "display_data"
    }
   ],
   "source": [
    "metrics.plot_roc_curve(clf_RF, x_test, y_test) "
   ]
  },
  {
   "cell_type": "markdown",
   "id": "9643b711",
   "metadata": {},
   "source": [
    "## XGboost"
   ]
  },
  {
   "cell_type": "code",
   "execution_count": null,
   "id": "bfbefd5a",
   "metadata": {},
   "outputs": [],
   "source": [
    "X = df_training_norm.drop(['CHURNED'], axis = 1)\n",
    "Y = df_training_norm['CHURNED']\n",
    "\n",
    "\n",
    "x_train, x_test, y_train, y_test = train_test_split( X, Y, test_size=0.2, random_state=10)\n",
    "\n",
    "# Init classifier\n",
    "cl_XGB = xgb.XGBClassifier(base_score=0.3, booster='gbtree', colsample_bylevel=0.8,\n",
    "              colsample_bynode=0.8, colsample_bytree=0.9, gamma=0.4,\n",
    "              learning_rate=0.0400000012, max_delta_step=20, max_depth=14,\n",
    "              min_child_weight=1, monotone_constraints='()',\n",
    "              n_estimators=75,  reg_alpha=0, reg_lambda=0, scale_pos_weight=1, subsample=0.7,\n",
    "              tree_method='exact', validate_parameters=1, verbosity=None)\n",
    "\n",
    "cl_XGB.fit(x_train, y_train)\n"
   ]
  },
  {
   "cell_type": "code",
   "execution_count": null,
   "id": "28e7621f",
   "metadata": {},
   "outputs": [],
   "source": [
    "cl_XGB.score(x_train, y_train)"
   ]
  },
  {
   "cell_type": "code",
   "execution_count": null,
   "id": "b99bce5c",
   "metadata": {},
   "outputs": [],
   "source": [
    "cl_XGB.score(x_test, y_test)"
   ]
  },
  {
   "cell_type": "code",
   "execution_count": null,
   "id": "e2da1936",
   "metadata": {},
   "outputs": [],
   "source": [
    "y_pred_XGB = cl_XGB.predict(x_test)\n",
    "roc_auc_score(y_pred_XGB, y_test)"
   ]
  },
  {
   "cell_type": "code",
   "execution_count": null,
   "id": "7a7c1a84",
   "metadata": {},
   "outputs": [],
   "source": [
    "metrics.plot_roc_curve(cl_XGB, x_test, y_test) "
   ]
  },
  {
   "cell_type": "code",
   "execution_count": null,
   "id": "63e5ac99",
   "metadata": {},
   "outputs": [],
   "source": [
    "# predThresH = (clf_RF.predict_proba(x_test)[:,1] >= 0.38).astype('int')\n",
    "# accuracy_score(predThresH, y_test)\n",
    "# roc_auc_score(predThresH, y_test)"
   ]
  },
  {
   "cell_type": "markdown",
   "id": "db8d0da7",
   "metadata": {},
   "source": [
    "### The best method is Random Forest"
   ]
  },
  {
   "cell_type": "code",
   "execution_count": 30,
   "id": "a4b72e6e",
   "metadata": {},
   "outputs": [
    {
     "data": {
      "text/plain": [
       "0.7735060593397409"
      ]
     },
     "execution_count": 30,
     "metadata": {},
     "output_type": "execute_result"
    }
   ],
   "source": [
    "predThresH = (clf_RF.predict_proba(x_test)[:,1] >= 0.55).astype('int')\n",
    "accuracy_score(predThresH, y_test)"
   ]
  },
  {
   "cell_type": "code",
   "execution_count": 31,
   "id": "a6764a6d",
   "metadata": {},
   "outputs": [
    {
     "data": {
      "text/plain": [
       "0.7760133723359799"
      ]
     },
     "execution_count": 31,
     "metadata": {},
     "output_type": "execute_result"
    }
   ],
   "source": [
    "predThresH = (clf_RF.predict_proba(x_test)[:,1] >= 0.54).astype('int')\n",
    "accuracy_score(predThresH, y_test)"
   ]
  },
  {
   "cell_type": "code",
   "execution_count": 32,
   "id": "c4adfa73",
   "metadata": {
    "scrolled": true
   },
   "outputs": [
    {
     "data": {
      "text/plain": [
       "0.7747597158378604"
      ]
     },
     "execution_count": 32,
     "metadata": {},
     "output_type": "execute_result"
    }
   ],
   "source": [
    "predThresH = (clf_RF.predict_proba(x_test)[:,1] >= 0.56).astype('int')\n",
    "accuracy_score(predThresH, y_test)"
   ]
  },
  {
   "cell_type": "code",
   "execution_count": 33,
   "id": "fe0c1187",
   "metadata": {},
   "outputs": [],
   "source": [
    "threshold = 0.55"
   ]
  },
  {
   "cell_type": "markdown",
   "id": "5d9caaca",
   "metadata": {},
   "source": [
    "# Client discount"
   ]
  },
  {
   "cell_type": "code",
   "execution_count": 34,
   "id": "459ebb63",
   "metadata": {},
   "outputs": [],
   "source": [
    "xToAnalyse = df_training_norm.copy()\n",
    "#xToAnalyse = pd.read_csv('df_validation_norm.csv', sep = ',')"
   ]
  },
  {
   "cell_type": "code",
   "execution_count": 35,
   "id": "15490a1a",
   "metadata": {},
   "outputs": [],
   "source": [
    "xToAnalyse[\"CHURN_LABEL\"] = (clf_RF.predict_proba(xToAnalyse[selectedCols])[:,1] >= threshold).astype('int')\n",
    "xToAnalyse[\"CHURN_PROBABILITY\"] = clf_RF.predict_proba(xToAnalyse[selectedCols])[:,1]"
   ]
  },
  {
   "cell_type": "code",
   "execution_count": 36,
   "id": "decdff3f",
   "metadata": {},
   "outputs": [
    {
     "data": {
      "text/plain": [
       "0    0.365404\n",
       "1    0.799442\n",
       "2    0.892042\n",
       "3    0.332996\n",
       "4    0.784324\n",
       "5    0.360409\n",
       "6    0.799240\n",
       "7    0.754057\n",
       "8    0.301278\n",
       "9    0.689955\n",
       "Name: CHURN_PROBABILITY, dtype: float64"
      ]
     },
     "execution_count": 36,
     "metadata": {},
     "output_type": "execute_result"
    }
   ],
   "source": [
    "xToAnalyse[\"CHURN_PROBABILITY\"].head(10)"
   ]
  },
  {
   "cell_type": "code",
   "execution_count": 37,
   "id": "65cbe5de",
   "metadata": {},
   "outputs": [],
   "source": [
    "df_training = pd.read_csv('df_training.csv', sep = ',')\n",
    "#df_training = pd.read_csv('df_validation.csv', sep = ',')"
   ]
  },
  {
   "cell_type": "code",
   "execution_count": 38,
   "id": "bbe716c4",
   "metadata": {},
   "outputs": [],
   "source": [
    "originalFacture = df_training[\"OVERCHARGE\"] + df_training[\"REVENUE\"]"
   ]
  },
  {
   "cell_type": "code",
   "execution_count": 39,
   "id": "206bc6fa",
   "metadata": {},
   "outputs": [],
   "source": [
    "discList = [0, 5, 10, 15, 20, 25, 30,35, 40, 45,50,55,60,70]\n",
    "#discList = [0]\n",
    "for disc in discList:\n",
    "    beforeExpValue = np.multiply(xToAnalyse[\"CHURN_PROBABILITY\"],originalFacture)\n",
    "    xToAnalyse.iloc[:][\"OVERCHARGE\"]  = xToAnalyse[\"OVERCHARGE\"]*(1.-float(disc)/float(100.))\n",
    "    afterProba = clf_RF.predict_proba(xToAnalyse[selectedCols])[:,1]\n",
    "    if disc == 0:\n",
    "        afterExpValue = beforeExpValue\n",
    "    else:\n",
    "        afterExpValue = np.multiply(afterProba,originalFacture)*(1.-float(disc)/float(100.)) - 10.\n",
    "        \n",
    "    benefit = afterExpValue - beforeExpValue\n",
    "    xToAnalyse[\"disc_\"+str(disc)] = disc\n",
    "    xToAnalyse[str(disc)] = benefit"
   ]
  },
  {
   "cell_type": "code",
   "execution_count": 40,
   "id": "de02338b",
   "metadata": {},
   "outputs": [
    {
     "data": {
      "text/plain": [
       "['0',\n",
       " '5',\n",
       " '10',\n",
       " '15',\n",
       " '20',\n",
       " '25',\n",
       " '30',\n",
       " '35',\n",
       " '40',\n",
       " '45',\n",
       " '50',\n",
       " '55',\n",
       " '60',\n",
       " '70']"
      ]
     },
     "execution_count": 40,
     "metadata": {},
     "output_type": "execute_result"
    }
   ],
   "source": [
    "colsDisc = []\n",
    "[colsDisc.append(str(disc)) for disc in discList]\n",
    "colsDisc"
   ]
  },
  {
   "cell_type": "code",
   "execution_count": 41,
   "id": "2216c6e8",
   "metadata": {},
   "outputs": [],
   "source": [
    "xToAnalyse[\"maxBenefit\"] = xToAnalyse[colsDisc].loc[:].max(axis=1)\n",
    "xToAnalyse[\"DISCOUNT\"] = xToAnalyse[colsDisc].loc[:].idxmax(axis=1).astype(int)\n"
   ]
  },
  {
   "cell_type": "code",
   "execution_count": 42,
   "id": "72d5a63c",
   "metadata": {},
   "outputs": [
    {
     "data": {
      "text/plain": [
       "<AxesSubplot:>"
      ]
     },
     "execution_count": 42,
     "metadata": {},
     "output_type": "execute_result"
    },
    {
     "data": {
      "image/png": "[encoded data removed]",
      "text/plain": [
       "<Figure size 432x288 with 1 Axes>"
      ]
     },
     "metadata": {
      "needs_background": "light"
     },
     "output_type": "display_data"
    }
   ],
   "source": [
    "xToAnalyse[\"DISCOUNT\"].hist()"
   ]
  },
  {
   "cell_type": "code",
   "execution_count": 43,
   "id": "03b28a7f",
   "metadata": {},
   "outputs": [
    {
     "data": {
      "text/plain": [
       "<AxesSubplot:>"
      ]
     },
     "execution_count": 43,
     "metadata": {},
     "output_type": "execute_result"
    },
    {
     "data": {
      "image/png": "[encoded data removed]",
      "text/plain": [
       "<Figure size 432x288 with 1 Axes>"
      ]
     },
     "metadata": {
      "needs_background": "light"
     },
     "output_type": "display_data"
    }
   ],
   "source": [
    "xToAnalyse[\"CHURN_LABEL\"].hist()"
   ]
  },
  {
   "cell_type": "code",
   "execution_count": 44,
   "id": "18d3a202",
   "metadata": {},
   "outputs": [
    {
     "data": {
      "text/html": [
       "<div>\n",
       "<style scoped>\n",
       "    .dataframe tbody tr th:only-of-type {\n",
       "        vertical-align: middle;\n",
       "    }\n",
       "\n",
       "    .dataframe tbody tr th {\n",
       "        vertical-align: top;\n",
       "    }\n",
       "\n",
       "    .dataframe thead th {\n",
       "        text-align: right;\n",
       "    }\n",
       "</style>\n",
       "<table border=\"1\" class=\"dataframe\">\n",
       "  <thead>\n",
       "    <tr style=\"text-align: right;\">\n",
       "      <th></th>\n",
       "      <th>0</th>\n",
       "      <th>5</th>\n",
       "      <th>10</th>\n",
       "      <th>15</th>\n",
       "      <th>20</th>\n",
       "      <th>25</th>\n",
       "      <th>30</th>\n",
       "      <th>35</th>\n",
       "      <th>40</th>\n",
       "      <th>45</th>\n",
       "      <th>50</th>\n",
       "      <th>55</th>\n",
       "      <th>60</th>\n",
       "      <th>70</th>\n",
       "    </tr>\n",
       "  </thead>\n",
       "  <tbody>\n",
       "    <tr>\n",
       "      <th>0</th>\n",
       "      <td>0.0</td>\n",
       "      <td>-12.923233</td>\n",
       "      <td>-15.846466</td>\n",
       "      <td>-18.769699</td>\n",
       "      <td>-21.692932</td>\n",
       "      <td>-24.616165</td>\n",
       "      <td>-27.539398</td>\n",
       "      <td>-30.462631</td>\n",
       "      <td>-33.385865</td>\n",
       "      <td>-36.309098</td>\n",
       "      <td>-39.232331</td>\n",
       "      <td>-42.155564</td>\n",
       "      <td>-45.078797</td>\n",
       "      <td>-50.925263</td>\n",
       "    </tr>\n",
       "    <tr>\n",
       "      <th>1</th>\n",
       "      <td>0.0</td>\n",
       "      <td>-20.192886</td>\n",
       "      <td>-35.578730</td>\n",
       "      <td>-42.914642</td>\n",
       "      <td>-46.365930</td>\n",
       "      <td>-48.849761</td>\n",
       "      <td>-63.734756</td>\n",
       "      <td>-75.787761</td>\n",
       "      <td>-86.080274</td>\n",
       "      <td>-96.527100</td>\n",
       "      <td>-106.186815</td>\n",
       "      <td>-116.953906</td>\n",
       "      <td>-127.720997</td>\n",
       "      <td>-149.255179</td>\n",
       "    </tr>\n",
       "    <tr>\n",
       "      <th>2</th>\n",
       "      <td>0.0</td>\n",
       "      <td>-15.664464</td>\n",
       "      <td>-21.328928</td>\n",
       "      <td>-26.993391</td>\n",
       "      <td>-32.657855</td>\n",
       "      <td>-38.322319</td>\n",
       "      <td>-43.986783</td>\n",
       "      <td>-49.651247</td>\n",
       "      <td>-55.315710</td>\n",
       "      <td>-60.980174</td>\n",
       "      <td>-66.644638</td>\n",
       "      <td>-72.309102</td>\n",
       "      <td>-77.973566</td>\n",
       "      <td>-89.302493</td>\n",
       "    </tr>\n",
       "    <tr>\n",
       "      <th>3</th>\n",
       "      <td>0.0</td>\n",
       "      <td>-16.482713</td>\n",
       "      <td>-28.089587</td>\n",
       "      <td>-31.047416</td>\n",
       "      <td>-34.972897</td>\n",
       "      <td>-37.591481</td>\n",
       "      <td>-43.310604</td>\n",
       "      <td>-46.416779</td>\n",
       "      <td>-55.388987</td>\n",
       "      <td>-56.486786</td>\n",
       "      <td>-59.936094</td>\n",
       "      <td>-63.900077</td>\n",
       "      <td>-67.864059</td>\n",
       "      <td>-75.792024</td>\n",
       "    </tr>\n",
       "    <tr>\n",
       "      <th>4</th>\n",
       "      <td>0.0</td>\n",
       "      <td>-19.985718</td>\n",
       "      <td>-30.504289</td>\n",
       "      <td>-39.166729</td>\n",
       "      <td>-55.629963</td>\n",
       "      <td>-65.961807</td>\n",
       "      <td>-75.651281</td>\n",
       "      <td>-95.971709</td>\n",
       "      <td>-101.479258</td>\n",
       "      <td>-113.435672</td>\n",
       "      <td>-126.640210</td>\n",
       "      <td>-136.701958</td>\n",
       "      <td>-146.763706</td>\n",
       "      <td>-166.887202</td>\n",
       "    </tr>\n",
       "    <tr>\n",
       "      <th>5</th>\n",
       "      <td>0.0</td>\n",
       "      <td>-12.576926</td>\n",
       "      <td>-15.153853</td>\n",
       "      <td>-17.730779</td>\n",
       "      <td>-20.307705</td>\n",
       "      <td>-22.884632</td>\n",
       "      <td>-25.461558</td>\n",
       "      <td>-28.038484</td>\n",
       "      <td>-30.615411</td>\n",
       "      <td>-33.192337</td>\n",
       "      <td>-35.769263</td>\n",
       "      <td>-38.346190</td>\n",
       "      <td>-40.923116</td>\n",
       "      <td>-46.076969</td>\n",
       "    </tr>\n",
       "    <tr>\n",
       "      <th>6</th>\n",
       "      <td>0.0</td>\n",
       "      <td>-17.632741</td>\n",
       "      <td>-25.265483</td>\n",
       "      <td>-32.898224</td>\n",
       "      <td>-40.530966</td>\n",
       "      <td>-48.163707</td>\n",
       "      <td>-55.796449</td>\n",
       "      <td>-63.429190</td>\n",
       "      <td>-71.061932</td>\n",
       "      <td>-78.694673</td>\n",
       "      <td>-86.327415</td>\n",
       "      <td>-93.960156</td>\n",
       "      <td>-101.592898</td>\n",
       "      <td>-116.858381</td>\n",
       "    </tr>\n",
       "    <tr>\n",
       "      <th>7</th>\n",
       "      <td>0.0</td>\n",
       "      <td>-20.976636</td>\n",
       "      <td>-33.368504</td>\n",
       "      <td>-45.511623</td>\n",
       "      <td>-59.473221</td>\n",
       "      <td>-54.793400</td>\n",
       "      <td>-69.383363</td>\n",
       "      <td>-81.290358</td>\n",
       "      <td>-97.352145</td>\n",
       "      <td>-115.677143</td>\n",
       "      <td>-130.857975</td>\n",
       "      <td>-147.803390</td>\n",
       "      <td>-164.748805</td>\n",
       "      <td>-198.639636</td>\n",
       "    </tr>\n",
       "    <tr>\n",
       "      <th>8</th>\n",
       "      <td>0.0</td>\n",
       "      <td>-13.187316</td>\n",
       "      <td>-17.943696</td>\n",
       "      <td>-26.083243</td>\n",
       "      <td>-35.603276</td>\n",
       "      <td>-40.621610</td>\n",
       "      <td>-35.916608</td>\n",
       "      <td>-41.762095</td>\n",
       "      <td>-49.471642</td>\n",
       "      <td>-57.904634</td>\n",
       "      <td>-61.573338</td>\n",
       "      <td>-67.954958</td>\n",
       "      <td>-74.336578</td>\n",
       "      <td>-87.099819</td>\n",
       "    </tr>\n",
       "    <tr>\n",
       "      <th>9</th>\n",
       "      <td>0.0</td>\n",
       "      <td>-21.623829</td>\n",
       "      <td>-33.714266</td>\n",
       "      <td>-51.108103</td>\n",
       "      <td>-62.805233</td>\n",
       "      <td>-73.713580</td>\n",
       "      <td>-84.613689</td>\n",
       "      <td>-100.578995</td>\n",
       "      <td>-109.849821</td>\n",
       "      <td>-121.058234</td>\n",
       "      <td>-135.243016</td>\n",
       "      <td>-148.316039</td>\n",
       "      <td>-161.389062</td>\n",
       "      <td>-187.535109</td>\n",
       "    </tr>\n",
       "    <tr>\n",
       "      <th>10</th>\n",
       "      <td>0.0</td>\n",
       "      <td>-12.859146</td>\n",
       "      <td>-16.532715</td>\n",
       "      <td>-20.179118</td>\n",
       "      <td>-24.890454</td>\n",
       "      <td>-30.528173</td>\n",
       "      <td>-35.459559</td>\n",
       "      <td>-39.630279</td>\n",
       "      <td>-43.034110</td>\n",
       "      <td>-47.680764</td>\n",
       "      <td>-52.327419</td>\n",
       "      <td>-56.974073</td>\n",
       "      <td>-61.620728</td>\n",
       "      <td>-70.914037</td>\n",
       "    </tr>\n",
       "    <tr>\n",
       "      <th>11</th>\n",
       "      <td>0.0</td>\n",
       "      <td>-19.013398</td>\n",
       "      <td>-28.026797</td>\n",
       "      <td>-37.040195</td>\n",
       "      <td>-46.053593</td>\n",
       "      <td>-55.066992</td>\n",
       "      <td>-64.080390</td>\n",
       "      <td>-73.093788</td>\n",
       "      <td>-82.107187</td>\n",
       "      <td>-91.120585</td>\n",
       "      <td>-100.133983</td>\n",
       "      <td>-109.147381</td>\n",
       "      <td>-118.160780</td>\n",
       "      <td>-136.187576</td>\n",
       "    </tr>\n",
       "    <tr>\n",
       "      <th>12</th>\n",
       "      <td>0.0</td>\n",
       "      <td>-11.065563</td>\n",
       "      <td>-10.766503</td>\n",
       "      <td>-12.349147</td>\n",
       "      <td>-16.940688</td>\n",
       "      <td>-19.875084</td>\n",
       "      <td>-22.811681</td>\n",
       "      <td>-24.590444</td>\n",
       "      <td>-27.194431</td>\n",
       "      <td>-29.870277</td>\n",
       "      <td>-32.546124</td>\n",
       "      <td>-35.221970</td>\n",
       "      <td>-37.897817</td>\n",
       "      <td>-43.249510</td>\n",
       "    </tr>\n",
       "    <tr>\n",
       "      <th>13</th>\n",
       "      <td>0.0</td>\n",
       "      <td>-14.736600</td>\n",
       "      <td>-19.473200</td>\n",
       "      <td>-24.209800</td>\n",
       "      <td>-28.946400</td>\n",
       "      <td>-33.683000</td>\n",
       "      <td>-38.419600</td>\n",
       "      <td>-43.156200</td>\n",
       "      <td>-47.892800</td>\n",
       "      <td>-52.629400</td>\n",
       "      <td>-57.366000</td>\n",
       "      <td>-62.102600</td>\n",
       "      <td>-66.839200</td>\n",
       "      <td>-76.312400</td>\n",
       "    </tr>\n",
       "    <tr>\n",
       "      <th>14</th>\n",
       "      <td>0.0</td>\n",
       "      <td>-22.968034</td>\n",
       "      <td>-31.573238</td>\n",
       "      <td>-46.589577</td>\n",
       "      <td>-59.506513</td>\n",
       "      <td>-63.982463</td>\n",
       "      <td>-70.758227</td>\n",
       "      <td>-87.015621</td>\n",
       "      <td>-97.206446</td>\n",
       "      <td>-111.894309</td>\n",
       "      <td>-127.607502</td>\n",
       "      <td>-141.964502</td>\n",
       "      <td>-156.321501</td>\n",
       "      <td>-185.035500</td>\n",
       "    </tr>\n",
       "    <tr>\n",
       "      <th>15</th>\n",
       "      <td>0.0</td>\n",
       "      <td>-16.176758</td>\n",
       "      <td>-21.261394</td>\n",
       "      <td>-23.604044</td>\n",
       "      <td>-25.455924</td>\n",
       "      <td>-32.138194</td>\n",
       "      <td>-37.771244</td>\n",
       "      <td>-40.887983</td>\n",
       "      <td>-43.386696</td>\n",
       "      <td>-46.224328</td>\n",
       "      <td>-49.061961</td>\n",
       "      <td>-51.899593</td>\n",
       "      <td>-54.737226</td>\n",
       "      <td>-60.412491</td>\n",
       "    </tr>\n",
       "    <tr>\n",
       "      <th>16</th>\n",
       "      <td>0.0</td>\n",
       "      <td>-18.189540</td>\n",
       "      <td>-28.242233</td>\n",
       "      <td>-37.165451</td>\n",
       "      <td>-46.006278</td>\n",
       "      <td>-54.181857</td>\n",
       "      <td>-63.896159</td>\n",
       "      <td>-76.050403</td>\n",
       "      <td>-85.577018</td>\n",
       "      <td>-95.103632</td>\n",
       "      <td>-104.630247</td>\n",
       "      <td>-114.156861</td>\n",
       "      <td>-123.683476</td>\n",
       "      <td>-142.736705</td>\n",
       "    </tr>\n",
       "    <tr>\n",
       "      <th>17</th>\n",
       "      <td>0.0</td>\n",
       "      <td>-20.017832</td>\n",
       "      <td>-29.759245</td>\n",
       "      <td>-37.211206</td>\n",
       "      <td>-43.805648</td>\n",
       "      <td>-54.349472</td>\n",
       "      <td>-58.577497</td>\n",
       "      <td>-70.025603</td>\n",
       "      <td>-86.312597</td>\n",
       "      <td>-94.277768</td>\n",
       "      <td>-102.242938</td>\n",
       "      <td>-110.208109</td>\n",
       "      <td>-118.173279</td>\n",
       "      <td>-134.103620</td>\n",
       "    </tr>\n",
       "    <tr>\n",
       "      <th>18</th>\n",
       "      <td>0.0</td>\n",
       "      <td>-18.498158</td>\n",
       "      <td>-23.398070</td>\n",
       "      <td>-30.815289</td>\n",
       "      <td>-38.369620</td>\n",
       "      <td>-45.197735</td>\n",
       "      <td>-52.698167</td>\n",
       "      <td>-60.167273</td>\n",
       "      <td>-68.448562</td>\n",
       "      <td>-75.894223</td>\n",
       "      <td>-83.339883</td>\n",
       "      <td>-90.785544</td>\n",
       "      <td>-98.231205</td>\n",
       "      <td>-113.122526</td>\n",
       "    </tr>\n",
       "    <tr>\n",
       "      <th>19</th>\n",
       "      <td>0.0</td>\n",
       "      <td>-13.391457</td>\n",
       "      <td>-16.782914</td>\n",
       "      <td>-20.174371</td>\n",
       "      <td>-23.565828</td>\n",
       "      <td>-26.957286</td>\n",
       "      <td>-30.348743</td>\n",
       "      <td>-33.740200</td>\n",
       "      <td>-37.131657</td>\n",
       "      <td>-40.523114</td>\n",
       "      <td>-43.914571</td>\n",
       "      <td>-47.306028</td>\n",
       "      <td>-50.697485</td>\n",
       "      <td>-57.480400</td>\n",
       "    </tr>\n",
       "  </tbody>\n",
       "</table>\n",
       "</div>"
      ],
      "text/plain": [
       "      0          5         10         15         20         25         30  \\\n",
       "0   0.0 -12.923233 -15.846466 -18.769699 -21.692932 -24.616165 -27.539398   \n",
       "1   0.0 -20.192886 -35.578730 -42.914642 -46.365930 -48.849761 -63.734756   \n",
       "2   0.0 -15.664464 -21.328928 -26.993391 -32.657855 -38.322319 -43.986783   \n",
       "3   0.0 -16.482713 -28.089587 -31.047416 -34.972897 -37.591481 -43.310604   \n",
       "4   0.0 -19.985718 -30.504289 -39.166729 -55.629963 -65.961807 -75.651281   \n",
       "5   0.0 -12.576926 -15.153853 -17.730779 -20.307705 -22.884632 -25.461558   \n",
       "6   0.0 -17.632741 -25.265483 -32.898224 -40.530966 -48.163707 -55.796449   \n",
       "7   0.0 -20.976636 -33.368504 -45.511623 -59.473221 -54.793400 -69.383363   \n",
       "8   0.0 -13.187316 -17.943696 -26.083243 -35.603276 -40.621610 -35.916608   \n",
       "9   0.0 -21.623829 -33.714266 -51.108103 -62.805233 -73.713580 -84.613689   \n",
       "10  0.0 -12.859146 -16.532715 -20.179118 -24.890454 -30.528173 -35.459559   \n",
       "11  0.0 -19.013398 -28.026797 -37.040195 -46.053593 -55.066992 -64.080390   \n",
       "12  0.0 -11.065563 -10.766503 -12.349147 -16.940688 -19.875084 -22.811681   \n",
       "13  0.0 -14.736600 -19.473200 -24.209800 -28.946400 -33.683000 -38.419600   \n",
       "14  0.0 -22.968034 -31.573238 -46.589577 -59.506513 -63.982463 -70.758227   \n",
       "15  0.0 -16.176758 -21.261394 -23.604044 -25.455924 -32.138194 -37.771244   \n",
       "16  0.0 -18.189540 -28.242233 -37.165451 -46.006278 -54.181857 -63.896159   \n",
       "17  0.0 -20.017832 -29.759245 -37.211206 -43.805648 -54.349472 -58.577497   \n",
       "18  0.0 -18.498158 -23.398070 -30.815289 -38.369620 -45.197735 -52.698167   \n",
       "19  0.0 -13.391457 -16.782914 -20.174371 -23.565828 -26.957286 -30.348743   \n",
       "\n",
       "            35          40          45          50          55          60  \\\n",
       "0   -30.462631  -33.385865  -36.309098  -39.232331  -42.155564  -45.078797   \n",
       "1   -75.787761  -86.080274  -96.527100 -106.186815 -116.953906 -127.720997   \n",
       "2   -49.651247  -55.315710  -60.980174  -66.644638  -72.309102  -77.973566   \n",
       "3   -46.416779  -55.388987  -56.486786  -59.936094  -63.900077  -67.864059   \n",
       "4   -95.971709 -101.479258 -113.435672 -126.640210 -136.701958 -146.763706   \n",
       "5   -28.038484  -30.615411  -33.192337  -35.769263  -38.346190  -40.923116   \n",
       "6   -63.429190  -71.061932  -78.694673  -86.327415  -93.960156 -101.592898   \n",
       "7   -81.290358  -97.352145 -115.677143 -130.857975 -147.803390 -164.748805   \n",
       "8   -41.762095  -49.471642  -57.904634  -61.573338  -67.954958  -74.336578   \n",
       "9  -100.578995 -109.849821 -121.058234 -135.243016 -148.316039 -161.389062   \n",
       "10  -39.630279  -43.034110  -47.680764  -52.327419  -56.974073  -61.620728   \n",
       "11  -73.093788  -82.107187  -91.120585 -100.133983 -109.147381 -118.160780   \n",
       "12  -24.590444  -27.194431  -29.870277  -32.546124  -35.221970  -37.897817   \n",
       "13  -43.156200  -47.892800  -52.629400  -57.366000  -62.102600  -66.839200   \n",
       "14  -87.015621  -97.206446 -111.894309 -127.607502 -141.964502 -156.321501   \n",
       "15  -40.887983  -43.386696  -46.224328  -49.061961  -51.899593  -54.737226   \n",
       "16  -76.050403  -85.577018  -95.103632 -104.630247 -114.156861 -123.683476   \n",
       "17  -70.025603  -86.312597  -94.277768 -102.242938 -110.208109 -118.173279   \n",
       "18  -60.167273  -68.448562  -75.894223  -83.339883  -90.785544  -98.231205   \n",
       "19  -33.740200  -37.131657  -40.523114  -43.914571  -47.306028  -50.697485   \n",
       "\n",
       "            70  \n",
       "0   -50.925263  \n",
       "1  -149.255179  \n",
       "2   -89.302493  \n",
       "3   -75.792024  \n",
       "4  -166.887202  \n",
       "5   -46.076969  \n",
       "6  -116.858381  \n",
       "7  -198.639636  \n",
       "8   -87.099819  \n",
       "9  -187.535109  \n",
       "10  -70.914037  \n",
       "11 -136.187576  \n",
       "12  -43.249510  \n",
       "13  -76.312400  \n",
       "14 -185.035500  \n",
       "15  -60.412491  \n",
       "16 -142.736705  \n",
       "17 -134.103620  \n",
       "18 -113.122526  \n",
       "19  -57.480400  "
      ]
     },
     "execution_count": 44,
     "metadata": {},
     "output_type": "execute_result"
    }
   ],
   "source": [
    "xToAnalyse[colsDisc].head(20)"
   ]
  },
  {
   "cell_type": "code",
   "execution_count": 45,
   "id": "984b5bc7",
   "metadata": {},
   "outputs": [],
   "source": [
    "xToAnalyse[\"CLIENT_TO_CONTACT\"] = 'NO'\n",
    "xToAnalyse[\"CLIENT_TO_CONTACT\"][xToAnalyse[\"DISCOUNT\"]!=0] = 'YES'"
   ]
  },
  {
   "cell_type": "code",
   "execution_count": 46,
   "id": "2630ef16",
   "metadata": {},
   "outputs": [
    {
     "data": {
      "text/plain": [
       "<AxesSubplot:>"
      ]
     },
     "execution_count": 46,
     "metadata": {},
     "output_type": "execute_result"
    },
    {
     "data": {
      "image/png": "[encoded data removed]",
      "text/plain": [
       "<Figure size 432x288 with 1 Axes>"
      ]
     },
     "metadata": {
      "needs_background": "light"
     },
     "output_type": "display_data"
    }
   ],
   "source": [
    "xToAnalyse[\"CLIENT_TO_CONTACT\"].hist()"
   ]
  },
  {
   "cell_type": "code",
   "execution_count": 47,
   "id": "2708d721",
   "metadata": {},
   "outputs": [
    {
     "data": {
      "text/plain": [
       "Index(['DATA', 'INCOME', 'OVERCHARGE', 'LEFTOVER', 'HOUSE',\n",
       "       'OVER_15MINS_CALLS_PER_MONTH', 'REPORTED_SATISFACTION',\n",
       "       'CONSIDERING_CHANGE_OF_PLAN', 'CHURNED', 'CHURN_LABEL',\n",
       "       'CHURN_PROBABILITY', 'disc_0', '0', 'disc_5', '5', 'disc_10', '10',\n",
       "       'disc_15', '15', 'disc_20', '20', 'disc_25', '25', 'disc_30', '30',\n",
       "       'disc_35', '35', 'disc_40', '40', 'disc_45', '45', 'disc_50', '50',\n",
       "       'disc_55', '55', 'disc_60', '60', 'disc_70', '70', 'maxBenefit',\n",
       "       'DISCOUNT', 'CLIENT_TO_CONTACT'],\n",
       "      dtype='object')"
      ]
     },
     "execution_count": 47,
     "metadata": {},
     "output_type": "execute_result"
    }
   ],
   "source": [
    "xToAnalyse.columns"
   ]
  },
  {
   "cell_type": "markdown",
   "id": "23f69a7e",
   "metadata": {},
   "source": [
    "# NOT LAUNCHED"
   ]
  },
  {
   "cell_type": "markdown",
   "id": "2fa6a33d",
   "metadata": {},
   "source": [
    "# Client discount for validation"
   ]
  },
  {
   "cell_type": "code",
   "execution_count": null,
   "id": "db6d0b67",
   "metadata": {},
   "outputs": [],
   "source": [
    "xToAnalyse = pd.read_csv('df_validation_norm.csv', sep = ',')"
   ]
  },
  {
   "cell_type": "code",
   "execution_count": null,
   "id": "fb8d9d34",
   "metadata": {},
   "outputs": [],
   "source": [
    "xToAnalyse[\"CHURN_LABEL\"] = (clf_RF.predict_proba(xToAnalyse[selectedCols])[:,1] >= threshold).astype('int')\n",
    "xToAnalyse[\"CHURN_PROBABILITY\"] = clf_RF.predict_proba(xToAnalyse[selectedCols])[:,1]"
   ]
  },
  {
   "cell_type": "code",
   "execution_count": null,
   "id": "8af6d7fe",
   "metadata": {},
   "outputs": [],
   "source": [
    "xToAnalyse[\"CHURN_PROBABILITY\"].head(10)"
   ]
  },
  {
   "cell_type": "code",
   "execution_count": null,
   "id": "c83801d6",
   "metadata": {},
   "outputs": [],
   "source": [
    "df_validation = pd.read_csv('df_validation.csv', sep = ',')"
   ]
  },
  {
   "cell_type": "code",
   "execution_count": null,
   "id": "34c392ab",
   "metadata": {},
   "outputs": [],
   "source": [
    "originalFacture = df_validation[\"OVERCHARGE\"] + df_validation[\"REVENUE\"]"
   ]
  },
  {
   "cell_type": "code",
   "execution_count": null,
   "id": "22ccde53",
   "metadata": {},
   "outputs": [],
   "source": [
    "discList = [0, 5, 10, 15, 20, 25, 30,35, 40, 45,50,55,60,70]\n",
    "#discList = [0]\n",
    "for disc in discList:\n",
    "    beforeExpValue = np.multiply(xToAnalyse[\"CHURN_PROBABILITY\"],originalFacture)\n",
    "    xToAnalyse.iloc[:][\"OVERCHARGE\"]  = xToAnalyse[\"OVERCHARGE\"]*(1.-float(disc)/float(100.))\n",
    "    afterProba = clf_RF.predict_proba(xToAnalyse[selectedCols])[:,1]\n",
    "    if disc == 0:\n",
    "        afterExpValue = beforeExpValue\n",
    "    else:\n",
    "        afterExpValue = np.multiply(afterProba,originalFacture)*(1.-float(disc)/float(100.)) - 10.\n",
    "        \n",
    "    benefit = afterExpValue - beforeExpValue\n",
    "    xToAnalyse[\"disc_\"+str(disc)] = disc\n",
    "    xToAnalyse[str(disc)] = benefit"
   ]
  },
  {
   "cell_type": "code",
   "execution_count": null,
   "id": "75a1ffd4",
   "metadata": {},
   "outputs": [],
   "source": [
    "colsDisc = []\n",
    "[colsDisc.append(str(disc)) for disc in discList]\n",
    "colsDisc"
   ]
  },
  {
   "cell_type": "code",
   "execution_count": null,
   "id": "8652d9c3",
   "metadata": {},
   "outputs": [],
   "source": [
    "xToAnalyse[\"maxBenefit\"] = xToAnalyse[colsDisc].loc[:].max(axis=1)\n",
    "xToAnalyse[\"DISCOUNT\"] = xToAnalyse[colsDisc].loc[:].idxmax(axis=1).astype(int)\n"
   ]
  },
  {
   "cell_type": "code",
   "execution_count": null,
   "id": "f1749c9b",
   "metadata": {},
   "outputs": [],
   "source": [
    "xToAnalyse[\"DISCOUNT\"].hist()"
   ]
  },
  {
   "cell_type": "code",
   "execution_count": null,
   "id": "b1a0bb5b",
   "metadata": {},
   "outputs": [],
   "source": [
    "xToAnalyse[\"CHURN_LABEL\"].hist()"
   ]
  },
  {
   "cell_type": "code",
   "execution_count": null,
   "id": "8f74271d",
   "metadata": {},
   "outputs": [],
   "source": [
    "xToAnalyse[colsDisc].head(20)"
   ]
  },
  {
   "cell_type": "code",
   "execution_count": null,
   "id": "222352db",
   "metadata": {},
   "outputs": [],
   "source": [
    "xToAnalyse[\"CLIENT_TO_CONTACT\"] = 'NO'\n",
    "xToAnalyse[\"CLIENT_TO_CONTACT\"][xToAnalyse[\"DISCOUNT\"]!=0] = 'YES'"
   ]
  },
  {
   "cell_type": "code",
   "execution_count": null,
   "id": "9f5db4aa",
   "metadata": {},
   "outputs": [],
   "source": [
    "xToAnalyse[\"CLIENT_TO_CONTACT\"].hist()"
   ]
  },
  {
   "cell_type": "code",
   "execution_count": null,
   "id": "c6f4e97f",
   "metadata": {},
   "outputs": [],
   "source": [
    "xToAnalyse.columns"
   ]
  },
  {
   "cell_type": "code",
   "execution_count": null,
   "id": "82adbba1",
   "metadata": {},
   "outputs": [],
   "source": [
    "df_result = xToAnalyse[[\"CHURN_PROBABILITY\", \"CHURN_LABEL\", \"CLIENT_TO_CONTACT\", \"DISCOUNT\"]]"
   ]
  },
  {
   "cell_type": "code",
   "execution_count": null,
   "id": "b2e09a25",
   "metadata": {},
   "outputs": [],
   "source": [
    "df_result.to_csv(\"results.csv\", sep=\",\")"
   ]
  },
  {
   "cell_type": "code",
   "execution_count": null,
   "id": "4936ea9b",
   "metadata": {},
   "outputs": [],
   "source": []
  },
  {
   "cell_type": "markdown",
   "id": "31e8a63d",
   "metadata": {},
   "source": [
    "### Exemple for one client"
   ]
  },
  {
   "cell_type": "code",
   "execution_count": null,
   "id": "15b1b0c5",
   "metadata": {},
   "outputs": [],
   "source": [
    "reslist = []\n",
    "iClient = 8\n",
    "nbDisc = 10\n",
    "maxBenefit = 0\n",
    "discOpt = 0\n",
    "for disc in range(nbDisc+1):\n",
    "        beforeExpValue = xToAnalyse[\"proba\"][iClient]*originalFacture[iClient]\n",
    "        afterPrice  = xToAnalyse[\"OVERCHARGE\"][iClient]*(1.-float(disc)/float(nbDisc))\n",
    "        xToAnalyse[selectedCols].iloc[iClient][\"OVERCHARGE\"] = afterPrice\n",
    "        afterProba = clf_RF.predict_proba(xToAnalyse[selectedCols].loc[iClient:iClient])[:,1][0]\n",
    "        afterExpValue = afterProba*originalFacture[iClient]*(1.-float(disc)/float(nbDisc)) - 10.\n",
    "        benefit = afterExpValue - beforeExpValue\n",
    "        #reslist.append([disc, beforeExpValue, afterPrice, afterProba, afterExpValue, benefit])\n",
    "        reslist.append([disc, benefit])"
   ]
  }
 ],
 "metadata": {
  "kernelspec": {
   "display_name": "Python 3",
   "language": "python",
   "name": "python3"
  },
  "language_info": {
   "codemirror_mode": {
    "name": "ipython",
    "version": 3
   },
   "file_extension": ".py",
   "mimetype": "text/x-python",
   "name": "python",
   "nbconvert_exporter": "python",
   "pygments_lexer": "ipython3",
   "version": "3.7.6"
  }
 },
 "nbformat": 4,
 "nbformat_minor": 5
}
