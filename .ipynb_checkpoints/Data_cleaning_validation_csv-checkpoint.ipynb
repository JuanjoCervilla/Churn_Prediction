{
 "cells": [
  {
   "cell_type": "markdown",
   "id": "ad76131b",
   "metadata": {},
   "source": [
    "<hr style=\"border-width:2px;border-color:#75WFE1\">\n",
    "\n",
    "# Study Case"
   ]
  },
  {
   "cell_type": "markdown",
   "id": "826ef13b",
   "metadata": {},
   "source": [
    "### Import packages"
   ]
  },
  {
   "cell_type": "code",
   "execution_count": 1,
   "id": "e12de089",
   "metadata": {},
   "outputs": [],
   "source": [
    "import pandas as pd\n",
    "import numpy as np\n",
    "import matplotlib.pyplot as plt\n",
    "%matplotlib inline\n",
    "import plotly.express as px\n",
    "import seaborn as sns\n",
    "\n",
    "\n",
    "from sklearn.preprocessing import MinMaxScaler\n",
    "from sklearn.decomposition import PCA\n",
    "\n",
    "import statsmodels.api as sm\n",
    "import statsmodels.formula.api as smf\n",
    "\n",
    "\n",
    "from sklearn.feature_selection import VarianceThreshold, SelectKBest, SelectFromModel, f_regression, mutual_info_regression, RFE, RFECV\n",
    "from sklearn.model_selection import train_test_split, KFold, GridSearchCV\n",
    "from sklearn.linear_model import LinearRegression, Lasso\n",
    "from sklearn.preprocessing import StandardScaler\n",
    "from sklearn.model_selection import cross_val_predict, cross_val_score, cross_validate\n",
    "\n",
    "from sklearn.experimental import enable_iterative_imputer\n",
    "from sklearn.impute import IterativeImputer\n",
    "\n",
    "\n",
    "import warnings\n",
    "warnings.filterwarnings('ignore')"
   ]
  },
  {
   "cell_type": "code",
   "execution_count": 2,
   "id": "a701e6c8",
   "metadata": {},
   "outputs": [
    {
     "data": {
      "text/html": [
       "<div>\n",
       "<style scoped>\n",
       "    .dataframe tbody tr th:only-of-type {\n",
       "        vertical-align: middle;\n",
       "    }\n",
       "\n",
       "    .dataframe tbody tr th {\n",
       "        vertical-align: top;\n",
       "    }\n",
       "\n",
       "    .dataframe thead th {\n",
       "        text-align: right;\n",
       "    }\n",
       "</style>\n",
       "<table border=\"1\" class=\"dataframe\">\n",
       "  <thead>\n",
       "    <tr style=\"text-align: right;\">\n",
       "      <th></th>\n",
       "      <th>CUSTOMER_ID</th>\n",
       "      <th>COLLEGE</th>\n",
       "      <th>DATA</th>\n",
       "      <th>INCOME</th>\n",
       "      <th>OVERCHARGE</th>\n",
       "      <th>LEFTOVER</th>\n",
       "      <th>HOUSE</th>\n",
       "      <th>LESSTHAN600k</th>\n",
       "      <th>CHILD</th>\n",
       "      <th>JOB_CLASS</th>\n",
       "      <th>REVENUE</th>\n",
       "      <th>HANDSET_PRICE</th>\n",
       "      <th>OVER_15MINS_CALLS_PER_MONTH</th>\n",
       "      <th>TIME_CLIENT</th>\n",
       "      <th>AVERAGE_CALL_DURATION</th>\n",
       "      <th>REPORTED_SATISFACTION</th>\n",
       "      <th>REPORTED_USAGE_LEVEL</th>\n",
       "      <th>CONSIDERING_CHANGE_OF_PLAN</th>\n",
       "    </tr>\n",
       "  </thead>\n",
       "  <tbody>\n",
       "    <tr>\n",
       "      <th>0</th>\n",
       "      <td>C100002</td>\n",
       "      <td>one</td>\n",
       "      <td>80.000000</td>\n",
       "      <td>45452.5</td>\n",
       "      <td>75</td>\n",
       "      <td>65</td>\n",
       "      <td>342741.0</td>\n",
       "      <td>True</td>\n",
       "      <td>3</td>\n",
       "      <td>1</td>\n",
       "      <td>149.0</td>\n",
       "      <td>300</td>\n",
       "      <td>3</td>\n",
       "      <td>2.2</td>\n",
       "      <td>2</td>\n",
       "      <td>unsat</td>\n",
       "      <td>little</td>\n",
       "      <td>considering</td>\n",
       "    </tr>\n",
       "    <tr>\n",
       "      <th>1</th>\n",
       "      <td>C100003</td>\n",
       "      <td>zero</td>\n",
       "      <td>536.842105</td>\n",
       "      <td>40703.5</td>\n",
       "      <td>90</td>\n",
       "      <td>0</td>\n",
       "      <td>215904.0</td>\n",
       "      <td>True</td>\n",
       "      <td>1</td>\n",
       "      <td>1</td>\n",
       "      <td>176.0</td>\n",
       "      <td>384</td>\n",
       "      <td>4</td>\n",
       "      <td>2.4</td>\n",
       "      <td>13</td>\n",
       "      <td>unsat</td>\n",
       "      <td>very_high</td>\n",
       "      <td>actively_looking_into_it</td>\n",
       "    </tr>\n",
       "    <tr>\n",
       "      <th>2</th>\n",
       "      <td>C100004</td>\n",
       "      <td>zero</td>\n",
       "      <td>256.578947</td>\n",
       "      <td>35563.0</td>\n",
       "      <td>52</td>\n",
       "      <td>0</td>\n",
       "      <td>341828.0</td>\n",
       "      <td>True</td>\n",
       "      <td>2</td>\n",
       "      <td>3</td>\n",
       "      <td>124.0</td>\n",
       "      <td>371</td>\n",
       "      <td>5</td>\n",
       "      <td>2.3</td>\n",
       "      <td>12</td>\n",
       "      <td>very_sat</td>\n",
       "      <td>avg</td>\n",
       "      <td>considering</td>\n",
       "    </tr>\n",
       "    <tr>\n",
       "      <th>3</th>\n",
       "      <td>C100005</td>\n",
       "      <td>zero</td>\n",
       "      <td>466.666667</td>\n",
       "      <td>66072.5</td>\n",
       "      <td>0</td>\n",
       "      <td>8</td>\n",
       "      <td>257222.0</td>\n",
       "      <td>True</td>\n",
       "      <td>3</td>\n",
       "      <td>1</td>\n",
       "      <td>279.0</td>\n",
       "      <td>324</td>\n",
       "      <td>1</td>\n",
       "      <td>2.8</td>\n",
       "      <td>5</td>\n",
       "      <td>very_sat</td>\n",
       "      <td>very_little</td>\n",
       "      <td>actively_looking_into_it</td>\n",
       "    </tr>\n",
       "    <tr>\n",
       "      <th>4</th>\n",
       "      <td>C100007</td>\n",
       "      <td>zero</td>\n",
       "      <td>150.000000</td>\n",
       "      <td>21901.5</td>\n",
       "      <td>0</td>\n",
       "      <td>0</td>\n",
       "      <td>800811.0</td>\n",
       "      <td>False</td>\n",
       "      <td>1</td>\n",
       "      <td>3</td>\n",
       "      <td>128.0</td>\n",
       "      <td>164</td>\n",
       "      <td>1</td>\n",
       "      <td>1.5</td>\n",
       "      <td>12</td>\n",
       "      <td>avg</td>\n",
       "      <td>very_high</td>\n",
       "      <td>perhaps</td>\n",
       "    </tr>\n",
       "  </tbody>\n",
       "</table>\n",
       "</div>"
      ],
      "text/plain": [
       "  CUSTOMER_ID COLLEGE        DATA   INCOME  OVERCHARGE  LEFTOVER     HOUSE  \\\n",
       "0     C100002     one   80.000000  45452.5          75        65  342741.0   \n",
       "1     C100003    zero  536.842105  40703.5          90         0  215904.0   \n",
       "2     C100004    zero  256.578947  35563.0          52         0  341828.0   \n",
       "3     C100005    zero  466.666667  66072.5           0         8  257222.0   \n",
       "4     C100007    zero  150.000000  21901.5           0         0  800811.0   \n",
       "\n",
       "  LESSTHAN600k  CHILD  JOB_CLASS  REVENUE  HANDSET_PRICE  \\\n",
       "0         True      3          1    149.0            300   \n",
       "1         True      1          1    176.0            384   \n",
       "2         True      2          3    124.0            371   \n",
       "3         True      3          1    279.0            324   \n",
       "4        False      1          3    128.0            164   \n",
       "\n",
       "   OVER_15MINS_CALLS_PER_MONTH  TIME_CLIENT  AVERAGE_CALL_DURATION  \\\n",
       "0                            3          2.2                      2   \n",
       "1                            4          2.4                     13   \n",
       "2                            5          2.3                     12   \n",
       "3                            1          2.8                      5   \n",
       "4                            1          1.5                     12   \n",
       "\n",
       "  REPORTED_SATISFACTION REPORTED_USAGE_LEVEL CONSIDERING_CHANGE_OF_PLAN  \n",
       "0                 unsat               little                considering  \n",
       "1                 unsat            very_high   actively_looking_into_it  \n",
       "2              very_sat                  avg                considering  \n",
       "3              very_sat          very_little   actively_looking_into_it  \n",
       "4                   avg            very_high                    perhaps  "
      ]
     },
     "execution_count": 2,
     "metadata": {},
     "output_type": "execute_result"
    }
   ],
   "source": [
    "#read csv file \n",
    "df_validation = pd.read_csv('validation.csv', sep = ',')\n",
    "df_validation.head()"
   ]
  },
  {
   "cell_type": "code",
   "execution_count": 3,
   "id": "352520e2",
   "metadata": {},
   "outputs": [
    {
     "data": {
      "text/plain": [
       "(3993, 18)"
      ]
     },
     "execution_count": 3,
     "metadata": {},
     "output_type": "execute_result"
    }
   ],
   "source": [
    "df_validation.shape"
   ]
  },
  {
   "cell_type": "markdown",
   "id": "1c0f7a89",
   "metadata": {},
   "source": [
    "We are going to delete the easiest features"
   ]
  },
  {
   "cell_type": "code",
   "execution_count": 4,
   "id": "59416283",
   "metadata": {},
   "outputs": [
    {
     "name": "stdout",
     "output_type": "stream",
     "text": [
      "column CUSTOMER_ID deleted\n",
      "column LESSTHAN600k deleted\n"
     ]
    }
   ],
   "source": [
    "remCol = []\n",
    "for col in df_validation.columns:\n",
    "    if (col==\"CUSTOMER_ID\")   |  (col==\"LESSTHAN600k\")  :\n",
    "        print(\"column \"+ col+\" deleted\")\n",
    "    else:\n",
    "        remCol.append(col)\n",
    "        \n",
    "df_validation = df_validation[remCol]"
   ]
  },
  {
   "cell_type": "markdown",
   "id": "7a48dc2b",
   "metadata": {},
   "source": [
    "### Data Cleaning "
   ]
  },
  {
   "cell_type": "code",
   "execution_count": 5,
   "id": "455b524e",
   "metadata": {},
   "outputs": [],
   "source": [
    "df_validation['COLLEGE'] = df_validation['COLLEGE'].map({'zero' : float(0), 'one': float(1)})\n",
    "\n",
    "df_validation['DATA'] = df_validation['DATA'].round(2)\n",
    "columns_to_float = ['OVERCHARGE', 'LEFTOVER', 'HANDSET_PRICE', 'OVER_15MINS_CALLS_PER_MONTH', 'AVERAGE_CALL_DURATION']\n",
    "df_validation[columns_to_float] = df_validation[columns_to_float].astype(float)\n",
    "df_validation['CHILD'] = df_validation['CHILD'].astype(float)\n",
    "df_validation['DATA'] = df_validation['DATA'].round(2)\n"
   ]
  },
  {
   "cell_type": "code",
   "execution_count": 6,
   "id": "c7ad46db",
   "metadata": {},
   "outputs": [],
   "source": [
    "# list(df_validation['REPORTED_SATISFACTION'].unique()) \n",
    "# list(df_validation['REPORTED_USAGE_LEVEL'].unique()) \n",
    "# list(df_validation['CONSIDERING_CHANGE_OF_PLAN'].unique()) \n",
    "\n",
    "df_validation['CONSIDERING_CHANGE_OF_PLAN'] = df_validation['CONSIDERING_CHANGE_OF_PLAN'].map({\n",
    "                                                    'actively_looking_into_it' : float(1),\n",
    "                                                    'considering': float(.75),\n",
    "                                                    'perhaps': float(.5),\n",
    "                                                    'no': float(.25),\n",
    "                                                    'never_thought': float(0),\n",
    "                                                    })\n",
    "\n",
    "df_validation['REPORTED_USAGE_LEVEL'] = df_validation['REPORTED_USAGE_LEVEL'].map({\n",
    "                                                    'very_little' : float(1),\n",
    "                                                    'little': float(.75),\n",
    "                                                    'avg': float(.5),\n",
    "                                                    'high' : float(.25),\n",
    "                                                    'very_high': float(0),\n",
    "                                                    })\n",
    "\n",
    "df_validation['REPORTED_SATISFACTION'] = df_validation['REPORTED_SATISFACTION'].map({\n",
    "                                                    'very_unsat' : float(1),\n",
    "                                                    'unsat': float(.75),\n",
    "                                                    'avg': float(.5),\n",
    "                                                    'sat' : float(.25),\n",
    "                                                    'very_sat': float(0),\n",
    "                                                    })"
   ]
  },
  {
   "cell_type": "code",
   "execution_count": 7,
   "id": "ab977d47",
   "metadata": {},
   "outputs": [],
   "source": [
    "#Dummies \n",
    "def createDummies(df, col, var_name):\n",
    "    dummy = pd.get_dummies(df[col], prefix=var_name)\n",
    "    df = df.drop(col, axis = 1)\n",
    "    df = pd.concat([df, dummy ], axis = 1)\n",
    "    return df\n",
    "\n",
    "df_validation = createDummies(df_validation, 'JOB_CLASS', var_name='JOB_CLASS')\n",
    "df_validation['JOB_CLASS_1'] = df_validation['JOB_CLASS_1'].astype(float)\n",
    "df_validation['JOB_CLASS_2'] = df_validation['JOB_CLASS_2'].astype(float)\n",
    "df_validation['JOB_CLASS_3'] = df_validation['JOB_CLASS_3'].astype(float)\n",
    "df_validation['JOB_CLASS_4'] = df_validation['JOB_CLASS_4'].astype(float)\n",
    "# df_validation = createDummies(df_validation, 'CONSIDERING_CHANGE_OF_PLAN', var_name='Change_Plan')\n",
    "# df_validation = createDummies(df_validation, 'REPORTED_USAGE_LEVEL', var_name='Report_Usage')"
   ]
  },
  {
   "cell_type": "markdown",
   "id": "164ab1e4",
   "metadata": {},
   "source": [
    "It's really hard to get the value of NAN's house. This feature is not all correlated as you can see in this figure"
   ]
  },
  {
   "cell_type": "code",
   "execution_count": 8,
   "id": "8aa50133",
   "metadata": {},
   "outputs": [
    {
     "data": {
      "text/plain": [
       "<AxesSubplot:>"
      ]
     },
     "execution_count": 8,
     "metadata": {},
     "output_type": "execute_result"
    },
    {
     "data": {
      "image/png": "[encoded data removed]",
      "text/plain": [
       "<Figure size 1080x576 with 1 Axes>"
      ]
     },
     "metadata": {
      "needs_background": "light"
     },
     "output_type": "display_data"
    }
   ],
   "source": [
    "plt.figure(figsize=(15,8))\n",
    "df_validation.corr()['HOUSE'].sort_values(ascending = False).plot(kind='bar')"
   ]
  },
  {
   "cell_type": "code",
   "execution_count": 9,
   "id": "a857a8ba",
   "metadata": {},
   "outputs": [
    {
     "data": {
      "text/plain": [
       "(3993, 19)"
      ]
     },
     "execution_count": 9,
     "metadata": {},
     "output_type": "execute_result"
    }
   ],
   "source": [
    "df_validation.shape"
   ]
  },
  {
   "cell_type": "code",
   "execution_count": 10,
   "id": "6bd00f1b",
   "metadata": {
    "scrolled": true
   },
   "outputs": [
    {
     "data": {
      "text/plain": [
       "COLLEGE                          0\n",
       "DATA                             0\n",
       "INCOME                           0\n",
       "OVERCHARGE                       0\n",
       "LEFTOVER                         0\n",
       "HOUSE                          199\n",
       "CHILD                            0\n",
       "REVENUE                          0\n",
       "HANDSET_PRICE                    0\n",
       "OVER_15MINS_CALLS_PER_MONTH      0\n",
       "TIME_CLIENT                      0\n",
       "AVERAGE_CALL_DURATION            0\n",
       "REPORTED_SATISFACTION            0\n",
       "REPORTED_USAGE_LEVEL             0\n",
       "CONSIDERING_CHANGE_OF_PLAN       0\n",
       "JOB_CLASS_1                      0\n",
       "JOB_CLASS_2                      0\n",
       "JOB_CLASS_3                      0\n",
       "JOB_CLASS_4                      0\n",
       "dtype: int64"
      ]
     },
     "execution_count": 10,
     "metadata": {},
     "output_type": "execute_result"
    }
   ],
   "source": [
    "df_validation.isna().sum()"
   ]
  },
  {
   "cell_type": "code",
   "execution_count": 11,
   "id": "c29e9370",
   "metadata": {},
   "outputs": [],
   "source": [
    "df_validation = df_validation[df_validation['HOUSE'].notna()]\n",
    "df_validation.reset_index(inplace=True, drop=True)"
   ]
  },
  {
   "cell_type": "code",
   "execution_count": 12,
   "id": "95385505",
   "metadata": {},
   "outputs": [
    {
     "data": {
      "text/plain": [
       "(3794, 19)"
      ]
     },
     "execution_count": 12,
     "metadata": {},
     "output_type": "execute_result"
    }
   ],
   "source": [
    "df_validation.shape"
   ]
  },
  {
   "cell_type": "code",
   "execution_count": 13,
   "id": "1f74458b",
   "metadata": {
    "scrolled": true
   },
   "outputs": [
    {
     "data": {
      "text/plain": [
       "COLLEGE                        0\n",
       "DATA                           0\n",
       "INCOME                         0\n",
       "OVERCHARGE                     0\n",
       "LEFTOVER                       0\n",
       "HOUSE                          0\n",
       "CHILD                          0\n",
       "REVENUE                        0\n",
       "HANDSET_PRICE                  0\n",
       "OVER_15MINS_CALLS_PER_MONTH    0\n",
       "TIME_CLIENT                    0\n",
       "AVERAGE_CALL_DURATION          0\n",
       "REPORTED_SATISFACTION          0\n",
       "REPORTED_USAGE_LEVEL           0\n",
       "CONSIDERING_CHANGE_OF_PLAN     0\n",
       "JOB_CLASS_1                    0\n",
       "JOB_CLASS_2                    0\n",
       "JOB_CLASS_3                    0\n",
       "JOB_CLASS_4                    0\n",
       "dtype: int64"
      ]
     },
     "execution_count": 13,
     "metadata": {},
     "output_type": "execute_result"
    }
   ],
   "source": [
    "df_validation.isna().sum()"
   ]
  },
  {
   "cell_type": "markdown",
   "id": "aba2f2e0",
   "metadata": {},
   "source": [
    "We are going to delete outliers"
   ]
  },
  {
   "cell_type": "markdown",
   "id": "d6e7840f",
   "metadata": {},
   "source": [
    "We're going to delete JOB_CLASS_4 and we restart our reduction"
   ]
  },
  {
   "cell_type": "code",
   "execution_count": 14,
   "id": "f1afd690",
   "metadata": {},
   "outputs": [
    {
     "name": "stdout",
     "output_type": "stream",
     "text": [
      "column JOB_CLASS_4 deleted\n"
     ]
    }
   ],
   "source": [
    "remCol = []\n",
    "for col in df_validation.columns:\n",
    "    if (col==\"JOB_CLASS_4\" ):\n",
    "        print(\"column \"+ col+\" deleted\")\n",
    "    else:\n",
    "        remCol.append(col)\n",
    "        \n",
    "df_validation = df_validation[remCol]"
   ]
  },
  {
   "cell_type": "markdown",
   "id": "9b0cc9d9",
   "metadata": {},
   "source": [
    "As mentioned before"
   ]
  },
  {
   "cell_type": "code",
   "execution_count": 15,
   "id": "d18c6dd4",
   "metadata": {},
   "outputs": [
    {
     "name": "stdout",
     "output_type": "stream",
     "text": [
      "column COLLEGE deleted\n",
      "column REPORTED_USAGE_LEVEL deleted\n",
      "column JOB_CLASS_1 deleted\n",
      "column JOB_CLASS_2 deleted\n",
      "column JOB_CLASS_3 deleted\n"
     ]
    }
   ],
   "source": [
    "remCol = []\n",
    "for col in df_validation.columns:\n",
    "    if (col==\"CUSTOMER_ID\") | (col==\"JOB_CLASS_1\")  |  (col==\"JOB_CLASS_2\" ) | (col==\"JOB_CLASS_3\" ) | (col==\"COLLEGE\" ) | (col==\"REPORTED_USAGE_LEVEL\" ):\n",
    "        print(\"column \"+ col+\" deleted\")\n",
    "    else:\n",
    "        remCol.append(col)\n",
    "        \n",
    "df_validation = df_validation[remCol]"
   ]
  },
  {
   "cell_type": "markdown",
   "id": "05fe7e58",
   "metadata": {},
   "source": [
    "### Normalization"
   ]
  },
  {
   "cell_type": "code",
   "execution_count": 16,
   "id": "1bed217c",
   "metadata": {},
   "outputs": [],
   "source": [
    "df_validation.to_csv('df_validation.csv', sep = ',')"
   ]
  },
  {
   "cell_type": "code",
   "execution_count": 17,
   "id": "e17aab60",
   "metadata": {},
   "outputs": [],
   "source": [
    "scaler = MinMaxScaler()\n",
    "normalized_data = scaler.fit_transform(df_validation)\n",
    "df_validation = pd.DataFrame(normalized_data, columns=remCol)"
   ]
  },
  {
   "cell_type": "code",
   "execution_count": 18,
   "id": "8e65f7c4",
   "metadata": {},
   "outputs": [],
   "source": [
    "df_validation.to_csv('df_validation_norm.csv', sep = ',')"
   ]
  },
  {
   "cell_type": "code",
   "execution_count": null,
   "id": "e29a5c14",
   "metadata": {},
   "outputs": [],
   "source": []
  }
 ],
 "metadata": {
  "kernelspec": {
   "display_name": "Python 3",
   "language": "python",
   "name": "python3"
  },
  "language_info": {
   "codemirror_mode": {
    "name": "ipython",
    "version": 3
   },
   "file_extension": ".py",
   "mimetype": "text/x-python",
   "name": "python",
   "nbconvert_exporter": "python",
   "pygments_lexer": "ipython3",
   "version": "3.7.6"
  }
 },
 "nbformat": 4,
 "nbformat_minor": 5
}
