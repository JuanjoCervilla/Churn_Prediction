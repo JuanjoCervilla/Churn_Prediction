{
 "cells": [
  {
   "cell_type": "markdown",
   "id": "06a364f1",
   "metadata": {},
   "source": [
    "<hr style=\"border-width:2px;border-color:#75DFC1\">\n",
    "\n",
    "# Study Case"
   ]
  },
  {
   "cell_type": "markdown",
   "id": "26f941ca",
   "metadata": {},
   "source": [
    "### Import packages"
   ]
  },
  {
   "cell_type": "code",
   "execution_count": 560,
   "id": "7375f9ef",
   "metadata": {},
   "outputs": [],
   "source": [
    "import pandas as pd\n",
    "import numpy as np\n",
    "import matplotlib.pyplot as plt\n",
    "import plotly.express as px\n",
    "\n",
    "from sklearn.preprocessing import MinMaxScaler\n",
    "from sklearn.decomposition import PCA\n",
    "from sklearn.model_selection import train_test_split"
   ]
  },
  {
   "cell_type": "code",
   "execution_count": 561,
   "id": "3634698b",
   "metadata": {},
   "outputs": [
    {
     "name": "stdout",
     "output_type": "stream",
     "text": [
      "Requirement already satisfied: plotly in c:\\users\\marta\\anaconda3\\lib\\site-packages (5.10.0)\n",
      "Requirement already satisfied: tenacity>=6.2.0 in c:\\users\\marta\\anaconda3\\lib\\site-packages (from plotly) (8.1.0)\n"
     ]
    }
   ],
   "source": [
    "!pip install plotly"
   ]
  },
  {
   "cell_type": "markdown",
   "id": "fa86c2af",
   "metadata": {},
   "source": [
    "### DataFrame observation"
   ]
  },
  {
   "cell_type": "code",
   "execution_count": 748,
   "id": "c971536d",
   "metadata": {
    "scrolled": true
   },
   "outputs": [
    {
     "data": {
      "text/html": [
       "<div>\n",
       "<style scoped>\n",
       "    .dataframe tbody tr th:only-of-type {\n",
       "        vertical-align: middle;\n",
       "    }\n",
       "\n",
       "    .dataframe tbody tr th {\n",
       "        vertical-align: top;\n",
       "    }\n",
       "\n",
       "    .dataframe thead th {\n",
       "        text-align: right;\n",
       "    }\n",
       "</style>\n",
       "<table border=\"1\" class=\"dataframe\">\n",
       "  <thead>\n",
       "    <tr style=\"text-align: right;\">\n",
       "      <th></th>\n",
       "      <th>CUSTOMER_ID</th>\n",
       "      <th>COLLEGE</th>\n",
       "      <th>DATA</th>\n",
       "      <th>INCOME</th>\n",
       "      <th>OVERCHARGE</th>\n",
       "      <th>LEFTOVER</th>\n",
       "      <th>HOUSE</th>\n",
       "      <th>LESSTHAN600k</th>\n",
       "      <th>CHILD</th>\n",
       "      <th>JOB_CLASS</th>\n",
       "      <th>REVENUE</th>\n",
       "      <th>HANDSET_PRICE</th>\n",
       "      <th>OVER_15MINS_CALLS_PER_MONTH</th>\n",
       "      <th>TIME_CLIENT</th>\n",
       "      <th>AVERAGE_CALL_DURATION</th>\n",
       "      <th>REPORTED_SATISFACTION</th>\n",
       "      <th>REPORTED_USAGE_LEVEL</th>\n",
       "      <th>CONSIDERING_CHANGE_OF_PLAN</th>\n",
       "    </tr>\n",
       "  </thead>\n",
       "  <tbody>\n",
       "    <tr>\n",
       "      <th>0</th>\n",
       "      <td>C100002</td>\n",
       "      <td>one</td>\n",
       "      <td>80.000000</td>\n",
       "      <td>45452.5</td>\n",
       "      <td>75</td>\n",
       "      <td>65</td>\n",
       "      <td>342741.0</td>\n",
       "      <td>True</td>\n",
       "      <td>3</td>\n",
       "      <td>1</td>\n",
       "      <td>149.0</td>\n",
       "      <td>300</td>\n",
       "      <td>3</td>\n",
       "      <td>2.2</td>\n",
       "      <td>2</td>\n",
       "      <td>unsat</td>\n",
       "      <td>little</td>\n",
       "      <td>considering</td>\n",
       "    </tr>\n",
       "    <tr>\n",
       "      <th>1</th>\n",
       "      <td>C100003</td>\n",
       "      <td>zero</td>\n",
       "      <td>536.842105</td>\n",
       "      <td>40703.5</td>\n",
       "      <td>90</td>\n",
       "      <td>0</td>\n",
       "      <td>215904.0</td>\n",
       "      <td>True</td>\n",
       "      <td>1</td>\n",
       "      <td>1</td>\n",
       "      <td>176.0</td>\n",
       "      <td>384</td>\n",
       "      <td>4</td>\n",
       "      <td>2.4</td>\n",
       "      <td>13</td>\n",
       "      <td>unsat</td>\n",
       "      <td>very_high</td>\n",
       "      <td>actively_looking_into_it</td>\n",
       "    </tr>\n",
       "    <tr>\n",
       "      <th>2</th>\n",
       "      <td>C100004</td>\n",
       "      <td>zero</td>\n",
       "      <td>256.578947</td>\n",
       "      <td>35563.0</td>\n",
       "      <td>52</td>\n",
       "      <td>0</td>\n",
       "      <td>341828.0</td>\n",
       "      <td>True</td>\n",
       "      <td>2</td>\n",
       "      <td>3</td>\n",
       "      <td>124.0</td>\n",
       "      <td>371</td>\n",
       "      <td>5</td>\n",
       "      <td>2.3</td>\n",
       "      <td>12</td>\n",
       "      <td>very_sat</td>\n",
       "      <td>avg</td>\n",
       "      <td>considering</td>\n",
       "    </tr>\n",
       "    <tr>\n",
       "      <th>3</th>\n",
       "      <td>C100005</td>\n",
       "      <td>zero</td>\n",
       "      <td>466.666667</td>\n",
       "      <td>66072.5</td>\n",
       "      <td>0</td>\n",
       "      <td>8</td>\n",
       "      <td>257222.0</td>\n",
       "      <td>True</td>\n",
       "      <td>3</td>\n",
       "      <td>1</td>\n",
       "      <td>279.0</td>\n",
       "      <td>324</td>\n",
       "      <td>1</td>\n",
       "      <td>2.8</td>\n",
       "      <td>5</td>\n",
       "      <td>very_sat</td>\n",
       "      <td>very_little</td>\n",
       "      <td>actively_looking_into_it</td>\n",
       "    </tr>\n",
       "    <tr>\n",
       "      <th>4</th>\n",
       "      <td>C100007</td>\n",
       "      <td>zero</td>\n",
       "      <td>150.000000</td>\n",
       "      <td>21901.5</td>\n",
       "      <td>0</td>\n",
       "      <td>0</td>\n",
       "      <td>800811.0</td>\n",
       "      <td>False</td>\n",
       "      <td>1</td>\n",
       "      <td>3</td>\n",
       "      <td>128.0</td>\n",
       "      <td>164</td>\n",
       "      <td>1</td>\n",
       "      <td>1.5</td>\n",
       "      <td>12</td>\n",
       "      <td>avg</td>\n",
       "      <td>very_high</td>\n",
       "      <td>perhaps</td>\n",
       "    </tr>\n",
       "  </tbody>\n",
       "</table>\n",
       "</div>"
      ],
      "text/plain": [
       "  CUSTOMER_ID COLLEGE        DATA   INCOME  OVERCHARGE  LEFTOVER     HOUSE  \\\n",
       "0     C100002     one   80.000000  45452.5          75        65  342741.0   \n",
       "1     C100003    zero  536.842105  40703.5          90         0  215904.0   \n",
       "2     C100004    zero  256.578947  35563.0          52         0  341828.0   \n",
       "3     C100005    zero  466.666667  66072.5           0         8  257222.0   \n",
       "4     C100007    zero  150.000000  21901.5           0         0  800811.0   \n",
       "\n",
       "  LESSTHAN600k  CHILD  JOB_CLASS  REVENUE  HANDSET_PRICE  \\\n",
       "0         True      3          1    149.0            300   \n",
       "1         True      1          1    176.0            384   \n",
       "2         True      2          3    124.0            371   \n",
       "3         True      3          1    279.0            324   \n",
       "4        False      1          3    128.0            164   \n",
       "\n",
       "   OVER_15MINS_CALLS_PER_MONTH  TIME_CLIENT  AVERAGE_CALL_DURATION  \\\n",
       "0                            3          2.2                      2   \n",
       "1                            4          2.4                     13   \n",
       "2                            5          2.3                     12   \n",
       "3                            1          2.8                      5   \n",
       "4                            1          1.5                     12   \n",
       "\n",
       "  REPORTED_SATISFACTION REPORTED_USAGE_LEVEL CONSIDERING_CHANGE_OF_PLAN  \n",
       "0                 unsat               little                considering  \n",
       "1                 unsat            very_high   actively_looking_into_it  \n",
       "2              very_sat                  avg                considering  \n",
       "3              very_sat          very_little   actively_looking_into_it  \n",
       "4                   avg            very_high                    perhaps  "
      ]
     },
     "execution_count": 748,
     "metadata": {},
     "output_type": "execute_result"
    }
   ],
   "source": [
    "#read csv file \n",
    "df_training = pd.read_csv('validation.csv', sep = ',')\n",
    "df_training.head()"
   ]
  },
  {
   "cell_type": "code",
   "execution_count": 563,
   "id": "fc077942",
   "metadata": {},
   "outputs": [
    {
     "name": "stdout",
     "output_type": "stream",
     "text": [
      "<class 'pandas.core.frame.DataFrame'>\n",
      "RangeIndex: 11981 entries, 0 to 11980\n",
      "Data columns (total 19 columns):\n",
      " #   Column                       Non-Null Count  Dtype  \n",
      "---  ------                       --------------  -----  \n",
      " 0   CUSTOMER_ID                  11981 non-null  object \n",
      " 1   COLLEGE                      11981 non-null  object \n",
      " 2   DATA                         11981 non-null  float64\n",
      " 3   INCOME                       11981 non-null  float64\n",
      " 4   OVERCHARGE                   11981 non-null  int64  \n",
      " 5   LEFTOVER                     11981 non-null  int64  \n",
      " 6   HOUSE                        11346 non-null  float64\n",
      " 7   LESSTHAN600k                 11346 non-null  object \n",
      " 8   CHILD                        11981 non-null  int64  \n",
      " 9   JOB_CLASS                    11981 non-null  int64  \n",
      " 10  REVENUE                      11981 non-null  float64\n",
      " 11  HANDSET_PRICE                11981 non-null  int64  \n",
      " 12  OVER_15MINS_CALLS_PER_MONTH  11981 non-null  int64  \n",
      " 13  TIME_CLIENT                  11981 non-null  float64\n",
      " 14  AVERAGE_CALL_DURATION        11981 non-null  int64  \n",
      " 15  REPORTED_SATISFACTION        11981 non-null  object \n",
      " 16  REPORTED_USAGE_LEVEL         11981 non-null  object \n",
      " 17  CONSIDERING_CHANGE_OF_PLAN   11981 non-null  object \n",
      " 18  CHURNED                      11981 non-null  object \n",
      "dtypes: float64(5), int64(7), object(7)\n",
      "memory usage: 1.7+ MB\n"
     ]
    },
    {
     "data": {
      "text/plain": [
       "(11981, 19)"
      ]
     },
     "execution_count": 563,
     "metadata": {},
     "output_type": "execute_result"
    }
   ],
   "source": [
    "df_training.info()\n",
    "df_training.describe()\n",
    "df_training.dtypes\n",
    "df_training.shape"
   ]
  },
  {
   "cell_type": "code",
   "execution_count": 749,
   "id": "e6cd9af8",
   "metadata": {},
   "outputs": [],
   "source": [
    "#pd.isnull(df_training['HOUSE']).values.ravel().sum()\n",
    "#pd.notnull(df_training['HOUSE']).values.ravel().sum()\n",
    "\n",
    "# Warning!! We havve NaN in some columns, we are going to delete these rows\n",
    "# and see if these columns are important or not\n",
    "df_training = df_training[df_training['HOUSE'].notna()]\n",
    "df_training = df_training[df_training['LESSTHAN600k'].notna()]\n",
    "df_training.reset_index(inplace=True, drop=True)"
   ]
  },
  {
   "cell_type": "markdown",
   "id": "29d9e290",
   "metadata": {},
   "source": [
    "### Data Cleaning "
   ]
  },
  {
   "cell_type": "code",
   "execution_count": 750,
   "id": "477daf21",
   "metadata": {},
   "outputs": [],
   "source": [
    "df_training['COLLEGE'] = df_training['COLLEGE'].map({'zero' : float(0), 'one': float(1)})\n",
    "df_training['DATA'] = df_training['DATA'].round(2)\n",
    "columns_to_float = ['OVERCHARGE', 'LEFTOVER', 'HANDSET_PRICE', 'OVER_15MINS_CALLS_PER_MONTH', 'AVERAGE_CALL_DURATION']\n",
    "df_training[columns_to_float] = df_training[columns_to_float].astype(float)\n",
    "df_training['LESSTHAN600k'] = df_training['LESSTHAN600k'].astype(float)\n",
    "df_training['CHILD'] = df_training['CHILD'].astype(float)\n",
    "df_training['JOB_CLASS'] = df_training['JOB_CLASS'].astype(float)\n",
    "df_training['DATA'] = df_training['DATA'].round(2)\n",
    "\n",
    "#df_training['REPORTED_SATISFACTION'].unique()\n"
   ]
  },
  {
   "cell_type": "code",
   "execution_count": null,
   "id": "5afed2c1",
   "metadata": {},
   "outputs": [],
   "source": [
    "\n",
    "df_training['CHURNED'] = df_training['CHURNED'].map({'LEAVE' : float(0), 'STAY': float(1)})"
   ]
  },
  {
   "cell_type": "code",
   "execution_count": 751,
   "id": "98f62170",
   "metadata": {},
   "outputs": [],
   "source": [
    "# list(df_training['REPORTED_SATISFACTION'].unique()) \n",
    "# list(df_training['REPORTED_USAGE_LEVEL'].unique()) \n",
    "# list(df_training['CONSIDERING_CHANGE_OF_PLAN'].unique()) \n",
    "\n",
    "df_training['CONSIDERING_CHANGE_OF_PLAN'] = df_training['CONSIDERING_CHANGE_OF_PLAN'].map({\n",
    "                                                    'actively_looking_into_it' : float(1),\n",
    "                                                    'considering': float(.75),\n",
    "                                                    'perhaps': float(.5),\n",
    "                                                    'no': float(.25),\n",
    "                                                    'never_thought': float(0),\n",
    "                                                    })\n",
    "\n",
    "df_training['REPORTED_USAGE_LEVEL'] = df_training['REPORTED_USAGE_LEVEL'].map({\n",
    "                                                    'very_little' : float(1),\n",
    "                                                    'little': float(.75),\n",
    "                                                    'avg': float(.5),\n",
    "                                                    'high' : float(.25),\n",
    "                                                    'very_high': float(0),\n",
    "                                                    })\n",
    "\n",
    "df_training['REPORTED_SATISFACTION'] = df_training['REPORTED_SATISFACTION'].map({\n",
    "                                                    'very_unsat' : float(1),\n",
    "                                                    'unsat': float(.75),\n",
    "                                                    'avg': float(.5),\n",
    "                                                    'sat' : float(.25),\n",
    "                                                    'very_sat': float(0),\n",
    "                                                    })"
   ]
  },
  {
   "cell_type": "code",
   "execution_count": 752,
   "id": "c94cbf54",
   "metadata": {},
   "outputs": [
    {
     "data": {
      "text/html": [
       "<div>\n",
       "<style scoped>\n",
       "    .dataframe tbody tr th:only-of-type {\n",
       "        vertical-align: middle;\n",
       "    }\n",
       "\n",
       "    .dataframe tbody tr th {\n",
       "        vertical-align: top;\n",
       "    }\n",
       "\n",
       "    .dataframe thead th {\n",
       "        text-align: right;\n",
       "    }\n",
       "</style>\n",
       "<table border=\"1\" class=\"dataframe\">\n",
       "  <thead>\n",
       "    <tr style=\"text-align: right;\">\n",
       "      <th></th>\n",
       "      <th>CUSTOMER_ID</th>\n",
       "      <th>COLLEGE</th>\n",
       "      <th>DATA</th>\n",
       "      <th>INCOME</th>\n",
       "      <th>OVERCHARGE</th>\n",
       "      <th>LEFTOVER</th>\n",
       "      <th>HOUSE</th>\n",
       "      <th>LESSTHAN600k</th>\n",
       "      <th>CHILD</th>\n",
       "      <th>JOB_CLASS</th>\n",
       "      <th>REVENUE</th>\n",
       "      <th>HANDSET_PRICE</th>\n",
       "      <th>OVER_15MINS_CALLS_PER_MONTH</th>\n",
       "      <th>TIME_CLIENT</th>\n",
       "      <th>AVERAGE_CALL_DURATION</th>\n",
       "      <th>REPORTED_SATISFACTION</th>\n",
       "      <th>REPORTED_USAGE_LEVEL</th>\n",
       "      <th>CONSIDERING_CHANGE_OF_PLAN</th>\n",
       "    </tr>\n",
       "  </thead>\n",
       "  <tbody>\n",
       "    <tr>\n",
       "      <th>0</th>\n",
       "      <td>C100002</td>\n",
       "      <td>1.0</td>\n",
       "      <td>80.00</td>\n",
       "      <td>45452.5</td>\n",
       "      <td>75.0</td>\n",
       "      <td>65.0</td>\n",
       "      <td>342741.0</td>\n",
       "      <td>1.0</td>\n",
       "      <td>3.0</td>\n",
       "      <td>1.0</td>\n",
       "      <td>149.0</td>\n",
       "      <td>300.0</td>\n",
       "      <td>3.0</td>\n",
       "      <td>2.2</td>\n",
       "      <td>2.0</td>\n",
       "      <td>0.75</td>\n",
       "      <td>0.75</td>\n",
       "      <td>0.75</td>\n",
       "    </tr>\n",
       "    <tr>\n",
       "      <th>1</th>\n",
       "      <td>C100003</td>\n",
       "      <td>0.0</td>\n",
       "      <td>536.84</td>\n",
       "      <td>40703.5</td>\n",
       "      <td>90.0</td>\n",
       "      <td>0.0</td>\n",
       "      <td>215904.0</td>\n",
       "      <td>1.0</td>\n",
       "      <td>1.0</td>\n",
       "      <td>1.0</td>\n",
       "      <td>176.0</td>\n",
       "      <td>384.0</td>\n",
       "      <td>4.0</td>\n",
       "      <td>2.4</td>\n",
       "      <td>13.0</td>\n",
       "      <td>0.75</td>\n",
       "      <td>0.00</td>\n",
       "      <td>1.00</td>\n",
       "    </tr>\n",
       "    <tr>\n",
       "      <th>2</th>\n",
       "      <td>C100004</td>\n",
       "      <td>0.0</td>\n",
       "      <td>256.58</td>\n",
       "      <td>35563.0</td>\n",
       "      <td>52.0</td>\n",
       "      <td>0.0</td>\n",
       "      <td>341828.0</td>\n",
       "      <td>1.0</td>\n",
       "      <td>2.0</td>\n",
       "      <td>3.0</td>\n",
       "      <td>124.0</td>\n",
       "      <td>371.0</td>\n",
       "      <td>5.0</td>\n",
       "      <td>2.3</td>\n",
       "      <td>12.0</td>\n",
       "      <td>0.00</td>\n",
       "      <td>0.50</td>\n",
       "      <td>0.75</td>\n",
       "    </tr>\n",
       "    <tr>\n",
       "      <th>3</th>\n",
       "      <td>C100005</td>\n",
       "      <td>0.0</td>\n",
       "      <td>466.67</td>\n",
       "      <td>66072.5</td>\n",
       "      <td>0.0</td>\n",
       "      <td>8.0</td>\n",
       "      <td>257222.0</td>\n",
       "      <td>1.0</td>\n",
       "      <td>3.0</td>\n",
       "      <td>1.0</td>\n",
       "      <td>279.0</td>\n",
       "      <td>324.0</td>\n",
       "      <td>1.0</td>\n",
       "      <td>2.8</td>\n",
       "      <td>5.0</td>\n",
       "      <td>0.00</td>\n",
       "      <td>1.00</td>\n",
       "      <td>1.00</td>\n",
       "    </tr>\n",
       "    <tr>\n",
       "      <th>4</th>\n",
       "      <td>C100007</td>\n",
       "      <td>0.0</td>\n",
       "      <td>150.00</td>\n",
       "      <td>21901.5</td>\n",
       "      <td>0.0</td>\n",
       "      <td>0.0</td>\n",
       "      <td>800811.0</td>\n",
       "      <td>0.0</td>\n",
       "      <td>1.0</td>\n",
       "      <td>3.0</td>\n",
       "      <td>128.0</td>\n",
       "      <td>164.0</td>\n",
       "      <td>1.0</td>\n",
       "      <td>1.5</td>\n",
       "      <td>12.0</td>\n",
       "      <td>0.50</td>\n",
       "      <td>0.00</td>\n",
       "      <td>0.50</td>\n",
       "    </tr>\n",
       "  </tbody>\n",
       "</table>\n",
       "</div>"
      ],
      "text/plain": [
       "  CUSTOMER_ID  COLLEGE    DATA   INCOME  OVERCHARGE  LEFTOVER     HOUSE  \\\n",
       "0     C100002      1.0   80.00  45452.5        75.0      65.0  342741.0   \n",
       "1     C100003      0.0  536.84  40703.5        90.0       0.0  215904.0   \n",
       "2     C100004      0.0  256.58  35563.0        52.0       0.0  341828.0   \n",
       "3     C100005      0.0  466.67  66072.5         0.0       8.0  257222.0   \n",
       "4     C100007      0.0  150.00  21901.5         0.0       0.0  800811.0   \n",
       "\n",
       "   LESSTHAN600k  CHILD  JOB_CLASS  REVENUE  HANDSET_PRICE  \\\n",
       "0           1.0    3.0        1.0    149.0          300.0   \n",
       "1           1.0    1.0        1.0    176.0          384.0   \n",
       "2           1.0    2.0        3.0    124.0          371.0   \n",
       "3           1.0    3.0        1.0    279.0          324.0   \n",
       "4           0.0    1.0        3.0    128.0          164.0   \n",
       "\n",
       "   OVER_15MINS_CALLS_PER_MONTH  TIME_CLIENT  AVERAGE_CALL_DURATION  \\\n",
       "0                          3.0          2.2                    2.0   \n",
       "1                          4.0          2.4                   13.0   \n",
       "2                          5.0          2.3                   12.0   \n",
       "3                          1.0          2.8                    5.0   \n",
       "4                          1.0          1.5                   12.0   \n",
       "\n",
       "   REPORTED_SATISFACTION  REPORTED_USAGE_LEVEL  CONSIDERING_CHANGE_OF_PLAN  \n",
       "0                   0.75                  0.75                        0.75  \n",
       "1                   0.75                  0.00                        1.00  \n",
       "2                   0.00                  0.50                        0.75  \n",
       "3                   0.00                  1.00                        1.00  \n",
       "4                   0.50                  0.00                        0.50  "
      ]
     },
     "execution_count": 752,
     "metadata": {},
     "output_type": "execute_result"
    }
   ],
   "source": [
    "df_training.head()"
   ]
  },
  {
   "cell_type": "code",
   "execution_count": 568,
   "id": "8074889e",
   "metadata": {},
   "outputs": [],
   "source": [
    "# #Dummies \n",
    "# def createDummies(df, col, var_name):\n",
    "#     dummy = pd.get_dummies(df[col], prefix=var_name)\n",
    "#     df = df.drop(col, axis = 1)\n",
    "#     df = pd.concat([df, dummy ], axis = 1)\n",
    "#     return df\n",
    "\n",
    "# df_training = createDummies(df_training, 'REPORTED_SATISFACTION', var_name='Report_Satisf')\n",
    "# df_training = createDummies(df_training, 'CONSIDERING_CHANGE_OF_PLAN', var_name='Change_Plan')\n",
    "# df_training = createDummies(df_training, 'REPORTED_USAGE_LEVEL', var_name='Report_Usage')"
   ]
  },
  {
   "cell_type": "markdown",
   "id": "c4080013",
   "metadata": {},
   "source": [
    "### Select main features"
   ]
  },
  {
   "cell_type": "markdown",
   "id": "150246be",
   "metadata": {},
   "source": [
    "Features deleted by intuition for the model :\n",
    " \n",
    " * ***CUSTOMER_ID*** :  nothing relevant to the analysis\n",
    " * ***COLLEGE*** :  I think it's not important, this feature you can know thanks to clients' revenue\n",
    " * ***LESSTHAN600k*** : It's a feature that depends directly on HOUSE feature. (Good news! It's a feature with NaN) \n",
    " * ***JOB_CLASS*** : I think the job_class is not very important. it's more important the income. Demonstrate both features are correlated.!!\n",
    "\n",
    " "
   ]
  },
  {
   "cell_type": "markdown",
   "id": "99aff4c8",
   "metadata": {},
   "source": [
    "* Afficher un *strip plot* permettant de visualiser le nombre de points marqués par les joueurs, en fonction de leurs postes (variable `pos`)."
   ]
  },
  {
   "cell_type": "code",
   "execution_count": 753,
   "id": "d2c48db2",
   "metadata": {},
   "outputs": [
    {
     "name": "stdout",
     "output_type": "stream",
     "text": [
      "column CUSTOMER_ID deleted\n",
      "column COLLEGE deleted\n",
      "column LESSTHAN600k deleted\n",
      "column JOB_CLASS deleted\n"
     ]
    }
   ],
   "source": [
    "remCol = []\n",
    "for col in df_training.columns:\n",
    "    if (col==\"CUSTOMER_ID\") | (col==\"COLLEGE\")  |  (col==\"LESSTHAN600k\" ) |  (col==\"JOB_CLASS\" ):\n",
    "        print(\"column \"+ col+\" deleted\")\n",
    "    else:\n",
    "        remCol.append(col)\n",
    "        \n",
    "df_training = df_training[remCol]"
   ]
  },
  {
   "cell_type": "code",
   "execution_count": 754,
   "id": "a813328c",
   "metadata": {},
   "outputs": [
    {
     "data": {
      "text/plain": [
       "count    3793.000000\n",
       "mean      500.226404\n",
       "std       444.749886\n",
       "min         0.000000\n",
       "25%       183.050000\n",
       "50%       368.750000\n",
       "75%       679.490000\n",
       "max      4140.000000\n",
       "Name: DATA, dtype: float64"
      ]
     },
     "execution_count": 754,
     "metadata": {},
     "output_type": "execute_result"
    }
   ],
   "source": [
    "df_training['DATA'][df_training['DATA'] != df_training['DATA'].max()].describe()"
   ]
  },
  {
   "cell_type": "code",
   "execution_count": 571,
   "id": "9d905703",
   "metadata": {},
   "outputs": [
    {
     "data": {
      "text/html": [
       "<div>\n",
       "<style scoped>\n",
       "    .dataframe tbody tr th:only-of-type {\n",
       "        vertical-align: middle;\n",
       "    }\n",
       "\n",
       "    .dataframe tbody tr th {\n",
       "        vertical-align: top;\n",
       "    }\n",
       "\n",
       "    .dataframe thead th {\n",
       "        text-align: right;\n",
       "    }\n",
       "</style>\n",
       "<table border=\"1\" class=\"dataframe\">\n",
       "  <thead>\n",
       "    <tr style=\"text-align: right;\">\n",
       "      <th></th>\n",
       "      <th>DATA</th>\n",
       "      <th>INCOME</th>\n",
       "      <th>OVERCHARGE</th>\n",
       "      <th>LEFTOVER</th>\n",
       "      <th>HOUSE</th>\n",
       "      <th>CHILD</th>\n",
       "      <th>REVENUE</th>\n",
       "      <th>HANDSET_PRICE</th>\n",
       "      <th>OVER_15MINS_CALLS_PER_MONTH</th>\n",
       "      <th>TIME_CLIENT</th>\n",
       "      <th>AVERAGE_CALL_DURATION</th>\n",
       "      <th>REPORTED_SATISFACTION</th>\n",
       "      <th>REPORTED_USAGE_LEVEL</th>\n",
       "      <th>CONSIDERING_CHANGE_OF_PLAN</th>\n",
       "      <th>CHURNED</th>\n",
       "    </tr>\n",
       "  </thead>\n",
       "  <tbody>\n",
       "    <tr>\n",
       "      <th>0</th>\n",
       "      <td>660.00</td>\n",
       "      <td>19995.0</td>\n",
       "      <td>0.0</td>\n",
       "      <td>0.0</td>\n",
       "      <td>897338.0</td>\n",
       "      <td>4.0</td>\n",
       "      <td>160.0</td>\n",
       "      <td>155.0</td>\n",
       "      <td>1.0</td>\n",
       "      <td>1.2</td>\n",
       "      <td>15.0</td>\n",
       "      <td>1.00</td>\n",
       "      <td>0.75</td>\n",
       "      <td>0.75</td>\n",
       "      <td>1.0</td>\n",
       "    </tr>\n",
       "    <tr>\n",
       "      <th>1</th>\n",
       "      <td>317.65</td>\n",
       "      <td>31477.0</td>\n",
       "      <td>155.0</td>\n",
       "      <td>15.0</td>\n",
       "      <td>393396.0</td>\n",
       "      <td>0.0</td>\n",
       "      <td>100.0</td>\n",
       "      <td>245.0</td>\n",
       "      <td>27.0</td>\n",
       "      <td>2.7</td>\n",
       "      <td>4.0</td>\n",
       "      <td>0.75</td>\n",
       "      <td>0.75</td>\n",
       "      <td>0.75</td>\n",
       "      <td>0.0</td>\n",
       "    </tr>\n",
       "    <tr>\n",
       "      <th>2</th>\n",
       "      <td>208.70</td>\n",
       "      <td>66742.0</td>\n",
       "      <td>0.0</td>\n",
       "      <td>13.0</td>\n",
       "      <td>937197.0</td>\n",
       "      <td>4.0</td>\n",
       "      <td>127.0</td>\n",
       "      <td>493.0</td>\n",
       "      <td>20.0</td>\n",
       "      <td>2.6</td>\n",
       "      <td>4.0</td>\n",
       "      <td>0.50</td>\n",
       "      <td>1.00</td>\n",
       "      <td>0.75</td>\n",
       "      <td>1.0</td>\n",
       "    </tr>\n",
       "    <tr>\n",
       "      <th>3</th>\n",
       "      <td>265.02</td>\n",
       "      <td>40864.0</td>\n",
       "      <td>183.0</td>\n",
       "      <td>0.0</td>\n",
       "      <td>986430.0</td>\n",
       "      <td>3.0</td>\n",
       "      <td>86.0</td>\n",
       "      <td>390.0</td>\n",
       "      <td>13.0</td>\n",
       "      <td>2.5</td>\n",
       "      <td>12.0</td>\n",
       "      <td>0.75</td>\n",
       "      <td>0.00</td>\n",
       "      <td>0.75</td>\n",
       "      <td>0.0</td>\n",
       "    </tr>\n",
       "    <tr>\n",
       "      <th>4</th>\n",
       "      <td>440.00</td>\n",
       "      <td>43321.5</td>\n",
       "      <td>200.0</td>\n",
       "      <td>0.0</td>\n",
       "      <td>394622.0</td>\n",
       "      <td>2.0</td>\n",
       "      <td>77.0</td>\n",
       "      <td>175.0</td>\n",
       "      <td>18.0</td>\n",
       "      <td>2.4</td>\n",
       "      <td>10.0</td>\n",
       "      <td>1.00</td>\n",
       "      <td>0.75</td>\n",
       "      <td>1.00</td>\n",
       "      <td>0.0</td>\n",
       "    </tr>\n",
       "  </tbody>\n",
       "</table>\n",
       "</div>"
      ],
      "text/plain": [
       "     DATA   INCOME  OVERCHARGE  LEFTOVER     HOUSE  CHILD  REVENUE  \\\n",
       "0  660.00  19995.0         0.0       0.0  897338.0    4.0    160.0   \n",
       "1  317.65  31477.0       155.0      15.0  393396.0    0.0    100.0   \n",
       "2  208.70  66742.0         0.0      13.0  937197.0    4.0    127.0   \n",
       "3  265.02  40864.0       183.0       0.0  986430.0    3.0     86.0   \n",
       "4  440.00  43321.5       200.0       0.0  394622.0    2.0     77.0   \n",
       "\n",
       "   HANDSET_PRICE  OVER_15MINS_CALLS_PER_MONTH  TIME_CLIENT  \\\n",
       "0          155.0                          1.0          1.2   \n",
       "1          245.0                         27.0          2.7   \n",
       "2          493.0                         20.0          2.6   \n",
       "3          390.0                         13.0          2.5   \n",
       "4          175.0                         18.0          2.4   \n",
       "\n",
       "   AVERAGE_CALL_DURATION  REPORTED_SATISFACTION  REPORTED_USAGE_LEVEL  \\\n",
       "0                   15.0                   1.00                  0.75   \n",
       "1                    4.0                   0.75                  0.75   \n",
       "2                    4.0                   0.50                  1.00   \n",
       "3                   12.0                   0.75                  0.00   \n",
       "4                   10.0                   1.00                  0.75   \n",
       "\n",
       "   CONSIDERING_CHANGE_OF_PLAN  CHURNED  \n",
       "0                        0.75      1.0  \n",
       "1                        0.75      0.0  \n",
       "2                        0.75      1.0  \n",
       "3                        0.75      0.0  \n",
       "4                        1.00      0.0  "
      ]
     },
     "execution_count": 571,
     "metadata": {},
     "output_type": "execute_result"
    }
   ],
   "source": [
    "df_training.head()"
   ]
  },
  {
   "cell_type": "code",
   "execution_count": 572,
   "id": "30bc3993",
   "metadata": {
    "scrolled": true
   },
   "outputs": [
    {
     "data": {
      "text/plain": [
       "(array([8.350e+03, 2.271e+03, 5.700e+02, 1.210e+02, 2.700e+01, 3.000e+00,\n",
       "        3.000e+00, 0.000e+00, 0.000e+00, 1.000e+00]),\n",
       " array([   0.,  660., 1320., 1980., 2640., 3300., 3960., 4620., 5280.,\n",
       "        5940., 6600.]),\n",
       " <BarContainer object of 10 artists>)"
      ]
     },
     "execution_count": 572,
     "metadata": {},
     "output_type": "execute_result"
    },
    {
     "data": {
      "image/png": "[encoded data removed]",
      "text/plain": [
       "<Figure size 432x288 with 1 Axes>"
      ]
     },
     "metadata": {
      "needs_background": "light"
     },
     "output_type": "display_data"
    }
   ],
   "source": [
    "plt.hist(df_training['DATA'])"
   ]
  },
  {
   "cell_type": "code",
   "execution_count": null,
   "id": "244a9878",
   "metadata": {},
   "outputs": [],
   "source": []
  },
  {
   "cell_type": "code",
   "execution_count": 573,
   "id": "c0bd0118",
   "metadata": {},
   "outputs": [
    {
     "data": {
      "application/vnd.plotly.v1+json": {
       "config": {
        "plotlyServerURL": "https://plot.ly"
       },
       "data": [
        {
         "coloraxis": "coloraxis",
         "hovertemplate": "x: %{x}<br>y: %{y}<br>color: %{z}<extra></extra>",
         "name": "0",
         "type": "heatmap",
         "x": [
          "DATA",
          "INCOME",
          "OVERCHARGE",
          "LEFTOVER",
          "HOUSE",
          "CHILD",
          "REVENUE",
          "HANDSET_PRICE",
          "OVER_15MINS_CALLS_PER_MONTH",
          "TIME_CLIENT",
          "AVERAGE_CALL_DURATION",
          "REPORTED_SATISFACTION",
          "REPORTED_USAGE_LEVEL",
          "CONSIDERING_CHANGE_OF_PLAN",
          "CHURNED"
         ],
         "xaxis": "x",
         "y": [
          "DATA",
          "INCOME",
          "OVERCHARGE",
          "LEFTOVER",
          "HOUSE",
          "CHILD",
          "REVENUE",
          "HANDSET_PRICE",
          "OVER_15MINS_CALLS_PER_MONTH",
          "TIME_CLIENT",
          "AVERAGE_CALL_DURATION",
          "REPORTED_SATISFACTION",
          "REPORTED_USAGE_LEVEL",
          "CONSIDERING_CHANGE_OF_PLAN",
          "CHURNED"
         ],
         "yaxis": "y",
         "z": [
          [
           1,
           -0.1298052414447413,
           -0.3627997644668665,
           -0.2669123682629433,
           -0.04092907719412125,
           -0.25606329795925253,
           0.0059831148809983414,
           0.01088717026786833,
           -0.275918161168579,
           0.5420369125233795,
           0.24762631672646349,
           0.0003720444936797227,
           0.002776916122263032,
           0.0035081599153354032,
           -0.05457789998006535
          ],
          [
           -0.1298052414447413,
           1,
           0.36873431078023544,
           0.011421507107582789,
           -0.01970855591686076,
           0.0016669172366823117,
           0.0035570708536164504,
           0.6659613632152581,
           0.28625940164525676,
           0.0021874211366521247,
           -0.017347187904969658,
           0.04235766427372946,
           0.007062198619999874,
           0.016614837895740486,
           -0.16819215154870146
          ],
          [
           -0.3627997644668665,
           0.36873431078023544,
           1,
           0.010359576336009646,
           0.035222801311423205,
           0.015280650897961112,
           0.013880186122690905,
           -0.018056389583242294,
           0.7740339913410867,
           -0.007353432259744196,
           0.006898703259040212,
           0.072414903945601,
           0.004499722274588762,
           0.04112009460074964,
           -0.21385295718166172
          ],
          [
           -0.2669123682629433,
           0.011421507107582789,
           0.010359576336009646,
           1,
           0.015578634477728705,
           -9.3898508826743e-05,
           -0.007506973005078975,
           0.0113412915385556,
           -0.0016797997649608517,
           0.002114915062119403,
           -0.65727100740731,
           0.016237994280594064,
           0.009356859548333825,
           0.02548006463237005,
           -0.06303634979951145
          ],
          [
           -0.04092907719412125,
           -0.01970855591686076,
           0.035222801311423205,
           0.015578634477728705,
           1,
           0.00864795770548623,
           -0.0013878423435924375,
           -0.02820807853389502,
           0.03286331840667127,
           0.006234027405944541,
           -0.014850885134133305,
           -0.036771676228744984,
           -0.0006733460981777721,
           -0.027094850996060595,
           0.19771573481479227
          ],
          [
           -0.25606329795925253,
           0.0016669172366823117,
           0.015280650897961112,
           -9.3898508826743e-05,
           0.00864795770548623,
           1,
           -0.0027377568716811704,
           -0.004718686911817668,
           0.01654622550436207,
           -0.0010094538226662556,
           0.001007335475772152,
           0.0014841350239450093,
           -0.0068561518675916595,
           -0.00444000156272712,
           0.002414622692395241
          ],
          [
           0.0059831148809983414,
           0.0035570708536164504,
           0.013880186122690905,
           -0.007506973005078975,
           -0.0013878423435924375,
           -0.0027377568716811704,
           1,
           -0.005575070836066888,
           0.006824482604637212,
           -0.007595605192365149,
           -0.0030808882913977683,
           0.011459797354865315,
           -0.006592832905221464,
           -0.003810674286943734,
           -0.011884350768794084
          ],
          [
           0.01088717026786833,
           0.6659613632152581,
           -0.018056389583242294,
           0.0113412915385556,
           -0.02820807853389502,
           -0.004718686911817668,
           -0.005575070836066888,
           1,
           -0.00899523353830043,
           -0.004889209936542122,
           -0.022832012291475672,
           0.006744397196626666,
           0.007940954142290067,
           6.052066536771711e-05,
           -0.07897272878315476
          ],
          [
           -0.275918161168579,
           0.28625940164525676,
           0.7740339913410867,
           -0.0016797997649608517,
           0.03286331840667127,
           0.01654622550436207,
           0.006824482604637212,
           -0.00899523353830043,
           1,
           -0.006969857005821269,
           0.018990409813695347,
           0.06328831306691865,
           0.009559680734118487,
           0.03776065235047647,
           -0.19226197671624107
          ],
          [
           0.5420369125233795,
           0.0021874211366521247,
           -0.007353432259744196,
           0.002114915062119403,
           0.006234027405944541,
           -0.0010094538226662556,
           -0.007595605192365149,
           -0.004889209936542122,
           -0.006969857005821269,
           1,
           0.0034967883513648324,
           -0.011373217701627665,
           0.005605140590167406,
           0.013132319043789299,
           0.013716994326250577
          ],
          [
           0.24762631672646349,
           -0.017347187904969658,
           0.006898703259040212,
           -0.65727100740731,
           -0.014850885134133305,
           0.001007335475772152,
           -0.0030808882913977683,
           -0.022832012291475672,
           0.018990409813695347,
           0.0034967883513648324,
           1,
           -0.009211566897724954,
           -0.008417640917438669,
           -0.009493645622344284,
           0.01789917851129207
          ],
          [
           0.0003720444936797227,
           0.04235766427372946,
           0.072414903945601,
           0.016237994280594064,
           -0.036771676228744984,
           0.0014841350239450093,
           0.011459797354865315,
           0.006744397196626666,
           0.06328831306691865,
           -0.011373217701627665,
           -0.009211566897724954,
           1,
           -0.007696137882630722,
           0.0469407985377618,
           -0.22226150651196816
          ],
          [
           0.002776916122263032,
           0.007062198619999874,
           0.004499722274588762,
           0.009356859548333825,
           -0.0006733460981777721,
           -0.0068561518675916595,
           -0.006592832905221464,
           0.007940954142290067,
           0.009559680734118487,
           0.005605140590167406,
           -0.008417640917438669,
           -0.007696137882630722,
           1,
           0.020607857355200238,
           0.012143640509469955
          ],
          [
           0.0035081599153354032,
           0.016614837895740486,
           0.04112009460074964,
           0.02548006463237005,
           -0.027094850996060595,
           -0.00444000156272712,
           -0.003810674286943734,
           6.052066536771711e-05,
           0.03776065235047647,
           0.013132319043789299,
           -0.009493645622344284,
           0.0469407985377618,
           0.020607857355200238,
           1,
           -0.11831217992796118
          ],
          [
           -0.05457789998006535,
           -0.16819215154870146,
           -0.21385295718166172,
           -0.06303634979951145,
           0.19771573481479227,
           0.002414622692395241,
           -0.011884350768794084,
           -0.07897272878315476,
           -0.19226197671624107,
           0.013716994326250577,
           0.01789917851129207,
           -0.22226150651196816,
           0.012143640509469955,
           -0.11831217992796118,
           1
          ]
         ]
        }
       ],
       "layout": {
        "coloraxis": {
         "colorscale": [
          [
           0,
           "#0d0887"
          ],
          [
           0.1111111111111111,
           "#46039f"
          ],
          [
           0.2222222222222222,
           "#7201a8"
          ],
          [
           0.3333333333333333,
           "#9c179e"
          ],
          [
           0.4444444444444444,
           "#bd3786"
          ],
          [
           0.5555555555555556,
           "#d8576b"
          ],
          [
           0.6666666666666666,
           "#ed7953"
          ],
          [
           0.7777777777777778,
           "#fb9f3a"
          ],
          [
           0.8888888888888888,
           "#fdca26"
          ],
          [
           1,
           "#f0f921"
          ]
         ]
        },
        "height": 800,
        "margin": {
         "t": 60
        },
        "template": {
         "data": {
          "bar": [
           {
            "error_x": {
             "color": "#2a3f5f"
            },
            "error_y": {
             "color": "#2a3f5f"
            },
            "marker": {
             "line": {
              "color": "#E5ECF6",
              "width": 0.5
             },
             "pattern": {
              "fillmode": "overlay",
              "size": 10,
              "solidity": 0.2
             }
            },
            "type": "bar"
           }
          ],
          "barpolar": [
           {
            "marker": {
             "line": {
              "color": "#E5ECF6",
              "width": 0.5
             },
             "pattern": {
              "fillmode": "overlay",
              "size": 10,
              "solidity": 0.2
             }
            },
            "type": "barpolar"
           }
          ],
          "carpet": [
           {
            "aaxis": {
             "endlinecolor": "#2a3f5f",
             "gridcolor": "white",
             "linecolor": "white",
             "minorgridcolor": "white",
             "startlinecolor": "#2a3f5f"
            },
            "baxis": {
             "endlinecolor": "#2a3f5f",
             "gridcolor": "white",
             "linecolor": "white",
             "minorgridcolor": "white",
             "startlinecolor": "#2a3f5f"
            },
            "type": "carpet"
           }
          ],
          "choropleth": [
           {
            "colorbar": {
             "outlinewidth": 0,
             "ticks": ""
            },
            "type": "choropleth"
           }
          ],
          "contour": [
           {
            "colorbar": {
             "outlinewidth": 0,
             "ticks": ""
            },
            "colorscale": [
             [
              0,
              "#0d0887"
             ],
             [
              0.1111111111111111,
              "#46039f"
             ],
             [
              0.2222222222222222,
              "#7201a8"
             ],
             [
              0.3333333333333333,
              "#9c179e"
             ],
             [
              0.4444444444444444,
              "#bd3786"
             ],
             [
              0.5555555555555556,
              "#d8576b"
             ],
             [
              0.6666666666666666,
              "#ed7953"
             ],
             [
              0.7777777777777778,
              "#fb9f3a"
             ],
             [
              0.8888888888888888,
              "#fdca26"
             ],
             [
              1,
              "#f0f921"
             ]
            ],
            "type": "contour"
           }
          ],
          "contourcarpet": [
           {
            "colorbar": {
             "outlinewidth": 0,
             "ticks": ""
            },
            "type": "contourcarpet"
           }
          ],
          "heatmap": [
           {
            "colorbar": {
             "outlinewidth": 0,
             "ticks": ""
            },
            "colorscale": [
             [
              0,
              "#0d0887"
             ],
             [
              0.1111111111111111,
              "#46039f"
             ],
             [
              0.2222222222222222,
              "#7201a8"
             ],
             [
              0.3333333333333333,
              "#9c179e"
             ],
             [
              0.4444444444444444,
              "#bd3786"
             ],
             [
              0.5555555555555556,
              "#d8576b"
             ],
             [
              0.6666666666666666,
              "#ed7953"
             ],
             [
              0.7777777777777778,
              "#fb9f3a"
             ],
             [
              0.8888888888888888,
              "#fdca26"
             ],
             [
              1,
              "#f0f921"
             ]
            ],
            "type": "heatmap"
           }
          ],
          "heatmapgl": [
           {
            "colorbar": {
             "outlinewidth": 0,
             "ticks": ""
            },
            "colorscale": [
             [
              0,
              "#0d0887"
             ],
             [
              0.1111111111111111,
              "#46039f"
             ],
             [
              0.2222222222222222,
              "#7201a8"
             ],
             [
              0.3333333333333333,
              "#9c179e"
             ],
             [
              0.4444444444444444,
              "#bd3786"
             ],
             [
              0.5555555555555556,
              "#d8576b"
             ],
             [
              0.6666666666666666,
              "#ed7953"
             ],
             [
              0.7777777777777778,
              "#fb9f3a"
             ],
             [
              0.8888888888888888,
              "#fdca26"
             ],
             [
              1,
              "#f0f921"
             ]
            ],
            "type": "heatmapgl"
           }
          ],
          "histogram": [
           {
            "marker": {
             "pattern": {
              "fillmode": "overlay",
              "size": 10,
              "solidity": 0.2
             }
            },
            "type": "histogram"
           }
          ],
          "histogram2d": [
           {
            "colorbar": {
             "outlinewidth": 0,
             "ticks": ""
            },
            "colorscale": [
             [
              0,
              "#0d0887"
             ],
             [
              0.1111111111111111,
              "#46039f"
             ],
             [
              0.2222222222222222,
              "#7201a8"
             ],
             [
              0.3333333333333333,
              "#9c179e"
             ],
             [
              0.4444444444444444,
              "#bd3786"
             ],
             [
              0.5555555555555556,
              "#d8576b"
             ],
             [
              0.6666666666666666,
              "#ed7953"
             ],
             [
              0.7777777777777778,
              "#fb9f3a"
             ],
             [
              0.8888888888888888,
              "#fdca26"
             ],
             [
              1,
              "#f0f921"
             ]
            ],
            "type": "histogram2d"
           }
          ],
          "histogram2dcontour": [
           {
            "colorbar": {
             "outlinewidth": 0,
             "ticks": ""
            },
            "colorscale": [
             [
              0,
              "#0d0887"
             ],
             [
              0.1111111111111111,
              "#46039f"
             ],
             [
              0.2222222222222222,
              "#7201a8"
             ],
             [
              0.3333333333333333,
              "#9c179e"
             ],
             [
              0.4444444444444444,
              "#bd3786"
             ],
             [
              0.5555555555555556,
              "#d8576b"
             ],
             [
              0.6666666666666666,
              "#ed7953"
             ],
             [
              0.7777777777777778,
              "#fb9f3a"
             ],
             [
              0.8888888888888888,
              "#fdca26"
             ],
             [
              1,
              "#f0f921"
             ]
            ],
            "type": "histogram2dcontour"
           }
          ],
          "mesh3d": [
           {
            "colorbar": {
             "outlinewidth": 0,
             "ticks": ""
            },
            "type": "mesh3d"
           }
          ],
          "parcoords": [
           {
            "line": {
             "colorbar": {
              "outlinewidth": 0,
              "ticks": ""
             }
            },
            "type": "parcoords"
           }
          ],
          "pie": [
           {
            "automargin": true,
            "type": "pie"
           }
          ],
          "scatter": [
           {
            "fillpattern": {
             "fillmode": "overlay",
             "size": 10,
             "solidity": 0.2
            },
            "type": "scatter"
           }
          ],
          "scatter3d": [
           {
            "line": {
             "colorbar": {
              "outlinewidth": 0,
              "ticks": ""
             }
            },
            "marker": {
             "colorbar": {
              "outlinewidth": 0,
              "ticks": ""
             }
            },
            "type": "scatter3d"
           }
          ],
          "scattercarpet": [
           {
            "marker": {
             "colorbar": {
              "outlinewidth": 0,
              "ticks": ""
             }
            },
            "type": "scattercarpet"
           }
          ],
          "scattergeo": [
           {
            "marker": {
             "colorbar": {
              "outlinewidth": 0,
              "ticks": ""
             }
            },
            "type": "scattergeo"
           }
          ],
          "scattergl": [
           {
            "marker": {
             "colorbar": {
              "outlinewidth": 0,
              "ticks": ""
             }
            },
            "type": "scattergl"
           }
          ],
          "scattermapbox": [
           {
            "marker": {
             "colorbar": {
              "outlinewidth": 0,
              "ticks": ""
             }
            },
            "type": "scattermapbox"
           }
          ],
          "scatterpolar": [
           {
            "marker": {
             "colorbar": {
              "outlinewidth": 0,
              "ticks": ""
             }
            },
            "type": "scatterpolar"
           }
          ],
          "scatterpolargl": [
           {
            "marker": {
             "colorbar": {
              "outlinewidth": 0,
              "ticks": ""
             }
            },
            "type": "scatterpolargl"
           }
          ],
          "scatterternary": [
           {
            "marker": {
             "colorbar": {
              "outlinewidth": 0,
              "ticks": ""
             }
            },
            "type": "scatterternary"
           }
          ],
          "surface": [
           {
            "colorbar": {
             "outlinewidth": 0,
             "ticks": ""
            },
            "colorscale": [
             [
              0,
              "#0d0887"
             ],
             [
              0.1111111111111111,
              "#46039f"
             ],
             [
              0.2222222222222222,
              "#7201a8"
             ],
             [
              0.3333333333333333,
              "#9c179e"
             ],
             [
              0.4444444444444444,
              "#bd3786"
             ],
             [
              0.5555555555555556,
              "#d8576b"
             ],
             [
              0.6666666666666666,
              "#ed7953"
             ],
             [
              0.7777777777777778,
              "#fb9f3a"
             ],
             [
              0.8888888888888888,
              "#fdca26"
             ],
             [
              1,
              "#f0f921"
             ]
            ],
            "type": "surface"
           }
          ],
          "table": [
           {
            "cells": {
             "fill": {
              "color": "#EBF0F8"
             },
             "line": {
              "color": "white"
             }
            },
            "header": {
             "fill": {
              "color": "#C8D4E3"
             },
             "line": {
              "color": "white"
             }
            },
            "type": "table"
           }
          ]
         },
         "layout": {
          "annotationdefaults": {
           "arrowcolor": "#2a3f5f",
           "arrowhead": 0,
           "arrowwidth": 1
          },
          "autotypenumbers": "strict",
          "coloraxis": {
           "colorbar": {
            "outlinewidth": 0,
            "ticks": ""
           }
          },
          "colorscale": {
           "diverging": [
            [
             0,
             "#8e0152"
            ],
            [
             0.1,
             "#c51b7d"
            ],
            [
             0.2,
             "#de77ae"
            ],
            [
             0.3,
             "#f1b6da"
            ],
            [
             0.4,
             "#fde0ef"
            ],
            [
             0.5,
             "#f7f7f7"
            ],
            [
             0.6,
             "#e6f5d0"
            ],
            [
             0.7,
             "#b8e186"
            ],
            [
             0.8,
             "#7fbc41"
            ],
            [
             0.9,
             "#4d9221"
            ],
            [
             1,
             "#276419"
            ]
           ],
           "sequential": [
            [
             0,
             "#0d0887"
            ],
            [
             0.1111111111111111,
             "#46039f"
            ],
            [
             0.2222222222222222,
             "#7201a8"
            ],
            [
             0.3333333333333333,
             "#9c179e"
            ],
            [
             0.4444444444444444,
             "#bd3786"
            ],
            [
             0.5555555555555556,
             "#d8576b"
            ],
            [
             0.6666666666666666,
             "#ed7953"
            ],
            [
             0.7777777777777778,
             "#fb9f3a"
            ],
            [
             0.8888888888888888,
             "#fdca26"
            ],
            [
             1,
             "#f0f921"
            ]
           ],
           "sequentialminus": [
            [
             0,
             "#0d0887"
            ],
            [
             0.1111111111111111,
             "#46039f"
            ],
            [
             0.2222222222222222,
             "#7201a8"
            ],
            [
             0.3333333333333333,
             "#9c179e"
            ],
            [
             0.4444444444444444,
             "#bd3786"
            ],
            [
             0.5555555555555556,
             "#d8576b"
            ],
            [
             0.6666666666666666,
             "#ed7953"
            ],
            [
             0.7777777777777778,
             "#fb9f3a"
            ],
            [
             0.8888888888888888,
             "#fdca26"
            ],
            [
             1,
             "#f0f921"
            ]
           ]
          },
          "colorway": [
           "#636efa",
           "#EF553B",
           "#00cc96",
           "#ab63fa",
           "#FFA15A",
           "#19d3f3",
           "#FF6692",
           "#B6E880",
           "#FF97FF",
           "#FECB52"
          ],
          "font": {
           "color": "#2a3f5f"
          },
          "geo": {
           "bgcolor": "white",
           "lakecolor": "white",
           "landcolor": "#E5ECF6",
           "showlakes": true,
           "showland": true,
           "subunitcolor": "white"
          },
          "hoverlabel": {
           "align": "left"
          },
          "hovermode": "closest",
          "mapbox": {
           "style": "light"
          },
          "paper_bgcolor": "white",
          "plot_bgcolor": "#E5ECF6",
          "polar": {
           "angularaxis": {
            "gridcolor": "white",
            "linecolor": "white",
            "ticks": ""
           },
           "bgcolor": "#E5ECF6",
           "radialaxis": {
            "gridcolor": "white",
            "linecolor": "white",
            "ticks": ""
           }
          },
          "scene": {
           "xaxis": {
            "backgroundcolor": "#E5ECF6",
            "gridcolor": "white",
            "gridwidth": 2,
            "linecolor": "white",
            "showbackground": true,
            "ticks": "",
            "zerolinecolor": "white"
           },
           "yaxis": {
            "backgroundcolor": "#E5ECF6",
            "gridcolor": "white",
            "gridwidth": 2,
            "linecolor": "white",
            "showbackground": true,
            "ticks": "",
            "zerolinecolor": "white"
           },
           "zaxis": {
            "backgroundcolor": "#E5ECF6",
            "gridcolor": "white",
            "gridwidth": 2,
            "linecolor": "white",
            "showbackground": true,
            "ticks": "",
            "zerolinecolor": "white"
           }
          },
          "shapedefaults": {
           "line": {
            "color": "#2a3f5f"
           }
          },
          "ternary": {
           "aaxis": {
            "gridcolor": "white",
            "linecolor": "white",
            "ticks": ""
           },
           "baxis": {
            "gridcolor": "white",
            "linecolor": "white",
            "ticks": ""
           },
           "bgcolor": "#E5ECF6",
           "caxis": {
            "gridcolor": "white",
            "linecolor": "white",
            "ticks": ""
           }
          },
          "title": {
           "x": 0.05
          },
          "xaxis": {
           "automargin": true,
           "gridcolor": "white",
           "linecolor": "white",
           "ticks": "",
           "title": {
            "standoff": 15
           },
           "zerolinecolor": "white",
           "zerolinewidth": 2
          },
          "yaxis": {
           "automargin": true,
           "gridcolor": "white",
           "linecolor": "white",
           "ticks": "",
           "title": {
            "standoff": 15
           },
           "zerolinecolor": "white",
           "zerolinewidth": 2
          }
         }
        },
        "width": 800,
        "xaxis": {
         "anchor": "y",
         "constrain": "domain",
         "domain": [
          0,
          1
         ],
         "scaleanchor": "y"
        },
        "yaxis": {
         "anchor": "x",
         "autorange": "reversed",
         "constrain": "domain",
         "domain": [
          0,
          1
         ]
        }
       }
      },
      "text/html": [
       "<div>                            <div id=\"2fcb60ae-5eda-4b76-b3de-66e0e0df7817\" class=\"plotly-graph-div\" style=\"height:800px; width:800px;\"></div>            <script type=\"text/javascript\">                require([\"plotly\"], function(Plotly) {                    window.PLOTLYENV=window.PLOTLYENV || {};                                    if (document.getElementById(\"2fcb60ae-5eda-4b76-b3de-66e0e0df7817\")) {                    Plotly.newPlot(                        \"2fcb60ae-5eda-4b76-b3de-66e0e0df7817\",                        [{\"coloraxis\":\"coloraxis\",\"name\":\"0\",\"x\":[\"DATA\",\"INCOME\",\"OVERCHARGE\",\"LEFTOVER\",\"HOUSE\",\"CHILD\",\"REVENUE\",\"HANDSET_PRICE\",\"OVER_15MINS_CALLS_PER_MONTH\",\"TIME_CLIENT\",\"AVERAGE_CALL_DURATION\",\"REPORTED_SATISFACTION\",\"REPORTED_USAGE_LEVEL\",\"CONSIDERING_CHANGE_OF_PLAN\",\"CHURNED\"],\"y\":[\"DATA\",\"INCOME\",\"OVERCHARGE\",\"LEFTOVER\",\"HOUSE\",\"CHILD\",\"REVENUE\",\"HANDSET_PRICE\",\"OVER_15MINS_CALLS_PER_MONTH\",\"TIME_CLIENT\",\"AVERAGE_CALL_DURATION\",\"REPORTED_SATISFACTION\",\"REPORTED_USAGE_LEVEL\",\"CONSIDERING_CHANGE_OF_PLAN\",\"CHURNED\"],\"z\":[[1.0,-0.1298052414447413,-0.3627997644668665,-0.2669123682629433,-0.04092907719412125,-0.25606329795925253,0.0059831148809983414,0.01088717026786833,-0.275918161168579,0.5420369125233795,0.24762631672646349,0.0003720444936797227,0.002776916122263032,0.0035081599153354032,-0.05457789998006535],[-0.1298052414447413,1.0,0.36873431078023544,0.011421507107582789,-0.01970855591686076,0.0016669172366823117,0.0035570708536164504,0.6659613632152581,0.28625940164525676,0.0021874211366521247,-0.017347187904969658,0.04235766427372946,0.007062198619999874,0.016614837895740486,-0.16819215154870146],[-0.3627997644668665,0.36873431078023544,1.0,0.010359576336009646,0.035222801311423205,0.015280650897961112,0.013880186122690905,-0.018056389583242294,0.7740339913410867,-0.007353432259744196,0.006898703259040212,0.072414903945601,0.004499722274588762,0.04112009460074964,-0.21385295718166172],[-0.2669123682629433,0.011421507107582789,0.010359576336009646,1.0,0.015578634477728705,-9.3898508826743e-05,-0.007506973005078975,0.0113412915385556,-0.0016797997649608517,0.002114915062119403,-0.65727100740731,0.016237994280594064,0.009356859548333825,0.02548006463237005,-0.06303634979951145],[-0.04092907719412125,-0.01970855591686076,0.035222801311423205,0.015578634477728705,1.0,0.00864795770548623,-0.0013878423435924375,-0.02820807853389502,0.03286331840667127,0.006234027405944541,-0.014850885134133305,-0.036771676228744984,-0.0006733460981777721,-0.027094850996060595,0.19771573481479227],[-0.25606329795925253,0.0016669172366823117,0.015280650897961112,-9.3898508826743e-05,0.00864795770548623,1.0,-0.0027377568716811704,-0.004718686911817668,0.01654622550436207,-0.0010094538226662556,0.001007335475772152,0.0014841350239450093,-0.0068561518675916595,-0.00444000156272712,0.002414622692395241],[0.0059831148809983414,0.0035570708536164504,0.013880186122690905,-0.007506973005078975,-0.0013878423435924375,-0.0027377568716811704,1.0,-0.005575070836066888,0.006824482604637212,-0.007595605192365149,-0.0030808882913977683,0.011459797354865315,-0.006592832905221464,-0.003810674286943734,-0.011884350768794084],[0.01088717026786833,0.6659613632152581,-0.018056389583242294,0.0113412915385556,-0.02820807853389502,-0.004718686911817668,-0.005575070836066888,1.0,-0.00899523353830043,-0.004889209936542122,-0.022832012291475672,0.006744397196626666,0.007940954142290067,6.052066536771711e-05,-0.07897272878315476],[-0.275918161168579,0.28625940164525676,0.7740339913410867,-0.0016797997649608517,0.03286331840667127,0.01654622550436207,0.006824482604637212,-0.00899523353830043,1.0,-0.006969857005821269,0.018990409813695347,0.06328831306691865,0.009559680734118487,0.03776065235047647,-0.19226197671624107],[0.5420369125233795,0.0021874211366521247,-0.007353432259744196,0.002114915062119403,0.006234027405944541,-0.0010094538226662556,-0.007595605192365149,-0.004889209936542122,-0.006969857005821269,1.0,0.0034967883513648324,-0.011373217701627665,0.005605140590167406,0.013132319043789299,0.013716994326250577],[0.24762631672646349,-0.017347187904969658,0.006898703259040212,-0.65727100740731,-0.014850885134133305,0.001007335475772152,-0.0030808882913977683,-0.022832012291475672,0.018990409813695347,0.0034967883513648324,1.0,-0.009211566897724954,-0.008417640917438669,-0.009493645622344284,0.01789917851129207],[0.0003720444936797227,0.04235766427372946,0.072414903945601,0.016237994280594064,-0.036771676228744984,0.0014841350239450093,0.011459797354865315,0.006744397196626666,0.06328831306691865,-0.011373217701627665,-0.009211566897724954,1.0,-0.007696137882630722,0.0469407985377618,-0.22226150651196816],[0.002776916122263032,0.007062198619999874,0.004499722274588762,0.009356859548333825,-0.0006733460981777721,-0.0068561518675916595,-0.006592832905221464,0.007940954142290067,0.009559680734118487,0.005605140590167406,-0.008417640917438669,-0.007696137882630722,1.0,0.020607857355200238,0.012143640509469955],[0.0035081599153354032,0.016614837895740486,0.04112009460074964,0.02548006463237005,-0.027094850996060595,-0.00444000156272712,-0.003810674286943734,6.052066536771711e-05,0.03776065235047647,0.013132319043789299,-0.009493645622344284,0.0469407985377618,0.020607857355200238,1.0,-0.11831217992796118],[-0.05457789998006535,-0.16819215154870146,-0.21385295718166172,-0.06303634979951145,0.19771573481479227,0.002414622692395241,-0.011884350768794084,-0.07897272878315476,-0.19226197671624107,0.013716994326250577,0.01789917851129207,-0.22226150651196816,0.012143640509469955,-0.11831217992796118,1.0]],\"type\":\"heatmap\",\"xaxis\":\"x\",\"yaxis\":\"y\",\"hovertemplate\":\"x: %{x}<br>y: %{y}<br>color: %{z}<extra></extra>\"}],                        {\"template\":{\"data\":{\"histogram2dcontour\":[{\"type\":\"histogram2dcontour\",\"colorbar\":{\"outlinewidth\":0,\"ticks\":\"\"},\"colorscale\":[[0.0,\"#0d0887\"],[0.1111111111111111,\"#46039f\"],[0.2222222222222222,\"#7201a8\"],[0.3333333333333333,\"#9c179e\"],[0.4444444444444444,\"#bd3786\"],[0.5555555555555556,\"#d8576b\"],[0.6666666666666666,\"#ed7953\"],[0.7777777777777778,\"#fb9f3a\"],[0.8888888888888888,\"#fdca26\"],[1.0,\"#f0f921\"]]}],\"choropleth\":[{\"type\":\"choropleth\",\"colorbar\":{\"outlinewidth\":0,\"ticks\":\"\"}}],\"histogram2d\":[{\"type\":\"histogram2d\",\"colorbar\":{\"outlinewidth\":0,\"ticks\":\"\"},\"colorscale\":[[0.0,\"#0d0887\"],[0.1111111111111111,\"#46039f\"],[0.2222222222222222,\"#7201a8\"],[0.3333333333333333,\"#9c179e\"],[0.4444444444444444,\"#bd3786\"],[0.5555555555555556,\"#d8576b\"],[0.6666666666666666,\"#ed7953\"],[0.7777777777777778,\"#fb9f3a\"],[0.8888888888888888,\"#fdca26\"],[1.0,\"#f0f921\"]]}],\"heatmap\":[{\"type\":\"heatmap\",\"colorbar\":{\"outlinewidth\":0,\"ticks\":\"\"},\"colorscale\":[[0.0,\"#0d0887\"],[0.1111111111111111,\"#46039f\"],[0.2222222222222222,\"#7201a8\"],[0.3333333333333333,\"#9c179e\"],[0.4444444444444444,\"#bd3786\"],[0.5555555555555556,\"#d8576b\"],[0.6666666666666666,\"#ed7953\"],[0.7777777777777778,\"#fb9f3a\"],[0.8888888888888888,\"#fdca26\"],[1.0,\"#f0f921\"]]}],\"heatmapgl\":[{\"type\":\"heatmapgl\",\"colorbar\":{\"outlinewidth\":0,\"ticks\":\"\"},\"colorscale\":[[0.0,\"#0d0887\"],[0.1111111111111111,\"#46039f\"],[0.2222222222222222,\"#7201a8\"],[0.3333333333333333,\"#9c179e\"],[0.4444444444444444,\"#bd3786\"],[0.5555555555555556,\"#d8576b\"],[0.6666666666666666,\"#ed7953\"],[0.7777777777777778,\"#fb9f3a\"],[0.8888888888888888,\"#fdca26\"],[1.0,\"#f0f921\"]]}],\"contourcarpet\":[{\"type\":\"contourcarpet\",\"colorbar\":{\"outlinewidth\":0,\"ticks\":\"\"}}],\"contour\":[{\"type\":\"contour\",\"colorbar\":{\"outlinewidth\":0,\"ticks\":\"\"},\"colorscale\":[[0.0,\"#0d0887\"],[0.1111111111111111,\"#46039f\"],[0.2222222222222222,\"#7201a8\"],[0.3333333333333333,\"#9c179e\"],[0.4444444444444444,\"#bd3786\"],[0.5555555555555556,\"#d8576b\"],[0.6666666666666666,\"#ed7953\"],[0.7777777777777778,\"#fb9f3a\"],[0.8888888888888888,\"#fdca26\"],[1.0,\"#f0f921\"]]}],\"surface\":[{\"type\":\"surface\",\"colorbar\":{\"outlinewidth\":0,\"ticks\":\"\"},\"colorscale\":[[0.0,\"#0d0887\"],[0.1111111111111111,\"#46039f\"],[0.2222222222222222,\"#7201a8\"],[0.3333333333333333,\"#9c179e\"],[0.4444444444444444,\"#bd3786\"],[0.5555555555555556,\"#d8576b\"],[0.6666666666666666,\"#ed7953\"],[0.7777777777777778,\"#fb9f3a\"],[0.8888888888888888,\"#fdca26\"],[1.0,\"#f0f921\"]]}],\"mesh3d\":[{\"type\":\"mesh3d\",\"colorbar\":{\"outlinewidth\":0,\"ticks\":\"\"}}],\"scatter\":[{\"fillpattern\":{\"fillmode\":\"overlay\",\"size\":10,\"solidity\":0.2},\"type\":\"scatter\"}],\"parcoords\":[{\"type\":\"parcoords\",\"line\":{\"colorbar\":{\"outlinewidth\":0,\"ticks\":\"\"}}}],\"scatterpolargl\":[{\"type\":\"scatterpolargl\",\"marker\":{\"colorbar\":{\"outlinewidth\":0,\"ticks\":\"\"}}}],\"bar\":[{\"error_x\":{\"color\":\"#2a3f5f\"},\"error_y\":{\"color\":\"#2a3f5f\"},\"marker\":{\"line\":{\"color\":\"#E5ECF6\",\"width\":0.5},\"pattern\":{\"fillmode\":\"overlay\",\"size\":10,\"solidity\":0.2}},\"type\":\"bar\"}],\"scattergeo\":[{\"type\":\"scattergeo\",\"marker\":{\"colorbar\":{\"outlinewidth\":0,\"ticks\":\"\"}}}],\"scatterpolar\":[{\"type\":\"scatterpolar\",\"marker\":{\"colorbar\":{\"outlinewidth\":0,\"ticks\":\"\"}}}],\"histogram\":[{\"marker\":{\"pattern\":{\"fillmode\":\"overlay\",\"size\":10,\"solidity\":0.2}},\"type\":\"histogram\"}],\"scattergl\":[{\"type\":\"scattergl\",\"marker\":{\"colorbar\":{\"outlinewidth\":0,\"ticks\":\"\"}}}],\"scatter3d\":[{\"type\":\"scatter3d\",\"line\":{\"colorbar\":{\"outlinewidth\":0,\"ticks\":\"\"}},\"marker\":{\"colorbar\":{\"outlinewidth\":0,\"ticks\":\"\"}}}],\"scattermapbox\":[{\"type\":\"scattermapbox\",\"marker\":{\"colorbar\":{\"outlinewidth\":0,\"ticks\":\"\"}}}],\"scatterternary\":[{\"type\":\"scatterternary\",\"marker\":{\"colorbar\":{\"outlinewidth\":0,\"ticks\":\"\"}}}],\"scattercarpet\":[{\"type\":\"scattercarpet\",\"marker\":{\"colorbar\":{\"outlinewidth\":0,\"ticks\":\"\"}}}],\"carpet\":[{\"aaxis\":{\"endlinecolor\":\"#2a3f5f\",\"gridcolor\":\"white\",\"linecolor\":\"white\",\"minorgridcolor\":\"white\",\"startlinecolor\":\"#2a3f5f\"},\"baxis\":{\"endlinecolor\":\"#2a3f5f\",\"gridcolor\":\"white\",\"linecolor\":\"white\",\"minorgridcolor\":\"white\",\"startlinecolor\":\"#2a3f5f\"},\"type\":\"carpet\"}],\"table\":[{\"cells\":{\"fill\":{\"color\":\"#EBF0F8\"},\"line\":{\"color\":\"white\"}},\"header\":{\"fill\":{\"color\":\"#C8D4E3\"},\"line\":{\"color\":\"white\"}},\"type\":\"table\"}],\"barpolar\":[{\"marker\":{\"line\":{\"color\":\"#E5ECF6\",\"width\":0.5},\"pattern\":{\"fillmode\":\"overlay\",\"size\":10,\"solidity\":0.2}},\"type\":\"barpolar\"}],\"pie\":[{\"automargin\":true,\"type\":\"pie\"}]},\"layout\":{\"autotypenumbers\":\"strict\",\"colorway\":[\"#636efa\",\"#EF553B\",\"#00cc96\",\"#ab63fa\",\"#FFA15A\",\"#19d3f3\",\"#FF6692\",\"#B6E880\",\"#FF97FF\",\"#FECB52\"],\"font\":{\"color\":\"#2a3f5f\"},\"hovermode\":\"closest\",\"hoverlabel\":{\"align\":\"left\"},\"paper_bgcolor\":\"white\",\"plot_bgcolor\":\"#E5ECF6\",\"polar\":{\"bgcolor\":\"#E5ECF6\",\"angularaxis\":{\"gridcolor\":\"white\",\"linecolor\":\"white\",\"ticks\":\"\"},\"radialaxis\":{\"gridcolor\":\"white\",\"linecolor\":\"white\",\"ticks\":\"\"}},\"ternary\":{\"bgcolor\":\"#E5ECF6\",\"aaxis\":{\"gridcolor\":\"white\",\"linecolor\":\"white\",\"ticks\":\"\"},\"baxis\":{\"gridcolor\":\"white\",\"linecolor\":\"white\",\"ticks\":\"\"},\"caxis\":{\"gridcolor\":\"white\",\"linecolor\":\"white\",\"ticks\":\"\"}},\"coloraxis\":{\"colorbar\":{\"outlinewidth\":0,\"ticks\":\"\"}},\"colorscale\":{\"sequential\":[[0.0,\"#0d0887\"],[0.1111111111111111,\"#46039f\"],[0.2222222222222222,\"#7201a8\"],[0.3333333333333333,\"#9c179e\"],[0.4444444444444444,\"#bd3786\"],[0.5555555555555556,\"#d8576b\"],[0.6666666666666666,\"#ed7953\"],[0.7777777777777778,\"#fb9f3a\"],[0.8888888888888888,\"#fdca26\"],[1.0,\"#f0f921\"]],\"sequentialminus\":[[0.0,\"#0d0887\"],[0.1111111111111111,\"#46039f\"],[0.2222222222222222,\"#7201a8\"],[0.3333333333333333,\"#9c179e\"],[0.4444444444444444,\"#bd3786\"],[0.5555555555555556,\"#d8576b\"],[0.6666666666666666,\"#ed7953\"],[0.7777777777777778,\"#fb9f3a\"],[0.8888888888888888,\"#fdca26\"],[1.0,\"#f0f921\"]],\"diverging\":[[0,\"#8e0152\"],[0.1,\"#c51b7d\"],[0.2,\"#de77ae\"],[0.3,\"#f1b6da\"],[0.4,\"#fde0ef\"],[0.5,\"#f7f7f7\"],[0.6,\"#e6f5d0\"],[0.7,\"#b8e186\"],[0.8,\"#7fbc41\"],[0.9,\"#4d9221\"],[1,\"#276419\"]]},\"xaxis\":{\"gridcolor\":\"white\",\"linecolor\":\"white\",\"ticks\":\"\",\"title\":{\"standoff\":15},\"zerolinecolor\":\"white\",\"automargin\":true,\"zerolinewidth\":2},\"yaxis\":{\"gridcolor\":\"white\",\"linecolor\":\"white\",\"ticks\":\"\",\"title\":{\"standoff\":15},\"zerolinecolor\":\"white\",\"automargin\":true,\"zerolinewidth\":2},\"scene\":{\"xaxis\":{\"backgroundcolor\":\"#E5ECF6\",\"gridcolor\":\"white\",\"linecolor\":\"white\",\"showbackground\":true,\"ticks\":\"\",\"zerolinecolor\":\"white\",\"gridwidth\":2},\"yaxis\":{\"backgroundcolor\":\"#E5ECF6\",\"gridcolor\":\"white\",\"linecolor\":\"white\",\"showbackground\":true,\"ticks\":\"\",\"zerolinecolor\":\"white\",\"gridwidth\":2},\"zaxis\":{\"backgroundcolor\":\"#E5ECF6\",\"gridcolor\":\"white\",\"linecolor\":\"white\",\"showbackground\":true,\"ticks\":\"\",\"zerolinecolor\":\"white\",\"gridwidth\":2}},\"shapedefaults\":{\"line\":{\"color\":\"#2a3f5f\"}},\"annotationdefaults\":{\"arrowcolor\":\"#2a3f5f\",\"arrowhead\":0,\"arrowwidth\":1},\"geo\":{\"bgcolor\":\"white\",\"landcolor\":\"#E5ECF6\",\"subunitcolor\":\"white\",\"showland\":true,\"showlakes\":true,\"lakecolor\":\"white\"},\"title\":{\"x\":0.05},\"mapbox\":{\"style\":\"light\"}}},\"xaxis\":{\"anchor\":\"y\",\"domain\":[0.0,1.0],\"scaleanchor\":\"y\",\"constrain\":\"domain\"},\"yaxis\":{\"anchor\":\"x\",\"domain\":[0.0,1.0],\"autorange\":\"reversed\",\"constrain\":\"domain\"},\"coloraxis\":{\"colorscale\":[[0.0,\"#0d0887\"],[0.1111111111111111,\"#46039f\"],[0.2222222222222222,\"#7201a8\"],[0.3333333333333333,\"#9c179e\"],[0.4444444444444444,\"#bd3786\"],[0.5555555555555556,\"#d8576b\"],[0.6666666666666666,\"#ed7953\"],[0.7777777777777778,\"#fb9f3a\"],[0.8888888888888888,\"#fdca26\"],[1.0,\"#f0f921\"]]},\"margin\":{\"t\":60},\"height\":800,\"width\":800},                        {\"responsive\": true}                    ).then(function(){\n",
       "                            \n",
       "var gd = document.getElementById('2fcb60ae-5eda-4b76-b3de-66e0e0df7817');\n",
       "var x = new MutationObserver(function (mutations, observer) {{\n",
       "        var display = window.getComputedStyle(gd).display;\n",
       "        if (!display || display === 'none') {{\n",
       "            console.log([gd, 'removed!']);\n",
       "            Plotly.purge(gd);\n",
       "            observer.disconnect();\n",
       "        }}\n",
       "}});\n",
       "\n",
       "// Listen for the removal of the full notebook cells\n",
       "var notebookContainer = gd.closest('#notebook-container');\n",
       "if (notebookContainer) {{\n",
       "    x.observe(notebookContainer, {childList: true});\n",
       "}}\n",
       "\n",
       "// Listen for the clearing of the current output cell\n",
       "var outputEl = gd.closest('.output');\n",
       "if (outputEl) {{\n",
       "    x.observe(outputEl, {childList: true});\n",
       "}}\n",
       "\n",
       "                        })                };                });            </script>        </div>"
      ]
     },
     "metadata": {},
     "output_type": "display_data"
    }
   ],
   "source": [
    "corr = df_training.corr()\n",
    "\n",
    "fig = px.imshow(corr, width=800, height=800)\n",
    "fig.show()"
   ]
  },
  {
   "cell_type": "markdown",
   "id": "663de782",
   "metadata": {},
   "source": [
    "### Normalize data"
   ]
  },
  {
   "cell_type": "code",
   "execution_count": 755,
   "id": "659dd120",
   "metadata": {},
   "outputs": [],
   "source": [
    "scaler = MinMaxScaler()\n",
    "normalized_data = scaler.fit_transform(df_training)\n",
    "df_normalized = pd.DataFrame(normalized_data, columns=remCol)"
   ]
  },
  {
   "cell_type": "code",
   "execution_count": 756,
   "id": "b16b00f8",
   "metadata": {},
   "outputs": [
    {
     "data": {
      "text/plain": [
       "array([[8.00000e+01, 4.54525e+04, 7.50000e+01, ..., 7.50000e-01,\n",
       "        7.50000e-01, 7.50000e-01],\n",
       "       [5.36840e+02, 4.07035e+04, 9.00000e+01, ..., 7.50000e-01,\n",
       "        0.00000e+00, 1.00000e+00],\n",
       "       [2.56580e+02, 3.55630e+04, 5.20000e+01, ..., 0.00000e+00,\n",
       "        5.00000e-01, 7.50000e-01],\n",
       "       ...,\n",
       "       [1.02760e+02, 3.80305e+04, 2.35000e+02, ..., 0.00000e+00,\n",
       "        2.50000e-01, 7.50000e-01],\n",
       "       [1.20000e+03, 6.22030e+04, 7.00000e+01, ..., 1.00000e+00,\n",
       "        7.50000e-01, 7.50000e-01],\n",
       "       [1.42110e+02, 5.14630e+04, 0.00000e+00, ..., 1.00000e+00,\n",
       "        7.50000e-01, 2.50000e-01]])"
      ]
     },
     "execution_count": 756,
     "metadata": {},
     "output_type": "execute_result"
    }
   ],
   "source": [
    "scaler.inverse_transform(df_normalized)"
   ]
  },
  {
   "cell_type": "code",
   "execution_count": 757,
   "id": "ac38acd2",
   "metadata": {},
   "outputs": [
    {
     "data": {
      "text/html": [
       "<div>\n",
       "<style scoped>\n",
       "    .dataframe tbody tr th:only-of-type {\n",
       "        vertical-align: middle;\n",
       "    }\n",
       "\n",
       "    .dataframe tbody tr th {\n",
       "        vertical-align: top;\n",
       "    }\n",
       "\n",
       "    .dataframe thead th {\n",
       "        text-align: right;\n",
       "    }\n",
       "</style>\n",
       "<table border=\"1\" class=\"dataframe\">\n",
       "  <thead>\n",
       "    <tr style=\"text-align: right;\">\n",
       "      <th></th>\n",
       "      <th>DATA</th>\n",
       "      <th>INCOME</th>\n",
       "      <th>OVERCHARGE</th>\n",
       "      <th>LEFTOVER</th>\n",
       "      <th>HOUSE</th>\n",
       "      <th>CHILD</th>\n",
       "      <th>REVENUE</th>\n",
       "      <th>HANDSET_PRICE</th>\n",
       "      <th>OVER_15MINS_CALLS_PER_MONTH</th>\n",
       "      <th>TIME_CLIENT</th>\n",
       "      <th>AVERAGE_CALL_DURATION</th>\n",
       "      <th>REPORTED_SATISFACTION</th>\n",
       "      <th>REPORTED_USAGE_LEVEL</th>\n",
       "      <th>CONSIDERING_CHANGE_OF_PLAN</th>\n",
       "    </tr>\n",
       "  </thead>\n",
       "  <tbody>\n",
       "    <tr>\n",
       "      <th>0</th>\n",
       "      <td>0.016064</td>\n",
       "      <td>0.373632</td>\n",
       "      <td>0.249169</td>\n",
       "      <td>0.730337</td>\n",
       "      <td>0.226723</td>\n",
       "      <td>0.428571</td>\n",
       "      <td>0.237037</td>\n",
       "      <td>0.221066</td>\n",
       "      <td>0.103448</td>\n",
       "      <td>0.109756</td>\n",
       "      <td>0.071429</td>\n",
       "      <td>0.75</td>\n",
       "      <td>0.75</td>\n",
       "      <td>0.75</td>\n",
       "    </tr>\n",
       "    <tr>\n",
       "      <th>1</th>\n",
       "      <td>0.107799</td>\n",
       "      <td>0.323570</td>\n",
       "      <td>0.299003</td>\n",
       "      <td>0.000000</td>\n",
       "      <td>0.077472</td>\n",
       "      <td>0.142857</td>\n",
       "      <td>0.303704</td>\n",
       "      <td>0.330299</td>\n",
       "      <td>0.137931</td>\n",
       "      <td>0.121951</td>\n",
       "      <td>0.857143</td>\n",
       "      <td>0.75</td>\n",
       "      <td>0.00</td>\n",
       "      <td>1.00</td>\n",
       "    </tr>\n",
       "    <tr>\n",
       "      <th>2</th>\n",
       "      <td>0.051522</td>\n",
       "      <td>0.269382</td>\n",
       "      <td>0.172757</td>\n",
       "      <td>0.000000</td>\n",
       "      <td>0.225648</td>\n",
       "      <td>0.285714</td>\n",
       "      <td>0.175309</td>\n",
       "      <td>0.313394</td>\n",
       "      <td>0.172414</td>\n",
       "      <td>0.115854</td>\n",
       "      <td>0.785714</td>\n",
       "      <td>0.00</td>\n",
       "      <td>0.50</td>\n",
       "      <td>0.75</td>\n",
       "    </tr>\n",
       "    <tr>\n",
       "      <th>3</th>\n",
       "      <td>0.093709</td>\n",
       "      <td>0.590997</td>\n",
       "      <td>0.000000</td>\n",
       "      <td>0.089888</td>\n",
       "      <td>0.126092</td>\n",
       "      <td>0.428571</td>\n",
       "      <td>0.558025</td>\n",
       "      <td>0.252276</td>\n",
       "      <td>0.034483</td>\n",
       "      <td>0.146341</td>\n",
       "      <td>0.285714</td>\n",
       "      <td>0.00</td>\n",
       "      <td>1.00</td>\n",
       "      <td>1.00</td>\n",
       "    </tr>\n",
       "    <tr>\n",
       "      <th>4</th>\n",
       "      <td>0.030120</td>\n",
       "      <td>0.125370</td>\n",
       "      <td>0.000000</td>\n",
       "      <td>0.000000</td>\n",
       "      <td>0.765738</td>\n",
       "      <td>0.142857</td>\n",
       "      <td>0.185185</td>\n",
       "      <td>0.044213</td>\n",
       "      <td>0.034483</td>\n",
       "      <td>0.067073</td>\n",
       "      <td>0.785714</td>\n",
       "      <td>0.50</td>\n",
       "      <td>0.00</td>\n",
       "      <td>0.50</td>\n",
       "    </tr>\n",
       "  </tbody>\n",
       "</table>\n",
       "</div>"
      ],
      "text/plain": [
       "       DATA    INCOME  OVERCHARGE  LEFTOVER     HOUSE     CHILD   REVENUE  \\\n",
       "0  0.016064  0.373632    0.249169  0.730337  0.226723  0.428571  0.237037   \n",
       "1  0.107799  0.323570    0.299003  0.000000  0.077472  0.142857  0.303704   \n",
       "2  0.051522  0.269382    0.172757  0.000000  0.225648  0.285714  0.175309   \n",
       "3  0.093709  0.590997    0.000000  0.089888  0.126092  0.428571  0.558025   \n",
       "4  0.030120  0.125370    0.000000  0.000000  0.765738  0.142857  0.185185   \n",
       "\n",
       "   HANDSET_PRICE  OVER_15MINS_CALLS_PER_MONTH  TIME_CLIENT  \\\n",
       "0       0.221066                     0.103448     0.109756   \n",
       "1       0.330299                     0.137931     0.121951   \n",
       "2       0.313394                     0.172414     0.115854   \n",
       "3       0.252276                     0.034483     0.146341   \n",
       "4       0.044213                     0.034483     0.067073   \n",
       "\n",
       "   AVERAGE_CALL_DURATION  REPORTED_SATISFACTION  REPORTED_USAGE_LEVEL  \\\n",
       "0               0.071429                   0.75                  0.75   \n",
       "1               0.857143                   0.75                  0.00   \n",
       "2               0.785714                   0.00                  0.50   \n",
       "3               0.285714                   0.00                  1.00   \n",
       "4               0.785714                   0.50                  0.00   \n",
       "\n",
       "   CONSIDERING_CHANGE_OF_PLAN  \n",
       "0                        0.75  \n",
       "1                        1.00  \n",
       "2                        0.75  \n",
       "3                        1.00  \n",
       "4                        0.50  "
      ]
     },
     "execution_count": 757,
     "metadata": {},
     "output_type": "execute_result"
    }
   ],
   "source": [
    "df_normalized.head()"
   ]
  },
  {
   "cell_type": "markdown",
   "id": "7042d6b2",
   "metadata": {},
   "source": [
    "### Matriz de correlación"
   ]
  },
  {
   "cell_type": "code",
   "execution_count": 577,
   "id": "7751c311",
   "metadata": {},
   "outputs": [
    {
     "data": {
      "application/vnd.plotly.v1+json": {
       "config": {
        "plotlyServerURL": "https://plot.ly"
       },
       "data": [
        {
         "coloraxis": "coloraxis",
         "hovertemplate": "x: %{x}<br>y: %{y}<br>color: %{z}<extra></extra>",
         "name": "0",
         "type": "heatmap",
         "x": [
          "DATA",
          "INCOME",
          "OVERCHARGE",
          "LEFTOVER",
          "HOUSE",
          "CHILD",
          "REVENUE",
          "HANDSET_PRICE",
          "OVER_15MINS_CALLS_PER_MONTH",
          "TIME_CLIENT",
          "AVERAGE_CALL_DURATION",
          "REPORTED_SATISFACTION",
          "REPORTED_USAGE_LEVEL",
          "CONSIDERING_CHANGE_OF_PLAN",
          "CHURNED"
         ],
         "xaxis": "x",
         "y": [
          "DATA",
          "INCOME",
          "OVERCHARGE",
          "LEFTOVER",
          "HOUSE",
          "CHILD",
          "REVENUE",
          "HANDSET_PRICE",
          "OVER_15MINS_CALLS_PER_MONTH",
          "TIME_CLIENT",
          "AVERAGE_CALL_DURATION",
          "REPORTED_SATISFACTION",
          "REPORTED_USAGE_LEVEL",
          "CONSIDERING_CHANGE_OF_PLAN",
          "CHURNED"
         ],
         "yaxis": "y",
         "z": [
          [
           1,
           -0.1298052414447413,
           -0.3627997644668665,
           -0.2669123682629433,
           -0.04092907719412125,
           -0.25606329795925253,
           0.0059831148809983414,
           0.01088717026786833,
           -0.275918161168579,
           0.5420369125233795,
           0.24762631672646349,
           0.0003720444936797227,
           0.002776916122263032,
           0.0035081599153354032,
           -0.05457789998006535
          ],
          [
           -0.1298052414447413,
           1,
           0.36873431078023544,
           0.011421507107582789,
           -0.01970855591686076,
           0.0016669172366823117,
           0.0035570708536164504,
           0.6659613632152581,
           0.28625940164525676,
           0.0021874211366521247,
           -0.017347187904969658,
           0.04235766427372946,
           0.007062198619999874,
           0.016614837895740486,
           -0.16819215154870146
          ],
          [
           -0.3627997644668665,
           0.36873431078023544,
           1,
           0.010359576336009646,
           0.035222801311423205,
           0.015280650897961112,
           0.013880186122690905,
           -0.018056389583242294,
           0.7740339913410867,
           -0.007353432259744196,
           0.006898703259040212,
           0.072414903945601,
           0.004499722274588762,
           0.04112009460074964,
           -0.21385295718166172
          ],
          [
           -0.2669123682629433,
           0.011421507107582789,
           0.010359576336009646,
           1,
           0.015578634477728705,
           -9.3898508826743e-05,
           -0.007506973005078975,
           0.0113412915385556,
           -0.0016797997649608517,
           0.002114915062119403,
           -0.65727100740731,
           0.016237994280594064,
           0.009356859548333825,
           0.02548006463237005,
           -0.06303634979951145
          ],
          [
           -0.04092907719412125,
           -0.01970855591686076,
           0.035222801311423205,
           0.015578634477728705,
           1,
           0.00864795770548623,
           -0.0013878423435924375,
           -0.02820807853389502,
           0.03286331840667127,
           0.006234027405944541,
           -0.014850885134133305,
           -0.036771676228744984,
           -0.0006733460981777721,
           -0.027094850996060595,
           0.19771573481479227
          ],
          [
           -0.25606329795925253,
           0.0016669172366823117,
           0.015280650897961112,
           -9.3898508826743e-05,
           0.00864795770548623,
           1,
           -0.0027377568716811704,
           -0.004718686911817668,
           0.01654622550436207,
           -0.0010094538226662556,
           0.001007335475772152,
           0.0014841350239450093,
           -0.0068561518675916595,
           -0.00444000156272712,
           0.002414622692395241
          ],
          [
           0.0059831148809983414,
           0.0035570708536164504,
           0.013880186122690905,
           -0.007506973005078975,
           -0.0013878423435924375,
           -0.0027377568716811704,
           1,
           -0.005575070836066888,
           0.006824482604637212,
           -0.007595605192365149,
           -0.0030808882913977683,
           0.011459797354865315,
           -0.006592832905221464,
           -0.003810674286943734,
           -0.011884350768794084
          ],
          [
           0.01088717026786833,
           0.6659613632152581,
           -0.018056389583242294,
           0.0113412915385556,
           -0.02820807853389502,
           -0.004718686911817668,
           -0.005575070836066888,
           1,
           -0.00899523353830043,
           -0.004889209936542122,
           -0.022832012291475672,
           0.006744397196626666,
           0.007940954142290067,
           6.052066536771711e-05,
           -0.07897272878315476
          ],
          [
           -0.275918161168579,
           0.28625940164525676,
           0.7740339913410867,
           -0.0016797997649608517,
           0.03286331840667127,
           0.01654622550436207,
           0.006824482604637212,
           -0.00899523353830043,
           1,
           -0.006969857005821269,
           0.018990409813695347,
           0.06328831306691865,
           0.009559680734118487,
           0.03776065235047647,
           -0.19226197671624107
          ],
          [
           0.5420369125233795,
           0.0021874211366521247,
           -0.007353432259744196,
           0.002114915062119403,
           0.006234027405944541,
           -0.0010094538226662556,
           -0.007595605192365149,
           -0.004889209936542122,
           -0.006969857005821269,
           1,
           0.0034967883513648324,
           -0.011373217701627665,
           0.005605140590167406,
           0.013132319043789299,
           0.013716994326250577
          ],
          [
           0.24762631672646349,
           -0.017347187904969658,
           0.006898703259040212,
           -0.65727100740731,
           -0.014850885134133305,
           0.001007335475772152,
           -0.0030808882913977683,
           -0.022832012291475672,
           0.018990409813695347,
           0.0034967883513648324,
           1,
           -0.009211566897724954,
           -0.008417640917438669,
           -0.009493645622344284,
           0.01789917851129207
          ],
          [
           0.0003720444936797227,
           0.04235766427372946,
           0.072414903945601,
           0.016237994280594064,
           -0.036771676228744984,
           0.0014841350239450093,
           0.011459797354865315,
           0.006744397196626666,
           0.06328831306691865,
           -0.011373217701627665,
           -0.009211566897724954,
           1,
           -0.007696137882630722,
           0.0469407985377618,
           -0.22226150651196816
          ],
          [
           0.002776916122263032,
           0.007062198619999874,
           0.004499722274588762,
           0.009356859548333825,
           -0.0006733460981777721,
           -0.0068561518675916595,
           -0.006592832905221464,
           0.007940954142290067,
           0.009559680734118487,
           0.005605140590167406,
           -0.008417640917438669,
           -0.007696137882630722,
           1,
           0.020607857355200238,
           0.012143640509469955
          ],
          [
           0.0035081599153354032,
           0.016614837895740486,
           0.04112009460074964,
           0.02548006463237005,
           -0.027094850996060595,
           -0.00444000156272712,
           -0.003810674286943734,
           6.052066536771711e-05,
           0.03776065235047647,
           0.013132319043789299,
           -0.009493645622344284,
           0.0469407985377618,
           0.020607857355200238,
           1,
           -0.11831217992796118
          ],
          [
           -0.05457789998006535,
           -0.16819215154870146,
           -0.21385295718166172,
           -0.06303634979951145,
           0.19771573481479227,
           0.002414622692395241,
           -0.011884350768794084,
           -0.07897272878315476,
           -0.19226197671624107,
           0.013716994326250577,
           0.01789917851129207,
           -0.22226150651196816,
           0.012143640509469955,
           -0.11831217992796118,
           1
          ]
         ]
        }
       ],
       "layout": {
        "coloraxis": {
         "colorscale": [
          [
           0,
           "#0d0887"
          ],
          [
           0.1111111111111111,
           "#46039f"
          ],
          [
           0.2222222222222222,
           "#7201a8"
          ],
          [
           0.3333333333333333,
           "#9c179e"
          ],
          [
           0.4444444444444444,
           "#bd3786"
          ],
          [
           0.5555555555555556,
           "#d8576b"
          ],
          [
           0.6666666666666666,
           "#ed7953"
          ],
          [
           0.7777777777777778,
           "#fb9f3a"
          ],
          [
           0.8888888888888888,
           "#fdca26"
          ],
          [
           1,
           "#f0f921"
          ]
         ]
        },
        "height": 800,
        "margin": {
         "t": 60
        },
        "template": {
         "data": {
          "bar": [
           {
            "error_x": {
             "color": "#2a3f5f"
            },
            "error_y": {
             "color": "#2a3f5f"
            },
            "marker": {
             "line": {
              "color": "#E5ECF6",
              "width": 0.5
             },
             "pattern": {
              "fillmode": "overlay",
              "size": 10,
              "solidity": 0.2
             }
            },
            "type": "bar"
           }
          ],
          "barpolar": [
           {
            "marker": {
             "line": {
              "color": "#E5ECF6",
              "width": 0.5
             },
             "pattern": {
              "fillmode": "overlay",
              "size": 10,
              "solidity": 0.2
             }
            },
            "type": "barpolar"
           }
          ],
          "carpet": [
           {
            "aaxis": {
             "endlinecolor": "#2a3f5f",
             "gridcolor": "white",
             "linecolor": "white",
             "minorgridcolor": "white",
             "startlinecolor": "#2a3f5f"
            },
            "baxis": {
             "endlinecolor": "#2a3f5f",
             "gridcolor": "white",
             "linecolor": "white",
             "minorgridcolor": "white",
             "startlinecolor": "#2a3f5f"
            },
            "type": "carpet"
           }
          ],
          "choropleth": [
           {
            "colorbar": {
             "outlinewidth": 0,
             "ticks": ""
            },
            "type": "choropleth"
           }
          ],
          "contour": [
           {
            "colorbar": {
             "outlinewidth": 0,
             "ticks": ""
            },
            "colorscale": [
             [
              0,
              "#0d0887"
             ],
             [
              0.1111111111111111,
              "#46039f"
             ],
             [
              0.2222222222222222,
              "#7201a8"
             ],
             [
              0.3333333333333333,
              "#9c179e"
             ],
             [
              0.4444444444444444,
              "#bd3786"
             ],
             [
              0.5555555555555556,
              "#d8576b"
             ],
             [
              0.6666666666666666,
              "#ed7953"
             ],
             [
              0.7777777777777778,
              "#fb9f3a"
             ],
             [
              0.8888888888888888,
              "#fdca26"
             ],
             [
              1,
              "#f0f921"
             ]
            ],
            "type": "contour"
           }
          ],
          "contourcarpet": [
           {
            "colorbar": {
             "outlinewidth": 0,
             "ticks": ""
            },
            "type": "contourcarpet"
           }
          ],
          "heatmap": [
           {
            "colorbar": {
             "outlinewidth": 0,
             "ticks": ""
            },
            "colorscale": [
             [
              0,
              "#0d0887"
             ],
             [
              0.1111111111111111,
              "#46039f"
             ],
             [
              0.2222222222222222,
              "#7201a8"
             ],
             [
              0.3333333333333333,
              "#9c179e"
             ],
             [
              0.4444444444444444,
              "#bd3786"
             ],
             [
              0.5555555555555556,
              "#d8576b"
             ],
             [
              0.6666666666666666,
              "#ed7953"
             ],
             [
              0.7777777777777778,
              "#fb9f3a"
             ],
             [
              0.8888888888888888,
              "#fdca26"
             ],
             [
              1,
              "#f0f921"
             ]
            ],
            "type": "heatmap"
           }
          ],
          "heatmapgl": [
           {
            "colorbar": {
             "outlinewidth": 0,
             "ticks": ""
            },
            "colorscale": [
             [
              0,
              "#0d0887"
             ],
             [
              0.1111111111111111,
              "#46039f"
             ],
             [
              0.2222222222222222,
              "#7201a8"
             ],
             [
              0.3333333333333333,
              "#9c179e"
             ],
             [
              0.4444444444444444,
              "#bd3786"
             ],
             [
              0.5555555555555556,
              "#d8576b"
             ],
             [
              0.6666666666666666,
              "#ed7953"
             ],
             [
              0.7777777777777778,
              "#fb9f3a"
             ],
             [
              0.8888888888888888,
              "#fdca26"
             ],
             [
              1,
              "#f0f921"
             ]
            ],
            "type": "heatmapgl"
           }
          ],
          "histogram": [
           {
            "marker": {
             "pattern": {
              "fillmode": "overlay",
              "size": 10,
              "solidity": 0.2
             }
            },
            "type": "histogram"
           }
          ],
          "histogram2d": [
           {
            "colorbar": {
             "outlinewidth": 0,
             "ticks": ""
            },
            "colorscale": [
             [
              0,
              "#0d0887"
             ],
             [
              0.1111111111111111,
              "#46039f"
             ],
             [
              0.2222222222222222,
              "#7201a8"
             ],
             [
              0.3333333333333333,
              "#9c179e"
             ],
             [
              0.4444444444444444,
              "#bd3786"
             ],
             [
              0.5555555555555556,
              "#d8576b"
             ],
             [
              0.6666666666666666,
              "#ed7953"
             ],
             [
              0.7777777777777778,
              "#fb9f3a"
             ],
             [
              0.8888888888888888,
              "#fdca26"
             ],
             [
              1,
              "#f0f921"
             ]
            ],
            "type": "histogram2d"
           }
          ],
          "histogram2dcontour": [
           {
            "colorbar": {
             "outlinewidth": 0,
             "ticks": ""
            },
            "colorscale": [
             [
              0,
              "#0d0887"
             ],
             [
              0.1111111111111111,
              "#46039f"
             ],
             [
              0.2222222222222222,
              "#7201a8"
             ],
             [
              0.3333333333333333,
              "#9c179e"
             ],
             [
              0.4444444444444444,
              "#bd3786"
             ],
             [
              0.5555555555555556,
              "#d8576b"
             ],
             [
              0.6666666666666666,
              "#ed7953"
             ],
             [
              0.7777777777777778,
              "#fb9f3a"
             ],
             [
              0.8888888888888888,
              "#fdca26"
             ],
             [
              1,
              "#f0f921"
             ]
            ],
            "type": "histogram2dcontour"
           }
          ],
          "mesh3d": [
           {
            "colorbar": {
             "outlinewidth": 0,
             "ticks": ""
            },
            "type": "mesh3d"
           }
          ],
          "parcoords": [
           {
            "line": {
             "colorbar": {
              "outlinewidth": 0,
              "ticks": ""
             }
            },
            "type": "parcoords"
           }
          ],
          "pie": [
           {
            "automargin": true,
            "type": "pie"
           }
          ],
          "scatter": [
           {
            "fillpattern": {
             "fillmode": "overlay",
             "size": 10,
             "solidity": 0.2
            },
            "type": "scatter"
           }
          ],
          "scatter3d": [
           {
            "line": {
             "colorbar": {
              "outlinewidth": 0,
              "ticks": ""
             }
            },
            "marker": {
             "colorbar": {
              "outlinewidth": 0,
              "ticks": ""
             }
            },
            "type": "scatter3d"
           }
          ],
          "scattercarpet": [
           {
            "marker": {
             "colorbar": {
              "outlinewidth": 0,
              "ticks": ""
             }
            },
            "type": "scattercarpet"
           }
          ],
          "scattergeo": [
           {
            "marker": {
             "colorbar": {
              "outlinewidth": 0,
              "ticks": ""
             }
            },
            "type": "scattergeo"
           }
          ],
          "scattergl": [
           {
            "marker": {
             "colorbar": {
              "outlinewidth": 0,
              "ticks": ""
             }
            },
            "type": "scattergl"
           }
          ],
          "scattermapbox": [
           {
            "marker": {
             "colorbar": {
              "outlinewidth": 0,
              "ticks": ""
             }
            },
            "type": "scattermapbox"
           }
          ],
          "scatterpolar": [
           {
            "marker": {
             "colorbar": {
              "outlinewidth": 0,
              "ticks": ""
             }
            },
            "type": "scatterpolar"
           }
          ],
          "scatterpolargl": [
           {
            "marker": {
             "colorbar": {
              "outlinewidth": 0,
              "ticks": ""
             }
            },
            "type": "scatterpolargl"
           }
          ],
          "scatterternary": [
           {
            "marker": {
             "colorbar": {
              "outlinewidth": 0,
              "ticks": ""
             }
            },
            "type": "scatterternary"
           }
          ],
          "surface": [
           {
            "colorbar": {
             "outlinewidth": 0,
             "ticks": ""
            },
            "colorscale": [
             [
              0,
              "#0d0887"
             ],
             [
              0.1111111111111111,
              "#46039f"
             ],
             [
              0.2222222222222222,
              "#7201a8"
             ],
             [
              0.3333333333333333,
              "#9c179e"
             ],
             [
              0.4444444444444444,
              "#bd3786"
             ],
             [
              0.5555555555555556,
              "#d8576b"
             ],
             [
              0.6666666666666666,
              "#ed7953"
             ],
             [
              0.7777777777777778,
              "#fb9f3a"
             ],
             [
              0.8888888888888888,
              "#fdca26"
             ],
             [
              1,
              "#f0f921"
             ]
            ],
            "type": "surface"
           }
          ],
          "table": [
           {
            "cells": {
             "fill": {
              "color": "#EBF0F8"
             },
             "line": {
              "color": "white"
             }
            },
            "header": {
             "fill": {
              "color": "#C8D4E3"
             },
             "line": {
              "color": "white"
             }
            },
            "type": "table"
           }
          ]
         },
         "layout": {
          "annotationdefaults": {
           "arrowcolor": "#2a3f5f",
           "arrowhead": 0,
           "arrowwidth": 1
          },
          "autotypenumbers": "strict",
          "coloraxis": {
           "colorbar": {
            "outlinewidth": 0,
            "ticks": ""
           }
          },
          "colorscale": {
           "diverging": [
            [
             0,
             "#8e0152"
            ],
            [
             0.1,
             "#c51b7d"
            ],
            [
             0.2,
             "#de77ae"
            ],
            [
             0.3,
             "#f1b6da"
            ],
            [
             0.4,
             "#fde0ef"
            ],
            [
             0.5,
             "#f7f7f7"
            ],
            [
             0.6,
             "#e6f5d0"
            ],
            [
             0.7,
             "#b8e186"
            ],
            [
             0.8,
             "#7fbc41"
            ],
            [
             0.9,
             "#4d9221"
            ],
            [
             1,
             "#276419"
            ]
           ],
           "sequential": [
            [
             0,
             "#0d0887"
            ],
            [
             0.1111111111111111,
             "#46039f"
            ],
            [
             0.2222222222222222,
             "#7201a8"
            ],
            [
             0.3333333333333333,
             "#9c179e"
            ],
            [
             0.4444444444444444,
             "#bd3786"
            ],
            [
             0.5555555555555556,
             "#d8576b"
            ],
            [
             0.6666666666666666,
             "#ed7953"
            ],
            [
             0.7777777777777778,
             "#fb9f3a"
            ],
            [
             0.8888888888888888,
             "#fdca26"
            ],
            [
             1,
             "#f0f921"
            ]
           ],
           "sequentialminus": [
            [
             0,
             "#0d0887"
            ],
            [
             0.1111111111111111,
             "#46039f"
            ],
            [
             0.2222222222222222,
             "#7201a8"
            ],
            [
             0.3333333333333333,
             "#9c179e"
            ],
            [
             0.4444444444444444,
             "#bd3786"
            ],
            [
             0.5555555555555556,
             "#d8576b"
            ],
            [
             0.6666666666666666,
             "#ed7953"
            ],
            [
             0.7777777777777778,
             "#fb9f3a"
            ],
            [
             0.8888888888888888,
             "#fdca26"
            ],
            [
             1,
             "#f0f921"
            ]
           ]
          },
          "colorway": [
           "#636efa",
           "#EF553B",
           "#00cc96",
           "#ab63fa",
           "#FFA15A",
           "#19d3f3",
           "#FF6692",
           "#B6E880",
           "#FF97FF",
           "#FECB52"
          ],
          "font": {
           "color": "#2a3f5f"
          },
          "geo": {
           "bgcolor": "white",
           "lakecolor": "white",
           "landcolor": "#E5ECF6",
           "showlakes": true,
           "showland": true,
           "subunitcolor": "white"
          },
          "hoverlabel": {
           "align": "left"
          },
          "hovermode": "closest",
          "mapbox": {
           "style": "light"
          },
          "paper_bgcolor": "white",
          "plot_bgcolor": "#E5ECF6",
          "polar": {
           "angularaxis": {
            "gridcolor": "white",
            "linecolor": "white",
            "ticks": ""
           },
           "bgcolor": "#E5ECF6",
           "radialaxis": {
            "gridcolor": "white",
            "linecolor": "white",
            "ticks": ""
           }
          },
          "scene": {
           "xaxis": {
            "backgroundcolor": "#E5ECF6",
            "gridcolor": "white",
            "gridwidth": 2,
            "linecolor": "white",
            "showbackground": true,
            "ticks": "",
            "zerolinecolor": "white"
           },
           "yaxis": {
            "backgroundcolor": "#E5ECF6",
            "gridcolor": "white",
            "gridwidth": 2,
            "linecolor": "white",
            "showbackground": true,
            "ticks": "",
            "zerolinecolor": "white"
           },
           "zaxis": {
            "backgroundcolor": "#E5ECF6",
            "gridcolor": "white",
            "gridwidth": 2,
            "linecolor": "white",
            "showbackground": true,
            "ticks": "",
            "zerolinecolor": "white"
           }
          },
          "shapedefaults": {
           "line": {
            "color": "#2a3f5f"
           }
          },
          "ternary": {
           "aaxis": {
            "gridcolor": "white",
            "linecolor": "white",
            "ticks": ""
           },
           "baxis": {
            "gridcolor": "white",
            "linecolor": "white",
            "ticks": ""
           },
           "bgcolor": "#E5ECF6",
           "caxis": {
            "gridcolor": "white",
            "linecolor": "white",
            "ticks": ""
           }
          },
          "title": {
           "x": 0.05
          },
          "xaxis": {
           "automargin": true,
           "gridcolor": "white",
           "linecolor": "white",
           "ticks": "",
           "title": {
            "standoff": 15
           },
           "zerolinecolor": "white",
           "zerolinewidth": 2
          },
          "yaxis": {
           "automargin": true,
           "gridcolor": "white",
           "linecolor": "white",
           "ticks": "",
           "title": {
            "standoff": 15
           },
           "zerolinecolor": "white",
           "zerolinewidth": 2
          }
         }
        },
        "width": 800,
        "xaxis": {
         "anchor": "y",
         "constrain": "domain",
         "domain": [
          0,
          1
         ],
         "scaleanchor": "y"
        },
        "yaxis": {
         "anchor": "x",
         "autorange": "reversed",
         "constrain": "domain",
         "domain": [
          0,
          1
         ]
        }
       }
      },
      "text/html": [
       "<div>                            <div id=\"2c6a2fc0-934c-4cc0-a376-a690addc75f2\" class=\"plotly-graph-div\" style=\"height:800px; width:800px;\"></div>            <script type=\"text/javascript\">                require([\"plotly\"], function(Plotly) {                    window.PLOTLYENV=window.PLOTLYENV || {};                                    if (document.getElementById(\"2c6a2fc0-934c-4cc0-a376-a690addc75f2\")) {                    Plotly.newPlot(                        \"2c6a2fc0-934c-4cc0-a376-a690addc75f2\",                        [{\"coloraxis\":\"coloraxis\",\"name\":\"0\",\"x\":[\"DATA\",\"INCOME\",\"OVERCHARGE\",\"LEFTOVER\",\"HOUSE\",\"CHILD\",\"REVENUE\",\"HANDSET_PRICE\",\"OVER_15MINS_CALLS_PER_MONTH\",\"TIME_CLIENT\",\"AVERAGE_CALL_DURATION\",\"REPORTED_SATISFACTION\",\"REPORTED_USAGE_LEVEL\",\"CONSIDERING_CHANGE_OF_PLAN\",\"CHURNED\"],\"y\":[\"DATA\",\"INCOME\",\"OVERCHARGE\",\"LEFTOVER\",\"HOUSE\",\"CHILD\",\"REVENUE\",\"HANDSET_PRICE\",\"OVER_15MINS_CALLS_PER_MONTH\",\"TIME_CLIENT\",\"AVERAGE_CALL_DURATION\",\"REPORTED_SATISFACTION\",\"REPORTED_USAGE_LEVEL\",\"CONSIDERING_CHANGE_OF_PLAN\",\"CHURNED\"],\"z\":[[1.0,-0.1298052414447413,-0.3627997644668665,-0.2669123682629433,-0.04092907719412125,-0.25606329795925253,0.0059831148809983414,0.01088717026786833,-0.275918161168579,0.5420369125233795,0.24762631672646349,0.0003720444936797227,0.002776916122263032,0.0035081599153354032,-0.05457789998006535],[-0.1298052414447413,1.0,0.36873431078023544,0.011421507107582789,-0.01970855591686076,0.0016669172366823117,0.0035570708536164504,0.6659613632152581,0.28625940164525676,0.0021874211366521247,-0.017347187904969658,0.04235766427372946,0.007062198619999874,0.016614837895740486,-0.16819215154870146],[-0.3627997644668665,0.36873431078023544,1.0,0.010359576336009646,0.035222801311423205,0.015280650897961112,0.013880186122690905,-0.018056389583242294,0.7740339913410867,-0.007353432259744196,0.006898703259040212,0.072414903945601,0.004499722274588762,0.04112009460074964,-0.21385295718166172],[-0.2669123682629433,0.011421507107582789,0.010359576336009646,1.0,0.015578634477728705,-9.3898508826743e-05,-0.007506973005078975,0.0113412915385556,-0.0016797997649608517,0.002114915062119403,-0.65727100740731,0.016237994280594064,0.009356859548333825,0.02548006463237005,-0.06303634979951145],[-0.04092907719412125,-0.01970855591686076,0.035222801311423205,0.015578634477728705,1.0,0.00864795770548623,-0.0013878423435924375,-0.02820807853389502,0.03286331840667127,0.006234027405944541,-0.014850885134133305,-0.036771676228744984,-0.0006733460981777721,-0.027094850996060595,0.19771573481479227],[-0.25606329795925253,0.0016669172366823117,0.015280650897961112,-9.3898508826743e-05,0.00864795770548623,1.0,-0.0027377568716811704,-0.004718686911817668,0.01654622550436207,-0.0010094538226662556,0.001007335475772152,0.0014841350239450093,-0.0068561518675916595,-0.00444000156272712,0.002414622692395241],[0.0059831148809983414,0.0035570708536164504,0.013880186122690905,-0.007506973005078975,-0.0013878423435924375,-0.0027377568716811704,1.0,-0.005575070836066888,0.006824482604637212,-0.007595605192365149,-0.0030808882913977683,0.011459797354865315,-0.006592832905221464,-0.003810674286943734,-0.011884350768794084],[0.01088717026786833,0.6659613632152581,-0.018056389583242294,0.0113412915385556,-0.02820807853389502,-0.004718686911817668,-0.005575070836066888,1.0,-0.00899523353830043,-0.004889209936542122,-0.022832012291475672,0.006744397196626666,0.007940954142290067,6.052066536771711e-05,-0.07897272878315476],[-0.275918161168579,0.28625940164525676,0.7740339913410867,-0.0016797997649608517,0.03286331840667127,0.01654622550436207,0.006824482604637212,-0.00899523353830043,1.0,-0.006969857005821269,0.018990409813695347,0.06328831306691865,0.009559680734118487,0.03776065235047647,-0.19226197671624107],[0.5420369125233795,0.0021874211366521247,-0.007353432259744196,0.002114915062119403,0.006234027405944541,-0.0010094538226662556,-0.007595605192365149,-0.004889209936542122,-0.006969857005821269,1.0,0.0034967883513648324,-0.011373217701627665,0.005605140590167406,0.013132319043789299,0.013716994326250577],[0.24762631672646349,-0.017347187904969658,0.006898703259040212,-0.65727100740731,-0.014850885134133305,0.001007335475772152,-0.0030808882913977683,-0.022832012291475672,0.018990409813695347,0.0034967883513648324,1.0,-0.009211566897724954,-0.008417640917438669,-0.009493645622344284,0.01789917851129207],[0.0003720444936797227,0.04235766427372946,0.072414903945601,0.016237994280594064,-0.036771676228744984,0.0014841350239450093,0.011459797354865315,0.006744397196626666,0.06328831306691865,-0.011373217701627665,-0.009211566897724954,1.0,-0.007696137882630722,0.0469407985377618,-0.22226150651196816],[0.002776916122263032,0.007062198619999874,0.004499722274588762,0.009356859548333825,-0.0006733460981777721,-0.0068561518675916595,-0.006592832905221464,0.007940954142290067,0.009559680734118487,0.005605140590167406,-0.008417640917438669,-0.007696137882630722,1.0,0.020607857355200238,0.012143640509469955],[0.0035081599153354032,0.016614837895740486,0.04112009460074964,0.02548006463237005,-0.027094850996060595,-0.00444000156272712,-0.003810674286943734,6.052066536771711e-05,0.03776065235047647,0.013132319043789299,-0.009493645622344284,0.0469407985377618,0.020607857355200238,1.0,-0.11831217992796118],[-0.05457789998006535,-0.16819215154870146,-0.21385295718166172,-0.06303634979951145,0.19771573481479227,0.002414622692395241,-0.011884350768794084,-0.07897272878315476,-0.19226197671624107,0.013716994326250577,0.01789917851129207,-0.22226150651196816,0.012143640509469955,-0.11831217992796118,1.0]],\"type\":\"heatmap\",\"xaxis\":\"x\",\"yaxis\":\"y\",\"hovertemplate\":\"x: %{x}<br>y: %{y}<br>color: %{z}<extra></extra>\"}],                        {\"template\":{\"data\":{\"histogram2dcontour\":[{\"type\":\"histogram2dcontour\",\"colorbar\":{\"outlinewidth\":0,\"ticks\":\"\"},\"colorscale\":[[0.0,\"#0d0887\"],[0.1111111111111111,\"#46039f\"],[0.2222222222222222,\"#7201a8\"],[0.3333333333333333,\"#9c179e\"],[0.4444444444444444,\"#bd3786\"],[0.5555555555555556,\"#d8576b\"],[0.6666666666666666,\"#ed7953\"],[0.7777777777777778,\"#fb9f3a\"],[0.8888888888888888,\"#fdca26\"],[1.0,\"#f0f921\"]]}],\"choropleth\":[{\"type\":\"choropleth\",\"colorbar\":{\"outlinewidth\":0,\"ticks\":\"\"}}],\"histogram2d\":[{\"type\":\"histogram2d\",\"colorbar\":{\"outlinewidth\":0,\"ticks\":\"\"},\"colorscale\":[[0.0,\"#0d0887\"],[0.1111111111111111,\"#46039f\"],[0.2222222222222222,\"#7201a8\"],[0.3333333333333333,\"#9c179e\"],[0.4444444444444444,\"#bd3786\"],[0.5555555555555556,\"#d8576b\"],[0.6666666666666666,\"#ed7953\"],[0.7777777777777778,\"#fb9f3a\"],[0.8888888888888888,\"#fdca26\"],[1.0,\"#f0f921\"]]}],\"heatmap\":[{\"type\":\"heatmap\",\"colorbar\":{\"outlinewidth\":0,\"ticks\":\"\"},\"colorscale\":[[0.0,\"#0d0887\"],[0.1111111111111111,\"#46039f\"],[0.2222222222222222,\"#7201a8\"],[0.3333333333333333,\"#9c179e\"],[0.4444444444444444,\"#bd3786\"],[0.5555555555555556,\"#d8576b\"],[0.6666666666666666,\"#ed7953\"],[0.7777777777777778,\"#fb9f3a\"],[0.8888888888888888,\"#fdca26\"],[1.0,\"#f0f921\"]]}],\"heatmapgl\":[{\"type\":\"heatmapgl\",\"colorbar\":{\"outlinewidth\":0,\"ticks\":\"\"},\"colorscale\":[[0.0,\"#0d0887\"],[0.1111111111111111,\"#46039f\"],[0.2222222222222222,\"#7201a8\"],[0.3333333333333333,\"#9c179e\"],[0.4444444444444444,\"#bd3786\"],[0.5555555555555556,\"#d8576b\"],[0.6666666666666666,\"#ed7953\"],[0.7777777777777778,\"#fb9f3a\"],[0.8888888888888888,\"#fdca26\"],[1.0,\"#f0f921\"]]}],\"contourcarpet\":[{\"type\":\"contourcarpet\",\"colorbar\":{\"outlinewidth\":0,\"ticks\":\"\"}}],\"contour\":[{\"type\":\"contour\",\"colorbar\":{\"outlinewidth\":0,\"ticks\":\"\"},\"colorscale\":[[0.0,\"#0d0887\"],[0.1111111111111111,\"#46039f\"],[0.2222222222222222,\"#7201a8\"],[0.3333333333333333,\"#9c179e\"],[0.4444444444444444,\"#bd3786\"],[0.5555555555555556,\"#d8576b\"],[0.6666666666666666,\"#ed7953\"],[0.7777777777777778,\"#fb9f3a\"],[0.8888888888888888,\"#fdca26\"],[1.0,\"#f0f921\"]]}],\"surface\":[{\"type\":\"surface\",\"colorbar\":{\"outlinewidth\":0,\"ticks\":\"\"},\"colorscale\":[[0.0,\"#0d0887\"],[0.1111111111111111,\"#46039f\"],[0.2222222222222222,\"#7201a8\"],[0.3333333333333333,\"#9c179e\"],[0.4444444444444444,\"#bd3786\"],[0.5555555555555556,\"#d8576b\"],[0.6666666666666666,\"#ed7953\"],[0.7777777777777778,\"#fb9f3a\"],[0.8888888888888888,\"#fdca26\"],[1.0,\"#f0f921\"]]}],\"mesh3d\":[{\"type\":\"mesh3d\",\"colorbar\":{\"outlinewidth\":0,\"ticks\":\"\"}}],\"scatter\":[{\"fillpattern\":{\"fillmode\":\"overlay\",\"size\":10,\"solidity\":0.2},\"type\":\"scatter\"}],\"parcoords\":[{\"type\":\"parcoords\",\"line\":{\"colorbar\":{\"outlinewidth\":0,\"ticks\":\"\"}}}],\"scatterpolargl\":[{\"type\":\"scatterpolargl\",\"marker\":{\"colorbar\":{\"outlinewidth\":0,\"ticks\":\"\"}}}],\"bar\":[{\"error_x\":{\"color\":\"#2a3f5f\"},\"error_y\":{\"color\":\"#2a3f5f\"},\"marker\":{\"line\":{\"color\":\"#E5ECF6\",\"width\":0.5},\"pattern\":{\"fillmode\":\"overlay\",\"size\":10,\"solidity\":0.2}},\"type\":\"bar\"}],\"scattergeo\":[{\"type\":\"scattergeo\",\"marker\":{\"colorbar\":{\"outlinewidth\":0,\"ticks\":\"\"}}}],\"scatterpolar\":[{\"type\":\"scatterpolar\",\"marker\":{\"colorbar\":{\"outlinewidth\":0,\"ticks\":\"\"}}}],\"histogram\":[{\"marker\":{\"pattern\":{\"fillmode\":\"overlay\",\"size\":10,\"solidity\":0.2}},\"type\":\"histogram\"}],\"scattergl\":[{\"type\":\"scattergl\",\"marker\":{\"colorbar\":{\"outlinewidth\":0,\"ticks\":\"\"}}}],\"scatter3d\":[{\"type\":\"scatter3d\",\"line\":{\"colorbar\":{\"outlinewidth\":0,\"ticks\":\"\"}},\"marker\":{\"colorbar\":{\"outlinewidth\":0,\"ticks\":\"\"}}}],\"scattermapbox\":[{\"type\":\"scattermapbox\",\"marker\":{\"colorbar\":{\"outlinewidth\":0,\"ticks\":\"\"}}}],\"scatterternary\":[{\"type\":\"scatterternary\",\"marker\":{\"colorbar\":{\"outlinewidth\":0,\"ticks\":\"\"}}}],\"scattercarpet\":[{\"type\":\"scattercarpet\",\"marker\":{\"colorbar\":{\"outlinewidth\":0,\"ticks\":\"\"}}}],\"carpet\":[{\"aaxis\":{\"endlinecolor\":\"#2a3f5f\",\"gridcolor\":\"white\",\"linecolor\":\"white\",\"minorgridcolor\":\"white\",\"startlinecolor\":\"#2a3f5f\"},\"baxis\":{\"endlinecolor\":\"#2a3f5f\",\"gridcolor\":\"white\",\"linecolor\":\"white\",\"minorgridcolor\":\"white\",\"startlinecolor\":\"#2a3f5f\"},\"type\":\"carpet\"}],\"table\":[{\"cells\":{\"fill\":{\"color\":\"#EBF0F8\"},\"line\":{\"color\":\"white\"}},\"header\":{\"fill\":{\"color\":\"#C8D4E3\"},\"line\":{\"color\":\"white\"}},\"type\":\"table\"}],\"barpolar\":[{\"marker\":{\"line\":{\"color\":\"#E5ECF6\",\"width\":0.5},\"pattern\":{\"fillmode\":\"overlay\",\"size\":10,\"solidity\":0.2}},\"type\":\"barpolar\"}],\"pie\":[{\"automargin\":true,\"type\":\"pie\"}]},\"layout\":{\"autotypenumbers\":\"strict\",\"colorway\":[\"#636efa\",\"#EF553B\",\"#00cc96\",\"#ab63fa\",\"#FFA15A\",\"#19d3f3\",\"#FF6692\",\"#B6E880\",\"#FF97FF\",\"#FECB52\"],\"font\":{\"color\":\"#2a3f5f\"},\"hovermode\":\"closest\",\"hoverlabel\":{\"align\":\"left\"},\"paper_bgcolor\":\"white\",\"plot_bgcolor\":\"#E5ECF6\",\"polar\":{\"bgcolor\":\"#E5ECF6\",\"angularaxis\":{\"gridcolor\":\"white\",\"linecolor\":\"white\",\"ticks\":\"\"},\"radialaxis\":{\"gridcolor\":\"white\",\"linecolor\":\"white\",\"ticks\":\"\"}},\"ternary\":{\"bgcolor\":\"#E5ECF6\",\"aaxis\":{\"gridcolor\":\"white\",\"linecolor\":\"white\",\"ticks\":\"\"},\"baxis\":{\"gridcolor\":\"white\",\"linecolor\":\"white\",\"ticks\":\"\"},\"caxis\":{\"gridcolor\":\"white\",\"linecolor\":\"white\",\"ticks\":\"\"}},\"coloraxis\":{\"colorbar\":{\"outlinewidth\":0,\"ticks\":\"\"}},\"colorscale\":{\"sequential\":[[0.0,\"#0d0887\"],[0.1111111111111111,\"#46039f\"],[0.2222222222222222,\"#7201a8\"],[0.3333333333333333,\"#9c179e\"],[0.4444444444444444,\"#bd3786\"],[0.5555555555555556,\"#d8576b\"],[0.6666666666666666,\"#ed7953\"],[0.7777777777777778,\"#fb9f3a\"],[0.8888888888888888,\"#fdca26\"],[1.0,\"#f0f921\"]],\"sequentialminus\":[[0.0,\"#0d0887\"],[0.1111111111111111,\"#46039f\"],[0.2222222222222222,\"#7201a8\"],[0.3333333333333333,\"#9c179e\"],[0.4444444444444444,\"#bd3786\"],[0.5555555555555556,\"#d8576b\"],[0.6666666666666666,\"#ed7953\"],[0.7777777777777778,\"#fb9f3a\"],[0.8888888888888888,\"#fdca26\"],[1.0,\"#f0f921\"]],\"diverging\":[[0,\"#8e0152\"],[0.1,\"#c51b7d\"],[0.2,\"#de77ae\"],[0.3,\"#f1b6da\"],[0.4,\"#fde0ef\"],[0.5,\"#f7f7f7\"],[0.6,\"#e6f5d0\"],[0.7,\"#b8e186\"],[0.8,\"#7fbc41\"],[0.9,\"#4d9221\"],[1,\"#276419\"]]},\"xaxis\":{\"gridcolor\":\"white\",\"linecolor\":\"white\",\"ticks\":\"\",\"title\":{\"standoff\":15},\"zerolinecolor\":\"white\",\"automargin\":true,\"zerolinewidth\":2},\"yaxis\":{\"gridcolor\":\"white\",\"linecolor\":\"white\",\"ticks\":\"\",\"title\":{\"standoff\":15},\"zerolinecolor\":\"white\",\"automargin\":true,\"zerolinewidth\":2},\"scene\":{\"xaxis\":{\"backgroundcolor\":\"#E5ECF6\",\"gridcolor\":\"white\",\"linecolor\":\"white\",\"showbackground\":true,\"ticks\":\"\",\"zerolinecolor\":\"white\",\"gridwidth\":2},\"yaxis\":{\"backgroundcolor\":\"#E5ECF6\",\"gridcolor\":\"white\",\"linecolor\":\"white\",\"showbackground\":true,\"ticks\":\"\",\"zerolinecolor\":\"white\",\"gridwidth\":2},\"zaxis\":{\"backgroundcolor\":\"#E5ECF6\",\"gridcolor\":\"white\",\"linecolor\":\"white\",\"showbackground\":true,\"ticks\":\"\",\"zerolinecolor\":\"white\",\"gridwidth\":2}},\"shapedefaults\":{\"line\":{\"color\":\"#2a3f5f\"}},\"annotationdefaults\":{\"arrowcolor\":\"#2a3f5f\",\"arrowhead\":0,\"arrowwidth\":1},\"geo\":{\"bgcolor\":\"white\",\"landcolor\":\"#E5ECF6\",\"subunitcolor\":\"white\",\"showland\":true,\"showlakes\":true,\"lakecolor\":\"white\"},\"title\":{\"x\":0.05},\"mapbox\":{\"style\":\"light\"}}},\"xaxis\":{\"anchor\":\"y\",\"domain\":[0.0,1.0],\"scaleanchor\":\"y\",\"constrain\":\"domain\"},\"yaxis\":{\"anchor\":\"x\",\"domain\":[0.0,1.0],\"autorange\":\"reversed\",\"constrain\":\"domain\"},\"coloraxis\":{\"colorscale\":[[0.0,\"#0d0887\"],[0.1111111111111111,\"#46039f\"],[0.2222222222222222,\"#7201a8\"],[0.3333333333333333,\"#9c179e\"],[0.4444444444444444,\"#bd3786\"],[0.5555555555555556,\"#d8576b\"],[0.6666666666666666,\"#ed7953\"],[0.7777777777777778,\"#fb9f3a\"],[0.8888888888888888,\"#fdca26\"],[1.0,\"#f0f921\"]]},\"margin\":{\"t\":60},\"height\":800,\"width\":800},                        {\"responsive\": true}                    ).then(function(){\n",
       "                            \n",
       "var gd = document.getElementById('2c6a2fc0-934c-4cc0-a376-a690addc75f2');\n",
       "var x = new MutationObserver(function (mutations, observer) {{\n",
       "        var display = window.getComputedStyle(gd).display;\n",
       "        if (!display || display === 'none') {{\n",
       "            console.log([gd, 'removed!']);\n",
       "            Plotly.purge(gd);\n",
       "            observer.disconnect();\n",
       "        }}\n",
       "}});\n",
       "\n",
       "// Listen for the removal of the full notebook cells\n",
       "var notebookContainer = gd.closest('#notebook-container');\n",
       "if (notebookContainer) {{\n",
       "    x.observe(notebookContainer, {childList: true});\n",
       "}}\n",
       "\n",
       "// Listen for the clearing of the current output cell\n",
       "var outputEl = gd.closest('.output');\n",
       "if (outputEl) {{\n",
       "    x.observe(outputEl, {childList: true});\n",
       "}}\n",
       "\n",
       "                        })                };                });            </script>        </div>"
      ]
     },
     "metadata": {},
     "output_type": "display_data"
    }
   ],
   "source": [
    "corr = df_training.corr()\n",
    "\n",
    "fig = px.imshow(corr, width=800, height=800)\n",
    "fig.show()"
   ]
  },
  {
   "cell_type": "markdown",
   "id": "e7ecc1fe",
   "metadata": {},
   "source": [
    "### Seaborn graph and graphs"
   ]
  },
  {
   "cell_type": "code",
   "execution_count": 578,
   "id": "4f465110",
   "metadata": {},
   "outputs": [
    {
     "data": {
      "text/plain": [
       "(array([8.350e+03, 2.271e+03, 5.700e+02, 1.210e+02, 2.700e+01, 3.000e+00,\n",
       "        3.000e+00, 0.000e+00, 0.000e+00, 1.000e+00]),\n",
       " array([   0.,  660., 1320., 1980., 2640., 3300., 3960., 4620., 5280.,\n",
       "        5940., 6600.]),\n",
       " <BarContainer object of 10 artists>)"
      ]
     },
     "execution_count": 578,
     "metadata": {},
     "output_type": "execute_result"
    },
    {
     "data": {
      "image/png": "[encoded data removed]",
      "text/plain": [
       "<Figure size 432x288 with 1 Axes>"
      ]
     },
     "metadata": {
      "needs_background": "light"
     },
     "output_type": "display_data"
    }
   ],
   "source": [
    "plt.hist(df_training['DATA'])"
   ]
  },
  {
   "cell_type": "markdown",
   "id": "ab3005f7",
   "metadata": {},
   "source": [
    "### PCA"
   ]
  },
  {
   "cell_type": "code",
   "execution_count": 579,
   "id": "900fb047",
   "metadata": {},
   "outputs": [],
   "source": [
    "pca = PCA(n_components=\"mle\", svd_solver=\"full\")\n"
   ]
  },
  {
   "cell_type": "code",
   "execution_count": 580,
   "id": "7b3b2c57",
   "metadata": {},
   "outputs": [
    {
     "data": {
      "text/plain": [
       "PCA(n_components='mle', svd_solver='full')"
      ]
     },
     "execution_count": 580,
     "metadata": {},
     "output_type": "execute_result"
    }
   ],
   "source": [
    "pca.fit(np.array(df_training))"
   ]
  },
  {
   "cell_type": "code",
   "execution_count": 581,
   "id": "11870b7d",
   "metadata": {
    "scrolled": true
   },
   "outputs": [
    {
     "data": {
      "text/plain": [
       "array([[-7.29399457e-05, -1.72447866e-03,  1.15918611e-05,\n",
       "         1.62074710e-06,  9.99998510e-01,  4.21513481e-08,\n",
       "        -2.58814504e-07, -2.31761131e-05,  1.11899018e-06,\n",
       "         4.00967663e-08, -2.52432474e-07, -5.50625962e-08,\n",
       "        -9.92090944e-10, -3.37718561e-08,  3.70783658e-07],\n",
       "       [-2.68380491e-03,  9.99974227e-01,  1.40280456e-03,\n",
       "         1.40784910e-05,  1.72437008e-03,  1.04016528e-07,\n",
       "         7.57788898e-06,  6.27592630e-03,  1.12688725e-04,\n",
       "         1.69012453e-07, -3.45786750e-06,  7.17923924e-07,\n",
       "         1.19451386e-07,  2.30807990e-07, -3.54814381e-06],\n",
       "       [ 9.96588944e-01,  2.43239541e-03, -6.14463275e-02,\n",
       "        -1.56456781e-02,  7.88451228e-05, -7.05722911e-04,\n",
       "         6.46376826e-04,  5.24455783e-02, -4.81646087e-03,\n",
       "         1.97548775e-03,  2.35680084e-03,  2.62133642e-06,\n",
       "         3.09534924e-06,  2.67142180e-06, -6.91997430e-05],\n",
       "       [-6.38152950e-02, -6.01676458e-03, -2.02670908e-01,\n",
       "         9.32911098e-03,  9.96215378e-06,  3.03301354e-04,\n",
       "        -4.31211259e-03,  9.76959936e-01, -1.59728233e-02,\n",
       "        -1.12461383e-03, -1.73655045e-03, -8.70751027e-05,\n",
       "         7.95984467e-06, -3.96545406e-05,  2.34010530e-04],\n",
       "       [ 4.88947066e-02, -2.54012669e-03,  9.73093113e-01,\n",
       "        -3.65223572e-02, -7.32419721e-06, -1.29725374e-03,\n",
       "         1.74769478e-02,  2.06780506e-01,  7.89550758e-02,\n",
       "         4.00023626e-03,  6.44333141e-03,  3.31084211e-04,\n",
       "         3.03771796e-05,  1.78678991e-04, -1.37709310e-03],\n",
       "       [-1.82799632e-03,  9.33576169e-06, -1.78938044e-02,\n",
       "        -2.44981872e-03,  3.68411203e-07,  3.30435811e-05,\n",
       "         9.99832290e-01,  5.67476788e-04, -2.18747121e-03,\n",
       "        -5.81700593e-04, -6.34769155e-04,  7.42691015e-05,\n",
       "        -5.32962907e-05, -3.48067709e-05, -4.56731697e-05],\n",
       "       [ 1.81467666e-02, -1.29903821e-05,  3.71225039e-02,\n",
       "         9.93623871e-01, -7.82081437e-07, -3.94478408e-03,\n",
       "         3.07308170e-03, -7.58769421e-04, -9.42096966e-06,\n",
       "         1.13407032e-02, -1.04142143e-01,  3.83799466e-04,\n",
       "         1.62683289e-04,  4.05391602e-04, -2.02504167e-03],\n",
       "       [-9.03391156e-05,  3.54073032e-06, -8.06893622e-02,\n",
       "         4.36738287e-03, -1.93476336e-07,  2.19253834e-03,\n",
       "         7.53832928e-04, -4.68266210e-04,  9.96637407e-01,\n",
       "        -1.93363147e-03,  1.26124744e-02,  8.15228511e-04,\n",
       "         6.55519879e-04,  5.64486423e-04, -3.76865329e-03],\n",
       "       [-7.86240019e-04,  2.31418209e-06, -1.42088262e-03,\n",
       "         1.04673798e-01,  6.47101547e-08,  1.28692549e-02,\n",
       "         8.09715699e-04,  1.62048884e-04, -1.32549687e-02,\n",
       "        -3.63691907e-02,  9.93665881e-01, -2.79191731e-04,\n",
       "        -4.74041793e-04,  5.80627131e-04, -1.87749002e-03],\n",
       "       [-1.55235062e-03, -1.01995371e-06, -2.88869702e-03,\n",
       "        -4.53737157e-03, -1.33741709e-07,  5.61227381e-01,\n",
       "         4.13581041e-04,  1.54928443e-04, -1.35007375e-05,\n",
       "         8.26637809e-01,  2.35181347e-02, -8.08107547e-03,\n",
       "        -4.23335459e-04, -5.70844418e-04,  3.23003123e-02],\n",
       "       [-2.08572711e-03, -6.73718156e-07, -3.85019911e-03,\n",
       "        -5.97528467e-03, -1.04942339e-07, -8.26616077e-01,\n",
       "         2.94243132e-04,  1.01110767e-04,  2.48056873e-03,\n",
       "         5.57442147e-01,  3.18898987e-02, -1.64033105e-02,\n",
       "         2.16751166e-03, -2.42421198e-03,  6.78702925e-02],\n",
       "       [-3.73620717e-04, -1.69892720e-06, -1.52562027e-03,\n",
       "        -2.69091360e-03,  3.50666319e-07, -3.80518946e-02,\n",
       "        -7.33055639e-05, -3.01446333e-05, -3.67151874e-03,\n",
       "         6.46511574e-02,  1.45234572e-03,  4.43277634e-01,\n",
       "        -3.70427832e-02,  1.34949641e-01, -8.82195184e-01],\n",
       "       [ 1.56317148e-05,  4.80141933e-08,  2.83429543e-05,\n",
       "         2.08154408e-04, -1.30982148e-08, -8.66965324e-04,\n",
       "        -5.14691509e-05,  1.44258378e-05,  8.04665881e-04,\n",
       "        -1.03615151e-03, -4.31430008e-04, -1.41754129e-02,\n",
       "        -9.97194447e-01, -6.94222843e-02,  2.40859582e-02],\n",
       "       [-9.78057482e-05, -3.66512848e-07, -3.37843609e-04,\n",
       "        -8.02019425e-04,  1.12710573e-07, -8.72828929e-03,\n",
       "         4.70599379e-05, -3.74779795e-05, -9.32685404e-04,\n",
       "         1.43243579e-02, -4.13309022e-04, -8.96078657e-01,\n",
       "        -2.83199088e-03,  7.16615828e-02, -4.37740171e-01]])"
      ]
     },
     "execution_count": 581,
     "metadata": {},
     "output_type": "execute_result"
    }
   ],
   "source": [
    "pca.components_"
   ]
  },
  {
   "cell_type": "code",
   "execution_count": 582,
   "id": "80250496",
   "metadata": {},
   "outputs": [
    {
     "data": {
      "text/plain": [
       "14"
      ]
     },
     "execution_count": 582,
     "metadata": {},
     "output_type": "execute_result"
    }
   ],
   "source": [
    "pca.n_components_"
   ]
  },
  {
   "cell_type": "code",
   "execution_count": 583,
   "id": "c15ab679",
   "metadata": {},
   "outputs": [
    {
     "data": {
      "text/plain": [
       "array([2.73534419e+07, 2.37495014e+06, 4.84624384e+04, 1.68275271e+04,\n",
       "       7.23542846e+03, 5.09774617e+03, 2.74258885e+03, 5.88450367e+02,\n",
       "       3.46279485e+02, 1.49138978e+02, 1.16933947e+02, 4.94031504e+01,\n",
       "       4.02420195e+01, 3.82942894e+01])"
      ]
     },
     "execution_count": 583,
     "metadata": {},
     "output_type": "execute_result"
    }
   ],
   "source": [
    "pca.singular_values_"
   ]
  },
  {
   "cell_type": "code",
   "execution_count": 584,
   "id": "3f71918e",
   "metadata": {},
   "outputs": [
    {
     "data": {
      "text/plain": [
       "array([9.92514324e-01, 7.48207080e-03, 3.11546835e-06, 3.75624074e-07,\n",
       "       6.94450554e-08, 3.44722185e-08, 9.97778705e-09, 4.59338128e-10,\n",
       "       1.59061966e-10, 2.95049680e-11, 1.81381939e-11, 3.23759194e-12,\n",
       "       2.14818834e-12, 1.94527431e-12])"
      ]
     },
     "execution_count": 584,
     "metadata": {},
     "output_type": "execute_result"
    }
   ],
   "source": [
    "pca.explained_variance_ratio_"
   ]
  },
  {
   "cell_type": "code",
   "execution_count": null,
   "id": "559a2e65",
   "metadata": {},
   "outputs": [],
   "source": []
  },
  {
   "cell_type": "markdown",
   "id": "7e94388c",
   "metadata": {},
   "source": [
    "## Logistic Regression"
   ]
  },
  {
   "cell_type": "code",
   "execution_count": 645,
   "id": "2b8ef747",
   "metadata": {},
   "outputs": [],
   "source": [
    "selectedCols = ['DATA','INCOME', 'HOUSE', 'OVERCHARGE', 'OVER_15MINS_CALLS_PER_MONTH', 'REPORTED_SATISFACTION',\n",
    "       'CONSIDERING_CHANGE_OF_PLAN', 'HANDSET_PRICE']\n",
    "X = df_normalized[selectedCols]\n",
    "Y = df_normalized[['CHURNED']]"
   ]
  },
  {
   "cell_type": "code",
   "execution_count": 646,
   "id": "72f789a0",
   "metadata": {},
   "outputs": [],
   "source": [
    "x_train, x_test, y_train, y_test = train_test_split( X, Y, test_size=0.2, random_state=100)"
   ]
  },
  {
   "cell_type": "code",
   "execution_count": 647,
   "id": "cdaf595a",
   "metadata": {},
   "outputs": [
    {
     "name": "stderr",
     "output_type": "stream",
     "text": [
      "C:\\Users\\marta\\anaconda3\\lib\\site-packages\\sklearn\\utils\\validation.py:63: DataConversionWarning:\n",
      "\n",
      "A column-vector y was passed when a 1d array was expected. Please change the shape of y to (n_samples, ), for example using ravel().\n",
      "\n"
     ]
    }
   ],
   "source": [
    "from sklearn.linear_model import LogisticRegression\n",
    "from sklearn.metrics import accuracy_score, roc_auc_score\n",
    "clf_LR = LogisticRegression(random_state=1).fit(x_train, y_train)"
   ]
  },
  {
   "cell_type": "code",
   "execution_count": 648,
   "id": "df0d4636",
   "metadata": {},
   "outputs": [
    {
     "data": {
      "text/plain": [
       "0.7085720581754077"
      ]
     },
     "execution_count": 648,
     "metadata": {},
     "output_type": "execute_result"
    }
   ],
   "source": [
    "clf_LR.score(x_train, y_train)"
   ]
  },
  {
   "cell_type": "code",
   "execution_count": 649,
   "id": "b57dea38",
   "metadata": {},
   "outputs": [
    {
     "data": {
      "text/plain": [
       "0.711453744493392"
      ]
     },
     "execution_count": 649,
     "metadata": {},
     "output_type": "execute_result"
    }
   ],
   "source": [
    "clf_LR.score(x_test, y_test)"
   ]
  },
  {
   "cell_type": "code",
   "execution_count": 650,
   "id": "c4214815",
   "metadata": {},
   "outputs": [],
   "source": [
    "y_pred_LR = clf_LR.predict(x_test)"
   ]
  },
  {
   "cell_type": "code",
   "execution_count": 651,
   "id": "db450a46",
   "metadata": {},
   "outputs": [],
   "source": [
    "y_proba_LR = clf_LR.predict_proba(x_test)"
   ]
  },
  {
   "cell_type": "code",
   "execution_count": 652,
   "id": "d6f4a263",
   "metadata": {},
   "outputs": [
    {
     "data": {
      "text/plain": [
       "<sklearn.metrics._plot.roc_curve.RocCurveDisplay at 0x1d586d6d2e0>"
      ]
     },
     "execution_count": 652,
     "metadata": {},
     "output_type": "execute_result"
    },
    {
     "data": {
      "image/png": "[encoded data removed]",
      "text/plain": [
       "<Figure size 432x288 with 1 Axes>"
      ]
     },
     "metadata": {
      "needs_background": "light"
     },
     "output_type": "display_data"
    }
   ],
   "source": [
    "metrics.plot_roc_curve(clf_LR, x_test, y_test) "
   ]
  },
  {
   "cell_type": "code",
   "execution_count": null,
   "id": "2d5c7518",
   "metadata": {},
   "outputs": [],
   "source": []
  },
  {
   "cell_type": "markdown",
   "id": "166690fc",
   "metadata": {},
   "source": [
    "## Random Forest Regressor"
   ]
  },
  {
   "cell_type": "code",
   "execution_count": 653,
   "id": "4f2661a2",
   "metadata": {},
   "outputs": [],
   "source": [
    "from sklearn.ensemble import RandomForestClassifier"
   ]
  },
  {
   "cell_type": "code",
   "execution_count": 654,
   "id": "e7840904",
   "metadata": {},
   "outputs": [
    {
     "name": "stderr",
     "output_type": "stream",
     "text": [
      "C:\\Users\\marta\\AppData\\Local\\Temp/ipykernel_3972/817421866.py:2: DataConversionWarning:\n",
      "\n",
      "A column-vector y was passed when a 1d array was expected. Please change the shape of y to (n_samples,), for example using ravel().\n",
      "\n"
     ]
    },
    {
     "data": {
      "text/plain": [
       "RandomForestClassifier(max_depth=15, random_state=100)"
      ]
     },
     "execution_count": 654,
     "metadata": {},
     "output_type": "execute_result"
    }
   ],
   "source": [
    "clf_RF = RandomForestClassifier(n_estimators=100, max_depth=15, random_state=100)\n",
    "clf_RF.fit(x_train, y_train)"
   ]
  },
  {
   "cell_type": "code",
   "execution_count": 655,
   "id": "b70b11bb",
   "metadata": {},
   "outputs": [
    {
     "data": {
      "text/plain": [
       "0.9643014543851918"
      ]
     },
     "execution_count": 655,
     "metadata": {},
     "output_type": "execute_result"
    }
   ],
   "source": [
    "clf_RF.score(x_train, y_train)"
   ]
  },
  {
   "cell_type": "code",
   "execution_count": 656,
   "id": "1f11951d",
   "metadata": {},
   "outputs": [],
   "source": [
    "y_proba_RF = clf_RF.predict_proba(x_test)"
   ]
  },
  {
   "cell_type": "code",
   "execution_count": 657,
   "id": "398e7843",
   "metadata": {},
   "outputs": [
    {
     "data": {
      "text/plain": [
       "0.7451656168666309"
      ]
     },
     "execution_count": 657,
     "metadata": {},
     "output_type": "execute_result"
    }
   ],
   "source": [
    "y_pred_RF = clf_RF.predict(x_test)\n",
    "roc_auc_score(y_pred_RF, y_test)"
   ]
  },
  {
   "cell_type": "code",
   "execution_count": 658,
   "id": "bddd5e10",
   "metadata": {},
   "outputs": [
    {
     "data": {
      "text/plain": [
       "0.7665198237885462"
      ]
     },
     "execution_count": 658,
     "metadata": {},
     "output_type": "execute_result"
    }
   ],
   "source": [
    "clf_RF.score(x_test, y_test)"
   ]
  },
  {
   "cell_type": "code",
   "execution_count": 659,
   "id": "dfe0fcf4",
   "metadata": {},
   "outputs": [
    {
     "data": {
      "text/plain": [
       "<sklearn.metrics._plot.roc_curve.RocCurveDisplay at 0x1d58d4d9550>"
      ]
     },
     "execution_count": 659,
     "metadata": {},
     "output_type": "execute_result"
    },
    {
     "data": {
      "image/png": "[encoded data removed]",
      "text/plain": [
       "<Figure size 432x288 with 1 Axes>"
      ]
     },
     "metadata": {
      "needs_background": "light"
     },
     "output_type": "display_data"
    }
   ],
   "source": [
    "from sklearn import metrics \n",
    "metrics.plot_roc_curve(clf_RF, x_test, y_test) "
   ]
  },
  {
   "cell_type": "code",
   "execution_count": 660,
   "id": "2b5ef4fa",
   "metadata": {},
   "outputs": [
    {
     "data": {
      "text/plain": [
       "0.7506607929515419"
      ]
     },
     "execution_count": 660,
     "metadata": {},
     "output_type": "execute_result"
    }
   ],
   "source": [
    "predThresH = (clf_RF.predict_proba(x_test)[:,1] >= 0.38).astype('int')\n",
    "accuracy_score(predThresH, y_test)"
   ]
  },
  {
   "cell_type": "code",
   "execution_count": 661,
   "id": "fe663e38",
   "metadata": {},
   "outputs": [
    {
     "data": {
      "text/plain": [
       "0.7567174357808593"
      ]
     },
     "execution_count": 661,
     "metadata": {},
     "output_type": "execute_result"
    }
   ],
   "source": [
    "roc_auc_score(predThresH, y_test)"
   ]
  },
  {
   "cell_type": "code",
   "execution_count": null,
   "id": "e421bd58",
   "metadata": {},
   "outputs": [],
   "source": []
  },
  {
   "cell_type": "markdown",
   "id": "11a0893a",
   "metadata": {},
   "source": [
    "##  XGboost"
   ]
  },
  {
   "cell_type": "code",
   "execution_count": 602,
   "id": "9875701c",
   "metadata": {},
   "outputs": [],
   "source": [
    "import xgboost as xgb\n",
    "\n",
    "# Init classifier\n",
    "xgb_cl = xgb.XGBClassifier(base_score=0.3, booster='gbtree', colsample_bylevel=0.8,\n",
    "              colsample_bynode=0.8, colsample_bytree=0.9, gamma=0.4,\n",
    "              learning_rate=0.0400000012, max_delta_step=20, max_depth=14,\n",
    "              min_child_weight=1, monotone_constraints='()',\n",
    "              n_estimators=75,  reg_alpha=0, reg_lambda=0, scale_pos_weight=1, subsample=0.7,\n",
    "              tree_method='exact', validate_parameters=1, verbosity=None)\n",
    "\n",
    "xgb_cl.fit(x_train, y_train)\n",
    "preds = xgb_cl.predict(x_train)"
   ]
  },
  {
   "cell_type": "code",
   "execution_count": 603,
   "id": "1d295406",
   "metadata": {},
   "outputs": [
    {
     "data": {
      "text/plain": [
       "0.973534364105108"
      ]
     },
     "execution_count": 603,
     "metadata": {},
     "output_type": "execute_result"
    }
   ],
   "source": [
    "roc_auc_score(preds, y_train)"
   ]
  },
  {
   "cell_type": "code",
   "execution_count": 604,
   "id": "d7be972f",
   "metadata": {},
   "outputs": [
    {
     "data": {
      "text/plain": [
       "0.7311892032906163"
      ]
     },
     "execution_count": 604,
     "metadata": {},
     "output_type": "execute_result"
    }
   ],
   "source": [
    "preds = xgb_cl.predict(x_test)\n",
    "roc_auc_score(preds, y_test)"
   ]
  },
  {
   "cell_type": "code",
   "execution_count": 605,
   "id": "17ddefa7",
   "metadata": {},
   "outputs": [
    {
     "data": {
      "text/plain": [
       "<sklearn.metrics._plot.roc_curve.RocCurveDisplay at 0x1d58d27c760>"
      ]
     },
     "execution_count": 605,
     "metadata": {},
     "output_type": "execute_result"
    },
    {
     "data": {
      "image/png": "[encoded data removed]",
      "text/plain": [
       "<Figure size 432x288 with 1 Axes>"
      ]
     },
     "metadata": {
      "needs_background": "light"
     },
     "output_type": "display_data"
    }
   ],
   "source": [
    "metrics.plot_roc_curve(xgb_cl, x_test, y_test) "
   ]
  },
  {
   "cell_type": "code",
   "execution_count": 606,
   "id": "327ecd44",
   "metadata": {},
   "outputs": [
    {
     "data": {
      "text/plain": [
       "0.7506607929515419"
      ]
     },
     "execution_count": 606,
     "metadata": {},
     "output_type": "execute_result"
    }
   ],
   "source": [
    "predThresH = (clf_RF.predict_proba(x_test)[:,1] >= 0.38).astype('int')\n",
    "accuracy_score(predThresH, y_test)"
   ]
  },
  {
   "cell_type": "code",
   "execution_count": 607,
   "id": "07a552c2",
   "metadata": {},
   "outputs": [
    {
     "data": {
      "text/plain": [
       "0.7567174357808593"
      ]
     },
     "execution_count": 607,
     "metadata": {},
     "output_type": "execute_result"
    }
   ],
   "source": [
    "roc_auc_score(predThresH, y_test)"
   ]
  },
  {
   "cell_type": "code",
   "execution_count": null,
   "id": "c1e1e425",
   "metadata": {},
   "outputs": [],
   "source": []
  },
  {
   "cell_type": "markdown",
   "id": "4b8ebd3f",
   "metadata": {},
   "source": [
    "# Client discount\n",
    "\n",
    "### We want offer discounts to clients with a high churn probability  => threshold = 0.35"
   ]
  },
  {
   "cell_type": "code",
   "execution_count": 758,
   "id": "6f41ba18",
   "metadata": {},
   "outputs": [],
   "source": [
    "xToAnalyse = df_normalized.copy()"
   ]
  },
  {
   "cell_type": "code",
   "execution_count": 759,
   "id": "b1fe3c71",
   "metadata": {},
   "outputs": [],
   "source": [
    "xToAnalyse[\"CHURN_LABEL\"] = (clf_RF.predict_proba(xToAnalyse[selectedCols])[:,1] >= 0.4).astype('int')"
   ]
  },
  {
   "cell_type": "code",
   "execution_count": 760,
   "id": "768dedd2",
   "metadata": {},
   "outputs": [],
   "source": [
    "xToAnalyse[\"CHURN_PROBABILITY\"] = clf_RF.predict_proba(xToAnalyse[selectedCols])[:,1]"
   ]
  },
  {
   "cell_type": "code",
   "execution_count": 761,
   "id": "fbcc5acd",
   "metadata": {},
   "outputs": [
    {
     "data": {
      "text/plain": [
       "0    0.446833\n",
       "1    0.380308\n",
       "2    0.779372\n",
       "3    0.951757\n",
       "4    0.934834\n",
       "5    0.938314\n",
       "6    0.825679\n",
       "7    0.496830\n",
       "8    0.698831\n",
       "9    0.592017\n",
       "Name: CHURN_PROBABILITY, dtype: float64"
      ]
     },
     "execution_count": 761,
     "metadata": {},
     "output_type": "execute_result"
    }
   ],
   "source": [
    "xToAnalyse[\"CHURN_PROBABILITY\"].head(10)"
   ]
  },
  {
   "cell_type": "code",
   "execution_count": 762,
   "id": "984d74c0",
   "metadata": {},
   "outputs": [],
   "source": [
    "originalFacture = df_training[\"OVERCHARGE\"] + df_training[\"REVENUE\"]"
   ]
  },
  {
   "cell_type": "code",
   "execution_count": 763,
   "id": "0153c2a2",
   "metadata": {},
   "outputs": [],
   "source": [
    "discList = [0, 5, 10, 15, 20, 25, 30,35, 40, 45,50]\n",
    "#discList = [0]\n",
    "for disc in discList:\n",
    "    beforeExpValue = np.multiply(xToAnalyse[\"CHURN_PROBABILITY\"],originalFacture)\n",
    "    xToAnalyse.iloc[:][\"OVERCHARGE\"]  = xToAnalyse[\"OVERCHARGE\"]*(1.-float(disc)/float(100.))\n",
    "    afterProba = clf_RF.predict_proba(xToAnalyse[selectedCols])[:,1]\n",
    "    if disc == 0:\n",
    "        afterExpValue = beforeExpValue\n",
    "    else:\n",
    "        afterExpValue = np.multiply(afterProba,originalFacture)*(1.-float(disc)/float(100.)) - 10.\n",
    "        \n",
    "    benefit = afterExpValue - beforeExpValue\n",
    "    xToAnalyse[\"disc_\"+str(disc)] = disc\n",
    "    xToAnalyse[str(disc)] = benefit\n",
    "    "
   ]
  },
  {
   "cell_type": "code",
   "execution_count": 764,
   "id": "75e947fb",
   "metadata": {},
   "outputs": [
    {
     "data": {
      "text/plain": [
       "[None, None, None, None, None, None, None, None, None, None, None]"
      ]
     },
     "execution_count": 764,
     "metadata": {},
     "output_type": "execute_result"
    }
   ],
   "source": [
    "colsDisc = []\n",
    "[colsDisc.append(str(disc)) for disc in discList]"
   ]
  },
  {
   "cell_type": "code",
   "execution_count": 765,
   "id": "2c0839f4",
   "metadata": {},
   "outputs": [
    {
     "data": {
      "text/plain": [
       "['0', '5', '10', '15', '20', '25', '30', '35', '40', '45', '50']"
      ]
     },
     "execution_count": 765,
     "metadata": {},
     "output_type": "execute_result"
    }
   ],
   "source": [
    "colsDisc"
   ]
  },
  {
   "cell_type": "code",
   "execution_count": 766,
   "id": "14e723bd",
   "metadata": {},
   "outputs": [],
   "source": [
    "xToAnalyse[\"maxBenefit\"] = xToAnalyse[colsDisc].loc[:].max(axis=1)"
   ]
  },
  {
   "cell_type": "code",
   "execution_count": 767,
   "id": "d6b93040",
   "metadata": {},
   "outputs": [],
   "source": [
    "xToAnalyse[\"DISCOUNT\"] = xToAnalyse[colsDisc].loc[:].idxmax(axis=1).astype(int)"
   ]
  },
  {
   "cell_type": "code",
   "execution_count": 768,
   "id": "bb9cfecf",
   "metadata": {},
   "outputs": [
    {
     "data": {
      "text/plain": [
       "<AxesSubplot:>"
      ]
     },
     "execution_count": 768,
     "metadata": {},
     "output_type": "execute_result"
    },
    {
     "data": {
      "image/png": "[encoded data removed]",
      "text/plain": [
       "<Figure size 432x288 with 1 Axes>"
      ]
     },
     "metadata": {
      "needs_background": "light"
     },
     "output_type": "display_data"
    }
   ],
   "source": [
    "xToAnalyse[\"DISCOUNT\"].hist()"
   ]
  },
  {
   "cell_type": "code",
   "execution_count": 769,
   "id": "ef0e4974",
   "metadata": {},
   "outputs": [
    {
     "data": {
      "text/plain": [
       "<AxesSubplot:>"
      ]
     },
     "execution_count": 769,
     "metadata": {},
     "output_type": "execute_result"
    },
    {
     "data": {
      "image/png": "[encoded data removed]",
      "text/plain": [
       "<Figure size 432x288 with 1 Axes>"
      ]
     },
     "metadata": {
      "needs_background": "light"
     },
     "output_type": "display_data"
    }
   ],
   "source": [
    "xToAnalyse[\"CHURN_LABEL\"].hist()"
   ]
  },
  {
   "cell_type": "code",
   "execution_count": 770,
   "id": "ecd504db",
   "metadata": {},
   "outputs": [
    {
     "data": {
      "text/html": [
       "<div>\n",
       "<style scoped>\n",
       "    .dataframe tbody tr th:only-of-type {\n",
       "        vertical-align: middle;\n",
       "    }\n",
       "\n",
       "    .dataframe tbody tr th {\n",
       "        vertical-align: top;\n",
       "    }\n",
       "\n",
       "    .dataframe thead th {\n",
       "        text-align: right;\n",
       "    }\n",
       "</style>\n",
       "<table border=\"1\" class=\"dataframe\">\n",
       "  <thead>\n",
       "    <tr style=\"text-align: right;\">\n",
       "      <th></th>\n",
       "      <th>0</th>\n",
       "      <th>5</th>\n",
       "      <th>10</th>\n",
       "      <th>15</th>\n",
       "      <th>20</th>\n",
       "      <th>25</th>\n",
       "      <th>30</th>\n",
       "      <th>35</th>\n",
       "      <th>40</th>\n",
       "      <th>45</th>\n",
       "      <th>50</th>\n",
       "    </tr>\n",
       "  </thead>\n",
       "  <tbody>\n",
       "    <tr>\n",
       "      <th>0</th>\n",
       "      <td>0.0</td>\n",
       "      <td>-18.306144</td>\n",
       "      <td>-20.584282</td>\n",
       "      <td>-14.823262</td>\n",
       "      <td>-10.092976</td>\n",
       "      <td>-10.197985</td>\n",
       "      <td>-13.464680</td>\n",
       "      <td>-25.018301</td>\n",
       "      <td>-34.958096</td>\n",
       "      <td>-41.219130</td>\n",
       "      <td>-47.480164</td>\n",
       "    </tr>\n",
       "    <tr>\n",
       "      <th>1</th>\n",
       "      <td>0.0</td>\n",
       "      <td>-17.817737</td>\n",
       "      <td>-17.535979</td>\n",
       "      <td>-22.565885</td>\n",
       "      <td>-32.489084</td>\n",
       "      <td>-34.132757</td>\n",
       "      <td>-9.843021</td>\n",
       "      <td>-21.269647</td>\n",
       "      <td>-32.463485</td>\n",
       "      <td>-39.021682</td>\n",
       "      <td>-45.579878</td>\n",
       "    </tr>\n",
       "    <tr>\n",
       "      <th>2</th>\n",
       "      <td>0.0</td>\n",
       "      <td>-14.018168</td>\n",
       "      <td>-12.381160</td>\n",
       "      <td>-20.515839</td>\n",
       "      <td>-28.821806</td>\n",
       "      <td>-36.281395</td>\n",
       "      <td>-40.510336</td>\n",
       "      <td>-44.848261</td>\n",
       "      <td>-52.719127</td>\n",
       "      <td>-60.589993</td>\n",
       "      <td>-68.460859</td>\n",
       "    </tr>\n",
       "    <tr>\n",
       "      <th>3</th>\n",
       "      <td>0.0</td>\n",
       "      <td>-23.277008</td>\n",
       "      <td>-36.554016</td>\n",
       "      <td>-49.831025</td>\n",
       "      <td>-63.108033</td>\n",
       "      <td>-76.385041</td>\n",
       "      <td>-89.662049</td>\n",
       "      <td>-102.939058</td>\n",
       "      <td>-116.216066</td>\n",
       "      <td>-129.493074</td>\n",
       "      <td>-142.770082</td>\n",
       "    </tr>\n",
       "    <tr>\n",
       "      <th>4</th>\n",
       "      <td>0.0</td>\n",
       "      <td>-15.982939</td>\n",
       "      <td>-21.965879</td>\n",
       "      <td>-27.948818</td>\n",
       "      <td>-33.931757</td>\n",
       "      <td>-39.914697</td>\n",
       "      <td>-45.897636</td>\n",
       "      <td>-51.880576</td>\n",
       "      <td>-57.863515</td>\n",
       "      <td>-63.846454</td>\n",
       "      <td>-69.829394</td>\n",
       "    </tr>\n",
       "    <tr>\n",
       "      <th>5</th>\n",
       "      <td>0.0</td>\n",
       "      <td>-20.180710</td>\n",
       "      <td>-30.361419</td>\n",
       "      <td>-40.542129</td>\n",
       "      <td>-50.722838</td>\n",
       "      <td>-60.903548</td>\n",
       "      <td>-71.084257</td>\n",
       "      <td>-81.264967</td>\n",
       "      <td>-91.445677</td>\n",
       "      <td>-101.626386</td>\n",
       "      <td>-111.807096</td>\n",
       "    </tr>\n",
       "    <tr>\n",
       "      <th>6</th>\n",
       "      <td>0.0</td>\n",
       "      <td>-14.376096</td>\n",
       "      <td>-18.752192</td>\n",
       "      <td>-23.128289</td>\n",
       "      <td>-27.504385</td>\n",
       "      <td>-31.880481</td>\n",
       "      <td>-36.256577</td>\n",
       "      <td>-40.632673</td>\n",
       "      <td>-45.008770</td>\n",
       "      <td>-49.384866</td>\n",
       "      <td>-53.760962</td>\n",
       "    </tr>\n",
       "    <tr>\n",
       "      <th>7</th>\n",
       "      <td>0.0</td>\n",
       "      <td>-14.785849</td>\n",
       "      <td>-14.869248</td>\n",
       "      <td>-30.546225</td>\n",
       "      <td>-47.534222</td>\n",
       "      <td>-48.594914</td>\n",
       "      <td>-82.637581</td>\n",
       "      <td>-69.689375</td>\n",
       "      <td>-73.665630</td>\n",
       "      <td>-93.668246</td>\n",
       "      <td>-104.841904</td>\n",
       "    </tr>\n",
       "    <tr>\n",
       "      <th>8</th>\n",
       "      <td>0.0</td>\n",
       "      <td>-14.996642</td>\n",
       "      <td>-19.993284</td>\n",
       "      <td>-24.989926</td>\n",
       "      <td>-29.986568</td>\n",
       "      <td>-34.983211</td>\n",
       "      <td>-39.979853</td>\n",
       "      <td>-44.976495</td>\n",
       "      <td>-49.973137</td>\n",
       "      <td>-54.969779</td>\n",
       "      <td>-59.966421</td>\n",
       "    </tr>\n",
       "    <tr>\n",
       "      <th>9</th>\n",
       "      <td>0.0</td>\n",
       "      <td>-13.710441</td>\n",
       "      <td>-12.796281</td>\n",
       "      <td>-20.441488</td>\n",
       "      <td>-26.878531</td>\n",
       "      <td>-34.930551</td>\n",
       "      <td>-46.156149</td>\n",
       "      <td>-49.711801</td>\n",
       "      <td>-55.491765</td>\n",
       "      <td>-61.271728</td>\n",
       "      <td>-67.051691</td>\n",
       "    </tr>\n",
       "    <tr>\n",
       "      <th>10</th>\n",
       "      <td>0.0</td>\n",
       "      <td>-15.160194</td>\n",
       "      <td>-21.518881</td>\n",
       "      <td>-19.196517</td>\n",
       "      <td>-18.573873</td>\n",
       "      <td>-16.173702</td>\n",
       "      <td>-5.925074</td>\n",
       "      <td>-3.488383</td>\n",
       "      <td>-11.253716</td>\n",
       "      <td>-14.440676</td>\n",
       "      <td>-17.627636</td>\n",
       "    </tr>\n",
       "    <tr>\n",
       "      <th>11</th>\n",
       "      <td>0.0</td>\n",
       "      <td>-30.193673</td>\n",
       "      <td>-53.788896</td>\n",
       "      <td>-77.724046</td>\n",
       "      <td>-123.719222</td>\n",
       "      <td>-150.912412</td>\n",
       "      <td>-165.303753</td>\n",
       "      <td>-177.560732</td>\n",
       "      <td>-199.130311</td>\n",
       "      <td>-217.566639</td>\n",
       "      <td>-237.220301</td>\n",
       "    </tr>\n",
       "    <tr>\n",
       "      <th>12</th>\n",
       "      <td>0.0</td>\n",
       "      <td>-19.042068</td>\n",
       "      <td>-28.393252</td>\n",
       "      <td>-40.379218</td>\n",
       "      <td>-55.081900</td>\n",
       "      <td>-60.042985</td>\n",
       "      <td>-69.058346</td>\n",
       "      <td>-81.073706</td>\n",
       "      <td>-91.409066</td>\n",
       "      <td>-101.744427</td>\n",
       "      <td>-112.079787</td>\n",
       "    </tr>\n",
       "    <tr>\n",
       "      <th>13</th>\n",
       "      <td>0.0</td>\n",
       "      <td>-15.705111</td>\n",
       "      <td>-19.524253</td>\n",
       "      <td>-16.702265</td>\n",
       "      <td>-15.956068</td>\n",
       "      <td>28.252443</td>\n",
       "      <td>34.239499</td>\n",
       "      <td>41.040937</td>\n",
       "      <td>53.386638</td>\n",
       "      <td>47.714128</td>\n",
       "      <td>45.752410</td>\n",
       "    </tr>\n",
       "    <tr>\n",
       "      <th>14</th>\n",
       "      <td>0.0</td>\n",
       "      <td>-15.067326</td>\n",
       "      <td>-16.827798</td>\n",
       "      <td>4.209546</td>\n",
       "      <td>13.591249</td>\n",
       "      <td>1.686482</td>\n",
       "      <td>12.641706</td>\n",
       "      <td>17.896691</td>\n",
       "      <td>10.792164</td>\n",
       "      <td>8.376628</td>\n",
       "      <td>-1.233431</td>\n",
       "    </tr>\n",
       "    <tr>\n",
       "      <th>15</th>\n",
       "      <td>0.0</td>\n",
       "      <td>-7.511979</td>\n",
       "      <td>-9.716350</td>\n",
       "      <td>-7.768217</td>\n",
       "      <td>2.872103</td>\n",
       "      <td>18.772071</td>\n",
       "      <td>21.555718</td>\n",
       "      <td>28.503155</td>\n",
       "      <td>24.801252</td>\n",
       "      <td>16.126065</td>\n",
       "      <td>13.510445</td>\n",
       "    </tr>\n",
       "    <tr>\n",
       "      <th>16</th>\n",
       "      <td>0.0</td>\n",
       "      <td>-20.724479</td>\n",
       "      <td>-33.198958</td>\n",
       "      <td>-30.798438</td>\n",
       "      <td>-46.714583</td>\n",
       "      <td>-53.075000</td>\n",
       "      <td>-76.344306</td>\n",
       "      <td>-79.607083</td>\n",
       "      <td>-94.635899</td>\n",
       "      <td>-110.234211</td>\n",
       "      <td>-122.807679</td>\n",
       "    </tr>\n",
       "    <tr>\n",
       "      <th>17</th>\n",
       "      <td>0.0</td>\n",
       "      <td>29.554068</td>\n",
       "      <td>49.940028</td>\n",
       "      <td>37.409989</td>\n",
       "      <td>65.010083</td>\n",
       "      <td>21.058385</td>\n",
       "      <td>11.541194</td>\n",
       "      <td>0.908049</td>\n",
       "      <td>-5.617909</td>\n",
       "      <td>-17.987406</td>\n",
       "      <td>-28.609704</td>\n",
       "    </tr>\n",
       "    <tr>\n",
       "      <th>18</th>\n",
       "      <td>0.0</td>\n",
       "      <td>-16.943052</td>\n",
       "      <td>-17.744128</td>\n",
       "      <td>-33.908410</td>\n",
       "      <td>-24.283205</td>\n",
       "      <td>11.570453</td>\n",
       "      <td>20.877346</td>\n",
       "      <td>8.603162</td>\n",
       "      <td>24.890823</td>\n",
       "      <td>20.490720</td>\n",
       "      <td>14.633264</td>\n",
       "    </tr>\n",
       "    <tr>\n",
       "      <th>19</th>\n",
       "      <td>0.0</td>\n",
       "      <td>-15.438149</td>\n",
       "      <td>-20.876298</td>\n",
       "      <td>-26.314446</td>\n",
       "      <td>-31.752595</td>\n",
       "      <td>-37.190744</td>\n",
       "      <td>-42.628893</td>\n",
       "      <td>-48.067042</td>\n",
       "      <td>-53.505191</td>\n",
       "      <td>-58.943339</td>\n",
       "      <td>-64.381488</td>\n",
       "    </tr>\n",
       "  </tbody>\n",
       "</table>\n",
       "</div>"
      ],
      "text/plain": [
       "      0          5         10         15          20          25          30  \\\n",
       "0   0.0 -18.306144 -20.584282 -14.823262  -10.092976  -10.197985  -13.464680   \n",
       "1   0.0 -17.817737 -17.535979 -22.565885  -32.489084  -34.132757   -9.843021   \n",
       "2   0.0 -14.018168 -12.381160 -20.515839  -28.821806  -36.281395  -40.510336   \n",
       "3   0.0 -23.277008 -36.554016 -49.831025  -63.108033  -76.385041  -89.662049   \n",
       "4   0.0 -15.982939 -21.965879 -27.948818  -33.931757  -39.914697  -45.897636   \n",
       "5   0.0 -20.180710 -30.361419 -40.542129  -50.722838  -60.903548  -71.084257   \n",
       "6   0.0 -14.376096 -18.752192 -23.128289  -27.504385  -31.880481  -36.256577   \n",
       "7   0.0 -14.785849 -14.869248 -30.546225  -47.534222  -48.594914  -82.637581   \n",
       "8   0.0 -14.996642 -19.993284 -24.989926  -29.986568  -34.983211  -39.979853   \n",
       "9   0.0 -13.710441 -12.796281 -20.441488  -26.878531  -34.930551  -46.156149   \n",
       "10  0.0 -15.160194 -21.518881 -19.196517  -18.573873  -16.173702   -5.925074   \n",
       "11  0.0 -30.193673 -53.788896 -77.724046 -123.719222 -150.912412 -165.303753   \n",
       "12  0.0 -19.042068 -28.393252 -40.379218  -55.081900  -60.042985  -69.058346   \n",
       "13  0.0 -15.705111 -19.524253 -16.702265  -15.956068   28.252443   34.239499   \n",
       "14  0.0 -15.067326 -16.827798   4.209546   13.591249    1.686482   12.641706   \n",
       "15  0.0  -7.511979  -9.716350  -7.768217    2.872103   18.772071   21.555718   \n",
       "16  0.0 -20.724479 -33.198958 -30.798438  -46.714583  -53.075000  -76.344306   \n",
       "17  0.0  29.554068  49.940028  37.409989   65.010083   21.058385   11.541194   \n",
       "18  0.0 -16.943052 -17.744128 -33.908410  -24.283205   11.570453   20.877346   \n",
       "19  0.0 -15.438149 -20.876298 -26.314446  -31.752595  -37.190744  -42.628893   \n",
       "\n",
       "            35          40          45          50  \n",
       "0   -25.018301  -34.958096  -41.219130  -47.480164  \n",
       "1   -21.269647  -32.463485  -39.021682  -45.579878  \n",
       "2   -44.848261  -52.719127  -60.589993  -68.460859  \n",
       "3  -102.939058 -116.216066 -129.493074 -142.770082  \n",
       "4   -51.880576  -57.863515  -63.846454  -69.829394  \n",
       "5   -81.264967  -91.445677 -101.626386 -111.807096  \n",
       "6   -40.632673  -45.008770  -49.384866  -53.760962  \n",
       "7   -69.689375  -73.665630  -93.668246 -104.841904  \n",
       "8   -44.976495  -49.973137  -54.969779  -59.966421  \n",
       "9   -49.711801  -55.491765  -61.271728  -67.051691  \n",
       "10   -3.488383  -11.253716  -14.440676  -17.627636  \n",
       "11 -177.560732 -199.130311 -217.566639 -237.220301  \n",
       "12  -81.073706  -91.409066 -101.744427 -112.079787  \n",
       "13   41.040937   53.386638   47.714128   45.752410  \n",
       "14   17.896691   10.792164    8.376628   -1.233431  \n",
       "15   28.503155   24.801252   16.126065   13.510445  \n",
       "16  -79.607083  -94.635899 -110.234211 -122.807679  \n",
       "17    0.908049   -5.617909  -17.987406  -28.609704  \n",
       "18    8.603162   24.890823   20.490720   14.633264  \n",
       "19  -48.067042  -53.505191  -58.943339  -64.381488  "
      ]
     },
     "execution_count": 770,
     "metadata": {},
     "output_type": "execute_result"
    }
   ],
   "source": [
    "xToAnalyse[colsDisc].head(20)"
   ]
  },
  {
   "cell_type": "code",
   "execution_count": 771,
   "id": "d96fdec2",
   "metadata": {},
   "outputs": [
    {
     "name": "stderr",
     "output_type": "stream",
     "text": [
      "C:\\Users\\marta\\AppData\\Local\\Temp/ipykernel_3972/1220258670.py:2: SettingWithCopyWarning:\n",
      "\n",
      "\n",
      "A value is trying to be set on a copy of a slice from a DataFrame\n",
      "\n",
      "See the caveats in the documentation: https://pandas.pydata.org/pandas-docs/stable/user_guide/indexing.html#returning-a-view-versus-a-copy\n",
      "\n"
     ]
    }
   ],
   "source": [
    "xToAnalyse[\"CLIENT_TO_CONTACT\"] = 'NO'\n",
    "xToAnalyse[\"CLIENT_TO_CONTACT\"][xToAnalyse[\"DISCOUNT\"]!=0] = 'YES'"
   ]
  },
  {
   "cell_type": "code",
   "execution_count": 772,
   "id": "25b88d2e",
   "metadata": {},
   "outputs": [
    {
     "data": {
      "text/plain": [
       "Index(['DATA', 'INCOME', 'OVERCHARGE', 'LEFTOVER', 'HOUSE', 'CHILD', 'REVENUE',\n",
       "       'HANDSET_PRICE', 'OVER_15MINS_CALLS_PER_MONTH', 'TIME_CLIENT',\n",
       "       'AVERAGE_CALL_DURATION', 'REPORTED_SATISFACTION',\n",
       "       'REPORTED_USAGE_LEVEL', 'CONSIDERING_CHANGE_OF_PLAN', 'CHURN_LABEL',\n",
       "       'CHURN_PROBABILITY', 'disc_0', '0', 'disc_5', '5', 'disc_10', '10',\n",
       "       'disc_15', '15', 'disc_20', '20', 'disc_25', '25', 'disc_30', '30',\n",
       "       'disc_35', '35', 'disc_40', '40', 'disc_45', '45', 'disc_50', '50',\n",
       "       'maxBenefit', 'DISCOUNT', 'CLIENT_TO_CONTACT'],\n",
       "      dtype='object')"
      ]
     },
     "execution_count": 772,
     "metadata": {},
     "output_type": "execute_result"
    }
   ],
   "source": [
    "xToAnalyse.columns"
   ]
  },
  {
   "cell_type": "code",
   "execution_count": 773,
   "id": "e7fb8016",
   "metadata": {},
   "outputs": [],
   "source": [
    "RESULTS_CSV = xToAnalyse[[\"CHURN_PROBABILITY\", \"CHURN_LABEL\", \"CLIENT_TO_CONTACT\", \"DISCOUNT\"]]"
   ]
  },
  {
   "cell_type": "code",
   "execution_count": 774,
   "id": "eb02bfac",
   "metadata": {},
   "outputs": [],
   "source": [
    "RESULTS_CSV.to_csv(\"results.csv\", sep=\";\")"
   ]
  },
  {
   "cell_type": "code",
   "execution_count": null,
   "id": "81bbc7cf",
   "metadata": {},
   "outputs": [],
   "source": []
  },
  {
   "cell_type": "code",
   "execution_count": 684,
   "id": "e4576aa1",
   "metadata": {},
   "outputs": [],
   "source": [
    "reslist = []\n",
    "iClient = 8\n",
    "nbDisc = 10\n",
    "maxBenefit = 0\n",
    "discOpt = 0\n",
    "for disc in range(nbDisc+1):\n",
    "        beforeExpValue = xToAnalyse[\"proba\"][iClient]*originalFacture[iClient]\n",
    "        afterPrice  = xToAnalyse[\"OVERCHARGE\"][iClient]*(1.-float(disc)/float(nbDisc))\n",
    "        xToAnalyse[selectedCols].iloc[iClient][\"OVERCHARGE\"] = afterPrice\n",
    "        afterProba = clf_RF.predict_proba(xToAnalyse[selectedCols].loc[iClient:iClient])[:,1][0]\n",
    "        afterExpValue = afterProba*originalFacture[iClient]*(1.-float(disc)/float(nbDisc)) - 10.\n",
    "        benefit = afterExpValue - beforeExpValue\n",
    "        #reslist.append([disc, beforeExpValue, afterPrice, afterProba, afterExpValue, benefit])\n",
    "        reslist.append([disc, benefit])"
   ]
  },
  {
   "cell_type": "code",
   "execution_count": 685,
   "id": "ce211664",
   "metadata": {},
   "outputs": [
    {
     "data": {
      "text/plain": [
       "[[0, -10.0],\n",
       " [1, -11.167004273504274],\n",
       " [2, -12.334008547008546],\n",
       " [3, -13.501012820512821],\n",
       " [4, -14.668017094017095],\n",
       " [5, -15.835021367521367],\n",
       " [6, -17.00202564102564],\n",
       " [7, -18.169029914529915],\n",
       " [8, -19.33603418803419],\n",
       " [9, -20.50303846153846],\n",
       " [10, -21.670042735042735]]"
      ]
     },
     "execution_count": 685,
     "metadata": {},
     "output_type": "execute_result"
    }
   ],
   "source": [
    "reslist"
   ]
  },
  {
   "cell_type": "code",
   "execution_count": null,
   "id": "5cab1474",
   "metadata": {},
   "outputs": [],
   "source": []
  }
 ],
 "metadata": {
  "kernelspec": {
   "display_name": "Python 3",
   "language": "python",
   "name": "python3"
  },
  "language_info": {
   "codemirror_mode": {
    "name": "ipython",
    "version": 3
   },
   "file_extension": ".py",
   "mimetype": "text/x-python",
   "name": "python",
   "nbconvert_exporter": "python",
   "pygments_lexer": "ipython3",
   "version": "3.7.6"
  }
 },
 "nbformat": 4,
 "nbformat_minor": 5
}
