{
 "cells": [
  {
   "cell_type": "markdown",
   "id": "06a364f1",
   "metadata": {},
   "source": [
    "<hr style=\"border-width:2px;border-color:#75ADR1\">\n",
    "\n",
    "# Models"
   ]
  },
  {
   "cell_type": "markdown",
   "id": "26f941ca",
   "metadata": {},
   "source": [
    "### Import packages"
   ]
  },
  {
   "cell_type": "code",
   "execution_count": 1,
   "id": "7375f9ef",
   "metadata": {},
   "outputs": [],
   "source": [
    "import pandas as pd\n",
    "import numpy as np\n",
    "import matplotlib.pyplot as plt\n",
    "import plotly.express as pximport \n",
    "import matplotlib.pyplot as plt\n",
    "%matplotlib inline\n",
    "import plotly.express as px\n",
    "import seaborn as sns\n",
    "\n",
    "import sklearn\n",
    "from sklearn.preprocessing import MinMaxScaler\n",
    "from sklearn.decomposition import PCA\n",
    "\n",
    "import statsmodels.api as sm\n",
    "import statsmodels.formula.api as smf\n",
    "\n",
    "\n",
    "from sklearn.feature_selection import VarianceThreshold, SelectKBest, SelectFromModel, f_regression, mutual_info_regression, RFE, RFECV\n",
    "from sklearn.model_selection import train_test_split, KFold, GridSearchCV\n",
    "from sklearn.linear_model import LinearRegression, Lasso\n",
    "from sklearn.preprocessing import StandardScaler\n",
    "\n",
    "from sklearn.metrics import roc_auc_score, accuracy_score\n",
    "\n",
    "\n",
    "from sklearn.preprocessing import MinMaxScaler\n",
    "from sklearn.decomposition import PCA\n",
    "from sklearn.model_selection import train_test_split\n",
    "\n",
    "\n",
    "from sklearn import svm\n",
    "from sklearn import model_selection\n",
    "from sklearn.model_selection import train_test_split\n",
    "from sklearn import preprocessing\n",
    "\n",
    "from sklearn.ensemble import RandomForestClassifier\n",
    "from sklearn import metrics \n",
    "\n",
    "import warnings\n",
    "warnings.filterwarnings('ignore')\n",
    "\n",
    "from sklearn.experimental import enable_iterative_imputer\n",
    "from sklearn.impute import IterativeImputer\n",
    "import xgboost as xgb"
   ]
  },
  {
   "cell_type": "code",
   "execution_count": 2,
   "id": "e82a2f9c",
   "metadata": {},
   "outputs": [],
   "source": [
    "df_training_norm  = pd.read_csv('df_training_norm_reduced.csv', sep = ',', index_col=0)"
   ]
  },
  {
   "cell_type": "code",
   "execution_count": 3,
   "id": "a49060f7",
   "metadata": {
    "scrolled": true
   },
   "outputs": [
    {
     "data": {
      "text/html": [
       "<div>\n",
       "<style scoped>\n",
       "    .dataframe tbody tr th:only-of-type {\n",
       "        vertical-align: middle;\n",
       "    }\n",
       "\n",
       "    .dataframe tbody tr th {\n",
       "        vertical-align: top;\n",
       "    }\n",
       "\n",
       "    .dataframe thead th {\n",
       "        text-align: right;\n",
       "    }\n",
       "</style>\n",
       "<table border=\"1\" class=\"dataframe\">\n",
       "  <thead>\n",
       "    <tr style=\"text-align: right;\">\n",
       "      <th></th>\n",
       "      <th>DATA</th>\n",
       "      <th>INCOME</th>\n",
       "      <th>OVERCHARGE</th>\n",
       "      <th>LEFTOVER</th>\n",
       "      <th>HOUSE</th>\n",
       "      <th>HANDSET_PRICE</th>\n",
       "      <th>OVER_15MINS_CALLS_PER_MONTH</th>\n",
       "      <th>REPORTED_SATISFACTION</th>\n",
       "      <th>CONSIDERING_CHANGE_OF_PLAN</th>\n",
       "      <th>CHURNED</th>\n",
       "    </tr>\n",
       "  </thead>\n",
       "  <tbody>\n",
       "    <tr>\n",
       "      <th>0</th>\n",
       "      <td>0.100000</td>\n",
       "      <td>0.104513</td>\n",
       "      <td>0.006667</td>\n",
       "      <td>0.000000</td>\n",
       "      <td>0.879223</td>\n",
       "      <td>0.032510</td>\n",
       "      <td>0.034483</td>\n",
       "      <td>1.00</td>\n",
       "      <td>0.75</td>\n",
       "      <td>1.0</td>\n",
       "    </tr>\n",
       "    <tr>\n",
       "      <th>1</th>\n",
       "      <td>0.048129</td>\n",
       "      <td>0.224967</td>\n",
       "      <td>0.523333</td>\n",
       "      <td>0.168539</td>\n",
       "      <td>0.286337</td>\n",
       "      <td>0.149545</td>\n",
       "      <td>0.931034</td>\n",
       "      <td>0.75</td>\n",
       "      <td>0.75</td>\n",
       "      <td>0.0</td>\n",
       "    </tr>\n",
       "    <tr>\n",
       "      <th>2</th>\n",
       "      <td>0.031621</td>\n",
       "      <td>0.594919</td>\n",
       "      <td>0.006667</td>\n",
       "      <td>0.146067</td>\n",
       "      <td>0.926117</td>\n",
       "      <td>0.472042</td>\n",
       "      <td>0.689655</td>\n",
       "      <td>0.50</td>\n",
       "      <td>0.75</td>\n",
       "      <td>1.0</td>\n",
       "    </tr>\n",
       "    <tr>\n",
       "      <th>3</th>\n",
       "      <td>0.040155</td>\n",
       "      <td>0.323442</td>\n",
       "      <td>0.616667</td>\n",
       "      <td>0.000000</td>\n",
       "      <td>0.984040</td>\n",
       "      <td>0.338101</td>\n",
       "      <td>0.448276</td>\n",
       "      <td>0.75</td>\n",
       "      <td>0.75</td>\n",
       "      <td>0.0</td>\n",
       "    </tr>\n",
       "    <tr>\n",
       "      <th>4</th>\n",
       "      <td>0.066667</td>\n",
       "      <td>0.349223</td>\n",
       "      <td>0.673333</td>\n",
       "      <td>0.000000</td>\n",
       "      <td>0.287779</td>\n",
       "      <td>0.058518</td>\n",
       "      <td>0.620690</td>\n",
       "      <td>1.00</td>\n",
       "      <td>1.00</td>\n",
       "      <td>0.0</td>\n",
       "    </tr>\n",
       "  </tbody>\n",
       "</table>\n",
       "</div>"
      ],
      "text/plain": [
       "       DATA    INCOME  OVERCHARGE  LEFTOVER     HOUSE  HANDSET_PRICE  \\\n",
       "0  0.100000  0.104513    0.006667  0.000000  0.879223       0.032510   \n",
       "1  0.048129  0.224967    0.523333  0.168539  0.286337       0.149545   \n",
       "2  0.031621  0.594919    0.006667  0.146067  0.926117       0.472042   \n",
       "3  0.040155  0.323442    0.616667  0.000000  0.984040       0.338101   \n",
       "4  0.066667  0.349223    0.673333  0.000000  0.287779       0.058518   \n",
       "\n",
       "   OVER_15MINS_CALLS_PER_MONTH  REPORTED_SATISFACTION  \\\n",
       "0                     0.034483                   1.00   \n",
       "1                     0.931034                   0.75   \n",
       "2                     0.689655                   0.50   \n",
       "3                     0.448276                   0.75   \n",
       "4                     0.620690                   1.00   \n",
       "\n",
       "   CONSIDERING_CHANGE_OF_PLAN  CHURNED  \n",
       "0                        0.75      1.0  \n",
       "1                        0.75      0.0  \n",
       "2                        0.75      1.0  \n",
       "3                        0.75      0.0  \n",
       "4                        1.00      0.0  "
      ]
     },
     "execution_count": 3,
     "metadata": {},
     "output_type": "execute_result"
    }
   ],
   "source": [
    "df_training_norm.head()"
   ]
  },
  {
   "cell_type": "code",
   "execution_count": 4,
   "id": "4560112c",
   "metadata": {
    "scrolled": true
   },
   "outputs": [
    {
     "data": {
      "text/plain": [
       "Index(['DATA', 'INCOME', 'OVERCHARGE', 'LEFTOVER', 'HOUSE', 'HANDSET_PRICE',\n",
       "       'OVER_15MINS_CALLS_PER_MONTH', 'REPORTED_SATISFACTION',\n",
       "       'CONSIDERING_CHANGE_OF_PLAN', 'CHURNED'],\n",
       "      dtype='object')"
      ]
     },
     "execution_count": 4,
     "metadata": {},
     "output_type": "execute_result"
    }
   ],
   "source": [
    "df_training_norm.columns"
   ]
  },
  {
   "cell_type": "code",
   "execution_count": 5,
   "id": "8049825c",
   "metadata": {},
   "outputs": [],
   "source": [
    "selectedCols = ['DATA','INCOME', 'HOUSE', 'OVERCHARGE', 'OVER_15MINS_CALLS_PER_MONTH', 'REPORTED_SATISFACTION',\n",
    "       'CONSIDERING_CHANGE_OF_PLAN', 'HANDSET_PRICE']"
   ]
  },
  {
   "cell_type": "markdown",
   "id": "6a70bd81",
   "metadata": {},
   "source": [
    "## Logistic Regression"
   ]
  },
  {
   "cell_type": "code",
   "execution_count": 6,
   "id": "d0618d53",
   "metadata": {},
   "outputs": [],
   "source": [
    "X = df_training_norm.drop(['CHURNED'], axis = 1)\n",
    "Y = df_training_norm['CHURNED']\n",
    "\n",
    "x_train, x_test, y_train, y_test = train_test_split( X, Y, test_size=0.2, random_state=100)"
   ]
  },
  {
   "cell_type": "code",
   "execution_count": 7,
   "id": "cdaf595a",
   "metadata": {},
   "outputs": [],
   "source": [
    "from sklearn.linear_model import LogisticRegression\n",
    "from sklearn.metrics import accuracy_score, roc_auc_score\n",
    "clf_LR = LogisticRegression(random_state=1).fit(x_train, y_train)"
   ]
  },
  {
   "cell_type": "code",
   "execution_count": 8,
   "id": "5d3c0796",
   "metadata": {},
   "outputs": [
    {
     "data": {
      "text/plain": [
       "0.7074702512119877"
      ]
     },
     "execution_count": 8,
     "metadata": {},
     "output_type": "execute_result"
    }
   ],
   "source": [
    "clf_LR.score(x_train, y_train)"
   ]
  },
  {
   "cell_type": "code",
   "execution_count": 9,
   "id": "47a1646a",
   "metadata": {},
   "outputs": [
    {
     "data": {
      "text/plain": [
       "0.7171806167400882"
      ]
     },
     "execution_count": 9,
     "metadata": {},
     "output_type": "execute_result"
    }
   ],
   "source": [
    "clf_LR.score(x_test, y_test)"
   ]
  },
  {
   "cell_type": "code",
   "execution_count": 10,
   "id": "3270589a",
   "metadata": {},
   "outputs": [],
   "source": [
    "y_pred_LR = clf_LR.predict(x_test)\n",
    "y_proba_LR = clf_LR.predict_proba(x_test)"
   ]
  },
  {
   "cell_type": "code",
   "execution_count": 11,
   "id": "3ada4c1a",
   "metadata": {},
   "outputs": [
    {
     "data": {
      "text/plain": [
       "0.6859823643553657"
      ]
     },
     "execution_count": 11,
     "metadata": {},
     "output_type": "execute_result"
    }
   ],
   "source": [
    "y_pred_LR = clf_LR.predict(x_test)\n",
    "roc_auc_score(y_pred_LR, y_test)"
   ]
  },
  {
   "cell_type": "code",
   "execution_count": 12,
   "id": "0e7d65bf",
   "metadata": {},
   "outputs": [
    {
     "data": {
      "image/png": "[encoded data removed]",
      "text/plain": [
       "<Figure size 432x288 with 1 Axes>"
      ]
     },
     "metadata": {
      "needs_background": "light"
     },
     "output_type": "display_data"
    }
   ],
   "source": [
    "metrics.plot_roc_curve(clf_LR, x_test, y_test) ;"
   ]
  },
  {
   "cell_type": "markdown",
   "id": "f947fe0a",
   "metadata": {},
   "source": [
    "## SVM "
   ]
  },
  {
   "cell_type": "code",
   "execution_count": 13,
   "id": "4a880f26",
   "metadata": {},
   "outputs": [],
   "source": [
    "X = df_training_norm.drop(['CHURNED'], axis = 1)\n",
    "Y = df_training_norm['CHURNED']\n",
    "\n",
    "\n",
    "x_train, x_test, y_train, y_test = train_test_split( X, Y, test_size=0.2, random_state=10)"
   ]
  },
  {
   "cell_type": "code",
   "execution_count": 14,
   "id": "b52d9a71",
   "metadata": {},
   "outputs": [
    {
     "data": {
      "text/plain": [
       "SVC(gamma=0.01, kernel='poly')"
      ]
     },
     "execution_count": 14,
     "metadata": {},
     "output_type": "execute_result"
    }
   ],
   "source": [
    "clf_SVM = svm.SVC(gamma= 0.01, kernel = 'poly')\n",
    "clf_SVM.fit(x_train, y_train)"
   ]
  },
  {
   "cell_type": "code",
   "execution_count": 15,
   "id": "6909cb7a",
   "metadata": {},
   "outputs": [
    {
     "data": {
      "text/plain": [
       "0.632327016306743"
      ]
     },
     "execution_count": 15,
     "metadata": {},
     "output_type": "execute_result"
    }
   ],
   "source": [
    "clf_SVM.score(x_train, y_train)"
   ]
  },
  {
   "cell_type": "code",
   "execution_count": 16,
   "id": "32b6a5f1",
   "metadata": {
    "scrolled": true
   },
   "outputs": [
    {
     "data": {
      "text/plain": [
       "0.6440528634361233"
      ]
     },
     "execution_count": 16,
     "metadata": {},
     "output_type": "execute_result"
    }
   ],
   "source": [
    "clf_SVM.score(x_test, y_test)"
   ]
  },
  {
   "cell_type": "code",
   "execution_count": 17,
   "id": "1782c474",
   "metadata": {},
   "outputs": [],
   "source": [
    "parametres = {'C':[0.1, 1, 10], 'kernel':['rbf', 'linear', 'poly'], 'gamma':[0.001, 0.1, 0.5]}"
   ]
  },
  {
   "cell_type": "code",
   "execution_count": null,
   "id": "19422183",
   "metadata": {},
   "outputs": [],
   "source": [
    "grid_clf_SVM = model_selection.GridSearchCV(estimator = clf_SVM, param_grid = parametres, scoring = 'roc_auc')\n",
    "grille = grid_clf_SVM.fit(x_train,y_train)\n",
    "print(grid_clf_SVM.best_params_)"
   ]
  },
  {
   "cell_type": "code",
   "execution_count": 18,
   "id": "ee1137b5",
   "metadata": {},
   "outputs": [
    {
     "data": {
      "text/plain": [
       "SVC(C=10, gamma=0.5)"
      ]
     },
     "execution_count": 18,
     "metadata": {},
     "output_type": "execute_result"
    }
   ],
   "source": [
    "clf_SVM = svm.SVC(gamma= 0.5, kernel = 'rbf', C=10)\n",
    "clf_SVM.fit(x_train, y_train)"
   ]
  },
  {
   "cell_type": "code",
   "execution_count": 19,
   "id": "bc380d6c",
   "metadata": {},
   "outputs": [
    {
     "data": {
      "text/plain": [
       "0.746364037020714"
      ]
     },
     "execution_count": 19,
     "metadata": {},
     "output_type": "execute_result"
    }
   ],
   "source": [
    "clf_SVM.score(x_train, y_train)"
   ]
  },
  {
   "cell_type": "code",
   "execution_count": 20,
   "id": "082c47c2",
   "metadata": {
    "scrolled": true
   },
   "outputs": [
    {
     "data": {
      "text/plain": [
       "0.7242290748898679"
      ]
     },
     "execution_count": 20,
     "metadata": {},
     "output_type": "execute_result"
    }
   ],
   "source": [
    "clf_SVM.score(x_test, y_test)"
   ]
  },
  {
   "cell_type": "code",
   "execution_count": 21,
   "id": "69d667a4",
   "metadata": {},
   "outputs": [
    {
     "data": {
      "text/plain": [
       "0.7009830339321357"
      ]
     },
     "execution_count": 21,
     "metadata": {},
     "output_type": "execute_result"
    }
   ],
   "source": [
    "y_pred_SVM = clf_SVM.predict(x_test)\n",
    "roc_auc_score(y_pred_SVM, y_test)"
   ]
  },
  {
   "cell_type": "code",
   "execution_count": 22,
   "id": "987bf633",
   "metadata": {
    "scrolled": true
   },
   "outputs": [
    {
     "data": {
      "text/plain": [
       "<sklearn.metrics._plot.roc_curve.RocCurveDisplay at 0x20c3466fa48>"
      ]
     },
     "execution_count": 22,
     "metadata": {},
     "output_type": "execute_result"
    },
    {
     "data": {
      "image/png": "[encoded data removed]",
      "text/plain": [
       "<Figure size 432x288 with 1 Axes>"
      ]
     },
     "metadata": {
      "needs_background": "light"
     },
     "output_type": "display_data"
    }
   ],
   "source": [
    "metrics.plot_roc_curve(clf_SVM, x_test, y_test) "
   ]
  },
  {
   "cell_type": "markdown",
   "id": "27d11046",
   "metadata": {},
   "source": [
    "## Random Forest Regressor"
   ]
  },
  {
   "cell_type": "code",
   "execution_count": 23,
   "id": "40c9d25c",
   "metadata": {},
   "outputs": [],
   "source": [
    "X = df_training_norm.drop(['CHURNED'], axis = 1)\n",
    "Y = df_training_norm['CHURNED']\n",
    "\n",
    "X = df_training_norm[selectedCols]\n",
    "Y = df_training_norm[['CHURNED']]\n",
    "\n",
    "x_train, x_test, y_train, y_test = train_test_split( X, Y, test_size=0.2, random_state=10)"
   ]
  },
  {
   "cell_type": "markdown",
   "id": "dcfe0cc5",
   "metadata": {},
   "source": [
    "Tune hyper parameters"
   ]
  },
  {
   "cell_type": "code",
   "execution_count": 24,
   "id": "12c49494",
   "metadata": {},
   "outputs": [],
   "source": [
    "parametres = { \n",
    "    'n_estimators': [100,200,300],\n",
    "    'max_features': ['auto', 'sqrt', 'log2'],\n",
    "    'max_depth' : [8,12,15,18],\n",
    "    'criterion' :['gini', 'entropy']\n",
    "}"
   ]
  },
  {
   "cell_type": "code",
   "execution_count": 26,
   "id": "0d7567da",
   "metadata": {},
   "outputs": [],
   "source": [
    "grid_clf_RF = model_selection.GridSearchCV(estimator= clf_RF, param_grid= parametres, scoring = 'roc_auc')\n",
    "grille = grid_clf_RF.fit(x_train, y_train)\n",
    "print(grid_clf_RF.best_params_)"
   ]
  },
  {
   "cell_type": "code",
   "execution_count": 27,
   "id": "1e583f01",
   "metadata": {},
   "outputs": [
    {
     "data": {
      "text/plain": [
       "RandomForestClassifier(max_depth=15, random_state=100)"
      ]
     },
     "execution_count": 27,
     "metadata": {},
     "output_type": "execute_result"
    }
   ],
   "source": [
    "clf_RF = RandomForestClassifier(n_estimators=100, max_depth=15, random_state=100)\n",
    "#clf_RF = RandomForestClassifier(n_estimators=300, max_depth=15, random_state=100, max_features='auto', criterion='entropy')\n",
    "clf_RF.fit(x_train, y_train)"
   ]
  },
  {
   "cell_type": "code",
   "execution_count": 28,
   "id": "21c12d6b",
   "metadata": {},
   "outputs": [
    {
     "data": {
      "text/plain": [
       "0.9592331423534597"
      ]
     },
     "execution_count": 28,
     "metadata": {},
     "output_type": "execute_result"
    }
   ],
   "source": [
    "clf_RF.score(x_train, y_train)"
   ]
  },
  {
   "cell_type": "code",
   "execution_count": 29,
   "id": "96bdd9d9",
   "metadata": {},
   "outputs": [
    {
     "data": {
      "text/plain": [
       "0.7581497797356829"
      ]
     },
     "execution_count": 29,
     "metadata": {},
     "output_type": "execute_result"
    }
   ],
   "source": [
    "clf_RF.score(x_test, y_test)"
   ]
  },
  {
   "cell_type": "code",
   "execution_count": 30,
   "id": "79505afb",
   "metadata": {},
   "outputs": [
    {
     "data": {
      "text/plain": [
       "0.7409887197094902"
      ]
     },
     "execution_count": 30,
     "metadata": {},
     "output_type": "execute_result"
    }
   ],
   "source": [
    "y_pred_RF = clf_RF.predict(x_test)\n",
    "roc_auc_score(y_pred_RF, y_test)"
   ]
  },
  {
   "cell_type": "code",
   "execution_count": 31,
   "id": "4f5428e9",
   "metadata": {},
   "outputs": [
    {
     "data": {
      "text/plain": [
       "<sklearn.metrics._plot.roc_curve.RocCurveDisplay at 0x20c2bf0cac8>"
      ]
     },
     "execution_count": 31,
     "metadata": {},
     "output_type": "execute_result"
    },
    {
     "data": {
      "image/png": "[encoded data removed]",
      "text/plain": [
       "<Figure size 432x288 with 1 Axes>"
      ]
     },
     "metadata": {
      "needs_background": "light"
     },
     "output_type": "display_data"
    }
   ],
   "source": [
    "metrics.plot_roc_curve(clf_RF, x_test, y_test) "
   ]
  },
  {
   "cell_type": "markdown",
   "id": "9643b711",
   "metadata": {},
   "source": [
    "## XGboost"
   ]
  },
  {
   "cell_type": "code",
   "execution_count": null,
   "id": "bfbefd5a",
   "metadata": {},
   "outputs": [],
   "source": [
    "X = df_training_norm.drop(['CHURNED'], axis = 1)\n",
    "Y = df_training_norm['CHURNED']\n",
    "\n",
    "\n",
    "x_train, x_test, y_train, y_test = train_test_split( X, Y, test_size=0.2, random_state=10)\n",
    "\n",
    "# Init classifier\n",
    "cl_XGB = xgb.XGBClassifier(base_score=0.3, booster='gbtree', colsample_bylevel=0.8,\n",
    "              colsample_bynode=0.8, colsample_bytree=0.9, gamma=0.4,\n",
    "              learning_rate=0.0400000012, max_delta_step=20, max_depth=14,\n",
    "              min_child_weight=1, monotone_constraints='()',\n",
    "              n_estimators=75,  reg_alpha=0, reg_lambda=0, scale_pos_weight=1, subsample=0.7,\n",
    "              tree_method='exact', validate_parameters=1, verbosity=None)\n",
    "\n",
    "cl_XGB.fit(x_train, y_train)\n"
   ]
  },
  {
   "cell_type": "code",
   "execution_count": null,
   "id": "28e7621f",
   "metadata": {},
   "outputs": [],
   "source": [
    "cl_XGB.score(x_train, y_train)"
   ]
  },
  {
   "cell_type": "code",
   "execution_count": null,
   "id": "b99bce5c",
   "metadata": {},
   "outputs": [],
   "source": [
    "cl_XGB.score(x_test, y_test)"
   ]
  },
  {
   "cell_type": "code",
   "execution_count": null,
   "id": "e2da1936",
   "metadata": {},
   "outputs": [],
   "source": [
    "y_pred_XGB = cl_XGB.predict(x_test)\n",
    "roc_auc_score(y_pred_XGB, y_test)"
   ]
  },
  {
   "cell_type": "code",
   "execution_count": null,
   "id": "7a7c1a84",
   "metadata": {},
   "outputs": [],
   "source": [
    "metrics.plot_roc_curve(cl_XGB, x_test, y_test) "
   ]
  },
  {
   "cell_type": "code",
   "execution_count": null,
   "id": "63e5ac99",
   "metadata": {},
   "outputs": [],
   "source": [
    "# predThresH = (clf_RF.predict_proba(x_test)[:,1] >= 0.38).astype('int')\n",
    "# accuracy_score(predThresH, y_test)\n",
    "# roc_auc_score(predThresH, y_test)"
   ]
  },
  {
   "cell_type": "markdown",
   "id": "c4d7d9a7",
   "metadata": {},
   "source": [
    "### The best method is Random Forest"
   ]
  },
  {
   "cell_type": "code",
   "execution_count": 32,
   "id": "4dbd3e32",
   "metadata": {},
   "outputs": [
    {
     "data": {
      "text/plain": [
       "0.7594713656387665"
      ]
     },
     "execution_count": 32,
     "metadata": {},
     "output_type": "execute_result"
    }
   ],
   "source": [
    "predThresH = (clf_RF.predict_proba(x_test)[:,1] >= 0.53).astype('int')\n",
    "accuracy_score(predThresH, y_test)"
   ]
  },
  {
   "cell_type": "code",
   "execution_count": 33,
   "id": "be33024a",
   "metadata": {},
   "outputs": [
    {
     "data": {
      "text/plain": [
       "0.760352422907489"
      ]
     },
     "execution_count": 33,
     "metadata": {},
     "output_type": "execute_result"
    }
   ],
   "source": [
    "predThresH = (clf_RF.predict_proba(x_test)[:,1] >= 0.54).astype('int')\n",
    "accuracy_score(predThresH, y_test)"
   ]
  },
  {
   "cell_type": "code",
   "execution_count": 34,
   "id": "1c50b3cc",
   "metadata": {
    "scrolled": true
   },
   "outputs": [
    {
     "data": {
      "text/plain": [
       "0.7594713656387665"
      ]
     },
     "execution_count": 34,
     "metadata": {},
     "output_type": "execute_result"
    }
   ],
   "source": [
    "predThresH = (clf_RF.predict_proba(x_test)[:,1] >= 0.53).astype('int')\n",
    "accuracy_score(predThresH, y_test)"
   ]
  },
  {
   "cell_type": "code",
   "execution_count": 35,
   "id": "2c2430bc",
   "metadata": {},
   "outputs": [],
   "source": [
    "threshold = 0.54"
   ]
  },
  {
   "cell_type": "markdown",
   "id": "5d9caaca",
   "metadata": {},
   "source": [
    "# Client discount"
   ]
  },
  {
   "cell_type": "code",
   "execution_count": 38,
   "id": "459ebb63",
   "metadata": {},
   "outputs": [],
   "source": [
    "xToAnalyse = df_training_norm.copy()\n",
    "#xToAnalyse = pd.read_csv('df_validation_norm.csv', sep = ',')"
   ]
  },
  {
   "cell_type": "code",
   "execution_count": 39,
   "id": "15490a1a",
   "metadata": {},
   "outputs": [],
   "source": [
    "xToAnalyse[\"CHURN_LABEL\"] = (clf_RF.predict_proba(xToAnalyse[selectedCols])[:,1] >= threshold).astype('int')\n",
    "xToAnalyse[\"CHURN_PROBABILITY\"] = clf_RF.predict_proba(xToAnalyse[selectedCols])[:,1]"
   ]
  },
  {
   "cell_type": "code",
   "execution_count": 40,
   "id": "decdff3f",
   "metadata": {},
   "outputs": [
    {
     "data": {
      "text/plain": [
       "0    0.850627\n",
       "1    0.154986\n",
       "2    0.870316\n",
       "3    0.328075\n",
       "4    0.095884\n",
       "5    0.660478\n",
       "6    0.831108\n",
       "7    0.872698\n",
       "8    0.103557\n",
       "9    0.332457\n",
       "Name: CHURN_PROBABILITY, dtype: float64"
      ]
     },
     "execution_count": 40,
     "metadata": {},
     "output_type": "execute_result"
    }
   ],
   "source": [
    "xToAnalyse[\"CHURN_PROBABILITY\"].head(10)"
   ]
  },
  {
   "cell_type": "code",
   "execution_count": 41,
   "id": "65cbe5de",
   "metadata": {},
   "outputs": [],
   "source": [
    "df_training = pd.read_csv('df_training_reduced.csv', sep = ',')\n",
    "#df_training = pd.read_csv('df_validation.csv', sep = ',')"
   ]
  },
  {
   "cell_type": "code",
   "execution_count": 42,
   "id": "8343243a",
   "metadata": {},
   "outputs": [
    {
     "data": {
      "text/plain": [
       "<AxesSubplot:>"
      ]
     },
     "execution_count": 42,
     "metadata": {},
     "output_type": "execute_result"
    },
    {
     "data": {
      "image/png": "[encoded data removed]",
      "text/plain": [
       "<Figure size 432x288 with 1 Axes>"
      ]
     },
     "metadata": {
      "needs_background": "light"
     },
     "output_type": "display_data"
    }
   ],
   "source": [
    "df_training.CHURNED.hist()"
   ]
  },
  {
   "cell_type": "code",
   "execution_count": 43,
   "id": "bbe716c4",
   "metadata": {},
   "outputs": [],
   "source": [
    "originalFacture = df_training[\"OVERCHARGE\"] + df_training[\"REVENUE\"]"
   ]
  },
  {
   "cell_type": "code",
   "execution_count": 44,
   "id": "206bc6fa",
   "metadata": {},
   "outputs": [],
   "source": [
    "discList = [0, 5, 10, 15, 20, 25, 30,35, 40, 45,50]\n",
    "#discList = [0]\n",
    "for disc in discList:\n",
    "    beforeExpValue = np.multiply(xToAnalyse[\"CHURN_PROBABILITY\"],originalFacture)\n",
    "    xToAnalyse.iloc[:][\"OVERCHARGE\"]  = xToAnalyse[\"OVERCHARGE\"]*(1.-float(disc)/float(100.))\n",
    "    afterProba = clf_RF.predict_proba(xToAnalyse[selectedCols])[:,1]\n",
    "    if disc == 0:\n",
    "        afterExpValue = beforeExpValue\n",
    "    else:\n",
    "        afterExpValue = np.multiply(afterProba,originalFacture)*(1.-float(disc)/float(100.)) - 10.\n",
    "        \n",
    "    benefit = afterExpValue - beforeExpValue\n",
    "    xToAnalyse[\"disc_\"+str(disc)] = disc\n",
    "    xToAnalyse[str(disc)] = benefit"
   ]
  },
  {
   "cell_type": "code",
   "execution_count": 45,
   "id": "de02338b",
   "metadata": {},
   "outputs": [
    {
     "data": {
      "text/plain": [
       "['0', '5', '10', '15', '20', '25', '30', '35', '40', '45', '50']"
      ]
     },
     "execution_count": 45,
     "metadata": {},
     "output_type": "execute_result"
    }
   ],
   "source": [
    "colsDisc = []\n",
    "[colsDisc.append(str(disc)) for disc in discList]\n",
    "colsDisc"
   ]
  },
  {
   "cell_type": "code",
   "execution_count": 46,
   "id": "2216c6e8",
   "metadata": {},
   "outputs": [],
   "source": [
    "xToAnalyse[\"maxBenefit\"] = xToAnalyse[colsDisc].loc[:].max(axis=1)\n",
    "xToAnalyse[\"DISCOUNT\"] = xToAnalyse[colsDisc].loc[:].idxmax(axis=1).astype(int)\n"
   ]
  },
  {
   "cell_type": "code",
   "execution_count": 47,
   "id": "72d5a63c",
   "metadata": {},
   "outputs": [
    {
     "data": {
      "text/plain": [
       "<AxesSubplot:>"
      ]
     },
     "execution_count": 47,
     "metadata": {},
     "output_type": "execute_result"
    },
    {
     "data": {
      "image/png": "[encoded data removed]",
      "text/plain": [
       "<Figure size 432x288 with 1 Axes>"
      ]
     },
     "metadata": {
      "needs_background": "light"
     },
     "output_type": "display_data"
    }
   ],
   "source": [
    "xToAnalyse[\"DISCOUNT\"].hist()"
   ]
  },
  {
   "cell_type": "code",
   "execution_count": 48,
   "id": "03b28a7f",
   "metadata": {},
   "outputs": [
    {
     "data": {
      "text/plain": [
       "<AxesSubplot:>"
      ]
     },
     "execution_count": 48,
     "metadata": {},
     "output_type": "execute_result"
    },
    {
     "data": {
      "image/png": "[encoded data removed]",
      "text/plain": [
       "<Figure size 432x288 with 1 Axes>"
      ]
     },
     "metadata": {
      "needs_background": "light"
     },
     "output_type": "display_data"
    }
   ],
   "source": [
    "xToAnalyse[\"CHURN_LABEL\"].hist()"
   ]
  },
  {
   "cell_type": "code",
   "execution_count": 49,
   "id": "18d3a202",
   "metadata": {},
   "outputs": [
    {
     "data": {
      "text/html": [
       "<div>\n",
       "<style scoped>\n",
       "    .dataframe tbody tr th:only-of-type {\n",
       "        vertical-align: middle;\n",
       "    }\n",
       "\n",
       "    .dataframe tbody tr th {\n",
       "        vertical-align: top;\n",
       "    }\n",
       "\n",
       "    .dataframe thead th {\n",
       "        text-align: right;\n",
       "    }\n",
       "</style>\n",
       "<table border=\"1\" class=\"dataframe\">\n",
       "  <thead>\n",
       "    <tr style=\"text-align: right;\">\n",
       "      <th></th>\n",
       "      <th>0</th>\n",
       "      <th>5</th>\n",
       "      <th>10</th>\n",
       "      <th>15</th>\n",
       "      <th>20</th>\n",
       "      <th>25</th>\n",
       "      <th>30</th>\n",
       "      <th>35</th>\n",
       "      <th>40</th>\n",
       "      <th>45</th>\n",
       "      <th>50</th>\n",
       "    </tr>\n",
       "  </thead>\n",
       "  <tbody>\n",
       "    <tr>\n",
       "      <th>0</th>\n",
       "      <td>0.0</td>\n",
       "      <td>-16.805015</td>\n",
       "      <td>-23.610030</td>\n",
       "      <td>-30.415044</td>\n",
       "      <td>-37.220059</td>\n",
       "      <td>-44.025074</td>\n",
       "      <td>-50.830089</td>\n",
       "      <td>-57.635104</td>\n",
       "      <td>-64.440118</td>\n",
       "      <td>-71.245133</td>\n",
       "      <td>-78.050148</td>\n",
       "    </tr>\n",
       "    <tr>\n",
       "      <th>1</th>\n",
       "      <td>0.0</td>\n",
       "      <td>-5.867568</td>\n",
       "      <td>-4.951894</td>\n",
       "      <td>-4.703972</td>\n",
       "      <td>17.597886</td>\n",
       "      <td>6.015249</td>\n",
       "      <td>12.902355</td>\n",
       "      <td>23.136950</td>\n",
       "      <td>25.675326</td>\n",
       "      <td>18.672871</td>\n",
       "      <td>12.473395</td>\n",
       "    </tr>\n",
       "    <tr>\n",
       "      <th>2</th>\n",
       "      <td>0.0</td>\n",
       "      <td>-15.526506</td>\n",
       "      <td>-21.053011</td>\n",
       "      <td>-26.579517</td>\n",
       "      <td>-32.106023</td>\n",
       "      <td>-37.632528</td>\n",
       "      <td>-43.159034</td>\n",
       "      <td>-48.685540</td>\n",
       "      <td>-54.212045</td>\n",
       "      <td>-59.738551</td>\n",
       "      <td>-65.265056</td>\n",
       "    </tr>\n",
       "    <tr>\n",
       "      <th>3</th>\n",
       "      <td>0.0</td>\n",
       "      <td>4.157357</td>\n",
       "      <td>12.340290</td>\n",
       "      <td>13.793977</td>\n",
       "      <td>7.203025</td>\n",
       "      <td>23.981894</td>\n",
       "      <td>27.892783</td>\n",
       "      <td>16.220388</td>\n",
       "      <td>9.953196</td>\n",
       "      <td>2.385520</td>\n",
       "      <td>-6.763363</td>\n",
       "    </tr>\n",
       "    <tr>\n",
       "      <th>4</th>\n",
       "      <td>0.0</td>\n",
       "      <td>-2.118308</td>\n",
       "      <td>-14.017577</td>\n",
       "      <td>-17.609808</td>\n",
       "      <td>-10.341739</td>\n",
       "      <td>39.973203</td>\n",
       "      <td>32.764074</td>\n",
       "      <td>49.457027</td>\n",
       "      <td>56.093315</td>\n",
       "      <td>56.765169</td>\n",
       "      <td>49.666063</td>\n",
       "    </tr>\n",
       "    <tr>\n",
       "      <th>5</th>\n",
       "      <td>0.0</td>\n",
       "      <td>-14.722418</td>\n",
       "      <td>-19.444836</td>\n",
       "      <td>-24.167254</td>\n",
       "      <td>-28.889672</td>\n",
       "      <td>-33.612090</td>\n",
       "      <td>-38.334509</td>\n",
       "      <td>-43.056927</td>\n",
       "      <td>-47.779345</td>\n",
       "      <td>-52.501763</td>\n",
       "      <td>-57.224181</td>\n",
       "    </tr>\n",
       "    <tr>\n",
       "      <th>6</th>\n",
       "      <td>0.0</td>\n",
       "      <td>-17.937086</td>\n",
       "      <td>-25.874171</td>\n",
       "      <td>-33.811257</td>\n",
       "      <td>-41.748343</td>\n",
       "      <td>-49.685429</td>\n",
       "      <td>-57.622514</td>\n",
       "      <td>-65.559600</td>\n",
       "      <td>-73.496686</td>\n",
       "      <td>-81.433771</td>\n",
       "      <td>-89.370857</td>\n",
       "    </tr>\n",
       "    <tr>\n",
       "      <th>7</th>\n",
       "      <td>0.0</td>\n",
       "      <td>-23.141944</td>\n",
       "      <td>-43.598889</td>\n",
       "      <td>-57.853056</td>\n",
       "      <td>-82.111399</td>\n",
       "      <td>-110.696394</td>\n",
       "      <td>-124.136047</td>\n",
       "      <td>-134.707996</td>\n",
       "      <td>-155.580372</td>\n",
       "      <td>-169.583085</td>\n",
       "      <td>-185.619976</td>\n",
       "    </tr>\n",
       "    <tr>\n",
       "      <th>8</th>\n",
       "      <td>0.0</td>\n",
       "      <td>-7.974607</td>\n",
       "      <td>-16.570278</td>\n",
       "      <td>-11.897734</td>\n",
       "      <td>10.330943</td>\n",
       "      <td>44.494551</td>\n",
       "      <td>56.161497</td>\n",
       "      <td>53.374183</td>\n",
       "      <td>42.924088</td>\n",
       "      <td>33.102040</td>\n",
       "      <td>25.577993</td>\n",
       "    </tr>\n",
       "    <tr>\n",
       "      <th>9</th>\n",
       "      <td>0.0</td>\n",
       "      <td>-19.100728</td>\n",
       "      <td>-11.115282</td>\n",
       "      <td>-29.252855</td>\n",
       "      <td>-36.216273</td>\n",
       "      <td>14.795534</td>\n",
       "      <td>4.792418</td>\n",
       "      <td>-5.584109</td>\n",
       "      <td>8.081852</td>\n",
       "      <td>1.558387</td>\n",
       "      <td>-7.337527</td>\n",
       "    </tr>\n",
       "    <tr>\n",
       "      <th>10</th>\n",
       "      <td>0.0</td>\n",
       "      <td>-17.844084</td>\n",
       "      <td>-26.861768</td>\n",
       "      <td>-36.026152</td>\n",
       "      <td>-43.723536</td>\n",
       "      <td>-51.420920</td>\n",
       "      <td>-61.143585</td>\n",
       "      <td>-68.696306</td>\n",
       "      <td>-76.249028</td>\n",
       "      <td>-83.801749</td>\n",
       "      <td>-91.354470</td>\n",
       "    </tr>\n",
       "    <tr>\n",
       "      <th>11</th>\n",
       "      <td>0.0</td>\n",
       "      <td>-17.345556</td>\n",
       "      <td>-24.691111</td>\n",
       "      <td>-32.036667</td>\n",
       "      <td>-39.382223</td>\n",
       "      <td>-46.727778</td>\n",
       "      <td>-54.073334</td>\n",
       "      <td>-61.418890</td>\n",
       "      <td>-68.764445</td>\n",
       "      <td>-76.110001</td>\n",
       "      <td>-83.455557</td>\n",
       "    </tr>\n",
       "    <tr>\n",
       "      <th>12</th>\n",
       "      <td>0.0</td>\n",
       "      <td>-17.546200</td>\n",
       "      <td>-22.521205</td>\n",
       "      <td>-24.184160</td>\n",
       "      <td>-28.360190</td>\n",
       "      <td>-33.817081</td>\n",
       "      <td>-41.833038</td>\n",
       "      <td>-46.558865</td>\n",
       "      <td>-51.875140</td>\n",
       "      <td>-57.191415</td>\n",
       "      <td>-62.507690</td>\n",
       "    </tr>\n",
       "    <tr>\n",
       "      <th>13</th>\n",
       "      <td>0.0</td>\n",
       "      <td>-13.824447</td>\n",
       "      <td>-17.648894</td>\n",
       "      <td>-21.473342</td>\n",
       "      <td>-25.297789</td>\n",
       "      <td>-29.122236</td>\n",
       "      <td>-32.946683</td>\n",
       "      <td>-36.771130</td>\n",
       "      <td>-40.595577</td>\n",
       "      <td>-44.420025</td>\n",
       "      <td>-48.244472</td>\n",
       "    </tr>\n",
       "    <tr>\n",
       "      <th>14</th>\n",
       "      <td>0.0</td>\n",
       "      <td>-3.650706</td>\n",
       "      <td>0.974765</td>\n",
       "      <td>-5.209463</td>\n",
       "      <td>5.414292</td>\n",
       "      <td>29.472965</td>\n",
       "      <td>7.675168</td>\n",
       "      <td>17.956260</td>\n",
       "      <td>36.481829</td>\n",
       "      <td>36.011435</td>\n",
       "      <td>27.337708</td>\n",
       "    </tr>\n",
       "    <tr>\n",
       "      <th>15</th>\n",
       "      <td>0.0</td>\n",
       "      <td>-21.955669</td>\n",
       "      <td>-34.671373</td>\n",
       "      <td>-50.087980</td>\n",
       "      <td>-63.165007</td>\n",
       "      <td>-63.660477</td>\n",
       "      <td>-74.150501</td>\n",
       "      <td>-84.860217</td>\n",
       "      <td>-93.502352</td>\n",
       "      <td>-104.384366</td>\n",
       "      <td>-115.266381</td>\n",
       "    </tr>\n",
       "    <tr>\n",
       "      <th>16</th>\n",
       "      <td>0.0</td>\n",
       "      <td>-8.157244</td>\n",
       "      <td>-11.568505</td>\n",
       "      <td>-18.151308</td>\n",
       "      <td>-22.282336</td>\n",
       "      <td>-33.621245</td>\n",
       "      <td>-38.874481</td>\n",
       "      <td>-46.942653</td>\n",
       "      <td>-56.582825</td>\n",
       "      <td>-66.222997</td>\n",
       "      <td>-75.863169</td>\n",
       "    </tr>\n",
       "    <tr>\n",
       "      <th>17</th>\n",
       "      <td>0.0</td>\n",
       "      <td>-21.800068</td>\n",
       "      <td>-39.047619</td>\n",
       "      <td>-47.781651</td>\n",
       "      <td>-43.870904</td>\n",
       "      <td>-60.341289</td>\n",
       "      <td>-68.509961</td>\n",
       "      <td>-75.642138</td>\n",
       "      <td>-85.619001</td>\n",
       "      <td>-95.595865</td>\n",
       "      <td>-105.572729</td>\n",
       "    </tr>\n",
       "    <tr>\n",
       "      <th>18</th>\n",
       "      <td>0.0</td>\n",
       "      <td>-14.513303</td>\n",
       "      <td>-18.749986</td>\n",
       "      <td>-32.615313</td>\n",
       "      <td>-40.407237</td>\n",
       "      <td>-38.324792</td>\n",
       "      <td>-45.526747</td>\n",
       "      <td>-53.664612</td>\n",
       "      <td>-59.766602</td>\n",
       "      <td>-65.868592</td>\n",
       "      <td>-71.970582</td>\n",
       "    </tr>\n",
       "    <tr>\n",
       "      <th>19</th>\n",
       "      <td>0.0</td>\n",
       "      <td>-13.081405</td>\n",
       "      <td>-16.162810</td>\n",
       "      <td>-19.244215</td>\n",
       "      <td>-22.325619</td>\n",
       "      <td>-25.407024</td>\n",
       "      <td>-28.488429</td>\n",
       "      <td>-31.569834</td>\n",
       "      <td>-34.651239</td>\n",
       "      <td>-37.732644</td>\n",
       "      <td>-40.814049</td>\n",
       "    </tr>\n",
       "  </tbody>\n",
       "</table>\n",
       "</div>"
      ],
      "text/plain": [
       "      0          5         10         15         20          25          30  \\\n",
       "0   0.0 -16.805015 -23.610030 -30.415044 -37.220059  -44.025074  -50.830089   \n",
       "1   0.0  -5.867568  -4.951894  -4.703972  17.597886    6.015249   12.902355   \n",
       "2   0.0 -15.526506 -21.053011 -26.579517 -32.106023  -37.632528  -43.159034   \n",
       "3   0.0   4.157357  12.340290  13.793977   7.203025   23.981894   27.892783   \n",
       "4   0.0  -2.118308 -14.017577 -17.609808 -10.341739   39.973203   32.764074   \n",
       "5   0.0 -14.722418 -19.444836 -24.167254 -28.889672  -33.612090  -38.334509   \n",
       "6   0.0 -17.937086 -25.874171 -33.811257 -41.748343  -49.685429  -57.622514   \n",
       "7   0.0 -23.141944 -43.598889 -57.853056 -82.111399 -110.696394 -124.136047   \n",
       "8   0.0  -7.974607 -16.570278 -11.897734  10.330943   44.494551   56.161497   \n",
       "9   0.0 -19.100728 -11.115282 -29.252855 -36.216273   14.795534    4.792418   \n",
       "10  0.0 -17.844084 -26.861768 -36.026152 -43.723536  -51.420920  -61.143585   \n",
       "11  0.0 -17.345556 -24.691111 -32.036667 -39.382223  -46.727778  -54.073334   \n",
       "12  0.0 -17.546200 -22.521205 -24.184160 -28.360190  -33.817081  -41.833038   \n",
       "13  0.0 -13.824447 -17.648894 -21.473342 -25.297789  -29.122236  -32.946683   \n",
       "14  0.0  -3.650706   0.974765  -5.209463   5.414292   29.472965    7.675168   \n",
       "15  0.0 -21.955669 -34.671373 -50.087980 -63.165007  -63.660477  -74.150501   \n",
       "16  0.0  -8.157244 -11.568505 -18.151308 -22.282336  -33.621245  -38.874481   \n",
       "17  0.0 -21.800068 -39.047619 -47.781651 -43.870904  -60.341289  -68.509961   \n",
       "18  0.0 -14.513303 -18.749986 -32.615313 -40.407237  -38.324792  -45.526747   \n",
       "19  0.0 -13.081405 -16.162810 -19.244215 -22.325619  -25.407024  -28.488429   \n",
       "\n",
       "            35          40          45          50  \n",
       "0   -57.635104  -64.440118  -71.245133  -78.050148  \n",
       "1    23.136950   25.675326   18.672871   12.473395  \n",
       "2   -48.685540  -54.212045  -59.738551  -65.265056  \n",
       "3    16.220388    9.953196    2.385520   -6.763363  \n",
       "4    49.457027   56.093315   56.765169   49.666063  \n",
       "5   -43.056927  -47.779345  -52.501763  -57.224181  \n",
       "6   -65.559600  -73.496686  -81.433771  -89.370857  \n",
       "7  -134.707996 -155.580372 -169.583085 -185.619976  \n",
       "8    53.374183   42.924088   33.102040   25.577993  \n",
       "9    -5.584109    8.081852    1.558387   -7.337527  \n",
       "10  -68.696306  -76.249028  -83.801749  -91.354470  \n",
       "11  -61.418890  -68.764445  -76.110001  -83.455557  \n",
       "12  -46.558865  -51.875140  -57.191415  -62.507690  \n",
       "13  -36.771130  -40.595577  -44.420025  -48.244472  \n",
       "14   17.956260   36.481829   36.011435   27.337708  \n",
       "15  -84.860217  -93.502352 -104.384366 -115.266381  \n",
       "16  -46.942653  -56.582825  -66.222997  -75.863169  \n",
       "17  -75.642138  -85.619001  -95.595865 -105.572729  \n",
       "18  -53.664612  -59.766602  -65.868592  -71.970582  \n",
       "19  -31.569834  -34.651239  -37.732644  -40.814049  "
      ]
     },
     "execution_count": 49,
     "metadata": {},
     "output_type": "execute_result"
    }
   ],
   "source": [
    "xToAnalyse[colsDisc].head(20)"
   ]
  },
  {
   "cell_type": "code",
   "execution_count": 50,
   "id": "984b5bc7",
   "metadata": {},
   "outputs": [],
   "source": [
    "xToAnalyse[\"CLIENT_TO_CONTACT\"] = 'NO'\n",
    "xToAnalyse[\"CLIENT_TO_CONTACT\"][xToAnalyse[\"DISCOUNT\"]!=0] = 'YES'"
   ]
  },
  {
   "cell_type": "code",
   "execution_count": 51,
   "id": "5c8bb3ac",
   "metadata": {},
   "outputs": [
    {
     "data": {
      "text/plain": [
       "<AxesSubplot:>"
      ]
     },
     "execution_count": 51,
     "metadata": {},
     "output_type": "execute_result"
    },
    {
     "data": {
      "image/png": "[encoded data removed]",
      "text/plain": [
       "<Figure size 432x288 with 1 Axes>"
      ]
     },
     "metadata": {
      "needs_background": "light"
     },
     "output_type": "display_data"
    }
   ],
   "source": [
    "xToAnalyse[\"CLIENT_TO_CONTACT\"].hist()"
   ]
  },
  {
   "cell_type": "code",
   "execution_count": 52,
   "id": "2708d721",
   "metadata": {},
   "outputs": [
    {
     "data": {
      "text/plain": [
       "Index(['DATA', 'INCOME', 'OVERCHARGE', 'LEFTOVER', 'HOUSE', 'HANDSET_PRICE',\n",
       "       'OVER_15MINS_CALLS_PER_MONTH', 'REPORTED_SATISFACTION',\n",
       "       'CONSIDERING_CHANGE_OF_PLAN', 'CHURNED', 'CHURN_LABEL',\n",
       "       'CHURN_PROBABILITY', 'disc_0', '0', 'disc_5', '5', 'disc_10', '10',\n",
       "       'disc_15', '15', 'disc_20', '20', 'disc_25', '25', 'disc_30', '30',\n",
       "       'disc_35', '35', 'disc_40', '40', 'disc_45', '45', 'disc_50', '50',\n",
       "       'maxBenefit', 'DISCOUNT', 'CLIENT_TO_CONTACT'],\n",
       "      dtype='object')"
      ]
     },
     "execution_count": 52,
     "metadata": {},
     "output_type": "execute_result"
    }
   ],
   "source": [
    "xToAnalyse.columns"
   ]
  },
  {
   "cell_type": "markdown",
   "id": "e2235ad6",
   "metadata": {},
   "source": [
    "# Client discount for validation"
   ]
  },
  {
   "cell_type": "code",
   "execution_count": 53,
   "id": "573fdd25",
   "metadata": {},
   "outputs": [],
   "source": [
    "xToAnalyse = pd.read_csv('df_validation_norm.csv', sep = ',')"
   ]
  },
  {
   "cell_type": "code",
   "execution_count": 54,
   "id": "88877e4f",
   "metadata": {},
   "outputs": [],
   "source": [
    "xToAnalyse[\"CHURN_LABEL\"] = (clf_RF.predict_proba(xToAnalyse[selectedCols])[:,1] >= threshold).astype('int')\n",
    "xToAnalyse[\"CHURN_PROBABILITY\"] = clf_RF.predict_proba(xToAnalyse[selectedCols])[:,1]"
   ]
  },
  {
   "cell_type": "code",
   "execution_count": 55,
   "id": "2675f585",
   "metadata": {},
   "outputs": [
    {
     "data": {
      "text/plain": [
       "0    0.519383\n",
       "1    0.455032\n",
       "2    0.818781\n",
       "3    0.957137\n",
       "4    0.916525\n",
       "5    0.976275\n",
       "6    0.861452\n",
       "7    0.437106\n",
       "8    0.798016\n",
       "9    0.540552\n",
       "Name: CHURN_PROBABILITY, dtype: float64"
      ]
     },
     "execution_count": 55,
     "metadata": {},
     "output_type": "execute_result"
    }
   ],
   "source": [
    "xToAnalyse[\"CHURN_PROBABILITY\"].head(10)"
   ]
  },
  {
   "cell_type": "code",
   "execution_count": 56,
   "id": "b95549b8",
   "metadata": {},
   "outputs": [],
   "source": [
    "df_validation = pd.read_csv('df_validation.csv', sep = ',')"
   ]
  },
  {
   "cell_type": "code",
   "execution_count": 57,
   "id": "1195c581",
   "metadata": {},
   "outputs": [],
   "source": [
    "originalFacture = df_validation[\"OVERCHARGE\"] + df_validation[\"REVENUE\"]"
   ]
  },
  {
   "cell_type": "code",
   "execution_count": 58,
   "id": "056fea6f",
   "metadata": {},
   "outputs": [],
   "source": [
    "discList = [0, 5, 10, 15, 20, 25, 30,35, 40, 45,50,55,60,70]\n",
    "#discList = [0]\n",
    "for disc in discList:\n",
    "    beforeExpValue = np.multiply(xToAnalyse[\"CHURN_PROBABILITY\"],originalFacture)\n",
    "    xToAnalyse.iloc[:][\"OVERCHARGE\"]  = xToAnalyse[\"OVERCHARGE\"]*(1.-float(disc)/float(100.))\n",
    "    afterProba = clf_RF.predict_proba(xToAnalyse[selectedCols])[:,1]\n",
    "    if disc == 0:\n",
    "        afterExpValue = beforeExpValue\n",
    "    else:\n",
    "        afterExpValue = np.multiply(afterProba,originalFacture)*(1.-float(disc)/float(100.)) - 10.\n",
    "        \n",
    "    benefit = afterExpValue - beforeExpValue\n",
    "    xToAnalyse[\"disc_\"+str(disc)] = disc\n",
    "    xToAnalyse[str(disc)] = benefit"
   ]
  },
  {
   "cell_type": "code",
   "execution_count": 59,
   "id": "3fa4041a",
   "metadata": {},
   "outputs": [
    {
     "data": {
      "text/plain": [
       "['0',\n",
       " '5',\n",
       " '10',\n",
       " '15',\n",
       " '20',\n",
       " '25',\n",
       " '30',\n",
       " '35',\n",
       " '40',\n",
       " '45',\n",
       " '50',\n",
       " '55',\n",
       " '60',\n",
       " '70']"
      ]
     },
     "execution_count": 59,
     "metadata": {},
     "output_type": "execute_result"
    }
   ],
   "source": [
    "colsDisc = []\n",
    "[colsDisc.append(str(disc)) for disc in discList]\n",
    "colsDisc"
   ]
  },
  {
   "cell_type": "code",
   "execution_count": 60,
   "id": "ca460f9b",
   "metadata": {},
   "outputs": [],
   "source": [
    "xToAnalyse[\"maxBenefit\"] = xToAnalyse[colsDisc].loc[:].max(axis=1)\n",
    "xToAnalyse[\"DISCOUNT\"] = xToAnalyse[colsDisc].loc[:].idxmax(axis=1).astype(int)\n"
   ]
  },
  {
   "cell_type": "code",
   "execution_count": 61,
   "id": "f86db410",
   "metadata": {},
   "outputs": [
    {
     "data": {
      "text/plain": [
       "<AxesSubplot:>"
      ]
     },
     "execution_count": 61,
     "metadata": {},
     "output_type": "execute_result"
    },
    {
     "data": {
      "image/png": "[encoded data removed]",
      "text/plain": [
       "<Figure size 432x288 with 1 Axes>"
      ]
     },
     "metadata": {
      "needs_background": "light"
     },
     "output_type": "display_data"
    }
   ],
   "source": [
    "xToAnalyse[\"DISCOUNT\"].hist()"
   ]
  },
  {
   "cell_type": "code",
   "execution_count": 62,
   "id": "d432a6b9",
   "metadata": {},
   "outputs": [
    {
     "data": {
      "text/plain": [
       "<AxesSubplot:>"
      ]
     },
     "execution_count": 62,
     "metadata": {},
     "output_type": "execute_result"
    },
    {
     "data": {
      "image/png": "[encoded data removed]",
      "text/plain": [
       "<Figure size 432x288 with 1 Axes>"
      ]
     },
     "metadata": {
      "needs_background": "light"
     },
     "output_type": "display_data"
    }
   ],
   "source": [
    "xToAnalyse[\"CHURN_LABEL\"].hist()"
   ]
  },
  {
   "cell_type": "code",
   "execution_count": 63,
   "id": "3a3aa6c7",
   "metadata": {},
   "outputs": [
    {
     "data": {
      "text/html": [
       "<div>\n",
       "<style scoped>\n",
       "    .dataframe tbody tr th:only-of-type {\n",
       "        vertical-align: middle;\n",
       "    }\n",
       "\n",
       "    .dataframe tbody tr th {\n",
       "        vertical-align: top;\n",
       "    }\n",
       "\n",
       "    .dataframe thead th {\n",
       "        text-align: right;\n",
       "    }\n",
       "</style>\n",
       "<table border=\"1\" class=\"dataframe\">\n",
       "  <thead>\n",
       "    <tr style=\"text-align: right;\">\n",
       "      <th></th>\n",
       "      <th>0</th>\n",
       "      <th>5</th>\n",
       "      <th>10</th>\n",
       "      <th>15</th>\n",
       "      <th>20</th>\n",
       "      <th>25</th>\n",
       "      <th>30</th>\n",
       "      <th>35</th>\n",
       "      <th>40</th>\n",
       "      <th>45</th>\n",
       "      <th>50</th>\n",
       "      <th>55</th>\n",
       "      <th>60</th>\n",
       "      <th>70</th>\n",
       "    </tr>\n",
       "  </thead>\n",
       "  <tbody>\n",
       "    <tr>\n",
       "      <th>0</th>\n",
       "      <td>0.0</td>\n",
       "      <td>-13.554763</td>\n",
       "      <td>-13.564461</td>\n",
       "      <td>-10.881240</td>\n",
       "      <td>-13.751707</td>\n",
       "      <td>-18.692600</td>\n",
       "      <td>-29.214711</td>\n",
       "      <td>-39.630230</td>\n",
       "      <td>-45.831982</td>\n",
       "      <td>-52.541140</td>\n",
       "      <td>-59.250299</td>\n",
       "      <td>-65.959457</td>\n",
       "      <td>-72.668615</td>\n",
       "      <td>-86.086931</td>\n",
       "    </tr>\n",
       "    <tr>\n",
       "      <th>1</th>\n",
       "      <td>0.0</td>\n",
       "      <td>-7.210083</td>\n",
       "      <td>-20.104736</td>\n",
       "      <td>-35.371035</td>\n",
       "      <td>-47.499826</td>\n",
       "      <td>-52.666276</td>\n",
       "      <td>-33.729146</td>\n",
       "      <td>-34.859190</td>\n",
       "      <td>-44.229204</td>\n",
       "      <td>-50.000304</td>\n",
       "      <td>-57.367404</td>\n",
       "      <td>-64.734504</td>\n",
       "      <td>-72.101604</td>\n",
       "      <td>-86.835804</td>\n",
       "    </tr>\n",
       "    <tr>\n",
       "      <th>2</th>\n",
       "      <td>0.0</td>\n",
       "      <td>-18.151243</td>\n",
       "      <td>-21.076248</td>\n",
       "      <td>-29.927455</td>\n",
       "      <td>-41.589328</td>\n",
       "      <td>-45.370225</td>\n",
       "      <td>-53.938002</td>\n",
       "      <td>-53.957279</td>\n",
       "      <td>-61.660986</td>\n",
       "      <td>-69.364694</td>\n",
       "      <td>-77.068401</td>\n",
       "      <td>-84.772109</td>\n",
       "      <td>-92.475816</td>\n",
       "      <td>-107.883231</td>\n",
       "    </tr>\n",
       "    <tr>\n",
       "      <th>3</th>\n",
       "      <td>0.0</td>\n",
       "      <td>-23.352059</td>\n",
       "      <td>-36.704118</td>\n",
       "      <td>-50.056177</td>\n",
       "      <td>-63.408236</td>\n",
       "      <td>-76.760295</td>\n",
       "      <td>-90.112354</td>\n",
       "      <td>-103.464413</td>\n",
       "      <td>-116.816472</td>\n",
       "      <td>-130.168531</td>\n",
       "      <td>-143.520590</td>\n",
       "      <td>-156.872649</td>\n",
       "      <td>-170.224708</td>\n",
       "      <td>-196.928826</td>\n",
       "    </tr>\n",
       "    <tr>\n",
       "      <th>4</th>\n",
       "      <td>0.0</td>\n",
       "      <td>-15.865761</td>\n",
       "      <td>-21.731522</td>\n",
       "      <td>-27.597283</td>\n",
       "      <td>-33.463044</td>\n",
       "      <td>-39.328805</td>\n",
       "      <td>-45.194566</td>\n",
       "      <td>-51.060327</td>\n",
       "      <td>-56.926088</td>\n",
       "      <td>-62.791850</td>\n",
       "      <td>-68.657611</td>\n",
       "      <td>-74.523372</td>\n",
       "      <td>-80.389133</td>\n",
       "      <td>-92.120655</td>\n",
       "    </tr>\n",
       "    <tr>\n",
       "      <th>5</th>\n",
       "      <td>0.0</td>\n",
       "      <td>-20.592585</td>\n",
       "      <td>-31.185170</td>\n",
       "      <td>-41.777755</td>\n",
       "      <td>-52.370340</td>\n",
       "      <td>-62.962925</td>\n",
       "      <td>-73.555510</td>\n",
       "      <td>-84.148094</td>\n",
       "      <td>-94.740679</td>\n",
       "      <td>-105.333264</td>\n",
       "      <td>-115.925849</td>\n",
       "      <td>-126.518434</td>\n",
       "      <td>-137.111019</td>\n",
       "      <td>-158.296189</td>\n",
       "    </tr>\n",
       "    <tr>\n",
       "      <th>6</th>\n",
       "      <td>0.0</td>\n",
       "      <td>-14.565694</td>\n",
       "      <td>-19.131389</td>\n",
       "      <td>-23.697083</td>\n",
       "      <td>-28.262777</td>\n",
       "      <td>-32.828471</td>\n",
       "      <td>-37.394166</td>\n",
       "      <td>-41.959860</td>\n",
       "      <td>-46.525554</td>\n",
       "      <td>-51.091248</td>\n",
       "      <td>-55.656943</td>\n",
       "      <td>-60.222637</td>\n",
       "      <td>-64.788331</td>\n",
       "      <td>-73.919720</td>\n",
       "    </tr>\n",
       "    <tr>\n",
       "      <th>7</th>\n",
       "      <td>0.0</td>\n",
       "      <td>-46.318386</td>\n",
       "      <td>-56.914237</td>\n",
       "      <td>-64.451880</td>\n",
       "      <td>-67.175503</td>\n",
       "      <td>-73.852155</td>\n",
       "      <td>-67.035127</td>\n",
       "      <td>-71.427895</td>\n",
       "      <td>-70.567753</td>\n",
       "      <td>-76.131444</td>\n",
       "      <td>-87.596426</td>\n",
       "      <td>-97.583299</td>\n",
       "      <td>-107.570171</td>\n",
       "      <td>-127.543917</td>\n",
       "    </tr>\n",
       "    <tr>\n",
       "      <th>8</th>\n",
       "      <td>0.0</td>\n",
       "      <td>-15.705817</td>\n",
       "      <td>-21.411635</td>\n",
       "      <td>-27.117452</td>\n",
       "      <td>-32.823270</td>\n",
       "      <td>-38.529087</td>\n",
       "      <td>-44.234905</td>\n",
       "      <td>-49.940722</td>\n",
       "      <td>-55.646540</td>\n",
       "      <td>-61.352357</td>\n",
       "      <td>-67.058175</td>\n",
       "      <td>-72.763992</td>\n",
       "      <td>-78.469810</td>\n",
       "      <td>-89.881445</td>\n",
       "    </tr>\n",
       "    <tr>\n",
       "      <th>9</th>\n",
       "      <td>0.0</td>\n",
       "      <td>-8.608993</td>\n",
       "      <td>-11.146396</td>\n",
       "      <td>-7.125412</td>\n",
       "      <td>-11.937682</td>\n",
       "      <td>-20.350881</td>\n",
       "      <td>-26.953738</td>\n",
       "      <td>-32.398551</td>\n",
       "      <td>-38.742283</td>\n",
       "      <td>-45.086015</td>\n",
       "      <td>-51.429747</td>\n",
       "      <td>-57.773480</td>\n",
       "      <td>-64.117212</td>\n",
       "      <td>-76.804676</td>\n",
       "    </tr>\n",
       "    <tr>\n",
       "      <th>10</th>\n",
       "      <td>0.0</td>\n",
       "      <td>-12.833796</td>\n",
       "      <td>-15.290009</td>\n",
       "      <td>-10.033429</td>\n",
       "      <td>-17.733395</td>\n",
       "      <td>-9.249821</td>\n",
       "      <td>-4.743548</td>\n",
       "      <td>-6.116964</td>\n",
       "      <td>-5.237598</td>\n",
       "      <td>-7.768907</td>\n",
       "      <td>-10.300215</td>\n",
       "      <td>-12.831524</td>\n",
       "      <td>-15.362832</td>\n",
       "      <td>-20.425449</td>\n",
       "    </tr>\n",
       "    <tr>\n",
       "      <th>11</th>\n",
       "      <td>0.0</td>\n",
       "      <td>-29.627617</td>\n",
       "      <td>-56.590632</td>\n",
       "      <td>-93.957950</td>\n",
       "      <td>-112.563500</td>\n",
       "      <td>-136.817645</td>\n",
       "      <td>-153.891263</td>\n",
       "      <td>-173.871235</td>\n",
       "      <td>-194.501253</td>\n",
       "      <td>-219.852883</td>\n",
       "      <td>-233.493969</td>\n",
       "      <td>-250.247554</td>\n",
       "      <td>-267.001139</td>\n",
       "      <td>-300.508309</td>\n",
       "    </tr>\n",
       "    <tr>\n",
       "      <th>12</th>\n",
       "      <td>0.0</td>\n",
       "      <td>-18.430183</td>\n",
       "      <td>-25.972057</td>\n",
       "      <td>-23.199065</td>\n",
       "      <td>-34.029593</td>\n",
       "      <td>-54.323232</td>\n",
       "      <td>-64.891993</td>\n",
       "      <td>-72.964754</td>\n",
       "      <td>-83.725516</td>\n",
       "      <td>-94.486277</td>\n",
       "      <td>-105.247038</td>\n",
       "      <td>-116.007800</td>\n",
       "      <td>-126.768561</td>\n",
       "      <td>-148.290083</td>\n",
       "    </tr>\n",
       "    <tr>\n",
       "      <th>13</th>\n",
       "      <td>0.0</td>\n",
       "      <td>-4.923935</td>\n",
       "      <td>-22.258908</td>\n",
       "      <td>-35.931603</td>\n",
       "      <td>-36.780588</td>\n",
       "      <td>35.227118</td>\n",
       "      <td>24.542158</td>\n",
       "      <td>25.964479</td>\n",
       "      <td>51.438501</td>\n",
       "      <td>44.393547</td>\n",
       "      <td>34.923027</td>\n",
       "      <td>23.182578</td>\n",
       "      <td>11.442130</td>\n",
       "      <td>-12.038767</td>\n",
       "    </tr>\n",
       "    <tr>\n",
       "      <th>14</th>\n",
       "      <td>0.0</td>\n",
       "      <td>-33.594570</td>\n",
       "      <td>-38.674278</td>\n",
       "      <td>-26.576596</td>\n",
       "      <td>11.439406</td>\n",
       "      <td>-11.789845</td>\n",
       "      <td>-2.394188</td>\n",
       "      <td>-0.189700</td>\n",
       "      <td>-10.053516</td>\n",
       "      <td>-14.974577</td>\n",
       "      <td>-23.833122</td>\n",
       "      <td>-32.691667</td>\n",
       "      <td>-41.550212</td>\n",
       "      <td>-59.267301</td>\n",
       "    </tr>\n",
       "    <tr>\n",
       "      <th>15</th>\n",
       "      <td>0.0</td>\n",
       "      <td>-7.997464</td>\n",
       "      <td>-14.416678</td>\n",
       "      <td>-19.300685</td>\n",
       "      <td>-14.995788</td>\n",
       "      <td>3.003184</td>\n",
       "      <td>-9.784173</td>\n",
       "      <td>1.539461</td>\n",
       "      <td>1.978624</td>\n",
       "      <td>-0.864201</td>\n",
       "      <td>-5.997803</td>\n",
       "      <td>-11.001276</td>\n",
       "      <td>-16.004749</td>\n",
       "      <td>-26.011696</td>\n",
       "    </tr>\n",
       "    <tr>\n",
       "      <th>16</th>\n",
       "      <td>0.0</td>\n",
       "      <td>-9.866667</td>\n",
       "      <td>-20.583333</td>\n",
       "      <td>-40.575000</td>\n",
       "      <td>-51.466667</td>\n",
       "      <td>-80.033333</td>\n",
       "      <td>-91.929690</td>\n",
       "      <td>-91.424871</td>\n",
       "      <td>-107.617830</td>\n",
       "      <td>-119.732306</td>\n",
       "      <td>-133.696035</td>\n",
       "      <td>-147.659765</td>\n",
       "      <td>-161.623495</td>\n",
       "      <td>-189.550955</td>\n",
       "    </tr>\n",
       "    <tr>\n",
       "      <th>17</th>\n",
       "      <td>0.0</td>\n",
       "      <td>4.335663</td>\n",
       "      <td>41.077143</td>\n",
       "      <td>31.107483</td>\n",
       "      <td>34.568875</td>\n",
       "      <td>16.757214</td>\n",
       "      <td>1.408085</td>\n",
       "      <td>-2.146824</td>\n",
       "      <td>-8.600049</td>\n",
       "      <td>-16.217605</td>\n",
       "      <td>-25.514799</td>\n",
       "      <td>-34.811994</td>\n",
       "      <td>-44.109189</td>\n",
       "      <td>-62.703579</td>\n",
       "    </tr>\n",
       "    <tr>\n",
       "      <th>18</th>\n",
       "      <td>0.0</td>\n",
       "      <td>-9.857116</td>\n",
       "      <td>1.115992</td>\n",
       "      <td>-8.443640</td>\n",
       "      <td>-1.750932</td>\n",
       "      <td>21.389313</td>\n",
       "      <td>63.579669</td>\n",
       "      <td>73.801359</td>\n",
       "      <td>79.095782</td>\n",
       "      <td>71.392587</td>\n",
       "      <td>63.181417</td>\n",
       "      <td>52.364622</td>\n",
       "      <td>41.547828</td>\n",
       "      <td>19.914238</td>\n",
       "    </tr>\n",
       "    <tr>\n",
       "      <th>19</th>\n",
       "      <td>0.0</td>\n",
       "      <td>-15.693044</td>\n",
       "      <td>-21.386087</td>\n",
       "      <td>-27.079131</td>\n",
       "      <td>-32.772174</td>\n",
       "      <td>-38.465218</td>\n",
       "      <td>-44.158261</td>\n",
       "      <td>-49.851305</td>\n",
       "      <td>-55.544348</td>\n",
       "      <td>-61.237392</td>\n",
       "      <td>-66.930435</td>\n",
       "      <td>-72.623479</td>\n",
       "      <td>-78.316522</td>\n",
       "      <td>-89.702609</td>\n",
       "    </tr>\n",
       "  </tbody>\n",
       "</table>\n",
       "</div>"
      ],
      "text/plain": [
       "      0          5         10         15          20          25          30  \\\n",
       "0   0.0 -13.554763 -13.564461 -10.881240  -13.751707  -18.692600  -29.214711   \n",
       "1   0.0  -7.210083 -20.104736 -35.371035  -47.499826  -52.666276  -33.729146   \n",
       "2   0.0 -18.151243 -21.076248 -29.927455  -41.589328  -45.370225  -53.938002   \n",
       "3   0.0 -23.352059 -36.704118 -50.056177  -63.408236  -76.760295  -90.112354   \n",
       "4   0.0 -15.865761 -21.731522 -27.597283  -33.463044  -39.328805  -45.194566   \n",
       "5   0.0 -20.592585 -31.185170 -41.777755  -52.370340  -62.962925  -73.555510   \n",
       "6   0.0 -14.565694 -19.131389 -23.697083  -28.262777  -32.828471  -37.394166   \n",
       "7   0.0 -46.318386 -56.914237 -64.451880  -67.175503  -73.852155  -67.035127   \n",
       "8   0.0 -15.705817 -21.411635 -27.117452  -32.823270  -38.529087  -44.234905   \n",
       "9   0.0  -8.608993 -11.146396  -7.125412  -11.937682  -20.350881  -26.953738   \n",
       "10  0.0 -12.833796 -15.290009 -10.033429  -17.733395   -9.249821   -4.743548   \n",
       "11  0.0 -29.627617 -56.590632 -93.957950 -112.563500 -136.817645 -153.891263   \n",
       "12  0.0 -18.430183 -25.972057 -23.199065  -34.029593  -54.323232  -64.891993   \n",
       "13  0.0  -4.923935 -22.258908 -35.931603  -36.780588   35.227118   24.542158   \n",
       "14  0.0 -33.594570 -38.674278 -26.576596   11.439406  -11.789845   -2.394188   \n",
       "15  0.0  -7.997464 -14.416678 -19.300685  -14.995788    3.003184   -9.784173   \n",
       "16  0.0  -9.866667 -20.583333 -40.575000  -51.466667  -80.033333  -91.929690   \n",
       "17  0.0   4.335663  41.077143  31.107483   34.568875   16.757214    1.408085   \n",
       "18  0.0  -9.857116   1.115992  -8.443640   -1.750932   21.389313   63.579669   \n",
       "19  0.0 -15.693044 -21.386087 -27.079131  -32.772174  -38.465218  -44.158261   \n",
       "\n",
       "            35          40          45          50          55          60  \\\n",
       "0   -39.630230  -45.831982  -52.541140  -59.250299  -65.959457  -72.668615   \n",
       "1   -34.859190  -44.229204  -50.000304  -57.367404  -64.734504  -72.101604   \n",
       "2   -53.957279  -61.660986  -69.364694  -77.068401  -84.772109  -92.475816   \n",
       "3  -103.464413 -116.816472 -130.168531 -143.520590 -156.872649 -170.224708   \n",
       "4   -51.060327  -56.926088  -62.791850  -68.657611  -74.523372  -80.389133   \n",
       "5   -84.148094  -94.740679 -105.333264 -115.925849 -126.518434 -137.111019   \n",
       "6   -41.959860  -46.525554  -51.091248  -55.656943  -60.222637  -64.788331   \n",
       "7   -71.427895  -70.567753  -76.131444  -87.596426  -97.583299 -107.570171   \n",
       "8   -49.940722  -55.646540  -61.352357  -67.058175  -72.763992  -78.469810   \n",
       "9   -32.398551  -38.742283  -45.086015  -51.429747  -57.773480  -64.117212   \n",
       "10   -6.116964   -5.237598   -7.768907  -10.300215  -12.831524  -15.362832   \n",
       "11 -173.871235 -194.501253 -219.852883 -233.493969 -250.247554 -267.001139   \n",
       "12  -72.964754  -83.725516  -94.486277 -105.247038 -116.007800 -126.768561   \n",
       "13   25.964479   51.438501   44.393547   34.923027   23.182578   11.442130   \n",
       "14   -0.189700  -10.053516  -14.974577  -23.833122  -32.691667  -41.550212   \n",
       "15    1.539461    1.978624   -0.864201   -5.997803  -11.001276  -16.004749   \n",
       "16  -91.424871 -107.617830 -119.732306 -133.696035 -147.659765 -161.623495   \n",
       "17   -2.146824   -8.600049  -16.217605  -25.514799  -34.811994  -44.109189   \n",
       "18   73.801359   79.095782   71.392587   63.181417   52.364622   41.547828   \n",
       "19  -49.851305  -55.544348  -61.237392  -66.930435  -72.623479  -78.316522   \n",
       "\n",
       "            70  \n",
       "0   -86.086931  \n",
       "1   -86.835804  \n",
       "2  -107.883231  \n",
       "3  -196.928826  \n",
       "4   -92.120655  \n",
       "5  -158.296189  \n",
       "6   -73.919720  \n",
       "7  -127.543917  \n",
       "8   -89.881445  \n",
       "9   -76.804676  \n",
       "10  -20.425449  \n",
       "11 -300.508309  \n",
       "12 -148.290083  \n",
       "13  -12.038767  \n",
       "14  -59.267301  \n",
       "15  -26.011696  \n",
       "16 -189.550955  \n",
       "17  -62.703579  \n",
       "18   19.914238  \n",
       "19  -89.702609  "
      ]
     },
     "execution_count": 63,
     "metadata": {},
     "output_type": "execute_result"
    }
   ],
   "source": [
    "xToAnalyse[colsDisc].head(20)"
   ]
  },
  {
   "cell_type": "code",
   "execution_count": 64,
   "id": "9429ac8c",
   "metadata": {},
   "outputs": [],
   "source": [
    "xToAnalyse[\"CLIENT_TO_CONTACT\"] = 'NO'\n",
    "xToAnalyse[\"CLIENT_TO_CONTACT\"][xToAnalyse[\"DISCOUNT\"]!=0] = 'YES'"
   ]
  },
  {
   "cell_type": "code",
   "execution_count": 65,
   "id": "c7e2a245",
   "metadata": {},
   "outputs": [
    {
     "data": {
      "text/plain": [
       "<AxesSubplot:>"
      ]
     },
     "execution_count": 65,
     "metadata": {},
     "output_type": "execute_result"
    },
    {
     "data": {
      "image/png": "[encoded data removed]",
      "text/plain": [
       "<Figure size 432x288 with 1 Axes>"
      ]
     },
     "metadata": {
      "needs_background": "light"
     },
     "output_type": "display_data"
    }
   ],
   "source": [
    "xToAnalyse[\"CLIENT_TO_CONTACT\"].hist()"
   ]
  },
  {
   "cell_type": "code",
   "execution_count": 66,
   "id": "651323eb",
   "metadata": {},
   "outputs": [
    {
     "data": {
      "text/plain": [
       "Index(['Unnamed: 0', 'DATA', 'INCOME', 'OVERCHARGE', 'LEFTOVER', 'HOUSE',\n",
       "       'CHILD', 'REVENUE', 'HANDSET_PRICE', 'OVER_15MINS_CALLS_PER_MONTH',\n",
       "       'TIME_CLIENT', 'AVERAGE_CALL_DURATION', 'REPORTED_SATISFACTION',\n",
       "       'CONSIDERING_CHANGE_OF_PLAN', 'CHURN_LABEL', 'CHURN_PROBABILITY',\n",
       "       'disc_0', '0', 'disc_5', '5', 'disc_10', '10', 'disc_15', '15',\n",
       "       'disc_20', '20', 'disc_25', '25', 'disc_30', '30', 'disc_35', '35',\n",
       "       'disc_40', '40', 'disc_45', '45', 'disc_50', '50', 'disc_55', '55',\n",
       "       'disc_60', '60', 'disc_70', '70', 'maxBenefit', 'DISCOUNT',\n",
       "       'CLIENT_TO_CONTACT'],\n",
       "      dtype='object')"
      ]
     },
     "execution_count": 66,
     "metadata": {},
     "output_type": "execute_result"
    }
   ],
   "source": [
    "xToAnalyse.columns"
   ]
  },
  {
   "cell_type": "code",
   "execution_count": 67,
   "id": "82adbba1",
   "metadata": {},
   "outputs": [],
   "source": [
    "df_result = xToAnalyse[[\"CHURN_PROBABILITY\", \"CHURN_LABEL\", \"CLIENT_TO_CONTACT\", \"DISCOUNT\"]]"
   ]
  },
  {
   "cell_type": "markdown",
   "id": "4194941a",
   "metadata": {},
   "source": [
    "Il manque les ID pour les clients"
   ]
  },
  {
   "cell_type": "code",
   "execution_count": 68,
   "id": "ea993063",
   "metadata": {},
   "outputs": [],
   "source": [
    "df_val = pd.read_csv('validation.csv', sep = ',')"
   ]
  },
  {
   "cell_type": "code",
   "execution_count": 69,
   "id": "7f5f0ab2",
   "metadata": {},
   "outputs": [],
   "source": [
    "df_val = df_val[df_val['HOUSE'].notna()]\n",
    "df_val.reset_index(inplace=True, drop=True)"
   ]
  },
  {
   "cell_type": "code",
   "execution_count": 70,
   "id": "343eee08",
   "metadata": {},
   "outputs": [],
   "source": [
    "df_result['CUSTOMER_ID'] = df_val['CUSTOMER_ID']"
   ]
  },
  {
   "cell_type": "code",
   "execution_count": 71,
   "id": "498ea610",
   "metadata": {},
   "outputs": [
    {
     "data": {
      "text/html": [
       "<div>\n",
       "<style scoped>\n",
       "    .dataframe tbody tr th:only-of-type {\n",
       "        vertical-align: middle;\n",
       "    }\n",
       "\n",
       "    .dataframe tbody tr th {\n",
       "        vertical-align: top;\n",
       "    }\n",
       "\n",
       "    .dataframe thead th {\n",
       "        text-align: right;\n",
       "    }\n",
       "</style>\n",
       "<table border=\"1\" class=\"dataframe\">\n",
       "  <thead>\n",
       "    <tr style=\"text-align: right;\">\n",
       "      <th></th>\n",
       "      <th>CHURN_PROBABILITY</th>\n",
       "      <th>CHURN_LABEL</th>\n",
       "      <th>CLIENT_TO_CONTACT</th>\n",
       "      <th>DISCOUNT</th>\n",
       "      <th>CUSTOMER_ID</th>\n",
       "    </tr>\n",
       "  </thead>\n",
       "  <tbody>\n",
       "    <tr>\n",
       "      <th>0</th>\n",
       "      <td>0.519383</td>\n",
       "      <td>0</td>\n",
       "      <td>NO</td>\n",
       "      <td>0</td>\n",
       "      <td>C100002</td>\n",
       "    </tr>\n",
       "    <tr>\n",
       "      <th>1</th>\n",
       "      <td>0.455032</td>\n",
       "      <td>0</td>\n",
       "      <td>NO</td>\n",
       "      <td>0</td>\n",
       "      <td>C100003</td>\n",
       "    </tr>\n",
       "    <tr>\n",
       "      <th>2</th>\n",
       "      <td>0.818781</td>\n",
       "      <td>1</td>\n",
       "      <td>NO</td>\n",
       "      <td>0</td>\n",
       "      <td>C100004</td>\n",
       "    </tr>\n",
       "    <tr>\n",
       "      <th>3</th>\n",
       "      <td>0.957137</td>\n",
       "      <td>1</td>\n",
       "      <td>NO</td>\n",
       "      <td>0</td>\n",
       "      <td>C100005</td>\n",
       "    </tr>\n",
       "    <tr>\n",
       "      <th>4</th>\n",
       "      <td>0.916525</td>\n",
       "      <td>1</td>\n",
       "      <td>NO</td>\n",
       "      <td>0</td>\n",
       "      <td>C100007</td>\n",
       "    </tr>\n",
       "  </tbody>\n",
       "</table>\n",
       "</div>"
      ],
      "text/plain": [
       "   CHURN_PROBABILITY  CHURN_LABEL CLIENT_TO_CONTACT  DISCOUNT CUSTOMER_ID\n",
       "0           0.519383            0                NO         0     C100002\n",
       "1           0.455032            0                NO         0     C100003\n",
       "2           0.818781            1                NO         0     C100004\n",
       "3           0.957137            1                NO         0     C100005\n",
       "4           0.916525            1                NO         0     C100007"
      ]
     },
     "execution_count": 71,
     "metadata": {},
     "output_type": "execute_result"
    }
   ],
   "source": [
    "df_result.head()"
   ]
  },
  {
   "cell_type": "code",
   "execution_count": 72,
   "id": "403b1cd3",
   "metadata": {},
   "outputs": [],
   "source": [
    "df_result.to_csv(\"results.csv\", sep=\",\")"
   ]
  },
  {
   "cell_type": "markdown",
   "id": "31e8a63d",
   "metadata": {},
   "source": [
    "### Exemple for one client"
   ]
  },
  {
   "cell_type": "code",
   "execution_count": null,
   "id": "15b1b0c5",
   "metadata": {},
   "outputs": [],
   "source": [
    "reslist = []\n",
    "iClient = 8\n",
    "nbDisc = 10\n",
    "maxBenefit = 0\n",
    "discOpt = 0\n",
    "for disc in range(nbDisc+1):\n",
    "        beforeExpValue = xToAnalyse[\"proba\"][iClient]*originalFacture[iClient]\n",
    "        afterPrice  = xToAnalyse[\"OVERCHARGE\"][iClient]*(1.-float(disc)/float(nbDisc))\n",
    "        xToAnalyse[selectedCols].iloc[iClient][\"OVERCHARGE\"] = afterPrice\n",
    "        afterProba = clf_RF.predict_proba(xToAnalyse[selectedCols].loc[iClient:iClient])[:,1][0]\n",
    "        afterExpValue = afterProba*originalFacture[iClient]*(1.-float(disc)/float(nbDisc)) - 10.\n",
    "        benefit = afterExpValue - beforeExpValue\n",
    "        #reslist.append([disc, beforeExpValue, afterPrice, afterProba, afterExpValue, benefit])\n",
    "        reslist.append([disc, benefit])"
   ]
  }
 ],
 "metadata": {
  "kernelspec": {
   "display_name": "Python 3",
   "language": "python",
   "name": "python3"
  },
  "language_info": {
   "codemirror_mode": {
    "name": "ipython",
    "version": 3
   },
   "file_extension": ".py",
   "mimetype": "text/x-python",
   "name": "python",
   "nbconvert_exporter": "python",
   "pygments_lexer": "ipython3",
   "version": "3.7.6"
  }
 },
 "nbformat": 4,
 "nbformat_minor": 5
}
