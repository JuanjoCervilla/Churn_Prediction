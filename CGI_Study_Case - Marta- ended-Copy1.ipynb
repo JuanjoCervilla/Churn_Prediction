{
 "cells": [
  {
   "cell_type": "markdown",
   "id": "06a364f1",
   "metadata": {},
   "source": [
    "<hr style=\"border-width:2px;border-color:#75DFC1\">\n",
    "\n",
    "# Study Case"
   ]
  },
  {
   "cell_type": "markdown",
   "id": "26f941ca",
   "metadata": {},
   "source": [
    "### Import packages"
   ]
  },
  {
   "cell_type": "code",
   "execution_count": 14,
   "id": "7375f9ef",
   "metadata": {},
   "outputs": [],
   "source": [
    "import pandas as pd\n",
    "import numpy as np\n",
    "import matplotlib.pyplot as plt\n",
    "import plotly.express as px\n",
    "\n",
    "from sklearn.preprocessing import MinMaxScaler\n",
    "from sklearn.decomposition import PCA\n",
    "from sklearn.model_selection import train_test_split"
   ]
  },
  {
   "cell_type": "code",
   "execution_count": 48,
   "id": "2e955632",
   "metadata": {},
   "outputs": [],
   "source": [
    "import pandas as pd\n",
    "import numpy as np\n",
    "import matplotlib.pyplot as plt\n",
    "import plotly.express as pximport \n",
    "import matplotlib.pyplot as plt\n",
    "%matplotlib inline\n",
    "import plotly.express as px\n",
    "import seaborn as sns\n",
    "\n",
    "import sklearn\n",
    "from sklearn.preprocessing import MinMaxScaler\n",
    "from sklearn.decomposition import PCA\n",
    "\n",
    "import statsmodels.api as sm\n",
    "import statsmodels.formula.api as smf\n",
    "\n",
    "\n",
    "from sklearn.feature_selection import VarianceThreshold, SelectKBest, SelectFromModel, f_regression, mutual_info_regression, RFE, RFECV\n",
    "from sklearn.model_selection import train_test_split, KFold, GridSearchCV\n",
    "from sklearn.linear_model import LinearRegression, Lasso\n",
    "from sklearn.preprocessing import StandardScaler\n",
    "\n",
    "from sklearn.metrics import roc_auc_score\n",
    "\n",
    "\n",
    "from sklearn.preprocessing import MinMaxScaler\n",
    "from sklearn.decomposition import PCA\n",
    "from sklearn.model_selection import train_test_split\n",
    "\n",
    "\n",
    "from sklearn import svm\n",
    "from sklearn import model_selection\n",
    "from sklearn.model_selection import train_test_split\n",
    "from sklearn import preprocessing\n",
    "\n",
    "from sklearn.ensemble import RandomForestClassifier\n",
    "from sklearn import metrics \n",
    "\n",
    "import warnings\n",
    "warnings.filterwarnings('ignore')\n",
    "\n",
    "from sklearn.experimental import enable_iterative_imputer\n",
    "from sklearn.impute import IterativeImputer\n",
    "import xgboost as xgb"
   ]
  },
  {
   "cell_type": "markdown",
   "id": "fa86c2af",
   "metadata": {},
   "source": [
    "### DataFrame observation"
   ]
  },
  {
   "cell_type": "code",
   "execution_count": 27,
   "id": "c971536d",
   "metadata": {
    "scrolled": true
   },
   "outputs": [
    {
     "data": {
      "text/html": [
       "<div>\n",
       "<style scoped>\n",
       "    .dataframe tbody tr th:only-of-type {\n",
       "        vertical-align: middle;\n",
       "    }\n",
       "\n",
       "    .dataframe tbody tr th {\n",
       "        vertical-align: top;\n",
       "    }\n",
       "\n",
       "    .dataframe thead th {\n",
       "        text-align: right;\n",
       "    }\n",
       "</style>\n",
       "<table border=\"1\" class=\"dataframe\">\n",
       "  <thead>\n",
       "    <tr style=\"text-align: right;\">\n",
       "      <th></th>\n",
       "      <th>CUSTOMER_ID</th>\n",
       "      <th>COLLEGE</th>\n",
       "      <th>DATA</th>\n",
       "      <th>INCOME</th>\n",
       "      <th>OVERCHARGE</th>\n",
       "      <th>LEFTOVER</th>\n",
       "      <th>HOUSE</th>\n",
       "      <th>LESSTHAN600k</th>\n",
       "      <th>CHILD</th>\n",
       "      <th>JOB_CLASS</th>\n",
       "      <th>REVENUE</th>\n",
       "      <th>HANDSET_PRICE</th>\n",
       "      <th>OVER_15MINS_CALLS_PER_MONTH</th>\n",
       "      <th>TIME_CLIENT</th>\n",
       "      <th>AVERAGE_CALL_DURATION</th>\n",
       "      <th>REPORTED_SATISFACTION</th>\n",
       "      <th>REPORTED_USAGE_LEVEL</th>\n",
       "      <th>CONSIDERING_CHANGE_OF_PLAN</th>\n",
       "      <th>CHURNED</th>\n",
       "    </tr>\n",
       "  </thead>\n",
       "  <tbody>\n",
       "    <tr>\n",
       "      <th>0</th>\n",
       "      <td>C100000</td>\n",
       "      <td>zero</td>\n",
       "      <td>660.000000</td>\n",
       "      <td>19995.0</td>\n",
       "      <td>0</td>\n",
       "      <td>0</td>\n",
       "      <td>897338.0</td>\n",
       "      <td>False</td>\n",
       "      <td>4</td>\n",
       "      <td>3</td>\n",
       "      <td>160.0</td>\n",
       "      <td>155</td>\n",
       "      <td>1</td>\n",
       "      <td>1.2</td>\n",
       "      <td>15</td>\n",
       "      <td>very_unsat</td>\n",
       "      <td>little</td>\n",
       "      <td>considering</td>\n",
       "      <td>STAY</td>\n",
       "    </tr>\n",
       "    <tr>\n",
       "      <th>1</th>\n",
       "      <td>C100001</td>\n",
       "      <td>one</td>\n",
       "      <td>317.647059</td>\n",
       "      <td>31477.0</td>\n",
       "      <td>155</td>\n",
       "      <td>15</td>\n",
       "      <td>393396.0</td>\n",
       "      <td>True</td>\n",
       "      <td>0</td>\n",
       "      <td>1</td>\n",
       "      <td>100.0</td>\n",
       "      <td>245</td>\n",
       "      <td>27</td>\n",
       "      <td>2.7</td>\n",
       "      <td>4</td>\n",
       "      <td>unsat</td>\n",
       "      <td>little</td>\n",
       "      <td>considering</td>\n",
       "      <td>LEAVE</td>\n",
       "    </tr>\n",
       "    <tr>\n",
       "      <th>2</th>\n",
       "      <td>C100006</td>\n",
       "      <td>zero</td>\n",
       "      <td>208.695652</td>\n",
       "      <td>66742.0</td>\n",
       "      <td>0</td>\n",
       "      <td>13</td>\n",
       "      <td>937197.0</td>\n",
       "      <td>False</td>\n",
       "      <td>4</td>\n",
       "      <td>2</td>\n",
       "      <td>127.0</td>\n",
       "      <td>493</td>\n",
       "      <td>20</td>\n",
       "      <td>2.6</td>\n",
       "      <td>4</td>\n",
       "      <td>avg</td>\n",
       "      <td>very_little</td>\n",
       "      <td>considering</td>\n",
       "      <td>STAY</td>\n",
       "    </tr>\n",
       "    <tr>\n",
       "      <th>3</th>\n",
       "      <td>C100008</td>\n",
       "      <td>zero</td>\n",
       "      <td>265.017668</td>\n",
       "      <td>40864.0</td>\n",
       "      <td>183</td>\n",
       "      <td>0</td>\n",
       "      <td>986430.0</td>\n",
       "      <td>False</td>\n",
       "      <td>3</td>\n",
       "      <td>3</td>\n",
       "      <td>86.0</td>\n",
       "      <td>390</td>\n",
       "      <td>13</td>\n",
       "      <td>2.5</td>\n",
       "      <td>12</td>\n",
       "      <td>unsat</td>\n",
       "      <td>very_high</td>\n",
       "      <td>considering</td>\n",
       "      <td>LEAVE</td>\n",
       "    </tr>\n",
       "    <tr>\n",
       "      <th>4</th>\n",
       "      <td>C100010</td>\n",
       "      <td>one</td>\n",
       "      <td>440.000000</td>\n",
       "      <td>43321.5</td>\n",
       "      <td>200</td>\n",
       "      <td>0</td>\n",
       "      <td>394622.0</td>\n",
       "      <td>True</td>\n",
       "      <td>2</td>\n",
       "      <td>3</td>\n",
       "      <td>77.0</td>\n",
       "      <td>175</td>\n",
       "      <td>18</td>\n",
       "      <td>2.4</td>\n",
       "      <td>10</td>\n",
       "      <td>very_unsat</td>\n",
       "      <td>little</td>\n",
       "      <td>actively_looking_into_it</td>\n",
       "      <td>LEAVE</td>\n",
       "    </tr>\n",
       "  </tbody>\n",
       "</table>\n",
       "</div>"
      ],
      "text/plain": [
       "  CUSTOMER_ID COLLEGE        DATA   INCOME  OVERCHARGE  LEFTOVER     HOUSE  \\\n",
       "0     C100000    zero  660.000000  19995.0           0         0  897338.0   \n",
       "1     C100001     one  317.647059  31477.0         155        15  393396.0   \n",
       "2     C100006    zero  208.695652  66742.0           0        13  937197.0   \n",
       "3     C100008    zero  265.017668  40864.0         183         0  986430.0   \n",
       "4     C100010     one  440.000000  43321.5         200         0  394622.0   \n",
       "\n",
       "  LESSTHAN600k  CHILD  JOB_CLASS  REVENUE  HANDSET_PRICE  \\\n",
       "0        False      4          3    160.0            155   \n",
       "1         True      0          1    100.0            245   \n",
       "2        False      4          2    127.0            493   \n",
       "3        False      3          3     86.0            390   \n",
       "4         True      2          3     77.0            175   \n",
       "\n",
       "   OVER_15MINS_CALLS_PER_MONTH  TIME_CLIENT  AVERAGE_CALL_DURATION  \\\n",
       "0                            1          1.2                     15   \n",
       "1                           27          2.7                      4   \n",
       "2                           20          2.6                      4   \n",
       "3                           13          2.5                     12   \n",
       "4                           18          2.4                     10   \n",
       "\n",
       "  REPORTED_SATISFACTION REPORTED_USAGE_LEVEL CONSIDERING_CHANGE_OF_PLAN  \\\n",
       "0            very_unsat               little                considering   \n",
       "1                 unsat               little                considering   \n",
       "2                   avg          very_little                considering   \n",
       "3                 unsat            very_high                considering   \n",
       "4            very_unsat               little   actively_looking_into_it   \n",
       "\n",
       "  CHURNED  \n",
       "0    STAY  \n",
       "1   LEAVE  \n",
       "2    STAY  \n",
       "3   LEAVE  \n",
       "4   LEAVE  "
      ]
     },
     "execution_count": 27,
     "metadata": {},
     "output_type": "execute_result"
    }
   ],
   "source": [
    "#read csv file \n",
    "df_training = pd.read_csv('training.csv', sep = ',')\n",
    "df_training.head()"
   ]
  },
  {
   "cell_type": "code",
   "execution_count": 28,
   "id": "fc077942",
   "metadata": {},
   "outputs": [
    {
     "name": "stdout",
     "output_type": "stream",
     "text": [
      "<class 'pandas.core.frame.DataFrame'>\n",
      "RangeIndex: 11981 entries, 0 to 11980\n",
      "Data columns (total 19 columns):\n",
      " #   Column                       Non-Null Count  Dtype  \n",
      "---  ------                       --------------  -----  \n",
      " 0   CUSTOMER_ID                  11981 non-null  object \n",
      " 1   COLLEGE                      11981 non-null  object \n",
      " 2   DATA                         11981 non-null  float64\n",
      " 3   INCOME                       11981 non-null  float64\n",
      " 4   OVERCHARGE                   11981 non-null  int64  \n",
      " 5   LEFTOVER                     11981 non-null  int64  \n",
      " 6   HOUSE                        11346 non-null  float64\n",
      " 7   LESSTHAN600k                 11346 non-null  object \n",
      " 8   CHILD                        11981 non-null  int64  \n",
      " 9   JOB_CLASS                    11981 non-null  int64  \n",
      " 10  REVENUE                      11981 non-null  float64\n",
      " 11  HANDSET_PRICE                11981 non-null  int64  \n",
      " 12  OVER_15MINS_CALLS_PER_MONTH  11981 non-null  int64  \n",
      " 13  TIME_CLIENT                  11981 non-null  float64\n",
      " 14  AVERAGE_CALL_DURATION        11981 non-null  int64  \n",
      " 15  REPORTED_SATISFACTION        11981 non-null  object \n",
      " 16  REPORTED_USAGE_LEVEL         11981 non-null  object \n",
      " 17  CONSIDERING_CHANGE_OF_PLAN   11981 non-null  object \n",
      " 18  CHURNED                      11981 non-null  object \n",
      "dtypes: float64(5), int64(7), object(7)\n",
      "memory usage: 1.7+ MB\n"
     ]
    },
    {
     "data": {
      "text/plain": [
       "(11981, 19)"
      ]
     },
     "execution_count": 28,
     "metadata": {},
     "output_type": "execute_result"
    }
   ],
   "source": [
    "df_training.info()\n",
    "df_training.describe()\n",
    "df_training.dtypes\n",
    "df_training.shape"
   ]
  },
  {
   "cell_type": "code",
   "execution_count": 29,
   "id": "e6cd9af8",
   "metadata": {},
   "outputs": [],
   "source": [
    "#pd.isnull(df_training['HOUSE']).values.ravel().sum()\n",
    "#pd.notnull(df_training['HOUSE']).values.ravel().sum()\n",
    "\n",
    "# Warning!! We havve NaN in some columns, we are going to delete these rows\n",
    "# and see if these columns are important or not\n",
    "df_training = df_training[df_training['HOUSE'].notna()]\n",
    "df_training = df_training[df_training['LESSTHAN600k'].notna()]\n",
    "df_training.reset_index(inplace=True, drop=True)"
   ]
  },
  {
   "cell_type": "markdown",
   "id": "29d9e290",
   "metadata": {},
   "source": [
    "### Data Cleaning "
   ]
  },
  {
   "cell_type": "code",
   "execution_count": 30,
   "id": "477daf21",
   "metadata": {},
   "outputs": [],
   "source": [
    "df_training['COLLEGE'] = df_training['COLLEGE'].map({'zero' : float(0), 'one': float(1)})\n",
    "df_training['DATA'] = df_training['DATA'].round(2)\n",
    "columns_to_float = ['OVERCHARGE', 'LEFTOVER', 'HANDSET_PRICE', 'OVER_15MINS_CALLS_PER_MONTH', 'AVERAGE_CALL_DURATION']\n",
    "df_training[columns_to_float] = df_training[columns_to_float].astype(float)\n",
    "df_training['LESSTHAN600k'] = df_training['LESSTHAN600k'].astype(float)\n",
    "df_training['CHILD'] = df_training['CHILD'].astype(float)\n",
    "df_training['JOB_CLASS'] = df_training['JOB_CLASS'].astype(float)\n",
    "df_training['DATA'] = df_training['DATA'].round(2)\n",
    "\n",
    "#df_training['REPORTED_SATISFACTION'].unique()\n"
   ]
  },
  {
   "cell_type": "code",
   "execution_count": 31,
   "id": "5afed2c1",
   "metadata": {},
   "outputs": [],
   "source": [
    "\n",
    "df_training['CHURNED'] = df_training['CHURNED'].map({'LEAVE' : float(0), 'STAY': float(1)})"
   ]
  },
  {
   "cell_type": "code",
   "execution_count": 32,
   "id": "98f62170",
   "metadata": {},
   "outputs": [],
   "source": [
    "# list(df_training['REPORTED_SATISFACTION'].unique()) \n",
    "# list(df_training['REPORTED_USAGE_LEVEL'].unique()) \n",
    "# list(df_training['CONSIDERING_CHANGE_OF_PLAN'].unique()) \n",
    "\n",
    "df_training['CONSIDERING_CHANGE_OF_PLAN'] = df_training['CONSIDERING_CHANGE_OF_PLAN'].map({\n",
    "                                                    'actively_looking_into_it' : float(1),\n",
    "                                                    'considering': float(.75),\n",
    "                                                    'perhaps': float(.5),\n",
    "                                                    'no': float(.25),\n",
    "                                                    'never_thought': float(0),\n",
    "                                                    })\n",
    "\n",
    "df_training['REPORTED_USAGE_LEVEL'] = df_training['REPORTED_USAGE_LEVEL'].map({\n",
    "                                                    'very_little' : float(1),\n",
    "                                                    'little': float(.75),\n",
    "                                                    'avg': float(.5),\n",
    "                                                    'high' : float(.25),\n",
    "                                                    'very_high': float(0),\n",
    "                                                    })\n",
    "\n",
    "df_training['REPORTED_SATISFACTION'] = df_training['REPORTED_SATISFACTION'].map({\n",
    "                                                    'very_unsat' : float(1),\n",
    "                                                    'unsat': float(.75),\n",
    "                                                    'avg': float(.5),\n",
    "                                                    'sat' : float(.25),\n",
    "                                                    'very_sat': float(0),\n",
    "                                                    })"
   ]
  },
  {
   "cell_type": "code",
   "execution_count": 33,
   "id": "c94cbf54",
   "metadata": {},
   "outputs": [
    {
     "data": {
      "text/html": [
       "<div>\n",
       "<style scoped>\n",
       "    .dataframe tbody tr th:only-of-type {\n",
       "        vertical-align: middle;\n",
       "    }\n",
       "\n",
       "    .dataframe tbody tr th {\n",
       "        vertical-align: top;\n",
       "    }\n",
       "\n",
       "    .dataframe thead th {\n",
       "        text-align: right;\n",
       "    }\n",
       "</style>\n",
       "<table border=\"1\" class=\"dataframe\">\n",
       "  <thead>\n",
       "    <tr style=\"text-align: right;\">\n",
       "      <th></th>\n",
       "      <th>CUSTOMER_ID</th>\n",
       "      <th>COLLEGE</th>\n",
       "      <th>DATA</th>\n",
       "      <th>INCOME</th>\n",
       "      <th>OVERCHARGE</th>\n",
       "      <th>LEFTOVER</th>\n",
       "      <th>HOUSE</th>\n",
       "      <th>LESSTHAN600k</th>\n",
       "      <th>CHILD</th>\n",
       "      <th>JOB_CLASS</th>\n",
       "      <th>REVENUE</th>\n",
       "      <th>HANDSET_PRICE</th>\n",
       "      <th>OVER_15MINS_CALLS_PER_MONTH</th>\n",
       "      <th>TIME_CLIENT</th>\n",
       "      <th>AVERAGE_CALL_DURATION</th>\n",
       "      <th>REPORTED_SATISFACTION</th>\n",
       "      <th>REPORTED_USAGE_LEVEL</th>\n",
       "      <th>CONSIDERING_CHANGE_OF_PLAN</th>\n",
       "      <th>CHURNED</th>\n",
       "    </tr>\n",
       "  </thead>\n",
       "  <tbody>\n",
       "    <tr>\n",
       "      <th>0</th>\n",
       "      <td>C100000</td>\n",
       "      <td>0.0</td>\n",
       "      <td>660.00</td>\n",
       "      <td>19995.0</td>\n",
       "      <td>0.0</td>\n",
       "      <td>0.0</td>\n",
       "      <td>897338.0</td>\n",
       "      <td>0.0</td>\n",
       "      <td>4.0</td>\n",
       "      <td>3.0</td>\n",
       "      <td>160.0</td>\n",
       "      <td>155.0</td>\n",
       "      <td>1.0</td>\n",
       "      <td>1.2</td>\n",
       "      <td>15.0</td>\n",
       "      <td>1.00</td>\n",
       "      <td>0.75</td>\n",
       "      <td>0.75</td>\n",
       "      <td>1.0</td>\n",
       "    </tr>\n",
       "    <tr>\n",
       "      <th>1</th>\n",
       "      <td>C100001</td>\n",
       "      <td>1.0</td>\n",
       "      <td>317.65</td>\n",
       "      <td>31477.0</td>\n",
       "      <td>155.0</td>\n",
       "      <td>15.0</td>\n",
       "      <td>393396.0</td>\n",
       "      <td>1.0</td>\n",
       "      <td>0.0</td>\n",
       "      <td>1.0</td>\n",
       "      <td>100.0</td>\n",
       "      <td>245.0</td>\n",
       "      <td>27.0</td>\n",
       "      <td>2.7</td>\n",
       "      <td>4.0</td>\n",
       "      <td>0.75</td>\n",
       "      <td>0.75</td>\n",
       "      <td>0.75</td>\n",
       "      <td>0.0</td>\n",
       "    </tr>\n",
       "    <tr>\n",
       "      <th>2</th>\n",
       "      <td>C100006</td>\n",
       "      <td>0.0</td>\n",
       "      <td>208.70</td>\n",
       "      <td>66742.0</td>\n",
       "      <td>0.0</td>\n",
       "      <td>13.0</td>\n",
       "      <td>937197.0</td>\n",
       "      <td>0.0</td>\n",
       "      <td>4.0</td>\n",
       "      <td>2.0</td>\n",
       "      <td>127.0</td>\n",
       "      <td>493.0</td>\n",
       "      <td>20.0</td>\n",
       "      <td>2.6</td>\n",
       "      <td>4.0</td>\n",
       "      <td>0.50</td>\n",
       "      <td>1.00</td>\n",
       "      <td>0.75</td>\n",
       "      <td>1.0</td>\n",
       "    </tr>\n",
       "    <tr>\n",
       "      <th>3</th>\n",
       "      <td>C100008</td>\n",
       "      <td>0.0</td>\n",
       "      <td>265.02</td>\n",
       "      <td>40864.0</td>\n",
       "      <td>183.0</td>\n",
       "      <td>0.0</td>\n",
       "      <td>986430.0</td>\n",
       "      <td>0.0</td>\n",
       "      <td>3.0</td>\n",
       "      <td>3.0</td>\n",
       "      <td>86.0</td>\n",
       "      <td>390.0</td>\n",
       "      <td>13.0</td>\n",
       "      <td>2.5</td>\n",
       "      <td>12.0</td>\n",
       "      <td>0.75</td>\n",
       "      <td>0.00</td>\n",
       "      <td>0.75</td>\n",
       "      <td>0.0</td>\n",
       "    </tr>\n",
       "    <tr>\n",
       "      <th>4</th>\n",
       "      <td>C100010</td>\n",
       "      <td>1.0</td>\n",
       "      <td>440.00</td>\n",
       "      <td>43321.5</td>\n",
       "      <td>200.0</td>\n",
       "      <td>0.0</td>\n",
       "      <td>394622.0</td>\n",
       "      <td>1.0</td>\n",
       "      <td>2.0</td>\n",
       "      <td>3.0</td>\n",
       "      <td>77.0</td>\n",
       "      <td>175.0</td>\n",
       "      <td>18.0</td>\n",
       "      <td>2.4</td>\n",
       "      <td>10.0</td>\n",
       "      <td>1.00</td>\n",
       "      <td>0.75</td>\n",
       "      <td>1.00</td>\n",
       "      <td>0.0</td>\n",
       "    </tr>\n",
       "  </tbody>\n",
       "</table>\n",
       "</div>"
      ],
      "text/plain": [
       "  CUSTOMER_ID  COLLEGE    DATA   INCOME  OVERCHARGE  LEFTOVER     HOUSE  \\\n",
       "0     C100000      0.0  660.00  19995.0         0.0       0.0  897338.0   \n",
       "1     C100001      1.0  317.65  31477.0       155.0      15.0  393396.0   \n",
       "2     C100006      0.0  208.70  66742.0         0.0      13.0  937197.0   \n",
       "3     C100008      0.0  265.02  40864.0       183.0       0.0  986430.0   \n",
       "4     C100010      1.0  440.00  43321.5       200.0       0.0  394622.0   \n",
       "\n",
       "   LESSTHAN600k  CHILD  JOB_CLASS  REVENUE  HANDSET_PRICE  \\\n",
       "0           0.0    4.0        3.0    160.0          155.0   \n",
       "1           1.0    0.0        1.0    100.0          245.0   \n",
       "2           0.0    4.0        2.0    127.0          493.0   \n",
       "3           0.0    3.0        3.0     86.0          390.0   \n",
       "4           1.0    2.0        3.0     77.0          175.0   \n",
       "\n",
       "   OVER_15MINS_CALLS_PER_MONTH  TIME_CLIENT  AVERAGE_CALL_DURATION  \\\n",
       "0                          1.0          1.2                   15.0   \n",
       "1                         27.0          2.7                    4.0   \n",
       "2                         20.0          2.6                    4.0   \n",
       "3                         13.0          2.5                   12.0   \n",
       "4                         18.0          2.4                   10.0   \n",
       "\n",
       "   REPORTED_SATISFACTION  REPORTED_USAGE_LEVEL  CONSIDERING_CHANGE_OF_PLAN  \\\n",
       "0                   1.00                  0.75                        0.75   \n",
       "1                   0.75                  0.75                        0.75   \n",
       "2                   0.50                  1.00                        0.75   \n",
       "3                   0.75                  0.00                        0.75   \n",
       "4                   1.00                  0.75                        1.00   \n",
       "\n",
       "   CHURNED  \n",
       "0      1.0  \n",
       "1      0.0  \n",
       "2      1.0  \n",
       "3      0.0  \n",
       "4      0.0  "
      ]
     },
     "execution_count": 33,
     "metadata": {},
     "output_type": "execute_result"
    }
   ],
   "source": [
    "df_training.head()"
   ]
  },
  {
   "cell_type": "code",
   "execution_count": 34,
   "id": "8074889e",
   "metadata": {},
   "outputs": [],
   "source": [
    "#Dummies \n",
    "# def createDummies(df, col, var_name):\n",
    "#     dummy = pd.get_dummies(df[col], prefix=var_name)\n",
    "#     df = df.drop(col, axis = 1)\n",
    "#     df = pd.concat([df, dummy ], axis = 1)\n",
    "#     return df\n",
    "\n",
    "# df_training = createDummies(df_training, 'REPORTED_SATISFACTION', var_name='Report_Satisf')\n",
    "# df_training = createDummies(df_training, 'CONSIDERING_CHANGE_OF_PLAN', var_name='Change_Plan')\n",
    "# df_training = createDummies(df_training, 'REPORTED_USAGE_LEVEL', var_name='Report_Usage')"
   ]
  },
  {
   "cell_type": "markdown",
   "id": "c4080013",
   "metadata": {},
   "source": [
    "### Select main features"
   ]
  },
  {
   "cell_type": "markdown",
   "id": "150246be",
   "metadata": {},
   "source": [
    "Features deleted by intuition for the model :\n",
    " \n",
    " * ***CUSTOMER_ID*** :  nothing relevant to the analysis\n",
    " * ***COLLEGE*** :  I think it's not important, this feature you can know thanks to clients' revenue\n",
    " * ***LESSTHAN600k*** : It's a feature that depends directly on HOUSE feature. (Good news! It's a feature with NaN) \n",
    " * ***JOB_CLASS*** : I think the job_class is not very important. it's more important the income. Demonstrate both features are correlated.!!\n",
    "\n",
    " "
   ]
  },
  {
   "cell_type": "markdown",
   "id": "99aff4c8",
   "metadata": {},
   "source": [
    "* Afficher un *strip plot* permettant de visualiser le nombre de points marqués par les joueurs, en fonction de leurs postes (variable `pos`)."
   ]
  },
  {
   "cell_type": "code",
   "execution_count": 35,
   "id": "d2c48db2",
   "metadata": {},
   "outputs": [
    {
     "name": "stdout",
     "output_type": "stream",
     "text": [
      "column CUSTOMER_ID deleted\n",
      "column COLLEGE deleted\n",
      "column LESSTHAN600k deleted\n",
      "column JOB_CLASS deleted\n"
     ]
    }
   ],
   "source": [
    "remCol = []\n",
    "for col in df_training.columns:\n",
    "    if (col==\"CUSTOMER_ID\") | (col==\"COLLEGE\")  |  (col==\"LESSTHAN600k\" ) |  (col==\"JOB_CLASS\" ):\n",
    "        print(\"column \"+ col+\" deleted\")\n",
    "    else:\n",
    "        remCol.append(col)\n",
    "        \n",
    "df_training = df_training[remCol]"
   ]
  },
  {
   "cell_type": "markdown",
   "id": "663de782",
   "metadata": {},
   "source": [
    "### Normalize data"
   ]
  },
  {
   "cell_type": "code",
   "execution_count": 36,
   "id": "659dd120",
   "metadata": {},
   "outputs": [],
   "source": [
    "scaler = MinMaxScaler()\n",
    "normalized_data = scaler.fit_transform(df_training)\n",
    "df_normalized = pd.DataFrame(normalized_data, columns=remCol)"
   ]
  },
  {
   "cell_type": "code",
   "execution_count": 37,
   "id": "b16b00f8",
   "metadata": {},
   "outputs": [
    {
     "data": {
      "text/plain": [
       "array([[6.60000e+02, 1.99950e+04, 0.00000e+00, ..., 7.50000e-01,\n",
       "        7.50000e-01, 1.00000e+00],\n",
       "       [3.17650e+02, 3.14770e+04, 1.55000e+02, ..., 7.50000e-01,\n",
       "        7.50000e-01, 0.00000e+00],\n",
       "       [2.08700e+02, 6.67420e+04, 0.00000e+00, ..., 1.00000e+00,\n",
       "        7.50000e-01, 1.00000e+00],\n",
       "       ...,\n",
       "       [8.00000e+01, 7.76745e+04, 0.00000e+00, ..., 7.50000e-01,\n",
       "        1.00000e+00, 0.00000e+00],\n",
       "       [7.77800e+01, 3.77305e+04, 0.00000e+00, ..., 7.50000e-01,\n",
       "        7.50000e-01, 1.00000e+00],\n",
       "       [1.92930e+02, 3.48675e+04, 3.30000e+01, ..., 7.50000e-01,\n",
       "        5.00000e-01, 1.00000e+00]])"
      ]
     },
     "execution_count": 37,
     "metadata": {},
     "output_type": "execute_result"
    }
   ],
   "source": [
    "scaler.inverse_transform(df_normalized)"
   ]
  },
  {
   "cell_type": "code",
   "execution_count": 38,
   "id": "ac38acd2",
   "metadata": {},
   "outputs": [
    {
     "data": {
      "text/html": [
       "<div>\n",
       "<style scoped>\n",
       "    .dataframe tbody tr th:only-of-type {\n",
       "        vertical-align: middle;\n",
       "    }\n",
       "\n",
       "    .dataframe tbody tr th {\n",
       "        vertical-align: top;\n",
       "    }\n",
       "\n",
       "    .dataframe thead th {\n",
       "        text-align: right;\n",
       "    }\n",
       "</style>\n",
       "<table border=\"1\" class=\"dataframe\">\n",
       "  <thead>\n",
       "    <tr style=\"text-align: right;\">\n",
       "      <th></th>\n",
       "      <th>DATA</th>\n",
       "      <th>INCOME</th>\n",
       "      <th>OVERCHARGE</th>\n",
       "      <th>LEFTOVER</th>\n",
       "      <th>HOUSE</th>\n",
       "      <th>CHILD</th>\n",
       "      <th>REVENUE</th>\n",
       "      <th>HANDSET_PRICE</th>\n",
       "      <th>OVER_15MINS_CALLS_PER_MONTH</th>\n",
       "      <th>TIME_CLIENT</th>\n",
       "      <th>AVERAGE_CALL_DURATION</th>\n",
       "      <th>REPORTED_SATISFACTION</th>\n",
       "      <th>REPORTED_USAGE_LEVEL</th>\n",
       "      <th>CONSIDERING_CHANGE_OF_PLAN</th>\n",
       "      <th>CHURNED</th>\n",
       "    </tr>\n",
       "  </thead>\n",
       "  <tbody>\n",
       "    <tr>\n",
       "      <th>0</th>\n",
       "      <td>0.100000</td>\n",
       "      <td>0.104513</td>\n",
       "      <td>0.006667</td>\n",
       "      <td>0.000000</td>\n",
       "      <td>0.879223</td>\n",
       "      <td>0.666667</td>\n",
       "      <td>0.233546</td>\n",
       "      <td>0.032510</td>\n",
       "      <td>0.034483</td>\n",
       "      <td>0.043478</td>\n",
       "      <td>1.000000</td>\n",
       "      <td>1.00</td>\n",
       "      <td>0.75</td>\n",
       "      <td>0.75</td>\n",
       "      <td>1.0</td>\n",
       "    </tr>\n",
       "    <tr>\n",
       "      <th>1</th>\n",
       "      <td>0.048129</td>\n",
       "      <td>0.224967</td>\n",
       "      <td>0.523333</td>\n",
       "      <td>0.168539</td>\n",
       "      <td>0.286337</td>\n",
       "      <td>0.000000</td>\n",
       "      <td>0.106157</td>\n",
       "      <td>0.149545</td>\n",
       "      <td>0.931034</td>\n",
       "      <td>0.115942</td>\n",
       "      <td>0.214286</td>\n",
       "      <td>0.75</td>\n",
       "      <td>0.75</td>\n",
       "      <td>0.75</td>\n",
       "      <td>0.0</td>\n",
       "    </tr>\n",
       "    <tr>\n",
       "      <th>2</th>\n",
       "      <td>0.031621</td>\n",
       "      <td>0.594919</td>\n",
       "      <td>0.006667</td>\n",
       "      <td>0.146067</td>\n",
       "      <td>0.926117</td>\n",
       "      <td>0.666667</td>\n",
       "      <td>0.163482</td>\n",
       "      <td>0.472042</td>\n",
       "      <td>0.689655</td>\n",
       "      <td>0.111111</td>\n",
       "      <td>0.214286</td>\n",
       "      <td>0.50</td>\n",
       "      <td>1.00</td>\n",
       "      <td>0.75</td>\n",
       "      <td>1.0</td>\n",
       "    </tr>\n",
       "    <tr>\n",
       "      <th>3</th>\n",
       "      <td>0.040155</td>\n",
       "      <td>0.323442</td>\n",
       "      <td>0.616667</td>\n",
       "      <td>0.000000</td>\n",
       "      <td>0.984040</td>\n",
       "      <td>0.500000</td>\n",
       "      <td>0.076433</td>\n",
       "      <td>0.338101</td>\n",
       "      <td>0.448276</td>\n",
       "      <td>0.106280</td>\n",
       "      <td>0.785714</td>\n",
       "      <td>0.75</td>\n",
       "      <td>0.00</td>\n",
       "      <td>0.75</td>\n",
       "      <td>0.0</td>\n",
       "    </tr>\n",
       "    <tr>\n",
       "      <th>4</th>\n",
       "      <td>0.066667</td>\n",
       "      <td>0.349223</td>\n",
       "      <td>0.673333</td>\n",
       "      <td>0.000000</td>\n",
       "      <td>0.287779</td>\n",
       "      <td>0.333333</td>\n",
       "      <td>0.057325</td>\n",
       "      <td>0.058518</td>\n",
       "      <td>0.620690</td>\n",
       "      <td>0.101449</td>\n",
       "      <td>0.642857</td>\n",
       "      <td>1.00</td>\n",
       "      <td>0.75</td>\n",
       "      <td>1.00</td>\n",
       "      <td>0.0</td>\n",
       "    </tr>\n",
       "  </tbody>\n",
       "</table>\n",
       "</div>"
      ],
      "text/plain": [
       "       DATA    INCOME  OVERCHARGE  LEFTOVER     HOUSE     CHILD   REVENUE  \\\n",
       "0  0.100000  0.104513    0.006667  0.000000  0.879223  0.666667  0.233546   \n",
       "1  0.048129  0.224967    0.523333  0.168539  0.286337  0.000000  0.106157   \n",
       "2  0.031621  0.594919    0.006667  0.146067  0.926117  0.666667  0.163482   \n",
       "3  0.040155  0.323442    0.616667  0.000000  0.984040  0.500000  0.076433   \n",
       "4  0.066667  0.349223    0.673333  0.000000  0.287779  0.333333  0.057325   \n",
       "\n",
       "   HANDSET_PRICE  OVER_15MINS_CALLS_PER_MONTH  TIME_CLIENT  \\\n",
       "0       0.032510                     0.034483     0.043478   \n",
       "1       0.149545                     0.931034     0.115942   \n",
       "2       0.472042                     0.689655     0.111111   \n",
       "3       0.338101                     0.448276     0.106280   \n",
       "4       0.058518                     0.620690     0.101449   \n",
       "\n",
       "   AVERAGE_CALL_DURATION  REPORTED_SATISFACTION  REPORTED_USAGE_LEVEL  \\\n",
       "0               1.000000                   1.00                  0.75   \n",
       "1               0.214286                   0.75                  0.75   \n",
       "2               0.214286                   0.50                  1.00   \n",
       "3               0.785714                   0.75                  0.00   \n",
       "4               0.642857                   1.00                  0.75   \n",
       "\n",
       "   CONSIDERING_CHANGE_OF_PLAN  CHURNED  \n",
       "0                        0.75      1.0  \n",
       "1                        0.75      0.0  \n",
       "2                        0.75      1.0  \n",
       "3                        0.75      0.0  \n",
       "4                        1.00      0.0  "
      ]
     },
     "execution_count": 38,
     "metadata": {},
     "output_type": "execute_result"
    }
   ],
   "source": [
    "df_normalized.head()"
   ]
  },
  {
   "cell_type": "code",
   "execution_count": 82,
   "id": "57153c16",
   "metadata": {},
   "outputs": [],
   "source": [
    "df_normalized.to_csv('df_training_norm_reduced.csv', sep = ',')"
   ]
  },
  {
   "cell_type": "markdown",
   "id": "7042d6b2",
   "metadata": {},
   "source": [
    "### Matriz de correlación"
   ]
  },
  {
   "cell_type": "code",
   "execution_count": 39,
   "id": "7751c311",
   "metadata": {},
   "outputs": [
    {
     "data": {
      "application/vnd.plotly.v1+json": {
       "config": {
        "plotlyServerURL": "https://plot.ly"
       },
       "data": [
        {
         "coloraxis": "coloraxis",
         "hovertemplate": "x: %{x}<br>y: %{y}<br>color: %{z}<extra></extra>",
         "name": "0",
         "type": "heatmap",
         "x": [
          "DATA",
          "INCOME",
          "OVERCHARGE",
          "LEFTOVER",
          "HOUSE",
          "CHILD",
          "REVENUE",
          "HANDSET_PRICE",
          "OVER_15MINS_CALLS_PER_MONTH",
          "TIME_CLIENT",
          "AVERAGE_CALL_DURATION",
          "REPORTED_SATISFACTION",
          "REPORTED_USAGE_LEVEL",
          "CONSIDERING_CHANGE_OF_PLAN",
          "CHURNED"
         ],
         "xaxis": "x",
         "y": [
          "DATA",
          "INCOME",
          "OVERCHARGE",
          "LEFTOVER",
          "HOUSE",
          "CHILD",
          "REVENUE",
          "HANDSET_PRICE",
          "OVER_15MINS_CALLS_PER_MONTH",
          "TIME_CLIENT",
          "AVERAGE_CALL_DURATION",
          "REPORTED_SATISFACTION",
          "REPORTED_USAGE_LEVEL",
          "CONSIDERING_CHANGE_OF_PLAN",
          "CHURNED"
         ],
         "yaxis": "y",
         "z": [
          [
           1,
           -0.1298052414447413,
           -0.3627997644668665,
           -0.2669123682629433,
           -0.04092907719412125,
           -0.25606329795925253,
           0.0059831148809983414,
           0.01088717026786833,
           -0.275918161168579,
           0.5420369125233795,
           0.24762631672646349,
           0.0003720444936797227,
           0.002776916122263032,
           0.0035081599153354032,
           -0.05457789998006535
          ],
          [
           -0.1298052414447413,
           1,
           0.36873431078023544,
           0.011421507107582789,
           -0.01970855591686076,
           0.0016669172366823117,
           0.0035570708536164504,
           0.6659613632152581,
           0.28625940164525676,
           0.0021874211366521247,
           -0.017347187904969658,
           0.04235766427372946,
           0.007062198619999874,
           0.016614837895740486,
           -0.16819215154870146
          ],
          [
           -0.3627997644668665,
           0.36873431078023544,
           1,
           0.010359576336009646,
           0.035222801311423205,
           0.015280650897961112,
           0.013880186122690905,
           -0.018056389583242294,
           0.7740339913410867,
           -0.007353432259744196,
           0.006898703259040212,
           0.072414903945601,
           0.004499722274588762,
           0.04112009460074964,
           -0.21385295718166172
          ],
          [
           -0.2669123682629433,
           0.011421507107582789,
           0.010359576336009646,
           1,
           0.015578634477728705,
           -9.3898508826743e-05,
           -0.007506973005078975,
           0.0113412915385556,
           -0.0016797997649608517,
           0.002114915062119403,
           -0.65727100740731,
           0.016237994280594064,
           0.009356859548333825,
           0.02548006463237005,
           -0.06303634979951145
          ],
          [
           -0.04092907719412125,
           -0.01970855591686076,
           0.035222801311423205,
           0.015578634477728705,
           1,
           0.00864795770548623,
           -0.0013878423435924375,
           -0.02820807853389502,
           0.03286331840667127,
           0.006234027405944541,
           -0.014850885134133305,
           -0.036771676228744984,
           -0.0006733460981777721,
           -0.027094850996060595,
           0.19771573481479227
          ],
          [
           -0.25606329795925253,
           0.0016669172366823117,
           0.015280650897961112,
           -9.3898508826743e-05,
           0.00864795770548623,
           1,
           -0.0027377568716811704,
           -0.004718686911817668,
           0.01654622550436207,
           -0.0010094538226662556,
           0.001007335475772152,
           0.0014841350239450093,
           -0.0068561518675916595,
           -0.00444000156272712,
           0.002414622692395241
          ],
          [
           0.0059831148809983414,
           0.0035570708536164504,
           0.013880186122690905,
           -0.007506973005078975,
           -0.0013878423435924375,
           -0.0027377568716811704,
           1,
           -0.005575070836066888,
           0.006824482604637212,
           -0.007595605192365149,
           -0.0030808882913977683,
           0.011459797354865315,
           -0.006592832905221464,
           -0.003810674286943734,
           -0.011884350768794084
          ],
          [
           0.01088717026786833,
           0.6659613632152581,
           -0.018056389583242294,
           0.0113412915385556,
           -0.02820807853389502,
           -0.004718686911817668,
           -0.005575070836066888,
           1,
           -0.00899523353830043,
           -0.004889209936542122,
           -0.022832012291475672,
           0.006744397196626666,
           0.007940954142290067,
           6.052066536771711e-05,
           -0.07897272878315476
          ],
          [
           -0.275918161168579,
           0.28625940164525676,
           0.7740339913410867,
           -0.0016797997649608517,
           0.03286331840667127,
           0.01654622550436207,
           0.006824482604637212,
           -0.00899523353830043,
           1,
           -0.006969857005821269,
           0.018990409813695347,
           0.06328831306691865,
           0.009559680734118487,
           0.03776065235047647,
           -0.19226197671624107
          ],
          [
           0.5420369125233795,
           0.0021874211366521247,
           -0.007353432259744196,
           0.002114915062119403,
           0.006234027405944541,
           -0.0010094538226662556,
           -0.007595605192365149,
           -0.004889209936542122,
           -0.006969857005821269,
           1,
           0.0034967883513648324,
           -0.011373217701627665,
           0.005605140590167406,
           0.013132319043789299,
           0.013716994326250577
          ],
          [
           0.24762631672646349,
           -0.017347187904969658,
           0.006898703259040212,
           -0.65727100740731,
           -0.014850885134133305,
           0.001007335475772152,
           -0.0030808882913977683,
           -0.022832012291475672,
           0.018990409813695347,
           0.0034967883513648324,
           1,
           -0.009211566897724954,
           -0.008417640917438669,
           -0.009493645622344284,
           0.01789917851129207
          ],
          [
           0.0003720444936797227,
           0.04235766427372946,
           0.072414903945601,
           0.016237994280594064,
           -0.036771676228744984,
           0.0014841350239450093,
           0.011459797354865315,
           0.006744397196626666,
           0.06328831306691865,
           -0.011373217701627665,
           -0.009211566897724954,
           1,
           -0.007696137882630722,
           0.0469407985377618,
           -0.22226150651196816
          ],
          [
           0.002776916122263032,
           0.007062198619999874,
           0.004499722274588762,
           0.009356859548333825,
           -0.0006733460981777721,
           -0.0068561518675916595,
           -0.006592832905221464,
           0.007940954142290067,
           0.009559680734118487,
           0.005605140590167406,
           -0.008417640917438669,
           -0.007696137882630722,
           1,
           0.020607857355200238,
           0.012143640509469955
          ],
          [
           0.0035081599153354032,
           0.016614837895740486,
           0.04112009460074964,
           0.02548006463237005,
           -0.027094850996060595,
           -0.00444000156272712,
           -0.003810674286943734,
           6.052066536771711e-05,
           0.03776065235047647,
           0.013132319043789299,
           -0.009493645622344284,
           0.0469407985377618,
           0.020607857355200238,
           1,
           -0.11831217992796118
          ],
          [
           -0.05457789998006535,
           -0.16819215154870146,
           -0.21385295718166172,
           -0.06303634979951145,
           0.19771573481479227,
           0.002414622692395241,
           -0.011884350768794084,
           -0.07897272878315476,
           -0.19226197671624107,
           0.013716994326250577,
           0.01789917851129207,
           -0.22226150651196816,
           0.012143640509469955,
           -0.11831217992796118,
           1
          ]
         ]
        }
       ],
       "layout": {
        "coloraxis": {
         "colorscale": [
          [
           0,
           "#0d0887"
          ],
          [
           0.1111111111111111,
           "#46039f"
          ],
          [
           0.2222222222222222,
           "#7201a8"
          ],
          [
           0.3333333333333333,
           "#9c179e"
          ],
          [
           0.4444444444444444,
           "#bd3786"
          ],
          [
           0.5555555555555556,
           "#d8576b"
          ],
          [
           0.6666666666666666,
           "#ed7953"
          ],
          [
           0.7777777777777778,
           "#fb9f3a"
          ],
          [
           0.8888888888888888,
           "#fdca26"
          ],
          [
           1,
           "#f0f921"
          ]
         ]
        },
        "height": 800,
        "margin": {
         "t": 60
        },
        "template": {
         "data": {
          "bar": [
           {
            "error_x": {
             "color": "#2a3f5f"
            },
            "error_y": {
             "color": "#2a3f5f"
            },
            "marker": {
             "line": {
              "color": "#E5ECF6",
              "width": 0.5
             },
             "pattern": {
              "fillmode": "overlay",
              "size": 10,
              "solidity": 0.2
             }
            },
            "type": "bar"
           }
          ],
          "barpolar": [
           {
            "marker": {
             "line": {
              "color": "#E5ECF6",
              "width": 0.5
             },
             "pattern": {
              "fillmode": "overlay",
              "size": 10,
              "solidity": 0.2
             }
            },
            "type": "barpolar"
           }
          ],
          "carpet": [
           {
            "aaxis": {
             "endlinecolor": "#2a3f5f",
             "gridcolor": "white",
             "linecolor": "white",
             "minorgridcolor": "white",
             "startlinecolor": "#2a3f5f"
            },
            "baxis": {
             "endlinecolor": "#2a3f5f",
             "gridcolor": "white",
             "linecolor": "white",
             "minorgridcolor": "white",
             "startlinecolor": "#2a3f5f"
            },
            "type": "carpet"
           }
          ],
          "choropleth": [
           {
            "colorbar": {
             "outlinewidth": 0,
             "ticks": ""
            },
            "type": "choropleth"
           }
          ],
          "contour": [
           {
            "colorbar": {
             "outlinewidth": 0,
             "ticks": ""
            },
            "colorscale": [
             [
              0,
              "#0d0887"
             ],
             [
              0.1111111111111111,
              "#46039f"
             ],
             [
              0.2222222222222222,
              "#7201a8"
             ],
             [
              0.3333333333333333,
              "#9c179e"
             ],
             [
              0.4444444444444444,
              "#bd3786"
             ],
             [
              0.5555555555555556,
              "#d8576b"
             ],
             [
              0.6666666666666666,
              "#ed7953"
             ],
             [
              0.7777777777777778,
              "#fb9f3a"
             ],
             [
              0.8888888888888888,
              "#fdca26"
             ],
             [
              1,
              "#f0f921"
             ]
            ],
            "type": "contour"
           }
          ],
          "contourcarpet": [
           {
            "colorbar": {
             "outlinewidth": 0,
             "ticks": ""
            },
            "type": "contourcarpet"
           }
          ],
          "heatmap": [
           {
            "colorbar": {
             "outlinewidth": 0,
             "ticks": ""
            },
            "colorscale": [
             [
              0,
              "#0d0887"
             ],
             [
              0.1111111111111111,
              "#46039f"
             ],
             [
              0.2222222222222222,
              "#7201a8"
             ],
             [
              0.3333333333333333,
              "#9c179e"
             ],
             [
              0.4444444444444444,
              "#bd3786"
             ],
             [
              0.5555555555555556,
              "#d8576b"
             ],
             [
              0.6666666666666666,
              "#ed7953"
             ],
             [
              0.7777777777777778,
              "#fb9f3a"
             ],
             [
              0.8888888888888888,
              "#fdca26"
             ],
             [
              1,
              "#f0f921"
             ]
            ],
            "type": "heatmap"
           }
          ],
          "heatmapgl": [
           {
            "colorbar": {
             "outlinewidth": 0,
             "ticks": ""
            },
            "colorscale": [
             [
              0,
              "#0d0887"
             ],
             [
              0.1111111111111111,
              "#46039f"
             ],
             [
              0.2222222222222222,
              "#7201a8"
             ],
             [
              0.3333333333333333,
              "#9c179e"
             ],
             [
              0.4444444444444444,
              "#bd3786"
             ],
             [
              0.5555555555555556,
              "#d8576b"
             ],
             [
              0.6666666666666666,
              "#ed7953"
             ],
             [
              0.7777777777777778,
              "#fb9f3a"
             ],
             [
              0.8888888888888888,
              "#fdca26"
             ],
             [
              1,
              "#f0f921"
             ]
            ],
            "type": "heatmapgl"
           }
          ],
          "histogram": [
           {
            "marker": {
             "pattern": {
              "fillmode": "overlay",
              "size": 10,
              "solidity": 0.2
             }
            },
            "type": "histogram"
           }
          ],
          "histogram2d": [
           {
            "colorbar": {
             "outlinewidth": 0,
             "ticks": ""
            },
            "colorscale": [
             [
              0,
              "#0d0887"
             ],
             [
              0.1111111111111111,
              "#46039f"
             ],
             [
              0.2222222222222222,
              "#7201a8"
             ],
             [
              0.3333333333333333,
              "#9c179e"
             ],
             [
              0.4444444444444444,
              "#bd3786"
             ],
             [
              0.5555555555555556,
              "#d8576b"
             ],
             [
              0.6666666666666666,
              "#ed7953"
             ],
             [
              0.7777777777777778,
              "#fb9f3a"
             ],
             [
              0.8888888888888888,
              "#fdca26"
             ],
             [
              1,
              "#f0f921"
             ]
            ],
            "type": "histogram2d"
           }
          ],
          "histogram2dcontour": [
           {
            "colorbar": {
             "outlinewidth": 0,
             "ticks": ""
            },
            "colorscale": [
             [
              0,
              "#0d0887"
             ],
             [
              0.1111111111111111,
              "#46039f"
             ],
             [
              0.2222222222222222,
              "#7201a8"
             ],
             [
              0.3333333333333333,
              "#9c179e"
             ],
             [
              0.4444444444444444,
              "#bd3786"
             ],
             [
              0.5555555555555556,
              "#d8576b"
             ],
             [
              0.6666666666666666,
              "#ed7953"
             ],
             [
              0.7777777777777778,
              "#fb9f3a"
             ],
             [
              0.8888888888888888,
              "#fdca26"
             ],
             [
              1,
              "#f0f921"
             ]
            ],
            "type": "histogram2dcontour"
           }
          ],
          "mesh3d": [
           {
            "colorbar": {
             "outlinewidth": 0,
             "ticks": ""
            },
            "type": "mesh3d"
           }
          ],
          "parcoords": [
           {
            "line": {
             "colorbar": {
              "outlinewidth": 0,
              "ticks": ""
             }
            },
            "type": "parcoords"
           }
          ],
          "pie": [
           {
            "automargin": true,
            "type": "pie"
           }
          ],
          "scatter": [
           {
            "fillpattern": {
             "fillmode": "overlay",
             "size": 10,
             "solidity": 0.2
            },
            "type": "scatter"
           }
          ],
          "scatter3d": [
           {
            "line": {
             "colorbar": {
              "outlinewidth": 0,
              "ticks": ""
             }
            },
            "marker": {
             "colorbar": {
              "outlinewidth": 0,
              "ticks": ""
             }
            },
            "type": "scatter3d"
           }
          ],
          "scattercarpet": [
           {
            "marker": {
             "colorbar": {
              "outlinewidth": 0,
              "ticks": ""
             }
            },
            "type": "scattercarpet"
           }
          ],
          "scattergeo": [
           {
            "marker": {
             "colorbar": {
              "outlinewidth": 0,
              "ticks": ""
             }
            },
            "type": "scattergeo"
           }
          ],
          "scattergl": [
           {
            "marker": {
             "colorbar": {
              "outlinewidth": 0,
              "ticks": ""
             }
            },
            "type": "scattergl"
           }
          ],
          "scattermapbox": [
           {
            "marker": {
             "colorbar": {
              "outlinewidth": 0,
              "ticks": ""
             }
            },
            "type": "scattermapbox"
           }
          ],
          "scatterpolar": [
           {
            "marker": {
             "colorbar": {
              "outlinewidth": 0,
              "ticks": ""
             }
            },
            "type": "scatterpolar"
           }
          ],
          "scatterpolargl": [
           {
            "marker": {
             "colorbar": {
              "outlinewidth": 0,
              "ticks": ""
             }
            },
            "type": "scatterpolargl"
           }
          ],
          "scatterternary": [
           {
            "marker": {
             "colorbar": {
              "outlinewidth": 0,
              "ticks": ""
             }
            },
            "type": "scatterternary"
           }
          ],
          "surface": [
           {
            "colorbar": {
             "outlinewidth": 0,
             "ticks": ""
            },
            "colorscale": [
             [
              0,
              "#0d0887"
             ],
             [
              0.1111111111111111,
              "#46039f"
             ],
             [
              0.2222222222222222,
              "#7201a8"
             ],
             [
              0.3333333333333333,
              "#9c179e"
             ],
             [
              0.4444444444444444,
              "#bd3786"
             ],
             [
              0.5555555555555556,
              "#d8576b"
             ],
             [
              0.6666666666666666,
              "#ed7953"
             ],
             [
              0.7777777777777778,
              "#fb9f3a"
             ],
             [
              0.8888888888888888,
              "#fdca26"
             ],
             [
              1,
              "#f0f921"
             ]
            ],
            "type": "surface"
           }
          ],
          "table": [
           {
            "cells": {
             "fill": {
              "color": "#EBF0F8"
             },
             "line": {
              "color": "white"
             }
            },
            "header": {
             "fill": {
              "color": "#C8D4E3"
             },
             "line": {
              "color": "white"
             }
            },
            "type": "table"
           }
          ]
         },
         "layout": {
          "annotationdefaults": {
           "arrowcolor": "#2a3f5f",
           "arrowhead": 0,
           "arrowwidth": 1
          },
          "autotypenumbers": "strict",
          "coloraxis": {
           "colorbar": {
            "outlinewidth": 0,
            "ticks": ""
           }
          },
          "colorscale": {
           "diverging": [
            [
             0,
             "#8e0152"
            ],
            [
             0.1,
             "#c51b7d"
            ],
            [
             0.2,
             "#de77ae"
            ],
            [
             0.3,
             "#f1b6da"
            ],
            [
             0.4,
             "#fde0ef"
            ],
            [
             0.5,
             "#f7f7f7"
            ],
            [
             0.6,
             "#e6f5d0"
            ],
            [
             0.7,
             "#b8e186"
            ],
            [
             0.8,
             "#7fbc41"
            ],
            [
             0.9,
             "#4d9221"
            ],
            [
             1,
             "#276419"
            ]
           ],
           "sequential": [
            [
             0,
             "#0d0887"
            ],
            [
             0.1111111111111111,
             "#46039f"
            ],
            [
             0.2222222222222222,
             "#7201a8"
            ],
            [
             0.3333333333333333,
             "#9c179e"
            ],
            [
             0.4444444444444444,
             "#bd3786"
            ],
            [
             0.5555555555555556,
             "#d8576b"
            ],
            [
             0.6666666666666666,
             "#ed7953"
            ],
            [
             0.7777777777777778,
             "#fb9f3a"
            ],
            [
             0.8888888888888888,
             "#fdca26"
            ],
            [
             1,
             "#f0f921"
            ]
           ],
           "sequentialminus": [
            [
             0,
             "#0d0887"
            ],
            [
             0.1111111111111111,
             "#46039f"
            ],
            [
             0.2222222222222222,
             "#7201a8"
            ],
            [
             0.3333333333333333,
             "#9c179e"
            ],
            [
             0.4444444444444444,
             "#bd3786"
            ],
            [
             0.5555555555555556,
             "#d8576b"
            ],
            [
             0.6666666666666666,
             "#ed7953"
            ],
            [
             0.7777777777777778,
             "#fb9f3a"
            ],
            [
             0.8888888888888888,
             "#fdca26"
            ],
            [
             1,
             "#f0f921"
            ]
           ]
          },
          "colorway": [
           "#636efa",
           "#EF553B",
           "#00cc96",
           "#ab63fa",
           "#FFA15A",
           "#19d3f3",
           "#FF6692",
           "#B6E880",
           "#FF97FF",
           "#FECB52"
          ],
          "font": {
           "color": "#2a3f5f"
          },
          "geo": {
           "bgcolor": "white",
           "lakecolor": "white",
           "landcolor": "#E5ECF6",
           "showlakes": true,
           "showland": true,
           "subunitcolor": "white"
          },
          "hoverlabel": {
           "align": "left"
          },
          "hovermode": "closest",
          "mapbox": {
           "style": "light"
          },
          "paper_bgcolor": "white",
          "plot_bgcolor": "#E5ECF6",
          "polar": {
           "angularaxis": {
            "gridcolor": "white",
            "linecolor": "white",
            "ticks": ""
           },
           "bgcolor": "#E5ECF6",
           "radialaxis": {
            "gridcolor": "white",
            "linecolor": "white",
            "ticks": ""
           }
          },
          "scene": {
           "xaxis": {
            "backgroundcolor": "#E5ECF6",
            "gridcolor": "white",
            "gridwidth": 2,
            "linecolor": "white",
            "showbackground": true,
            "ticks": "",
            "zerolinecolor": "white"
           },
           "yaxis": {
            "backgroundcolor": "#E5ECF6",
            "gridcolor": "white",
            "gridwidth": 2,
            "linecolor": "white",
            "showbackground": true,
            "ticks": "",
            "zerolinecolor": "white"
           },
           "zaxis": {
            "backgroundcolor": "#E5ECF6",
            "gridcolor": "white",
            "gridwidth": 2,
            "linecolor": "white",
            "showbackground": true,
            "ticks": "",
            "zerolinecolor": "white"
           }
          },
          "shapedefaults": {
           "line": {
            "color": "#2a3f5f"
           }
          },
          "ternary": {
           "aaxis": {
            "gridcolor": "white",
            "linecolor": "white",
            "ticks": ""
           },
           "baxis": {
            "gridcolor": "white",
            "linecolor": "white",
            "ticks": ""
           },
           "bgcolor": "#E5ECF6",
           "caxis": {
            "gridcolor": "white",
            "linecolor": "white",
            "ticks": ""
           }
          },
          "title": {
           "x": 0.05
          },
          "xaxis": {
           "automargin": true,
           "gridcolor": "white",
           "linecolor": "white",
           "ticks": "",
           "title": {
            "standoff": 15
           },
           "zerolinecolor": "white",
           "zerolinewidth": 2
          },
          "yaxis": {
           "automargin": true,
           "gridcolor": "white",
           "linecolor": "white",
           "ticks": "",
           "title": {
            "standoff": 15
           },
           "zerolinecolor": "white",
           "zerolinewidth": 2
          }
         }
        },
        "width": 800,
        "xaxis": {
         "anchor": "y",
         "constrain": "domain",
         "domain": [
          0,
          1
         ],
         "scaleanchor": "y"
        },
        "yaxis": {
         "anchor": "x",
         "autorange": "reversed",
         "constrain": "domain",
         "domain": [
          0,
          1
         ]
        }
       }
      },
      "text/html": [
       "<div>                            <div id=\"c25c10cd-ef2a-4eea-9148-75ad5e3c0db2\" class=\"plotly-graph-div\" style=\"height:800px; width:800px;\"></div>            <script type=\"text/javascript\">                require([\"plotly\"], function(Plotly) {                    window.PLOTLYENV=window.PLOTLYENV || {};                                    if (document.getElementById(\"c25c10cd-ef2a-4eea-9148-75ad5e3c0db2\")) {                    Plotly.newPlot(                        \"c25c10cd-ef2a-4eea-9148-75ad5e3c0db2\",                        [{\"coloraxis\":\"coloraxis\",\"name\":\"0\",\"x\":[\"DATA\",\"INCOME\",\"OVERCHARGE\",\"LEFTOVER\",\"HOUSE\",\"CHILD\",\"REVENUE\",\"HANDSET_PRICE\",\"OVER_15MINS_CALLS_PER_MONTH\",\"TIME_CLIENT\",\"AVERAGE_CALL_DURATION\",\"REPORTED_SATISFACTION\",\"REPORTED_USAGE_LEVEL\",\"CONSIDERING_CHANGE_OF_PLAN\",\"CHURNED\"],\"y\":[\"DATA\",\"INCOME\",\"OVERCHARGE\",\"LEFTOVER\",\"HOUSE\",\"CHILD\",\"REVENUE\",\"HANDSET_PRICE\",\"OVER_15MINS_CALLS_PER_MONTH\",\"TIME_CLIENT\",\"AVERAGE_CALL_DURATION\",\"REPORTED_SATISFACTION\",\"REPORTED_USAGE_LEVEL\",\"CONSIDERING_CHANGE_OF_PLAN\",\"CHURNED\"],\"z\":[[1.0,-0.1298052414447413,-0.3627997644668665,-0.2669123682629433,-0.04092907719412125,-0.25606329795925253,0.0059831148809983414,0.01088717026786833,-0.275918161168579,0.5420369125233795,0.24762631672646349,0.0003720444936797227,0.002776916122263032,0.0035081599153354032,-0.05457789998006535],[-0.1298052414447413,1.0,0.36873431078023544,0.011421507107582789,-0.01970855591686076,0.0016669172366823117,0.0035570708536164504,0.6659613632152581,0.28625940164525676,0.0021874211366521247,-0.017347187904969658,0.04235766427372946,0.007062198619999874,0.016614837895740486,-0.16819215154870146],[-0.3627997644668665,0.36873431078023544,1.0,0.010359576336009646,0.035222801311423205,0.015280650897961112,0.013880186122690905,-0.018056389583242294,0.7740339913410867,-0.007353432259744196,0.006898703259040212,0.072414903945601,0.004499722274588762,0.04112009460074964,-0.21385295718166172],[-0.2669123682629433,0.011421507107582789,0.010359576336009646,1.0,0.015578634477728705,-9.3898508826743e-05,-0.007506973005078975,0.0113412915385556,-0.0016797997649608517,0.002114915062119403,-0.65727100740731,0.016237994280594064,0.009356859548333825,0.02548006463237005,-0.06303634979951145],[-0.04092907719412125,-0.01970855591686076,0.035222801311423205,0.015578634477728705,1.0,0.00864795770548623,-0.0013878423435924375,-0.02820807853389502,0.03286331840667127,0.006234027405944541,-0.014850885134133305,-0.036771676228744984,-0.0006733460981777721,-0.027094850996060595,0.19771573481479227],[-0.25606329795925253,0.0016669172366823117,0.015280650897961112,-9.3898508826743e-05,0.00864795770548623,1.0,-0.0027377568716811704,-0.004718686911817668,0.01654622550436207,-0.0010094538226662556,0.001007335475772152,0.0014841350239450093,-0.0068561518675916595,-0.00444000156272712,0.002414622692395241],[0.0059831148809983414,0.0035570708536164504,0.013880186122690905,-0.007506973005078975,-0.0013878423435924375,-0.0027377568716811704,1.0,-0.005575070836066888,0.006824482604637212,-0.007595605192365149,-0.0030808882913977683,0.011459797354865315,-0.006592832905221464,-0.003810674286943734,-0.011884350768794084],[0.01088717026786833,0.6659613632152581,-0.018056389583242294,0.0113412915385556,-0.02820807853389502,-0.004718686911817668,-0.005575070836066888,1.0,-0.00899523353830043,-0.004889209936542122,-0.022832012291475672,0.006744397196626666,0.007940954142290067,6.052066536771711e-05,-0.07897272878315476],[-0.275918161168579,0.28625940164525676,0.7740339913410867,-0.0016797997649608517,0.03286331840667127,0.01654622550436207,0.006824482604637212,-0.00899523353830043,1.0,-0.006969857005821269,0.018990409813695347,0.06328831306691865,0.009559680734118487,0.03776065235047647,-0.19226197671624107],[0.5420369125233795,0.0021874211366521247,-0.007353432259744196,0.002114915062119403,0.006234027405944541,-0.0010094538226662556,-0.007595605192365149,-0.004889209936542122,-0.006969857005821269,1.0,0.0034967883513648324,-0.011373217701627665,0.005605140590167406,0.013132319043789299,0.013716994326250577],[0.24762631672646349,-0.017347187904969658,0.006898703259040212,-0.65727100740731,-0.014850885134133305,0.001007335475772152,-0.0030808882913977683,-0.022832012291475672,0.018990409813695347,0.0034967883513648324,1.0,-0.009211566897724954,-0.008417640917438669,-0.009493645622344284,0.01789917851129207],[0.0003720444936797227,0.04235766427372946,0.072414903945601,0.016237994280594064,-0.036771676228744984,0.0014841350239450093,0.011459797354865315,0.006744397196626666,0.06328831306691865,-0.011373217701627665,-0.009211566897724954,1.0,-0.007696137882630722,0.0469407985377618,-0.22226150651196816],[0.002776916122263032,0.007062198619999874,0.004499722274588762,0.009356859548333825,-0.0006733460981777721,-0.0068561518675916595,-0.006592832905221464,0.007940954142290067,0.009559680734118487,0.005605140590167406,-0.008417640917438669,-0.007696137882630722,1.0,0.020607857355200238,0.012143640509469955],[0.0035081599153354032,0.016614837895740486,0.04112009460074964,0.02548006463237005,-0.027094850996060595,-0.00444000156272712,-0.003810674286943734,6.052066536771711e-05,0.03776065235047647,0.013132319043789299,-0.009493645622344284,0.0469407985377618,0.020607857355200238,1.0,-0.11831217992796118],[-0.05457789998006535,-0.16819215154870146,-0.21385295718166172,-0.06303634979951145,0.19771573481479227,0.002414622692395241,-0.011884350768794084,-0.07897272878315476,-0.19226197671624107,0.013716994326250577,0.01789917851129207,-0.22226150651196816,0.012143640509469955,-0.11831217992796118,1.0]],\"type\":\"heatmap\",\"xaxis\":\"x\",\"yaxis\":\"y\",\"hovertemplate\":\"x: %{x}<br>y: %{y}<br>color: %{z}<extra></extra>\"}],                        {\"template\":{\"data\":{\"histogram2dcontour\":[{\"type\":\"histogram2dcontour\",\"colorbar\":{\"outlinewidth\":0,\"ticks\":\"\"},\"colorscale\":[[0.0,\"#0d0887\"],[0.1111111111111111,\"#46039f\"],[0.2222222222222222,\"#7201a8\"],[0.3333333333333333,\"#9c179e\"],[0.4444444444444444,\"#bd3786\"],[0.5555555555555556,\"#d8576b\"],[0.6666666666666666,\"#ed7953\"],[0.7777777777777778,\"#fb9f3a\"],[0.8888888888888888,\"#fdca26\"],[1.0,\"#f0f921\"]]}],\"choropleth\":[{\"type\":\"choropleth\",\"colorbar\":{\"outlinewidth\":0,\"ticks\":\"\"}}],\"histogram2d\":[{\"type\":\"histogram2d\",\"colorbar\":{\"outlinewidth\":0,\"ticks\":\"\"},\"colorscale\":[[0.0,\"#0d0887\"],[0.1111111111111111,\"#46039f\"],[0.2222222222222222,\"#7201a8\"],[0.3333333333333333,\"#9c179e\"],[0.4444444444444444,\"#bd3786\"],[0.5555555555555556,\"#d8576b\"],[0.6666666666666666,\"#ed7953\"],[0.7777777777777778,\"#fb9f3a\"],[0.8888888888888888,\"#fdca26\"],[1.0,\"#f0f921\"]]}],\"heatmap\":[{\"type\":\"heatmap\",\"colorbar\":{\"outlinewidth\":0,\"ticks\":\"\"},\"colorscale\":[[0.0,\"#0d0887\"],[0.1111111111111111,\"#46039f\"],[0.2222222222222222,\"#7201a8\"],[0.3333333333333333,\"#9c179e\"],[0.4444444444444444,\"#bd3786\"],[0.5555555555555556,\"#d8576b\"],[0.6666666666666666,\"#ed7953\"],[0.7777777777777778,\"#fb9f3a\"],[0.8888888888888888,\"#fdca26\"],[1.0,\"#f0f921\"]]}],\"heatmapgl\":[{\"type\":\"heatmapgl\",\"colorbar\":{\"outlinewidth\":0,\"ticks\":\"\"},\"colorscale\":[[0.0,\"#0d0887\"],[0.1111111111111111,\"#46039f\"],[0.2222222222222222,\"#7201a8\"],[0.3333333333333333,\"#9c179e\"],[0.4444444444444444,\"#bd3786\"],[0.5555555555555556,\"#d8576b\"],[0.6666666666666666,\"#ed7953\"],[0.7777777777777778,\"#fb9f3a\"],[0.8888888888888888,\"#fdca26\"],[1.0,\"#f0f921\"]]}],\"contourcarpet\":[{\"type\":\"contourcarpet\",\"colorbar\":{\"outlinewidth\":0,\"ticks\":\"\"}}],\"contour\":[{\"type\":\"contour\",\"colorbar\":{\"outlinewidth\":0,\"ticks\":\"\"},\"colorscale\":[[0.0,\"#0d0887\"],[0.1111111111111111,\"#46039f\"],[0.2222222222222222,\"#7201a8\"],[0.3333333333333333,\"#9c179e\"],[0.4444444444444444,\"#bd3786\"],[0.5555555555555556,\"#d8576b\"],[0.6666666666666666,\"#ed7953\"],[0.7777777777777778,\"#fb9f3a\"],[0.8888888888888888,\"#fdca26\"],[1.0,\"#f0f921\"]]}],\"surface\":[{\"type\":\"surface\",\"colorbar\":{\"outlinewidth\":0,\"ticks\":\"\"},\"colorscale\":[[0.0,\"#0d0887\"],[0.1111111111111111,\"#46039f\"],[0.2222222222222222,\"#7201a8\"],[0.3333333333333333,\"#9c179e\"],[0.4444444444444444,\"#bd3786\"],[0.5555555555555556,\"#d8576b\"],[0.6666666666666666,\"#ed7953\"],[0.7777777777777778,\"#fb9f3a\"],[0.8888888888888888,\"#fdca26\"],[1.0,\"#f0f921\"]]}],\"mesh3d\":[{\"type\":\"mesh3d\",\"colorbar\":{\"outlinewidth\":0,\"ticks\":\"\"}}],\"scatter\":[{\"fillpattern\":{\"fillmode\":\"overlay\",\"size\":10,\"solidity\":0.2},\"type\":\"scatter\"}],\"parcoords\":[{\"type\":\"parcoords\",\"line\":{\"colorbar\":{\"outlinewidth\":0,\"ticks\":\"\"}}}],\"scatterpolargl\":[{\"type\":\"scatterpolargl\",\"marker\":{\"colorbar\":{\"outlinewidth\":0,\"ticks\":\"\"}}}],\"bar\":[{\"error_x\":{\"color\":\"#2a3f5f\"},\"error_y\":{\"color\":\"#2a3f5f\"},\"marker\":{\"line\":{\"color\":\"#E5ECF6\",\"width\":0.5},\"pattern\":{\"fillmode\":\"overlay\",\"size\":10,\"solidity\":0.2}},\"type\":\"bar\"}],\"scattergeo\":[{\"type\":\"scattergeo\",\"marker\":{\"colorbar\":{\"outlinewidth\":0,\"ticks\":\"\"}}}],\"scatterpolar\":[{\"type\":\"scatterpolar\",\"marker\":{\"colorbar\":{\"outlinewidth\":0,\"ticks\":\"\"}}}],\"histogram\":[{\"marker\":{\"pattern\":{\"fillmode\":\"overlay\",\"size\":10,\"solidity\":0.2}},\"type\":\"histogram\"}],\"scattergl\":[{\"type\":\"scattergl\",\"marker\":{\"colorbar\":{\"outlinewidth\":0,\"ticks\":\"\"}}}],\"scatter3d\":[{\"type\":\"scatter3d\",\"line\":{\"colorbar\":{\"outlinewidth\":0,\"ticks\":\"\"}},\"marker\":{\"colorbar\":{\"outlinewidth\":0,\"ticks\":\"\"}}}],\"scattermapbox\":[{\"type\":\"scattermapbox\",\"marker\":{\"colorbar\":{\"outlinewidth\":0,\"ticks\":\"\"}}}],\"scatterternary\":[{\"type\":\"scatterternary\",\"marker\":{\"colorbar\":{\"outlinewidth\":0,\"ticks\":\"\"}}}],\"scattercarpet\":[{\"type\":\"scattercarpet\",\"marker\":{\"colorbar\":{\"outlinewidth\":0,\"ticks\":\"\"}}}],\"carpet\":[{\"aaxis\":{\"endlinecolor\":\"#2a3f5f\",\"gridcolor\":\"white\",\"linecolor\":\"white\",\"minorgridcolor\":\"white\",\"startlinecolor\":\"#2a3f5f\"},\"baxis\":{\"endlinecolor\":\"#2a3f5f\",\"gridcolor\":\"white\",\"linecolor\":\"white\",\"minorgridcolor\":\"white\",\"startlinecolor\":\"#2a3f5f\"},\"type\":\"carpet\"}],\"table\":[{\"cells\":{\"fill\":{\"color\":\"#EBF0F8\"},\"line\":{\"color\":\"white\"}},\"header\":{\"fill\":{\"color\":\"#C8D4E3\"},\"line\":{\"color\":\"white\"}},\"type\":\"table\"}],\"barpolar\":[{\"marker\":{\"line\":{\"color\":\"#E5ECF6\",\"width\":0.5},\"pattern\":{\"fillmode\":\"overlay\",\"size\":10,\"solidity\":0.2}},\"type\":\"barpolar\"}],\"pie\":[{\"automargin\":true,\"type\":\"pie\"}]},\"layout\":{\"autotypenumbers\":\"strict\",\"colorway\":[\"#636efa\",\"#EF553B\",\"#00cc96\",\"#ab63fa\",\"#FFA15A\",\"#19d3f3\",\"#FF6692\",\"#B6E880\",\"#FF97FF\",\"#FECB52\"],\"font\":{\"color\":\"#2a3f5f\"},\"hovermode\":\"closest\",\"hoverlabel\":{\"align\":\"left\"},\"paper_bgcolor\":\"white\",\"plot_bgcolor\":\"#E5ECF6\",\"polar\":{\"bgcolor\":\"#E5ECF6\",\"angularaxis\":{\"gridcolor\":\"white\",\"linecolor\":\"white\",\"ticks\":\"\"},\"radialaxis\":{\"gridcolor\":\"white\",\"linecolor\":\"white\",\"ticks\":\"\"}},\"ternary\":{\"bgcolor\":\"#E5ECF6\",\"aaxis\":{\"gridcolor\":\"white\",\"linecolor\":\"white\",\"ticks\":\"\"},\"baxis\":{\"gridcolor\":\"white\",\"linecolor\":\"white\",\"ticks\":\"\"},\"caxis\":{\"gridcolor\":\"white\",\"linecolor\":\"white\",\"ticks\":\"\"}},\"coloraxis\":{\"colorbar\":{\"outlinewidth\":0,\"ticks\":\"\"}},\"colorscale\":{\"sequential\":[[0.0,\"#0d0887\"],[0.1111111111111111,\"#46039f\"],[0.2222222222222222,\"#7201a8\"],[0.3333333333333333,\"#9c179e\"],[0.4444444444444444,\"#bd3786\"],[0.5555555555555556,\"#d8576b\"],[0.6666666666666666,\"#ed7953\"],[0.7777777777777778,\"#fb9f3a\"],[0.8888888888888888,\"#fdca26\"],[1.0,\"#f0f921\"]],\"sequentialminus\":[[0.0,\"#0d0887\"],[0.1111111111111111,\"#46039f\"],[0.2222222222222222,\"#7201a8\"],[0.3333333333333333,\"#9c179e\"],[0.4444444444444444,\"#bd3786\"],[0.5555555555555556,\"#d8576b\"],[0.6666666666666666,\"#ed7953\"],[0.7777777777777778,\"#fb9f3a\"],[0.8888888888888888,\"#fdca26\"],[1.0,\"#f0f921\"]],\"diverging\":[[0,\"#8e0152\"],[0.1,\"#c51b7d\"],[0.2,\"#de77ae\"],[0.3,\"#f1b6da\"],[0.4,\"#fde0ef\"],[0.5,\"#f7f7f7\"],[0.6,\"#e6f5d0\"],[0.7,\"#b8e186\"],[0.8,\"#7fbc41\"],[0.9,\"#4d9221\"],[1,\"#276419\"]]},\"xaxis\":{\"gridcolor\":\"white\",\"linecolor\":\"white\",\"ticks\":\"\",\"title\":{\"standoff\":15},\"zerolinecolor\":\"white\",\"automargin\":true,\"zerolinewidth\":2},\"yaxis\":{\"gridcolor\":\"white\",\"linecolor\":\"white\",\"ticks\":\"\",\"title\":{\"standoff\":15},\"zerolinecolor\":\"white\",\"automargin\":true,\"zerolinewidth\":2},\"scene\":{\"xaxis\":{\"backgroundcolor\":\"#E5ECF6\",\"gridcolor\":\"white\",\"linecolor\":\"white\",\"showbackground\":true,\"ticks\":\"\",\"zerolinecolor\":\"white\",\"gridwidth\":2},\"yaxis\":{\"backgroundcolor\":\"#E5ECF6\",\"gridcolor\":\"white\",\"linecolor\":\"white\",\"showbackground\":true,\"ticks\":\"\",\"zerolinecolor\":\"white\",\"gridwidth\":2},\"zaxis\":{\"backgroundcolor\":\"#E5ECF6\",\"gridcolor\":\"white\",\"linecolor\":\"white\",\"showbackground\":true,\"ticks\":\"\",\"zerolinecolor\":\"white\",\"gridwidth\":2}},\"shapedefaults\":{\"line\":{\"color\":\"#2a3f5f\"}},\"annotationdefaults\":{\"arrowcolor\":\"#2a3f5f\",\"arrowhead\":0,\"arrowwidth\":1},\"geo\":{\"bgcolor\":\"white\",\"landcolor\":\"#E5ECF6\",\"subunitcolor\":\"white\",\"showland\":true,\"showlakes\":true,\"lakecolor\":\"white\"},\"title\":{\"x\":0.05},\"mapbox\":{\"style\":\"light\"}}},\"xaxis\":{\"anchor\":\"y\",\"domain\":[0.0,1.0],\"scaleanchor\":\"y\",\"constrain\":\"domain\"},\"yaxis\":{\"anchor\":\"x\",\"domain\":[0.0,1.0],\"autorange\":\"reversed\",\"constrain\":\"domain\"},\"coloraxis\":{\"colorscale\":[[0.0,\"#0d0887\"],[0.1111111111111111,\"#46039f\"],[0.2222222222222222,\"#7201a8\"],[0.3333333333333333,\"#9c179e\"],[0.4444444444444444,\"#bd3786\"],[0.5555555555555556,\"#d8576b\"],[0.6666666666666666,\"#ed7953\"],[0.7777777777777778,\"#fb9f3a\"],[0.8888888888888888,\"#fdca26\"],[1.0,\"#f0f921\"]]},\"margin\":{\"t\":60},\"height\":800,\"width\":800},                        {\"responsive\": true}                    ).then(function(){\n",
       "                            \n",
       "var gd = document.getElementById('c25c10cd-ef2a-4eea-9148-75ad5e3c0db2');\n",
       "var x = new MutationObserver(function (mutations, observer) {{\n",
       "        var display = window.getComputedStyle(gd).display;\n",
       "        if (!display || display === 'none') {{\n",
       "            console.log([gd, 'removed!']);\n",
       "            Plotly.purge(gd);\n",
       "            observer.disconnect();\n",
       "        }}\n",
       "}});\n",
       "\n",
       "// Listen for the removal of the full notebook cells\n",
       "var notebookContainer = gd.closest('#notebook-container');\n",
       "if (notebookContainer) {{\n",
       "    x.observe(notebookContainer, {childList: true});\n",
       "}}\n",
       "\n",
       "// Listen for the clearing of the current output cell\n",
       "var outputEl = gd.closest('.output');\n",
       "if (outputEl) {{\n",
       "    x.observe(outputEl, {childList: true});\n",
       "}}\n",
       "\n",
       "                        })                };                });            </script>        </div>"
      ]
     },
     "metadata": {},
     "output_type": "display_data"
    }
   ],
   "source": [
    "corr = df_training.corr()\n",
    "\n",
    "fig = px.imshow(corr, width=800, height=800)\n",
    "fig.show()"
   ]
  },
  {
   "cell_type": "markdown",
   "id": "7e94388c",
   "metadata": {},
   "source": [
    "## Logistic Regression"
   ]
  },
  {
   "cell_type": "code",
   "execution_count": 40,
   "id": "2b8ef747",
   "metadata": {},
   "outputs": [],
   "source": [
    "selectedCols = ['DATA','INCOME', 'HOUSE', 'OVERCHARGE', 'OVER_15MINS_CALLS_PER_MONTH', 'REPORTED_SATISFACTION',\n",
    "       'CONSIDERING_CHANGE_OF_PLAN', 'HANDSET_PRICE']\n",
    "X = df_normalized[selectedCols]\n",
    "Y = df_normalized[['CHURNED']]"
   ]
  },
  {
   "cell_type": "code",
   "execution_count": 41,
   "id": "72f789a0",
   "metadata": {},
   "outputs": [],
   "source": [
    "x_train, x_test, y_train, y_test = train_test_split( X, Y, test_size=0.2, random_state=100)"
   ]
  },
  {
   "cell_type": "code",
   "execution_count": 42,
   "id": "cdaf595a",
   "metadata": {},
   "outputs": [
    {
     "name": "stderr",
     "output_type": "stream",
     "text": [
      "C:\\Users\\Juanjo\\anaconda3\\lib\\site-packages\\sklearn\\utils\\validation.py:993: DataConversionWarning:\n",
      "\n",
      "A column-vector y was passed when a 1d array was expected. Please change the shape of y to (n_samples, ), for example using ravel().\n",
      "\n"
     ]
    }
   ],
   "source": [
    "from sklearn.linear_model import LogisticRegression\n",
    "from sklearn.metrics import accuracy_score, roc_auc_score\n",
    "clf_LR = LogisticRegression(random_state=1).fit(x_train, y_train)"
   ]
  },
  {
   "cell_type": "code",
   "execution_count": 43,
   "id": "df0d4636",
   "metadata": {},
   "outputs": [
    {
     "data": {
      "text/plain": [
       "0.7085720581754077"
      ]
     },
     "execution_count": 43,
     "metadata": {},
     "output_type": "execute_result"
    }
   ],
   "source": [
    "clf_LR.score(x_train, y_train)"
   ]
  },
  {
   "cell_type": "code",
   "execution_count": 44,
   "id": "b57dea38",
   "metadata": {},
   "outputs": [
    {
     "data": {
      "text/plain": [
       "0.711453744493392"
      ]
     },
     "execution_count": 44,
     "metadata": {},
     "output_type": "execute_result"
    }
   ],
   "source": [
    "clf_LR.score(x_test, y_test)"
   ]
  },
  {
   "cell_type": "code",
   "execution_count": 45,
   "id": "c4214815",
   "metadata": {},
   "outputs": [],
   "source": [
    "y_pred_LR = clf_LR.predict(x_test)"
   ]
  },
  {
   "cell_type": "code",
   "execution_count": 46,
   "id": "db450a46",
   "metadata": {},
   "outputs": [],
   "source": [
    "y_proba_LR = clf_LR.predict_proba(x_test)"
   ]
  },
  {
   "cell_type": "code",
   "execution_count": 52,
   "id": "d6f4a263",
   "metadata": {},
   "outputs": [
    {
     "data": {
      "image/png": "[encoded data removed]",
      "text/plain": [
       "<Figure size 432x288 with 1 Axes>"
      ]
     },
     "metadata": {
      "needs_background": "light"
     },
     "output_type": "display_data"
    }
   ],
   "source": [
    "metrics.plot_roc_curve(clf_LR, x_test, y_test) ;"
   ]
  },
  {
   "cell_type": "code",
   "execution_count": null,
   "id": "2d5c7518",
   "metadata": {},
   "outputs": [],
   "source": []
  },
  {
   "cell_type": "markdown",
   "id": "166690fc",
   "metadata": {},
   "source": [
    "## Random Forest Regressor"
   ]
  },
  {
   "cell_type": "code",
   "execution_count": 53,
   "id": "4f2661a2",
   "metadata": {},
   "outputs": [],
   "source": [
    "from sklearn.ensemble import RandomForestClassifier"
   ]
  },
  {
   "cell_type": "code",
   "execution_count": 54,
   "id": "e7840904",
   "metadata": {},
   "outputs": [
    {
     "data": {
      "text/plain": [
       "RandomForestClassifier(max_depth=15, random_state=100)"
      ]
     },
     "execution_count": 54,
     "metadata": {},
     "output_type": "execute_result"
    }
   ],
   "source": [
    "clf_RF = RandomForestClassifier(n_estimators=100, max_depth=15, random_state=100)\n",
    "clf_RF.fit(x_train, y_train)"
   ]
  },
  {
   "cell_type": "code",
   "execution_count": 55,
   "id": "b70b11bb",
   "metadata": {},
   "outputs": [
    {
     "data": {
      "text/plain": [
       "0.9643014543851918"
      ]
     },
     "execution_count": 55,
     "metadata": {},
     "output_type": "execute_result"
    }
   ],
   "source": [
    "clf_RF.score(x_train, y_train)"
   ]
  },
  {
   "cell_type": "code",
   "execution_count": 56,
   "id": "1f11951d",
   "metadata": {},
   "outputs": [],
   "source": [
    "y_proba_RF = clf_RF.predict_proba(x_test)"
   ]
  },
  {
   "cell_type": "code",
   "execution_count": 57,
   "id": "398e7843",
   "metadata": {},
   "outputs": [
    {
     "data": {
      "text/plain": [
       "0.7451656168666309"
      ]
     },
     "execution_count": 57,
     "metadata": {},
     "output_type": "execute_result"
    }
   ],
   "source": [
    "y_pred_RF = clf_RF.predict(x_test)\n",
    "roc_auc_score(y_pred_RF, y_test)"
   ]
  },
  {
   "cell_type": "code",
   "execution_count": 58,
   "id": "bddd5e10",
   "metadata": {},
   "outputs": [
    {
     "data": {
      "text/plain": [
       "0.7665198237885462"
      ]
     },
     "execution_count": 58,
     "metadata": {},
     "output_type": "execute_result"
    }
   ],
   "source": [
    "clf_RF.score(x_test, y_test)"
   ]
  },
  {
   "cell_type": "code",
   "execution_count": 59,
   "id": "dfe0fcf4",
   "metadata": {},
   "outputs": [
    {
     "data": {
      "text/plain": [
       "<sklearn.metrics._plot.roc_curve.RocCurveDisplay at 0x15a04b0aec8>"
      ]
     },
     "execution_count": 59,
     "metadata": {},
     "output_type": "execute_result"
    },
    {
     "data": {
      "image/png": "[encoded data removed]",
      "text/plain": [
       "<Figure size 432x288 with 1 Axes>"
      ]
     },
     "metadata": {
      "needs_background": "light"
     },
     "output_type": "display_data"
    }
   ],
   "source": [
    "from sklearn import metrics \n",
    "metrics.plot_roc_curve(clf_RF, x_test, y_test) "
   ]
  },
  {
   "cell_type": "code",
   "execution_count": 61,
   "id": "2b5ef4fa",
   "metadata": {},
   "outputs": [
    {
     "data": {
      "text/plain": [
       "0.7506607929515419"
      ]
     },
     "execution_count": 61,
     "metadata": {},
     "output_type": "execute_result"
    }
   ],
   "source": [
    "predThresH = (clf_RF.predict_proba(x_test)[:,1] >= 0.38).astype('int')\n",
    "accuracy_score(predThresH, y_test)"
   ]
  },
  {
   "cell_type": "code",
   "execution_count": 62,
   "id": "fe663e38",
   "metadata": {},
   "outputs": [
    {
     "data": {
      "text/plain": [
       "0.7567174357808593"
      ]
     },
     "execution_count": 62,
     "metadata": {},
     "output_type": "execute_result"
    }
   ],
   "source": [
    "roc_auc_score(predThresH, y_test)"
   ]
  },
  {
   "cell_type": "code",
   "execution_count": null,
   "id": "e421bd58",
   "metadata": {},
   "outputs": [],
   "source": []
  },
  {
   "cell_type": "markdown",
   "id": "11a0893a",
   "metadata": {},
   "source": [
    "##  XGboost"
   ]
  },
  {
   "cell_type": "code",
   "execution_count": 63,
   "id": "9875701c",
   "metadata": {},
   "outputs": [],
   "source": [
    "import xgboost as xgb\n",
    "\n",
    "# Init classifier\n",
    "xgb_cl = xgb.XGBClassifier(base_score=0.3, booster='gbtree', colsample_bylevel=0.8,\n",
    "              colsample_bynode=0.8, colsample_bytree=0.9, gamma=0.4,\n",
    "              learning_rate=0.0400000012, max_delta_step=20, max_depth=14,\n",
    "              min_child_weight=1, monotone_constraints='()',\n",
    "              n_estimators=75,  reg_alpha=0, reg_lambda=0, scale_pos_weight=1, subsample=0.7,\n",
    "              tree_method='exact', validate_parameters=1, verbosity=None)\n",
    "\n",
    "xgb_cl.fit(x_train, y_train)\n",
    "preds = xgb_cl.predict(x_train)"
   ]
  },
  {
   "cell_type": "code",
   "execution_count": 64,
   "id": "1d295406",
   "metadata": {},
   "outputs": [
    {
     "data": {
      "text/plain": [
       "0.973534364105108"
      ]
     },
     "execution_count": 64,
     "metadata": {},
     "output_type": "execute_result"
    }
   ],
   "source": [
    "roc_auc_score(preds, y_train)"
   ]
  },
  {
   "cell_type": "code",
   "execution_count": 65,
   "id": "d7be972f",
   "metadata": {},
   "outputs": [
    {
     "data": {
      "text/plain": [
       "0.7311892032906163"
      ]
     },
     "execution_count": 65,
     "metadata": {},
     "output_type": "execute_result"
    }
   ],
   "source": [
    "preds = xgb_cl.predict(x_test)\n",
    "roc_auc_score(preds, y_test)"
   ]
  },
  {
   "cell_type": "code",
   "execution_count": 66,
   "id": "17ddefa7",
   "metadata": {},
   "outputs": [
    {
     "data": {
      "text/plain": [
       "<sklearn.metrics._plot.roc_curve.RocCurveDisplay at 0x15a04b0e0c8>"
      ]
     },
     "execution_count": 66,
     "metadata": {},
     "output_type": "execute_result"
    },
    {
     "data": {
      "image/png": "[encoded data removed]",
      "text/plain": [
       "<Figure size 432x288 with 1 Axes>"
      ]
     },
     "metadata": {
      "needs_background": "light"
     },
     "output_type": "display_data"
    }
   ],
   "source": [
    "metrics.plot_roc_curve(xgb_cl, x_test, y_test) "
   ]
  },
  {
   "cell_type": "code",
   "execution_count": 67,
   "id": "327ecd44",
   "metadata": {},
   "outputs": [
    {
     "data": {
      "text/plain": [
       "0.7506607929515419"
      ]
     },
     "execution_count": 67,
     "metadata": {},
     "output_type": "execute_result"
    }
   ],
   "source": [
    "predThresH = (clf_RF.predict_proba(x_test)[:,1] >= 0.38).astype('int')\n",
    "accuracy_score(predThresH, y_test)"
   ]
  },
  {
   "cell_type": "code",
   "execution_count": 68,
   "id": "07a552c2",
   "metadata": {},
   "outputs": [
    {
     "data": {
      "text/plain": [
       "0.7567174357808593"
      ]
     },
     "execution_count": 68,
     "metadata": {},
     "output_type": "execute_result"
    }
   ],
   "source": [
    "roc_auc_score(predThresH, y_test)"
   ]
  },
  {
   "cell_type": "code",
   "execution_count": null,
   "id": "c1e1e425",
   "metadata": {},
   "outputs": [],
   "source": []
  },
  {
   "cell_type": "markdown",
   "id": "4b8ebd3f",
   "metadata": {},
   "source": [
    "# Client discount\n",
    "\n",
    "### We want offer discounts to clients with a high churn probability  => threshold = 0.35"
   ]
  },
  {
   "cell_type": "code",
   "execution_count": 69,
   "id": "6f41ba18",
   "metadata": {},
   "outputs": [],
   "source": [
    "xToAnalyse = df_normalized.copy()"
   ]
  },
  {
   "cell_type": "code",
   "execution_count": 70,
   "id": "b1fe3c71",
   "metadata": {},
   "outputs": [],
   "source": [
    "xToAnalyse[\"CHURN_LABEL\"] = (clf_RF.predict_proba(xToAnalyse[selectedCols])[:,1] >= 0.4).astype('int')"
   ]
  },
  {
   "cell_type": "code",
   "execution_count": 71,
   "id": "768dedd2",
   "metadata": {},
   "outputs": [],
   "source": [
    "xToAnalyse[\"CHURN_PROBABILITY\"] = clf_RF.predict_proba(xToAnalyse[selectedCols])[:,1]"
   ]
  },
  {
   "cell_type": "code",
   "execution_count": 72,
   "id": "fbcc5acd",
   "metadata": {},
   "outputs": [
    {
     "data": {
      "text/plain": [
       "0    0.914451\n",
       "1    0.128727\n",
       "2    0.845646\n",
       "3    0.414989\n",
       "4    0.095038\n",
       "5    0.656835\n",
       "6    0.841410\n",
       "7    0.823141\n",
       "8    0.030470\n",
       "9    0.419822\n",
       "Name: CHURN_PROBABILITY, dtype: float64"
      ]
     },
     "execution_count": 72,
     "metadata": {},
     "output_type": "execute_result"
    }
   ],
   "source": [
    "xToAnalyse[\"CHURN_PROBABILITY\"].head(10)"
   ]
  },
  {
   "cell_type": "code",
   "execution_count": 73,
   "id": "984d74c0",
   "metadata": {},
   "outputs": [],
   "source": [
    "originalFacture = df_training[\"OVERCHARGE\"] + df_training[\"REVENUE\"]"
   ]
  },
  {
   "cell_type": "code",
   "execution_count": 74,
   "id": "0153c2a2",
   "metadata": {},
   "outputs": [],
   "source": [
    "discList = [0, 5, 10, 15, 20, 25, 30,35, 40, 45,50]\n",
    "#discList = [0]\n",
    "for disc in discList:\n",
    "    beforeExpValue = np.multiply(xToAnalyse[\"CHURN_PROBABILITY\"],originalFacture)\n",
    "    xToAnalyse.iloc[:][\"OVERCHARGE\"]  = xToAnalyse[\"OVERCHARGE\"]*(1.-float(disc)/float(100.))\n",
    "    afterProba = clf_RF.predict_proba(xToAnalyse[selectedCols])[:,1]\n",
    "    if disc == 0:\n",
    "        afterExpValue = beforeExpValue\n",
    "    else:\n",
    "        afterExpValue = np.multiply(afterProba,originalFacture)*(1.-float(disc)/float(100.)) - 10.\n",
    "        \n",
    "    benefit = afterExpValue - beforeExpValue\n",
    "    xToAnalyse[\"disc_\"+str(disc)] = disc\n",
    "    xToAnalyse[str(disc)] = benefit\n",
    "    "
   ]
  },
  {
   "cell_type": "code",
   "execution_count": 75,
   "id": "75e947fb",
   "metadata": {},
   "outputs": [
    {
     "data": {
      "text/plain": [
       "[None, None, None, None, None, None, None, None, None, None, None]"
      ]
     },
     "execution_count": 75,
     "metadata": {},
     "output_type": "execute_result"
    }
   ],
   "source": [
    "colsDisc = []\n",
    "[colsDisc.append(str(disc)) for disc in discList]"
   ]
  },
  {
   "cell_type": "code",
   "execution_count": 76,
   "id": "2c0839f4",
   "metadata": {},
   "outputs": [
    {
     "data": {
      "text/plain": [
       "['0', '5', '10', '15', '20', '25', '30', '35', '40', '45', '50']"
      ]
     },
     "execution_count": 76,
     "metadata": {},
     "output_type": "execute_result"
    }
   ],
   "source": [
    "colsDisc"
   ]
  },
  {
   "cell_type": "code",
   "execution_count": 77,
   "id": "14e723bd",
   "metadata": {},
   "outputs": [],
   "source": [
    "xToAnalyse[\"maxBenefit\"] = xToAnalyse[colsDisc].loc[:].max(axis=1)"
   ]
  },
  {
   "cell_type": "code",
   "execution_count": 78,
   "id": "d6b93040",
   "metadata": {},
   "outputs": [],
   "source": [
    "xToAnalyse[\"DISCOUNT\"] = xToAnalyse[colsDisc].loc[:].idxmax(axis=1).astype(int)"
   ]
  },
  {
   "cell_type": "code",
   "execution_count": 79,
   "id": "bb9cfecf",
   "metadata": {},
   "outputs": [
    {
     "data": {
      "text/plain": [
       "<AxesSubplot:>"
      ]
     },
     "execution_count": 79,
     "metadata": {},
     "output_type": "execute_result"
    },
    {
     "data": {
      "image/png": "[encoded data removed]",
      "text/plain": [
       "<Figure size 432x288 with 1 Axes>"
      ]
     },
     "metadata": {
      "needs_background": "light"
     },
     "output_type": "display_data"
    }
   ],
   "source": [
    "xToAnalyse[\"DISCOUNT\"].hist()"
   ]
  },
  {
   "cell_type": "code",
   "execution_count": 80,
   "id": "ef0e4974",
   "metadata": {},
   "outputs": [
    {
     "data": {
      "text/plain": [
       "<AxesSubplot:>"
      ]
     },
     "execution_count": 80,
     "metadata": {},
     "output_type": "execute_result"
    },
    {
     "data": {
      "image/png": "[encoded data removed]",
      "text/plain": [
       "<Figure size 432x288 with 1 Axes>"
      ]
     },
     "metadata": {
      "needs_background": "light"
     },
     "output_type": "display_data"
    }
   ],
   "source": [
    "xToAnalyse[\"CHURN_LABEL\"].hist()"
   ]
  },
  {
   "cell_type": "code",
   "execution_count": 81,
   "id": "ecd504db",
   "metadata": {},
   "outputs": [
    {
     "data": {
      "text/html": [
       "<div>\n",
       "<style scoped>\n",
       "    .dataframe tbody tr th:only-of-type {\n",
       "        vertical-align: middle;\n",
       "    }\n",
       "\n",
       "    .dataframe tbody tr th {\n",
       "        vertical-align: top;\n",
       "    }\n",
       "\n",
       "    .dataframe thead th {\n",
       "        text-align: right;\n",
       "    }\n",
       "</style>\n",
       "<table border=\"1\" class=\"dataframe\">\n",
       "  <thead>\n",
       "    <tr style=\"text-align: right;\">\n",
       "      <th></th>\n",
       "      <th>0</th>\n",
       "      <th>5</th>\n",
       "      <th>10</th>\n",
       "      <th>15</th>\n",
       "      <th>20</th>\n",
       "      <th>25</th>\n",
       "      <th>30</th>\n",
       "      <th>35</th>\n",
       "      <th>40</th>\n",
       "      <th>45</th>\n",
       "      <th>50</th>\n",
       "    </tr>\n",
       "  </thead>\n",
       "  <tbody>\n",
       "    <tr>\n",
       "      <th>0</th>\n",
       "      <td>0.0</td>\n",
       "      <td>-17.315608</td>\n",
       "      <td>-24.631217</td>\n",
       "      <td>-31.946825</td>\n",
       "      <td>-39.262434</td>\n",
       "      <td>-46.578042</td>\n",
       "      <td>-53.893650</td>\n",
       "      <td>-61.209259</td>\n",
       "      <td>-68.524867</td>\n",
       "      <td>-75.840476</td>\n",
       "      <td>-83.156084</td>\n",
       "    </tr>\n",
       "    <tr>\n",
       "      <th>1</th>\n",
       "      <td>0.0</td>\n",
       "      <td>-1.126440</td>\n",
       "      <td>1.681423</td>\n",
       "      <td>3.029040</td>\n",
       "      <td>39.520917</td>\n",
       "      <td>28.516562</td>\n",
       "      <td>63.496560</td>\n",
       "      <td>61.939175</td>\n",
       "      <td>51.696341</td>\n",
       "      <td>40.421908</td>\n",
       "      <td>32.853970</td>\n",
       "    </tr>\n",
       "    <tr>\n",
       "      <th>2</th>\n",
       "      <td>0.0</td>\n",
       "      <td>-15.369850</td>\n",
       "      <td>-20.739700</td>\n",
       "      <td>-26.109550</td>\n",
       "      <td>-31.479400</td>\n",
       "      <td>-36.849250</td>\n",
       "      <td>-42.219100</td>\n",
       "      <td>-47.588950</td>\n",
       "      <td>-52.958800</td>\n",
       "      <td>-58.328650</td>\n",
       "      <td>-63.698500</td>\n",
       "    </tr>\n",
       "    <tr>\n",
       "      <th>3</th>\n",
       "      <td>0.0</td>\n",
       "      <td>-12.600185</td>\n",
       "      <td>-5.645407</td>\n",
       "      <td>-11.976657</td>\n",
       "      <td>-6.447859</td>\n",
       "      <td>0.692076</td>\n",
       "      <td>10.243200</td>\n",
       "      <td>0.454846</td>\n",
       "      <td>-11.705942</td>\n",
       "      <td>-22.591926</td>\n",
       "      <td>-32.268072</td>\n",
       "    </tr>\n",
       "    <tr>\n",
       "      <th>4</th>\n",
       "      <td>0.0</td>\n",
       "      <td>-4.735779</td>\n",
       "      <td>-9.915990</td>\n",
       "      <td>-8.015862</td>\n",
       "      <td>-3.428175</td>\n",
       "      <td>25.958461</td>\n",
       "      <td>42.064762</td>\n",
       "      <td>47.528526</td>\n",
       "      <td>53.468532</td>\n",
       "      <td>48.328300</td>\n",
       "      <td>40.590456</td>\n",
       "    </tr>\n",
       "    <tr>\n",
       "      <th>5</th>\n",
       "      <td>0.0</td>\n",
       "      <td>-14.696373</td>\n",
       "      <td>-19.392746</td>\n",
       "      <td>-24.089120</td>\n",
       "      <td>-28.785493</td>\n",
       "      <td>-33.481866</td>\n",
       "      <td>-38.178239</td>\n",
       "      <td>-42.874612</td>\n",
       "      <td>-47.570985</td>\n",
       "      <td>-52.267359</td>\n",
       "      <td>-56.963732</td>\n",
       "    </tr>\n",
       "    <tr>\n",
       "      <th>6</th>\n",
       "      <td>0.0</td>\n",
       "      <td>-18.035466</td>\n",
       "      <td>-26.070933</td>\n",
       "      <td>-34.106399</td>\n",
       "      <td>-42.141865</td>\n",
       "      <td>-50.177332</td>\n",
       "      <td>-58.212798</td>\n",
       "      <td>-66.248265</td>\n",
       "      <td>-74.283731</td>\n",
       "      <td>-82.319197</td>\n",
       "      <td>-90.354664</td>\n",
       "    </tr>\n",
       "    <tr>\n",
       "      <th>7</th>\n",
       "      <td>0.0</td>\n",
       "      <td>-26.288805</td>\n",
       "      <td>-40.165680</td>\n",
       "      <td>-62.640888</td>\n",
       "      <td>-68.877652</td>\n",
       "      <td>-95.723762</td>\n",
       "      <td>-121.508537</td>\n",
       "      <td>-127.922622</td>\n",
       "      <td>-148.623802</td>\n",
       "      <td>-165.598438</td>\n",
       "      <td>-179.343351</td>\n",
       "    </tr>\n",
       "    <tr>\n",
       "      <th>8</th>\n",
       "      <td>0.0</td>\n",
       "      <td>-6.945002</td>\n",
       "      <td>-4.273004</td>\n",
       "      <td>7.991179</td>\n",
       "      <td>31.967875</td>\n",
       "      <td>81.966262</td>\n",
       "      <td>89.051292</td>\n",
       "      <td>73.321347</td>\n",
       "      <td>63.400905</td>\n",
       "      <td>54.205160</td>\n",
       "      <td>49.222414</td>\n",
       "    </tr>\n",
       "    <tr>\n",
       "      <th>9</th>\n",
       "      <td>0.0</td>\n",
       "      <td>-31.555406</td>\n",
       "      <td>-27.166068</td>\n",
       "      <td>-51.285819</td>\n",
       "      <td>-62.854949</td>\n",
       "      <td>-28.345497</td>\n",
       "      <td>-47.131265</td>\n",
       "      <td>-37.925384</td>\n",
       "      <td>-37.252132</td>\n",
       "      <td>-45.617375</td>\n",
       "      <td>-53.553098</td>\n",
       "    </tr>\n",
       "    <tr>\n",
       "      <th>10</th>\n",
       "      <td>0.0</td>\n",
       "      <td>-17.959802</td>\n",
       "      <td>-25.919605</td>\n",
       "      <td>-35.264907</td>\n",
       "      <td>-43.143210</td>\n",
       "      <td>-51.021512</td>\n",
       "      <td>-61.181815</td>\n",
       "      <td>-68.897117</td>\n",
       "      <td>-76.612419</td>\n",
       "      <td>-84.327722</td>\n",
       "      <td>-92.043024</td>\n",
       "    </tr>\n",
       "    <tr>\n",
       "      <th>11</th>\n",
       "      <td>0.0</td>\n",
       "      <td>-16.755585</td>\n",
       "      <td>-23.511170</td>\n",
       "      <td>-30.266755</td>\n",
       "      <td>-37.022340</td>\n",
       "      <td>-43.777924</td>\n",
       "      <td>-50.533509</td>\n",
       "      <td>-57.289094</td>\n",
       "      <td>-64.044679</td>\n",
       "      <td>-70.800264</td>\n",
       "      <td>-77.555849</td>\n",
       "    </tr>\n",
       "    <tr>\n",
       "      <th>12</th>\n",
       "      <td>0.0</td>\n",
       "      <td>-17.266804</td>\n",
       "      <td>-23.205106</td>\n",
       "      <td>-29.938235</td>\n",
       "      <td>-38.687959</td>\n",
       "      <td>-42.719854</td>\n",
       "      <td>-46.856298</td>\n",
       "      <td>-52.197410</td>\n",
       "      <td>-56.817990</td>\n",
       "      <td>-61.438569</td>\n",
       "      <td>-66.059149</td>\n",
       "    </tr>\n",
       "    <tr>\n",
       "      <th>13</th>\n",
       "      <td>0.0</td>\n",
       "      <td>-13.084065</td>\n",
       "      <td>-16.168130</td>\n",
       "      <td>-19.252195</td>\n",
       "      <td>-22.336260</td>\n",
       "      <td>-25.420325</td>\n",
       "      <td>-28.504390</td>\n",
       "      <td>-31.588455</td>\n",
       "      <td>-34.672520</td>\n",
       "      <td>-37.756585</td>\n",
       "      <td>-40.840650</td>\n",
       "    </tr>\n",
       "    <tr>\n",
       "      <th>14</th>\n",
       "      <td>0.0</td>\n",
       "      <td>-5.550162</td>\n",
       "      <td>-16.303512</td>\n",
       "      <td>-1.184898</td>\n",
       "      <td>-12.990111</td>\n",
       "      <td>26.440977</td>\n",
       "      <td>12.790795</td>\n",
       "      <td>31.072999</td>\n",
       "      <td>31.224798</td>\n",
       "      <td>24.829153</td>\n",
       "      <td>13.596261</td>\n",
       "    </tr>\n",
       "    <tr>\n",
       "      <th>15</th>\n",
       "      <td>0.0</td>\n",
       "      <td>-9.539812</td>\n",
       "      <td>-13.204998</td>\n",
       "      <td>-32.707159</td>\n",
       "      <td>-40.755038</td>\n",
       "      <td>-47.564057</td>\n",
       "      <td>-58.482665</td>\n",
       "      <td>-63.912552</td>\n",
       "      <td>-73.321311</td>\n",
       "      <td>-82.730070</td>\n",
       "      <td>-92.138829</td>\n",
       "    </tr>\n",
       "    <tr>\n",
       "      <th>16</th>\n",
       "      <td>0.0</td>\n",
       "      <td>-22.505994</td>\n",
       "      <td>-33.040712</td>\n",
       "      <td>-41.468908</td>\n",
       "      <td>-52.242743</td>\n",
       "      <td>-66.654930</td>\n",
       "      <td>-76.737047</td>\n",
       "      <td>-87.045894</td>\n",
       "      <td>-97.354741</td>\n",
       "      <td>-107.663588</td>\n",
       "      <td>-117.972435</td>\n",
       "    </tr>\n",
       "    <tr>\n",
       "      <th>17</th>\n",
       "      <td>0.0</td>\n",
       "      <td>-20.331282</td>\n",
       "      <td>-36.838621</td>\n",
       "      <td>-42.822559</td>\n",
       "      <td>-59.512150</td>\n",
       "      <td>-70.306370</td>\n",
       "      <td>-79.002765</td>\n",
       "      <td>-85.839672</td>\n",
       "      <td>-93.834208</td>\n",
       "      <td>-103.219744</td>\n",
       "      <td>-112.605280</td>\n",
       "    </tr>\n",
       "    <tr>\n",
       "      <th>18</th>\n",
       "      <td>0.0</td>\n",
       "      <td>-19.150897</td>\n",
       "      <td>-24.869377</td>\n",
       "      <td>-35.907182</td>\n",
       "      <td>-34.933332</td>\n",
       "      <td>-40.636266</td>\n",
       "      <td>-50.982593</td>\n",
       "      <td>-57.739326</td>\n",
       "      <td>-63.129464</td>\n",
       "      <td>-70.225852</td>\n",
       "      <td>-77.322240</td>\n",
       "    </tr>\n",
       "    <tr>\n",
       "      <th>19</th>\n",
       "      <td>0.0</td>\n",
       "      <td>-13.282685</td>\n",
       "      <td>-16.565370</td>\n",
       "      <td>-19.848055</td>\n",
       "      <td>-23.130740</td>\n",
       "      <td>-26.413425</td>\n",
       "      <td>-29.696110</td>\n",
       "      <td>-32.978795</td>\n",
       "      <td>-36.261480</td>\n",
       "      <td>-39.544164</td>\n",
       "      <td>-42.826849</td>\n",
       "    </tr>\n",
       "  </tbody>\n",
       "</table>\n",
       "</div>"
      ],
      "text/plain": [
       "      0          5         10         15         20         25          30  \\\n",
       "0   0.0 -17.315608 -24.631217 -31.946825 -39.262434 -46.578042  -53.893650   \n",
       "1   0.0  -1.126440   1.681423   3.029040  39.520917  28.516562   63.496560   \n",
       "2   0.0 -15.369850 -20.739700 -26.109550 -31.479400 -36.849250  -42.219100   \n",
       "3   0.0 -12.600185  -5.645407 -11.976657  -6.447859   0.692076   10.243200   \n",
       "4   0.0  -4.735779  -9.915990  -8.015862  -3.428175  25.958461   42.064762   \n",
       "5   0.0 -14.696373 -19.392746 -24.089120 -28.785493 -33.481866  -38.178239   \n",
       "6   0.0 -18.035466 -26.070933 -34.106399 -42.141865 -50.177332  -58.212798   \n",
       "7   0.0 -26.288805 -40.165680 -62.640888 -68.877652 -95.723762 -121.508537   \n",
       "8   0.0  -6.945002  -4.273004   7.991179  31.967875  81.966262   89.051292   \n",
       "9   0.0 -31.555406 -27.166068 -51.285819 -62.854949 -28.345497  -47.131265   \n",
       "10  0.0 -17.959802 -25.919605 -35.264907 -43.143210 -51.021512  -61.181815   \n",
       "11  0.0 -16.755585 -23.511170 -30.266755 -37.022340 -43.777924  -50.533509   \n",
       "12  0.0 -17.266804 -23.205106 -29.938235 -38.687959 -42.719854  -46.856298   \n",
       "13  0.0 -13.084065 -16.168130 -19.252195 -22.336260 -25.420325  -28.504390   \n",
       "14  0.0  -5.550162 -16.303512  -1.184898 -12.990111  26.440977   12.790795   \n",
       "15  0.0  -9.539812 -13.204998 -32.707159 -40.755038 -47.564057  -58.482665   \n",
       "16  0.0 -22.505994 -33.040712 -41.468908 -52.242743 -66.654930  -76.737047   \n",
       "17  0.0 -20.331282 -36.838621 -42.822559 -59.512150 -70.306370  -79.002765   \n",
       "18  0.0 -19.150897 -24.869377 -35.907182 -34.933332 -40.636266  -50.982593   \n",
       "19  0.0 -13.282685 -16.565370 -19.848055 -23.130740 -26.413425  -29.696110   \n",
       "\n",
       "            35          40          45          50  \n",
       "0   -61.209259  -68.524867  -75.840476  -83.156084  \n",
       "1    61.939175   51.696341   40.421908   32.853970  \n",
       "2   -47.588950  -52.958800  -58.328650  -63.698500  \n",
       "3     0.454846  -11.705942  -22.591926  -32.268072  \n",
       "4    47.528526   53.468532   48.328300   40.590456  \n",
       "5   -42.874612  -47.570985  -52.267359  -56.963732  \n",
       "6   -66.248265  -74.283731  -82.319197  -90.354664  \n",
       "7  -127.922622 -148.623802 -165.598438 -179.343351  \n",
       "8    73.321347   63.400905   54.205160   49.222414  \n",
       "9   -37.925384  -37.252132  -45.617375  -53.553098  \n",
       "10  -68.897117  -76.612419  -84.327722  -92.043024  \n",
       "11  -57.289094  -64.044679  -70.800264  -77.555849  \n",
       "12  -52.197410  -56.817990  -61.438569  -66.059149  \n",
       "13  -31.588455  -34.672520  -37.756585  -40.840650  \n",
       "14   31.072999   31.224798   24.829153   13.596261  \n",
       "15  -63.912552  -73.321311  -82.730070  -92.138829  \n",
       "16  -87.045894  -97.354741 -107.663588 -117.972435  \n",
       "17  -85.839672  -93.834208 -103.219744 -112.605280  \n",
       "18  -57.739326  -63.129464  -70.225852  -77.322240  \n",
       "19  -32.978795  -36.261480  -39.544164  -42.826849  "
      ]
     },
     "execution_count": 81,
     "metadata": {},
     "output_type": "execute_result"
    }
   ],
   "source": [
    "xToAnalyse[colsDisc].head(20)"
   ]
  },
  {
   "cell_type": "code",
   "execution_count": 771,
   "id": "d96fdec2",
   "metadata": {},
   "outputs": [
    {
     "name": "stderr",
     "output_type": "stream",
     "text": [
      "C:\\Users\\marta\\AppData\\Local\\Temp/ipykernel_3972/1220258670.py:2: SettingWithCopyWarning:\n",
      "\n",
      "\n",
      "A value is trying to be set on a copy of a slice from a DataFrame\n",
      "\n",
      "See the caveats in the documentation: https://pandas.pydata.org/pandas-docs/stable/user_guide/indexing.html#returning-a-view-versus-a-copy\n",
      "\n"
     ]
    }
   ],
   "source": [
    "xToAnalyse[\"CLIENT_TO_CONTACT\"] = 'NO'\n",
    "xToAnalyse[\"CLIENT_TO_CONTACT\"][xToAnalyse[\"DISCOUNT\"]!=0] = 'YES'"
   ]
  },
  {
   "cell_type": "code",
   "execution_count": 772,
   "id": "25b88d2e",
   "metadata": {},
   "outputs": [
    {
     "data": {
      "text/plain": [
       "Index(['DATA', 'INCOME', 'OVERCHARGE', 'LEFTOVER', 'HOUSE', 'CHILD', 'REVENUE',\n",
       "       'HANDSET_PRICE', 'OVER_15MINS_CALLS_PER_MONTH', 'TIME_CLIENT',\n",
       "       'AVERAGE_CALL_DURATION', 'REPORTED_SATISFACTION',\n",
       "       'REPORTED_USAGE_LEVEL', 'CONSIDERING_CHANGE_OF_PLAN', 'CHURN_LABEL',\n",
       "       'CHURN_PROBABILITY', 'disc_0', '0', 'disc_5', '5', 'disc_10', '10',\n",
       "       'disc_15', '15', 'disc_20', '20', 'disc_25', '25', 'disc_30', '30',\n",
       "       'disc_35', '35', 'disc_40', '40', 'disc_45', '45', 'disc_50', '50',\n",
       "       'maxBenefit', 'DISCOUNT', 'CLIENT_TO_CONTACT'],\n",
       "      dtype='object')"
      ]
     },
     "execution_count": 772,
     "metadata": {},
     "output_type": "execute_result"
    }
   ],
   "source": [
    "xToAnalyse.columns"
   ]
  },
  {
   "cell_type": "code",
   "execution_count": 773,
   "id": "e7fb8016",
   "metadata": {},
   "outputs": [],
   "source": [
    "RESULTS_CSV = xToAnalyse[[\"CHURN_PROBABILITY\", \"CHURN_LABEL\", \"CLIENT_TO_CONTACT\", \"DISCOUNT\"]]"
   ]
  },
  {
   "cell_type": "code",
   "execution_count": 774,
   "id": "eb02bfac",
   "metadata": {},
   "outputs": [],
   "source": [
    "RESULTS_CSV.to_csv(\"results.csv\", sep=\";\")"
   ]
  },
  {
   "cell_type": "code",
   "execution_count": null,
   "id": "81bbc7cf",
   "metadata": {},
   "outputs": [],
   "source": []
  },
  {
   "cell_type": "code",
   "execution_count": 684,
   "id": "e4576aa1",
   "metadata": {},
   "outputs": [],
   "source": [
    "reslist = []\n",
    "iClient = 8\n",
    "nbDisc = 10\n",
    "maxBenefit = 0\n",
    "discOpt = 0\n",
    "for disc in range(nbDisc+1):\n",
    "        beforeExpValue = xToAnalyse[\"proba\"][iClient]*originalFacture[iClient]\n",
    "        afterPrice  = xToAnalyse[\"OVERCHARGE\"][iClient]*(1.-float(disc)/float(nbDisc))\n",
    "        xToAnalyse[selectedCols].iloc[iClient][\"OVERCHARGE\"] = afterPrice\n",
    "        afterProba = clf_RF.predict_proba(xToAnalyse[selectedCols].loc[iClient:iClient])[:,1][0]\n",
    "        afterExpValue = afterProba*originalFacture[iClient]*(1.-float(disc)/float(nbDisc)) - 10.\n",
    "        benefit = afterExpValue - beforeExpValue\n",
    "        #reslist.append([disc, beforeExpValue, afterPrice, afterProba, afterExpValue, benefit])\n",
    "        reslist.append([disc, benefit])"
   ]
  },
  {
   "cell_type": "code",
   "execution_count": 685,
   "id": "ce211664",
   "metadata": {},
   "outputs": [
    {
     "data": {
      "text/plain": [
       "[[0, -10.0],\n",
       " [1, -11.167004273504274],\n",
       " [2, -12.334008547008546],\n",
       " [3, -13.501012820512821],\n",
       " [4, -14.668017094017095],\n",
       " [5, -15.835021367521367],\n",
       " [6, -17.00202564102564],\n",
       " [7, -18.169029914529915],\n",
       " [8, -19.33603418803419],\n",
       " [9, -20.50303846153846],\n",
       " [10, -21.670042735042735]]"
      ]
     },
     "execution_count": 685,
     "metadata": {},
     "output_type": "execute_result"
    }
   ],
   "source": [
    "reslist"
   ]
  },
  {
   "cell_type": "code",
   "execution_count": null,
   "id": "5cab1474",
   "metadata": {},
   "outputs": [],
   "source": []
  }
 ],
 "metadata": {
  "kernelspec": {
   "display_name": "Python 3",
   "language": "python",
   "name": "python3"
  },
  "language_info": {
   "codemirror_mode": {
    "name": "ipython",
    "version": 3
   },
   "file_extension": ".py",
   "mimetype": "text/x-python",
   "name": "python",
   "nbconvert_exporter": "python",
   "pygments_lexer": "ipython3",
   "version": "3.7.6"
  }
 },
 "nbformat": 4,
 "nbformat_minor": 5
}
